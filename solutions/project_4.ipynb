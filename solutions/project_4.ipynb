{
 "cells": [
  {
   "cell_type": "markdown",
   "metadata": {},
   "source": [
    "## Research Project 4\n",
    "---\n",
    "```text\n",
    "- Source: SEC\n",
    "- Goal: Extract CEO appointments from 8K\n",
    "- Techniques: NER, sentence tokenization\n",
    "- Tools: Spacy, NLTK\n",
    "- Lines of code: ~50```"
   ]
  },
  {
   "cell_type": "code",
   "execution_count": null,
   "metadata": {
    "collapsed": true
   },
   "outputs": [],
   "source": [
    "# Standard library\n",
    "import datetime\n",
    "\n",
    "# Third-party\n",
    "import spacy\n",
    "import gensim\n",
    "import requests\n",
    "from lxml import html\n",
    "from nltk.tokenize import sent_tokenize\n",
    "\n",
    "url = 'https://www.sec.gov/Archives/edgar/daily-index/2018/QTR2/form.20180402.idx'\n",
    "res = requests.get(url)\n",
    "form_index = res.text.split('\\n')\n",
    "records = []\n",
    "for line in form_index[11:]:\n",
    "    record = {}\n",
    "    record['filing'] = line[0:12].strip()\n",
    "    record['name'] = line[12:74].strip()\n",
    "    try:\n",
    "        record['cik'] = int(line[74:86].strip())\n",
    "    except ValueError:\n",
    "        continue\n",
    "    try:\n",
    "        record['date'] = datetime.datetime(int(line[86:90]),\n",
    "                                           int(line[90:92]),\n",
    "                                           int(line[92:94]))\n",
    "    except ValueError:\n",
    "        continue\n",
    "    record['path'] = 'https://www.sec.gov/Archives/' + line[98:].strip()\n",
    "    records.append(record)\n",
    "\n",
    "eight_ks = [i for i in records if i['filing'].startswith('8-K')]\n",
    "for num, doc in enumerate(eight_ks):\n",
    "    res = requests.get(doc['path'])\n",
    "    tree = html.fromstring(res.content)\n",
    "    clean = ' '.join(tree.itertext()).replace('\\n', ' ').replace('\\t', ' ').replace('\\xa0', ' ')\n",
    "    clean = re.sub(' +', ' ', clean)\n",
    "    char = clean.find('Item 5.02')\n",
    "    if char >= 0:\n",
    "        sentences = sent_tokenize(clean[char:])\n",
    "        joined = ' '.join(sentences[0:5])\n",
    "        if 'CEO' in joined or 'Chief Executive Officer' in joined: \n",
    "            print('%d) %s: \"%s\"\\n' % (num, doc['name'], joined))"
   ]
  }
 ],
 "metadata": {
  "kernelspec": {
   "display_name": "Python 3",
   "language": "python",
   "name": "python3"
  },
  "language_info": {
   "codemirror_mode": {
    "name": "ipython",
    "version": 3
   },
   "file_extension": ".py",
   "mimetype": "text/x-python",
   "name": "python",
   "nbconvert_exporter": "python",
   "pygments_lexer": "ipython3",
   "version": "3.6.0"
  }
 },
 "nbformat": 4,
 "nbformat_minor": 2
}
