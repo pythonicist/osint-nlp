{
 "cells": [
  {
   "cell_type": "markdown",
   "metadata": {},
   "source": [
    "## Introduction"
   ]
  },
  {
   "cell_type": "markdown",
   "metadata": {
    "heading_collapsed": true
   },
   "source": [
    "### A couple of words about me\n",
    "---"
   ]
  },
  {
   "cell_type": "markdown",
   "metadata": {
    "hidden": true
   },
   "source": [
    "<img src=\"https://media.licdn.com/dms/image/C5603AQGJFVtqNjNi3w/profile-displayphoto-shrink_800_800/0?e=1532563200&v=beta&t=F-7FIRAkzDVN7gGe10lFbU99TTK4NEoOGk-1VkCRYw8\" width=\"200\" height=\"200\" align=\"left\"  style=\"border:1px solid black; margin-right:15px\"/>\n",
    "Marco Lagi\n",
    "\n",
    "[marco.neri.lagi@gmail.com](mailto:marco.neri.lagi@gmail.com)\n",
    "\n",
    "Spent the last 8 years doing information extraction and modeling on **Open Source INTelligence** (OSINT)\n",
    "\n",
    "```text\n",
    "2007-2010 (MIT)          : Physics, Chemistry, Statistics\n",
    "2010-2013 (NECSI)        : Research on complex systems\n",
    "2013-2017 (Kemvi)        : Founded an ML and NLP startup (acquired by HubSpot)\n",
    "2016-     (TechEmergence): ML technical advisor \n",
    "2017-     (HubSpot)      : ML R&D, merging internal and external sources\n",
    "```"
   ]
  },
  {
   "cell_type": "markdown",
   "metadata": {
    "ExecuteTime": {
     "start_time": "2018-05-26T00:33:32.934Z"
    },
    "hidden": true
   },
   "source": [
    "<div class=\"alert alert-block alert-info\" \n",
    "     style=\"border-color: #2E86C1;\n",
    "            background-color: #FCF3CF;\n",
    "            border-left: 5px solid #2E86C1;\n",
    "            padding-top: 5px\">\n",
    "    <font size=\"4\">\n",
    "    <a href=\"./deep_dives/osint.ipynb\" style=\"text-decoration: none\"> \n",
    "    <h3 style=\"font-family: monospace\">Deep-dive</h3>\n",
    "    <p style=\"margin-left: 100px;\n",
    "              margin-right: 100px;\n",
    "              line-height: 1.7em;\">Open Source INTelligence (OSINT)</p></a></font>\n",
    "</div>"
   ]
  },
  {
   "cell_type": "markdown",
   "metadata": {
    "heading_collapsed": true
   },
   "source": [
    "### A couple of words about you\n",
    "---"
   ]
  },
  {
   "cell_type": "markdown",
   "metadata": {
    "heading_collapsed": true
   },
   "source": [
    "### Course overview\n",
    "---"
   ]
  },
  {
   "cell_type": "markdown",
   "metadata": {
    "hidden": true
   },
   "source": [
    "- **`Meet and greet`**\n",
    "    - Introduction and goals\n",
    "    - Deep dive: Open Source INTelligence (OSINT)\n",
    "\n",
    "\n",
    "- **`Project 0`**: *NLP: past and present*\n",
    "    - Deep dive: The Jupyter notebook\n",
    "    \n",
    "    \n",
    "- **`Project 1`**: *Information extraction from PDFs*\n",
    "    - Deep dive: Regular expressions\n",
    "    \n",
    "    \n",
    "- **`Project 2`**: *Parse compensation tables from SEC*\n",
    "    - Deep dive: HTML and XPath\n",
    "\n",
    "    \n",
    "- **`Project 3`**: *Clustering and topic extraction on news from Reuters*\n",
    "    - Deep dive: APIs and URL parameters\n",
    "    \n",
    "    \n",
    "- **`Project 4`**: *CEO turnovers from SEC* \n",
    "    - Deep dive: HTTP requests and responses"
   ]
  },
  {
   "cell_type": "markdown",
   "metadata": {},
   "source": [
    "### Setup\n",
    "---"
   ]
  },
  {
   "cell_type": "markdown",
   "metadata": {},
   "source": [
    "- Head over to https://github.com/pythonicist/osint-nlp\n",
    "\n",
    "\n",
    "    - Every project has a deep-dive\n",
    "    - 3 out of 5 projects have a solution\n",
    "    \n",
    "    \n",
    "- Click on the Gitter badge, create an account there\n",
    "\n",
    "\n",
    "- Click on the Binder link \n",
    "\n",
    "\n",
    "    - In the \"GitHub repo or URL\" field: https://github.com/pythonicist/osint-nlp\n",
    "    - In the \"Git branch, tag, or commit\" field: your lowercase firstname"
   ]
  },
  {
   "cell_type": "markdown",
   "metadata": {
    "collapsed": true
   },
   "source": [
    "TODO:\n",
    "    - in html.ipynb, update names in the <ul> with participant names\n",
    "    - finish Encoding/Decoding\n",
    "    - big datasets analysis in python (pandas?)"
   ]
  },
  {
   "cell_type": "code",
   "execution_count": null,
   "metadata": {
    "collapsed": true
   },
   "outputs": [],
   "source": []
  }
 ],
 "metadata": {
  "kernelspec": {
   "display_name": "Python 3",
   "language": "python",
   "name": "python3"
  },
  "language_info": {
   "codemirror_mode": {
    "name": "ipython",
    "version": 3
   },
   "file_extension": ".py",
   "mimetype": "text/x-python",
   "name": "python",
   "nbconvert_exporter": "python",
   "pygments_lexer": "ipython3",
   "version": "3.6.0"
  },
  "toc": {
   "base_numbering": 1,
   "nav_menu": {},
   "number_sections": true,
   "sideBar": true,
   "skip_h1_title": false,
   "title_cell": "Table of Contents",
   "title_sidebar": "Contents",
   "toc_cell": false,
   "toc_position": {},
   "toc_section_display": true,
   "toc_window_display": false
  }
 },
 "nbformat": 4,
 "nbformat_minor": 2
}
