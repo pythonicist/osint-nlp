{
 "cells": [
  {
   "cell_type": "markdown",
   "metadata": {
    "ExecuteTime": {
     "end_time": "2018-05-28T11:43:09.385439Z",
     "start_time": "2018-05-28T11:43:09.379808Z"
    }
   },
   "source": [
    "## Closing remarks\n",
    "---"
   ]
  },
  {
   "cell_type": "markdown",
   "metadata": {
    "heading_collapsed": true
   },
   "source": [
    "### Install stuff locally\n",
    "---"
   ]
  },
  {
   "cell_type": "markdown",
   "metadata": {
    "hidden": true
   },
   "source": [
    "- Most comprehensive python distribution: [Anaconda](https://anaconda.org/)\n",
    "    - Make sure to choose the `python v3` distribution\n",
    "    - It includes `jupyter`!\n",
    "    \n",
    "    \n",
    "- To run your jupyter notebook server: \n",
    "    1. Open a Terminal window\n",
    "    1. Navigate to your directory of interest\n",
    "    1. Type `jupyter notebook` \n",
    "    \n",
    "    \n",
    "- To install packages from inside a notebook: `!pip install package`\n"
   ]
  },
  {
   "cell_type": "markdown",
   "metadata": {
    "heading_collapsed": true
   },
   "source": [
    "### Takeaways"
   ]
  },
  {
   "cell_type": "markdown",
   "metadata": {
    "hidden": true
   },
   "source": [
    "- **Jupyter** is great for developing and sharing research projects, and even for teaching classes (wink wink)\n",
    "\n",
    "\n",
    "- **Python** is just great\n",
    "\n",
    "\n",
    "- First, check if someone else has solved your problem\n",
    "\n",
    "\n",
    "- A **simple heuristics** is better than a **machine learning model** is better than a **complex heuristics**\n",
    "\n",
    "\n",
    "- Master **regular expressions** and **HTML parsing**\n",
    "\n",
    "\n",
    "- But don't use **regular expressions** to **parse HTML**\n",
    "\n",
    "\n",
    "- Incorporating **embeddings** (or something similar) is likely to be the future of machine learning, use them\n",
    "\n",
    "\n",
    "- NLP is hard, but that's no excuse to be happy with crude approximation\n",
    "\n",
    "\n",
    "- Don't do ML like the ML experts you aren't, do ML like the financial experts you are"
   ]
  },
  {
   "cell_type": "code",
   "execution_count": null,
   "metadata": {
    "collapsed": true,
    "hidden": true
   },
   "outputs": [],
   "source": []
  }
 ],
 "metadata": {
  "kernelspec": {
   "display_name": "Python 3",
   "language": "python",
   "name": "python3"
  },
  "language_info": {
   "codemirror_mode": {
    "name": "ipython",
    "version": 3
   },
   "file_extension": ".py",
   "mimetype": "text/x-python",
   "name": "python",
   "nbconvert_exporter": "python",
   "pygments_lexer": "ipython3",
   "version": "3.6.0"
  }
 },
 "nbformat": 4,
 "nbformat_minor": 2
}
