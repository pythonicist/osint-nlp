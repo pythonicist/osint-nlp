{
 "cells": [
  {
   "cell_type": "markdown",
   "metadata": {},
   "source": [
    "## Regular Expressions\n",
    "---"
   ]
  },
  {
   "cell_type": "markdown",
   "metadata": {},
   "source": [
    "### Introduction\n",
    "---"
   ]
  },
  {
   "cell_type": "markdown",
   "metadata": {},
   "source": [
    "> Some people, when confronted with a problem, think \n",
    "“I know, I'll use regular expressions”. \n",
    "\n",
    "> Now they have two problems.\n",
    "\n",
    "> *Jamie Zawinski*\n",
    "\n",
    "A **regular expression** (or **regex**) is a sequence of characters that define a search pattern. \n",
    "\n",
    "The language was developed in the 1950s. Examples: \n",
    "- used server side to validate the format of email addresses or password during registration\n",
    "- used for parsing text data files to find, replace or delete certain string"
   ]
  },
  {
   "cell_type": "code",
   "execution_count": 1,
   "metadata": {
    "ExecuteTime": {
     "end_time": "2018-05-28T17:47:42.183167Z",
     "start_time": "2018-05-28T17:47:42.177946Z"
    },
    "collapsed": false
   },
   "outputs": [],
   "source": [
    "# In python, regexes are supported by the \"re\" module.\n",
    "import re"
   ]
  },
  {
   "cell_type": "code",
   "execution_count": 2,
   "metadata": {
    "ExecuteTime": {
     "end_time": "2018-05-28T17:47:42.218024Z",
     "start_time": "2018-05-28T17:47:42.210493Z"
    },
    "collapsed": true
   },
   "outputs": [],
   "source": [
    "?re"
   ]
  },
  {
   "cell_type": "code",
   "execution_count": 3,
   "metadata": {
    "ExecuteTime": {
     "end_time": "2018-05-28T17:47:42.227524Z",
     "start_time": "2018-05-28T17:47:42.220796Z"
    },
    "collapsed": false
   },
   "outputs": [
    {
     "name": "stdout",
     "output_type": "stream",
     "text": [
      "['a', 'a', 'a', 'a']\n"
     ]
    }
   ],
   "source": [
    "# If the pattern is found, `findall` will return all its instances\n",
    "print(re.findall('a', 'Natural Language Processing'))"
   ]
  },
  {
   "cell_type": "code",
   "execution_count": 4,
   "metadata": {
    "ExecuteTime": {
     "end_time": "2018-05-28T17:47:42.235537Z",
     "start_time": "2018-05-28T17:47:42.230099Z"
    },
    "collapsed": false
   },
   "outputs": [
    {
     "name": "stdout",
     "output_type": "stream",
     "text": [
      "[]\n"
     ]
    }
   ],
   "source": [
    "# If the pattern is not found, `findall` will return an empty list\n",
    "print(re.findall('a', 'Georgetown University'))"
   ]
  },
  {
   "cell_type": "code",
   "execution_count": 5,
   "metadata": {
    "ExecuteTime": {
     "end_time": "2018-05-28T17:47:42.242678Z",
     "start_time": "2018-05-28T17:47:42.237599Z"
    },
    "collapsed": false
   },
   "outputs": [
    {
     "name": "stdout",
     "output_type": "stream",
     "text": [
      "[]\n"
     ]
    }
   ],
   "source": [
    "# By default, regular expressions are case sensitive\n",
    "print(re.findall('A', 'Machine Learning'))"
   ]
  },
  {
   "cell_type": "code",
   "execution_count": 6,
   "metadata": {
    "ExecuteTime": {
     "end_time": "2018-05-28T17:47:42.259855Z",
     "start_time": "2018-05-28T17:47:42.245344Z"
    },
    "collapsed": false
   },
   "outputs": [
    {
     "data": {
      "text/plain": [
       "'Natural Gas Processing'"
      ]
     },
     "execution_count": 6,
     "metadata": {},
     "output_type": "execute_result"
    }
   ],
   "source": [
    "# For find and replace, the function is `sub`\n",
    "re.sub('Language', 'Gas', 'Natural Language Processing')"
   ]
  },
  {
   "cell_type": "markdown",
   "metadata": {
    "ExecuteTime": {
     "end_time": "2018-05-15T22:53:02.439491Z",
     "start_time": "2018-05-15T22:53:02.434201Z"
    },
    "collapsed": true
   },
   "source": [
    "### Special characters\n",
    "---"
   ]
  },
  {
   "cell_type": "markdown",
   "metadata": {},
   "source": [
    "Character|Description\n",
    ":---: | ---\n",
    "`.`|matches any single character, except newline characters\n",
    "`\\w`|matches any single letter, digit or underscore\n",
    "`\\W`|matches any character not part of `\\w`\n",
    "`\\s`|matches a single whitespace character like: space, newline, tab, return\n",
    "`\\S`|matches any character not part of `\\s`\n",
    "`\\t`|matches tab\n",
    "`\\n`|matches newline\n",
    "`\\r`|matches return\n",
    "`\\d`|matches decimal digit 0-9\n",
    "`\\b`|matches the the beginning or end of a word\n",
    "`\\`|escapes special characters"
   ]
  },
  {
   "cell_type": "markdown",
   "metadata": {},
   "source": [
    "Whenever you have special characters in a regular expression, it's good practice to create a **raw string**. \n",
    "\n",
    "This tells python to give the string to the `re` module without interpreting it."
   ]
  },
  {
   "cell_type": "code",
   "execution_count": 7,
   "metadata": {
    "ExecuteTime": {
     "end_time": "2018-05-28T17:47:42.336825Z",
     "start_time": "2018-05-28T17:47:42.329721Z"
    },
    "collapsed": false
   },
   "outputs": [
    {
     "data": {
      "text/plain": [
       "['The quick brown']"
      ]
     },
     "execution_count": 7,
     "metadata": {},
     "output_type": "execute_result"
    }
   ],
   "source": [
    "string = \"The quick brown fox jumps over the lazy dog\"\n",
    "re.findall(r'The qu.ck brown', string)"
   ]
  },
  {
   "cell_type": "code",
   "execution_count": 8,
   "metadata": {
    "ExecuteTime": {
     "end_time": "2018-05-28T17:47:42.366673Z",
     "start_time": "2018-05-28T17:47:42.359227Z"
    },
    "collapsed": false
   },
   "outputs": [
    {
     "data": {
      "text/plain": [
       "['The quick brown']"
      ]
     },
     "execution_count": 8,
     "metadata": {},
     "output_type": "execute_result"
    }
   ],
   "source": [
    "string = \"The quick brown fox jumps over the lazy dog\"\n",
    "re.findall(r'The qu\\wck brown', string)"
   ]
  },
  {
   "cell_type": "code",
   "execution_count": 9,
   "metadata": {
    "ExecuteTime": {
     "end_time": "2018-05-28T17:47:42.376808Z",
     "start_time": "2018-05-28T17:47:42.369445Z"
    },
    "collapsed": false
   },
   "outputs": [
    {
     "data": {
      "text/plain": [
       "['The quick brown']"
      ]
     },
     "execution_count": 9,
     "metadata": {},
     "output_type": "execute_result"
    }
   ],
   "source": [
    "string = \"The quick brown fox jumps over the lazy dog\"\n",
    "re.findall(r'The quick\\Wbrown', string)"
   ]
  },
  {
   "cell_type": "code",
   "execution_count": 10,
   "metadata": {
    "ExecuteTime": {
     "end_time": "2018-05-28T17:47:42.387128Z",
     "start_time": "2018-05-28T17:47:42.379683Z"
    },
    "collapsed": false
   },
   "outputs": [
    {
     "data": {
      "text/plain": [
       "[]"
      ]
     },
     "execution_count": 10,
     "metadata": {},
     "output_type": "execute_result"
    }
   ],
   "source": [
    "string = \"The quick brown fox jumps over the lazy dog\"\n",
    "re.findall(r'The quick\\wbrown', string)"
   ]
  },
  {
   "cell_type": "code",
   "execution_count": 11,
   "metadata": {
    "ExecuteTime": {
     "end_time": "2018-05-28T17:47:42.397003Z",
     "start_time": "2018-05-28T17:47:42.390143Z"
    },
    "collapsed": false
   },
   "outputs": [
    {
     "data": {
      "text/plain": [
       "['2']"
      ]
     },
     "execution_count": 11,
     "metadata": {},
     "output_type": "execute_result"
    }
   ],
   "source": [
    "string = \"2 quick brown foxes jump over the lazy dog\"\n",
    "re.findall(r'\\d', string)"
   ]
  },
  {
   "cell_type": "code",
   "execution_count": 12,
   "metadata": {
    "ExecuteTime": {
     "end_time": "2018-05-28T17:47:42.405252Z",
     "start_time": "2018-05-28T17:47:42.399538Z"
    },
    "collapsed": false
   },
   "outputs": [
    {
     "data": {
      "text/plain": [
       "['The']"
      ]
     },
     "execution_count": 12,
     "metadata": {},
     "output_type": "execute_result"
    }
   ],
   "source": [
    "# for `\\b` we need a raw string\n",
    "string = \"The quick brown fox jumps over the lazy dog\"\n",
    "re.findall(r'\\bThe\\b', string)"
   ]
  },
  {
   "cell_type": "code",
   "execution_count": 13,
   "metadata": {
    "ExecuteTime": {
     "end_time": "2018-05-28T17:47:42.414041Z",
     "start_time": "2018-05-28T17:47:42.407636Z"
    },
    "collapsed": false
   },
   "outputs": [
    {
     "data": {
      "text/plain": [
       "['.']"
      ]
     },
     "execution_count": 13,
     "metadata": {},
     "output_type": "execute_result"
    }
   ],
   "source": [
    "string = \"The quick brown fox jumps over the lazy dog.\"\n",
    "re.findall(r'\\.', string)"
   ]
  },
  {
   "cell_type": "markdown",
   "metadata": {
    "ExecuteTime": {
     "end_time": "2018-05-15T22:53:02.513953Z",
     "start_time": "2018-05-15T22:53:02.509842Z"
    },
    "collapsed": true
   },
   "source": [
    "### Positional characters\n",
    "---"
   ]
  },
  {
   "cell_type": "markdown",
   "metadata": {},
   "source": [
    "Character|Description\n",
    ":---: | ---\n",
    "`^`|matches a pattern at the start of the string\n",
    "`$`|matches a pattern at the end of string\n",
    "`\\A`|matches only at the start of the string, works across multiple lines as well"
   ]
  },
  {
   "cell_type": "code",
   "execution_count": 14,
   "metadata": {
    "ExecuteTime": {
     "end_time": "2018-05-28T17:47:42.465044Z",
     "start_time": "2018-05-28T17:47:42.457673Z"
    },
    "collapsed": false
   },
   "outputs": [
    {
     "data": {
      "text/plain": [
       "['The']"
      ]
     },
     "execution_count": 14,
     "metadata": {},
     "output_type": "execute_result"
    }
   ],
   "source": [
    "string = \"The quick brown fox jumps over the lazy dog\"\n",
    "re.findall(r'^The', string)"
   ]
  },
  {
   "cell_type": "code",
   "execution_count": 15,
   "metadata": {
    "ExecuteTime": {
     "end_time": "2018-05-28T17:47:42.490496Z",
     "start_time": "2018-05-28T17:47:42.484269Z"
    },
    "collapsed": false
   },
   "outputs": [
    {
     "data": {
      "text/plain": [
       "['dog']"
      ]
     },
     "execution_count": 15,
     "metadata": {},
     "output_type": "execute_result"
    }
   ],
   "source": [
    "string = \"The quick brown fox jumps over the lazy dog\"\n",
    "re.findall(r'dog$', string)"
   ]
  },
  {
   "cell_type": "code",
   "execution_count": 16,
   "metadata": {
    "ExecuteTime": {
     "end_time": "2018-05-28T17:47:42.499763Z",
     "start_time": "2018-05-28T17:47:42.492459Z"
    },
    "collapsed": false
   },
   "outputs": [
    {
     "data": {
      "text/plain": [
       "['The']"
      ]
     },
     "execution_count": 16,
     "metadata": {},
     "output_type": "execute_result"
    }
   ],
   "source": [
    "string = \"\"\"The quick brown fox jumps over the lazy dog.\n",
    "\n",
    "The sentence above is an English language pangram.\"\"\"\n",
    "re.findall(r'\\AThe', string)"
   ]
  },
  {
   "cell_type": "markdown",
   "metadata": {
    "ExecuteTime": {
     "end_time": "2018-05-15T22:53:02.547038Z",
     "start_time": "2018-05-15T22:53:02.543788Z"
    },
    "collapsed": true
   },
   "source": [
    "### Ranges\n",
    "---"
   ]
  },
  {
   "cell_type": "markdown",
   "metadata": {
    "ExecuteTime": {
     "end_time": "2018-05-15T20:13:31.975988Z",
     "start_time": "2018-05-15T20:13:31.964523Z"
    }
   },
   "source": [
    "Character|Description\n",
    ":---: | ---\n",
    "`[abc]`|matches `a` or `b` or `c`\n",
    "`[a-zA-Z0-9]`|matches any letter from `a` to `z`, or `A` to `Z`, or `0` to `9`\n",
    "`[^a-z]`|matches everything besides any letter from `a` to `z`"
   ]
  },
  {
   "cell_type": "code",
   "execution_count": 17,
   "metadata": {
    "ExecuteTime": {
     "end_time": "2018-05-28T17:47:42.560477Z",
     "start_time": "2018-05-28T17:47:42.554096Z"
    },
    "collapsed": false
   },
   "outputs": [
    {
     "data": {
      "text/plain": [
       "['x', 'z', 'y']"
      ]
     },
     "execution_count": 17,
     "metadata": {},
     "output_type": "execute_result"
    }
   ],
   "source": [
    "string = \"The quick brown fox jumps over the lazy dog\"\n",
    "re.findall(r'[xyz]', string)"
   ]
  },
  {
   "cell_type": "code",
   "execution_count": 18,
   "metadata": {
    "ExecuteTime": {
     "end_time": "2018-05-28T17:47:42.581569Z",
     "start_time": "2018-05-28T17:47:42.575341Z"
    },
    "collapsed": false
   },
   "outputs": [
    {
     "data": {
      "text/plain": [
       "['x', 'z', 'y']"
      ]
     },
     "execution_count": 18,
     "metadata": {},
     "output_type": "execute_result"
    }
   ],
   "source": [
    "string = \"The quick brown fox jumps over the lazy dog\"\n",
    "re.findall(r'[x-z]', string)"
   ]
  },
  {
   "cell_type": "code",
   "execution_count": 19,
   "metadata": {
    "ExecuteTime": {
     "end_time": "2018-05-28T17:47:42.592282Z",
     "start_time": "2018-05-28T17:47:42.583916Z"
    },
    "collapsed": false
   },
   "outputs": [
    {
     "data": {
      "text/plain": [
       "['x', 'z', 'y']"
      ]
     },
     "execution_count": 19,
     "metadata": {},
     "output_type": "execute_result"
    }
   ],
   "source": [
    "string = \"The quick brown fox jumps over the lazy dog\"\n",
    "re.findall(r'[^a-w T]', string)"
   ]
  },
  {
   "cell_type": "markdown",
   "metadata": {
    "ExecuteTime": {
     "end_time": "2018-05-15T22:53:02.581585Z",
     "start_time": "2018-05-15T22:53:02.575701Z"
    },
    "collapsed": true
   },
   "source": [
    "### Repetitions\n",
    "---"
   ]
  },
  {
   "cell_type": "markdown",
   "metadata": {},
   "source": [
    "Character|Description\n",
    ":---: | ---\n",
    "`+`|checks for 1 or more characters (or group) to its left (greedy)\n",
    "`*`|checks for 0 or more characters (or group) to its left (greedy)\n",
    "`?`|checks for 0 or 1 character (or group) to its left\n",
    "`{x}`|repeat exactly `x` number of times\n",
    "`{x,}`|repeat at least `x` times or more\n",
    "`{x, y}`|repeat at least `x` times, but no more than `y` times"
   ]
  },
  {
   "cell_type": "code",
   "execution_count": 20,
   "metadata": {
    "ExecuteTime": {
     "end_time": "2018-05-28T17:47:42.659612Z",
     "start_time": "2018-05-28T17:47:42.651443Z"
    },
    "collapsed": false
   },
   "outputs": [
    {
     "data": {
      "text/plain": [
       "['moo']"
      ]
     },
     "execution_count": 20,
     "metadata": {},
     "output_type": "execute_result"
    }
   ],
   "source": [
    "string = \"The quick brown fox jumps over the lazy moose\"\n",
    "re.findall(r'mo+', string)"
   ]
  },
  {
   "cell_type": "code",
   "execution_count": 21,
   "metadata": {
    "ExecuteTime": {
     "end_time": "2018-05-28T17:47:42.680082Z",
     "start_time": "2018-05-28T17:47:42.673871Z"
    },
    "collapsed": false
   },
   "outputs": [
    {
     "data": {
      "text/plain": [
       "['m', 'moo']"
      ]
     },
     "execution_count": 21,
     "metadata": {},
     "output_type": "execute_result"
    }
   ],
   "source": [
    "string = \"The quick brown fox jumps over the lazy moose\"\n",
    "re.findall(r'mo*', string)"
   ]
  },
  {
   "cell_type": "code",
   "execution_count": 22,
   "metadata": {
    "ExecuteTime": {
     "end_time": "2018-05-28T17:47:42.690637Z",
     "start_time": "2018-05-28T17:47:42.682883Z"
    },
    "collapsed": false
   },
   "outputs": [
    {
     "data": {
      "text/plain": [
       "['m', 'mo']"
      ]
     },
     "execution_count": 22,
     "metadata": {},
     "output_type": "execute_result"
    }
   ],
   "source": [
    "string = \"The quick brown fox jumps over the lazy moose\"\n",
    "re.findall(r'mo?', string)"
   ]
  },
  {
   "cell_type": "code",
   "execution_count": 23,
   "metadata": {
    "ExecuteTime": {
     "end_time": "2018-05-28T17:47:42.698839Z",
     "start_time": "2018-05-28T17:47:42.692813Z"
    },
    "collapsed": false
   },
   "outputs": [
    {
     "data": {
      "text/plain": [
       "['oo']"
      ]
     },
     "execution_count": 23,
     "metadata": {},
     "output_type": "execute_result"
    }
   ],
   "source": [
    "string = \"The quick brown fox jumps over the lazy moose\"\n",
    "re.findall(r'o{2}', string)"
   ]
  },
  {
   "cell_type": "code",
   "execution_count": 24,
   "metadata": {
    "ExecuteTime": {
     "end_time": "2018-05-28T17:47:42.708645Z",
     "start_time": "2018-05-28T17:47:42.701643Z"
    },
    "collapsed": false
   },
   "outputs": [
    {
     "data": {
      "text/plain": [
       "'<h1>This is a header</h1>'"
      ]
     },
     "execution_count": 24,
     "metadata": {},
     "output_type": "execute_result"
    }
   ],
   "source": [
    "# When a special character matches as much of the string as possible, \n",
    "# it is said to be a \"Greedy Match\". It is the normal behavior of a regular \n",
    "# expression but sometimes this behavior is not desired:\n",
    "\n",
    "string = \"<h1>This is a header</h1>\"\n",
    "re.findall(r'<.*>', string)[0]\n",
    "\n",
    "# The pattern <.*> matches the whole string, right up to the second \n",
    "# occurrence of >."
   ]
  },
  {
   "cell_type": "code",
   "execution_count": 25,
   "metadata": {
    "ExecuteTime": {
     "end_time": "2018-05-28T17:47:42.717289Z",
     "start_time": "2018-05-28T17:47:42.710563Z"
    },
    "collapsed": false
   },
   "outputs": [
    {
     "data": {
      "text/plain": [
       "'<h1>'"
      ]
     },
     "execution_count": 25,
     "metadata": {},
     "output_type": "execute_result"
    }
   ],
   "source": [
    "# However, if you only wanted to match the first <h1> tag, we should use \n",
    "# the greedy qualifier \"*?\" which matches as little text as possible.\n",
    "\n",
    "string = \"<h1>This is a header</h1>\"\n",
    "re.findall(r'<.*?>', string)[0]"
   ]
  },
  {
   "cell_type": "markdown",
   "metadata": {
    "ExecuteTime": {
     "end_time": "2018-05-15T22:53:02.673750Z",
     "start_time": "2018-05-15T22:53:02.668283Z"
    },
    "collapsed": true
   },
   "source": [
    "### Flags\n",
    "---"
   ]
  },
  {
   "cell_type": "markdown",
   "metadata": {},
   "source": [
    "Flag|Description\n",
    ":---: | ---\n",
    "`re.IGNORECASE`|perform case-insensitive matching\n",
    "`re.MULTILINE`|ignore line breaks for `^`, `$`\n",
    "`re.DOTALL`|make `.` match newlines as well"
   ]
  },
  {
   "cell_type": "code",
   "execution_count": 26,
   "metadata": {
    "ExecuteTime": {
     "end_time": "2018-05-28T17:47:42.769385Z",
     "start_time": "2018-05-28T17:47:42.763171Z"
    },
    "collapsed": false
   },
   "outputs": [
    {
     "data": {
      "text/plain": [
       "['T', 't']"
      ]
     },
     "execution_count": 26,
     "metadata": {},
     "output_type": "execute_result"
    }
   ],
   "source": [
    "string = \"The quick brown fox jumps over the lazy dog\"\n",
    "re.findall(r'[T]', string, flags=re.IGNORECASE)"
   ]
  },
  {
   "cell_type": "markdown",
   "metadata": {
    "ExecuteTime": {
     "end_time": "2018-05-15T22:53:02.698540Z",
     "start_time": "2018-05-15T22:53:02.693668Z"
    },
    "collapsed": true
   },
   "source": [
    "### Groups\n",
    "---"
   ]
  },
  {
   "cell_type": "markdown",
   "metadata": {},
   "source": [
    "Group|Description\n",
    ":---: | ---\n",
    "`(...)`|define a group\n",
    "&#124;|`OR` operator\n",
    "`?:`|match group, but do not return it as a separate entity\n",
    "`?=`|positive lookahead\n",
    "`?!`|negative lookahead\n",
    "`?<=`|positive lookbehind\n",
    "`?<!`|negative lookbehind"
   ]
  },
  {
   "cell_type": "code",
   "execution_count": 27,
   "metadata": {
    "ExecuteTime": {
     "end_time": "2018-05-28T17:47:42.845695Z",
     "start_time": "2018-05-28T17:47:42.839793Z"
    },
    "collapsed": false
   },
   "outputs": [
    {
     "data": {
      "text/plain": [
       "['quick']"
      ]
     },
     "execution_count": 27,
     "metadata": {},
     "output_type": "execute_result"
    }
   ],
   "source": [
    "string = \"The quick brown fox jumps over the lazy dog\"\n",
    "re.findall(r'(quick|fast) brown', string)"
   ]
  },
  {
   "cell_type": "code",
   "execution_count": 28,
   "metadata": {
    "ExecuteTime": {
     "end_time": "2018-05-28T17:47:42.860261Z",
     "start_time": "2018-05-28T17:47:42.852645Z"
    },
    "collapsed": false
   },
   "outputs": [
    {
     "data": {
      "text/plain": [
       "['quick brown']"
      ]
     },
     "execution_count": 28,
     "metadata": {},
     "output_type": "execute_result"
    }
   ],
   "source": [
    "string = \"The quick brown fox jumps over the lazy dog\"\n",
    "re.findall(r'(?:quick|fast) brown', string)"
   ]
  },
  {
   "cell_type": "code",
   "execution_count": 29,
   "metadata": {
    "ExecuteTime": {
     "end_time": "2018-05-28T17:47:42.870743Z",
     "start_time": "2018-05-28T17:47:42.862843Z"
    },
    "collapsed": false
   },
   "outputs": [
    {
     "data": {
      "text/plain": [
       "['brown ']"
      ]
     },
     "execution_count": 29,
     "metadata": {},
     "output_type": "execute_result"
    }
   ],
   "source": [
    "string = \"The quick brown fox jumps over the lazy dog\"\n",
    "re.findall(r'brown (?=fox)', string)"
   ]
  },
  {
   "cell_type": "code",
   "execution_count": 30,
   "metadata": {
    "ExecuteTime": {
     "end_time": "2018-05-28T17:47:42.879106Z",
     "start_time": "2018-05-28T17:47:42.873001Z"
    },
    "collapsed": false
   },
   "outputs": [
    {
     "data": {
      "text/plain": [
       "['brown ']"
      ]
     },
     "execution_count": 30,
     "metadata": {},
     "output_type": "execute_result"
    }
   ],
   "source": [
    "string = \"The quick brown fox jumps over the lazy dog\"\n",
    "re.findall(r'brown (?!box)', string)"
   ]
  },
  {
   "cell_type": "code",
   "execution_count": 31,
   "metadata": {
    "ExecuteTime": {
     "end_time": "2018-05-28T17:47:42.889201Z",
     "start_time": "2018-05-28T17:47:42.882404Z"
    },
    "collapsed": false
   },
   "outputs": [
    {
     "data": {
      "text/plain": [
       "[' brown']"
      ]
     },
     "execution_count": 31,
     "metadata": {},
     "output_type": "execute_result"
    }
   ],
   "source": [
    "string = \"The quick brown fox jumps over the lazy dog\"\n",
    "re.findall(r'(?<=quick) brown', string)"
   ]
  },
  {
   "cell_type": "code",
   "execution_count": 32,
   "metadata": {
    "ExecuteTime": {
     "end_time": "2018-05-28T17:47:42.897034Z",
     "start_time": "2018-05-28T17:47:42.891402Z"
    },
    "collapsed": false
   },
   "outputs": [
    {
     "data": {
      "text/plain": [
       "[' brown']"
      ]
     },
     "execution_count": 32,
     "metadata": {},
     "output_type": "execute_result"
    }
   ],
   "source": [
    "string = \"The quick brown fox jumps over the lazy dog\"\n",
    "re.findall(r'(?<!fast) brown', string)"
   ]
  },
  {
   "cell_type": "markdown",
   "metadata": {},
   "source": [
    "### Summary\n",
    "---"
   ]
  },
  {
   "cell_type": "markdown",
   "metadata": {},
   "source": [
    "\n",
    "Regex|Description\n",
    ":---: | ---\n",
    "`.`|matches any single character, except newline characters\n",
    "`\\w`|matches any single letter, digit or underscore\n",
    "`\\W`|matches any character not part of `\\w`\n",
    "`\\s`|matches a single whitespace character like: space, newline, tab, return\n",
    "`\\S`|matches any character not part of `\\s`\n",
    "`\\t`|matches tab\n",
    "`\\n`|matches newline\n",
    "`\\r`|matches return\n",
    "`\\d`|matches decimal digit 0-9\n",
    "`\\b`|matches the the beginning or end of a word\n",
    "`^`|matches a pattern at the start of the string\n",
    "`$`|matches a pattern at the end of string\n",
    "`\\A`|matches only at the start of the string, works across multiple lines as well\n",
    "`[abc]`|matches `a` or `b` or `c`\n",
    "`[a-zA-Z0-9]`|matches any letter from `a` to `z`, or `A` to `Z`, or `0` to `9`\n",
    "`[^a-z]`|matches everything besides any letter from `a` to `z`\n",
    "`+`|checks for 1 or more characters (or group) to its left (greedy)\n",
    "`*`|checks for 0 or more characters (or group) to its left (greedy)\n",
    "`?`|checks for 0 or 1 character (or group) to its left\n",
    "`{x}`|repeat exactly `x` number of times\n",
    "`{x,}`|repeat at least `x` times or more\n",
    "`{x, y}`|repeat at least `x` times, but no more than `y` times\n",
    "`re.IGNORECASE`|perform case-insensitive matching\n",
    "`re.MULTILINE`|ignore line breaks for `^`, `$`\n",
    "`re.DOTALL`|make `.` match newlines as well\n",
    "`(...)`|define a group\n",
    "&#124;|`OR` operator\n",
    "`?:`|match group, but do not return it as a separate entity\n",
    "`?=`|positive lookahead\n",
    "`?!`|negative lookahead\n",
    "`?<=`|positive lookbehind\n",
    "`?<!`|negative lookbehind"
   ]
  },
  {
   "cell_type": "markdown",
   "metadata": {},
   "source": [
    "<div class=\"alert alert-block alert-info\" \n",
    "     style=\"border-color: #2E86C1; \n",
    "            border-left: 5px solid #2E86C1;\n",
    "            padding-top: 5px\">\n",
    "    <font size=\"4\"> \n",
    "    <a href=\"../projects/playground.ipynb\" style=\"text-decoration: none\">\n",
    "    <h3 style=\"font-family: monospace\">Exercise regex.1</h3>\n",
    "    <p style=\"margin-left: 100px;\n",
    "              margin-right: 100px;\n",
    "              line-height: 1.7em;\">Count how many vowels are in</p></a>\n",
    "    <p style=\"margin-left: 150px;\n",
    "              margin-right: 100px;\n",
    "              line-height: 1.7em;\"><span style=\"font-family:monospace;\">supercalifragilisticexpialidocious</span></font>\n",
    "</div>"
   ]
  },
  {
   "cell_type": "markdown",
   "metadata": {
    "ExecuteTime": {
     "end_time": "2018-05-15T22:53:02.793365Z",
     "start_time": "2018-05-15T22:53:02.777556Z"
    },
    "collapsed": true
   },
   "source": [
    "<div class=\"alert alert-block alert-info\" \n",
    "     style=\"border-color: #2E86C1; \n",
    "            border-left: 5px solid #2E86C1;\n",
    "            padding-top: 5px\">\n",
    "    <font size=\"4\"> \n",
    "    <a href=\"../projects/playground.ipynb\" style=\"text-decoration: none\">\n",
    "    <h3 style=\"font-family: monospace\">Exercise regex.2</h3>\n",
    "    <p style=\"margin-left: 100px;\n",
    "              margin-right: 100px;\n",
    "              line-height: 1.7em;\">Remove the extra spaces from the following text:</p></a>\n",
    "    <p style=\"margin-left: 150px;\n",
    "              margin-right: 100px;\n",
    "              line-height: 1.7em;\"><span style=\"font-family:monospace;\">This&nbsp;&nbsp;is&nbsp;&nbsp;&nbsp;&nbsp;&nbsp;a&nbsp;string&nbsp;&nbsp;&nbsp;with&nbsp;&nbsp;a&nbsp;&nbsp;&nbsp;&nbsp;lot&nbsp;of&nbsp;spaces</span></font>\n",
    "</div>"
   ]
  },
  {
   "cell_type": "markdown",
   "metadata": {
    "ExecuteTime": {
     "end_time": "2018-05-18T20:45:52.354603Z",
     "start_time": "2018-05-18T20:45:52.285015Z"
    },
    "collapsed": true
   },
   "source": [
    "<div class=\"alert alert-block alert-info\" \n",
    "     style=\"border-color: #2E86C1; \n",
    "            border-left: 5px solid #2E86C1;\n",
    "            padding-top: 5px\">\n",
    "    <font size=\"4\"> \n",
    "    <a href=\"../projects/playground.ipynb\" style=\"text-decoration: none\">\n",
    "    <h3 style=\"font-family: monospace\">Exercise regex.3</h3>\n",
    "    <p style=\"margin-left: 100px;\n",
    "              margin-right: 100px;\n",
    "              line-height: 1.7em;\">Extract only the text within quotation marks (non-greedy) from the following text:</p></a>\n",
    "    <p style=\"margin-left: 150px;\n",
    "              margin-right: 100px;\n",
    "              line-height: 1.7em;\"><span style=\"font-family:monospace;\">\"This\" is a string with \"quotes\"</span></font>\n",
    "</div>"
   ]
  },
  {
   "cell_type": "markdown",
   "metadata": {
    "ExecuteTime": {
     "end_time": "2018-05-18T20:47:13.638749Z",
     "start_time": "2018-05-18T20:47:13.630470Z"
    },
    "collapsed": true
   },
   "source": [
    "<div class=\"alert alert-block alert-info\" \n",
    "     style=\"border-color: #2E86C1; \n",
    "            border-left: 5px solid #2E86C1;\n",
    "            padding-top: 5px\">\n",
    "    <font size=\"4\"> \n",
    "    <a href=\"../projects/playground.ipynb\" style=\"text-decoration: none\">\n",
    "    <h3 style=\"font-family: monospace\">Exercise regex.4</h3>\n",
    "    <p style=\"margin-left: 100px;\n",
    "              margin-right: 100px;\n",
    "              line-height: 1.7em;\">Extract words longer than 3 characters from the following text:</p></a>\n",
    "    <p style=\"margin-left: 150px;\n",
    "              margin-right: 100px;\n",
    "              line-height: 1.7em;\"><span style=\"font-family:monospace;\">This is a string with a few, words</span></font>\n",
    "</div>"
   ]
  },
  {
   "cell_type": "markdown",
   "metadata": {
    "collapsed": true
   },
   "source": [
    "<div class=\"alert alert-block alert-info\" \n",
    "     style=\"border-color: #2E86C1; \n",
    "            border-left: 5px solid #2E86C1;\n",
    "            padding-top: 5px\">\n",
    "    <font size=\"4\"> \n",
    "    <a href=\"../projects/playground.ipynb\" style=\"text-decoration: none\">\n",
    "    <h3 style=\"font-family: monospace\">Exercise regex.5</h3>\n",
    "    <p style=\"margin-left: 100px;\n",
    "              margin-right: 100px;\n",
    "              line-height: 1.7em;\">Remove all parentheses and their content from the following text:</p></a>\n",
    "    <p style=\"margin-left: 150px;\n",
    "              margin-right: 100px;\n",
    "              line-height: 1.7em;\"><span style=\"font-family:monospace;\">This is a string (but who cares about this)</span></font>\n",
    "</div>"
   ]
  },
  {
   "cell_type": "markdown",
   "metadata": {
    "collapsed": true
   },
   "source": [
    "<div class=\"alert alert-block alert-info\" \n",
    "     style=\"border-color: #2E86C1; \n",
    "            border-left: 5px solid #2E86C1;\n",
    "            padding-top: 5px\">\n",
    "    <font size=\"4\"> \n",
    "    <a href=\"../projects/playground.ipynb\" style=\"text-decoration: none\">\n",
    "    <h3 style=\"font-family: monospace\">Exercise regex.6</h3>\n",
    "    <p style=\"margin-left: 100px;\n",
    "              margin-right: 100px;\n",
    "              line-height: 1.7em;\">Extract all numbers from the following text:</p></a>\n",
    "    <p style=\"margin-left: 150px;\n",
    "              margin-right: 100px;\n",
    "              line-height: 1.7em;\"><span style=\"font-family:monospace;\">Seems like 65.74 is a float, but 5 is an integer</span></p></font>\n",
    "</div>"
   ]
  },
  {
   "cell_type": "markdown",
   "metadata": {},
   "source": [
    "<div class=\"alert alert-block alert-info\" \n",
    "     style=\"border-color: #2E86C1; \n",
    "            border-left: 5px solid #2E86C1;\n",
    "            padding-top: 5px\">\n",
    "    <font size=\"4\"> \n",
    "    <a href=\"../projects/playground.ipynb\" style=\"text-decoration: none\">\n",
    "    <h3 style=\"font-family: monospace\">Exercise regex.7</h3>\n",
    "    <p style=\"margin-left: 100px;\n",
    "              margin-right: 100px;\n",
    "              line-height: 1.7em;\">Find all words that rhyme with <span style=\"font-family:monospace;\">orange</span> in <span style=\"font-family:monospace;\">nltk.corpus.words.words('en')</span></p></a></font>\n",
    "</div>"
   ]
  },
  {
   "cell_type": "markdown",
   "metadata": {},
   "source": [
    "<div class=\"alert alert-block alert-info\" \n",
    "     style=\"border-color: #2E86C1; \n",
    "            border-left: 5px solid #2E86C1;\n",
    "            padding-top: 5px\">\n",
    "    <font size=\"4\"> \n",
    "    <a href=\"../projects/playground.ipynb\" style=\"text-decoration: none\">\n",
    "    <h3 style=\"font-family: monospace\">Exercise regex.8</h3>\n",
    "    <p style=\"margin-left: 100px;\n",
    "              margin-right: 100px;\n",
    "              line-height: 1.7em;\">The <span style=\"font-family:monospace;\">T9</span> system was used for entering text on mobile phones. \n",
    "\n",
    "<img src=\"../images/t9.png\", width=\"400\">\n",
    "\n",
    "<br/>Two or more words that are entered with the same sequence of keystrokes are known as <span style=\"font-family:monospace;\">textonyms</span>. \n",
    "\n",
    "For example, both <span style=\"font-family:monospace;\">hole</span> and <span style=\"font-family:monospace;\">golf</span> are entered by pressing the sequence <span style=\"font-family:monospace;\">4653</span>. \n",
    "\n",
    "What other words could be produced with the same sequence?</p></a></font>\n",
    "</div>"
   ]
  },
  {
   "cell_type": "code",
   "execution_count": null,
   "metadata": {
    "collapsed": true
   },
   "outputs": [],
   "source": []
  }
 ],
 "metadata": {
  "kernelspec": {
   "display_name": "Python 3",
   "language": "python",
   "name": "python3"
  },
  "language_info": {
   "codemirror_mode": {
    "name": "ipython",
    "version": 3
   },
   "file_extension": ".py",
   "mimetype": "text/x-python",
   "name": "python",
   "nbconvert_exporter": "python",
   "pygments_lexer": "ipython3",
   "version": "3.6.0"
  }
 },
 "nbformat": 4,
 "nbformat_minor": 2
}
