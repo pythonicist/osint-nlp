{
 "cells": [
  {
   "cell_type": "markdown",
   "metadata": {},
   "source": [
    "## Application Programming Interfaces (APIs ) and Uniform Resource Locators (URLs)\n",
    "---"
   ]
  },
  {
   "cell_type": "markdown",
   "metadata": {
    "heading_collapsed": true
   },
   "source": [
    "### APIs\n",
    "---"
   ]
  },
  {
   "cell_type": "code",
   "execution_count": 1,
   "metadata": {
    "ExecuteTime": {
     "end_time": "2018-05-25T22:20:12.021608Z",
     "start_time": "2018-05-25T22:20:11.780779Z"
    },
    "collapsed": true,
    "hidden": true
   },
   "outputs": [],
   "source": [
    "# Example of API: RSS feeds\n",
    "import feedparser\n",
    "feed = feedparser.parse('http://feeds.reuters.com/reuters/businessNews')"
   ]
  },
  {
   "cell_type": "code",
   "execution_count": 2,
   "metadata": {
    "ExecuteTime": {
     "end_time": "2018-05-25T22:20:12.696525Z",
     "start_time": "2018-05-25T22:20:12.680283Z"
    },
    "collapsed": false,
    "hidden": true
   },
   "outputs": [
    {
     "data": {
      "text/plain": [
       "9"
      ]
     },
     "execution_count": 2,
     "metadata": {},
     "output_type": "execute_result"
    }
   ],
   "source": [
    "len(feed.entries)"
   ]
  },
  {
   "cell_type": "code",
   "execution_count": 3,
   "metadata": {
    "ExecuteTime": {
     "end_time": "2018-05-25T22:20:13.481847Z",
     "start_time": "2018-05-25T22:20:13.453836Z"
    },
    "collapsed": false,
    "hidden": true
   },
   "outputs": [
    {
     "name": "stdout",
     "output_type": "stream",
     "text": [
      "{'feedburner_origlink': 'http://www.reuters.com/article/us-usa-stocks/sp-dow-fall-as-oil-drop-hurts-energy-chipmakers-boost-nasdaq-idUSKCN1IQ1KE?feedType=RSS&feedName=businessNews',\n",
      " 'guidislink': False,\n",
      " 'id': 'http://www.reuters.com/article/us-usa-stocks/sp-dow-fall-as-oil-drop-hurts-energy-chipmakers-boost-nasdaq-idUSKCN1IQ1KE?feedType=RSS&feedName=businessNews',\n",
      " 'link': 'http://feeds.reuters.com/~r/reuters/businessNews/~3/XHROlFuqJmg/sp-dow-fall-as-oil-drop-hurts-energy-chipmakers-boost-nasdaq-idUSKCN1IQ1KE',\n",
      " 'links': [{'href': 'http://feeds.reuters.com/~r/reuters/businessNews/~3/XHROlFuqJmg/sp-dow-fall-as-oil-drop-hurts-energy-chipmakers-boost-nasdaq-idUSKCN1IQ1KE',\n",
      "            'rel': 'alternate',\n",
      "            'type': 'text/html'}],\n",
      " 'published': 'Fri, 25 May 2018 17:42:25 -0400',\n",
      " 'published_parsed': time.struct_time(tm_year=2018, tm_mon=5, tm_mday=25, tm_hour=21, tm_min=42, tm_sec=25, tm_wday=4, tm_yday=145, tm_isdst=0),\n",
      " 'summary': 'NEW YORK (Reuters) - The S&P 500 and the Dow eased on Friday '\n",
      "            'after a steep drop in oil prices pressured energy stocks, but '\n",
      "            'losses were limited by gains in chipmakers and retail stocks.<div '\n",
      "            'class=\"feedflare\">\\n'\n",
      "            '<a '\n",
      "            'href=\"http://feeds.reuters.com/~ff/reuters/businessNews?a=XHROlFuqJmg:khbN52Rwdes:yIl2AUoC8zA\"><img '\n",
      "            'src=\"http://feeds.feedburner.com/~ff/reuters/businessNews?d=yIl2AUoC8zA\" '\n",
      "            'border=\"0\"></img></a> <a '\n",
      "            'href=\"http://feeds.reuters.com/~ff/reuters/businessNews?a=XHROlFuqJmg:khbN52Rwdes:F7zBnMyn0Lo\"><img '\n",
      "            'src=\"http://feeds.feedburner.com/~ff/reuters/businessNews?i=XHROlFuqJmg:khbN52Rwdes:F7zBnMyn0Lo\" '\n",
      "            'border=\"0\"></img></a> <a '\n",
      "            'href=\"http://feeds.reuters.com/~ff/reuters/businessNews?a=XHROlFuqJmg:khbN52Rwdes:V_sGLiPBpWU\"><img '\n",
      "            'src=\"http://feeds.feedburner.com/~ff/reuters/businessNews?i=XHROlFuqJmg:khbN52Rwdes:V_sGLiPBpWU\" '\n",
      "            'border=\"0\"></img></a>\\n'\n",
      "            '</div><img '\n",
      "            'src=\"http://feeds.feedburner.com/~r/reuters/businessNews/~4/XHROlFuqJmg\" '\n",
      "            'height=\"1\" width=\"1\" alt=\"\"/>',\n",
      " 'summary_detail': {'base': 'http://feeds.reuters.com/reuters/businessNews',\n",
      "                    'language': None,\n",
      "                    'type': 'text/html',\n",
      "                    'value': 'NEW YORK (Reuters) - The S&P 500 and the Dow '\n",
      "                             'eased on Friday after a steep drop in oil prices '\n",
      "                             'pressured energy stocks, but losses were limited '\n",
      "                             'by gains in chipmakers and retail stocks.<div '\n",
      "                             'class=\"feedflare\">\\n'\n",
      "                             '<a '\n",
      "                             'href=\"http://feeds.reuters.com/~ff/reuters/businessNews?a=XHROlFuqJmg:khbN52Rwdes:yIl2AUoC8zA\"><img '\n",
      "                             'src=\"http://feeds.feedburner.com/~ff/reuters/businessNews?d=yIl2AUoC8zA\" '\n",
      "                             'border=\"0\"></img></a> <a '\n",
      "                             'href=\"http://feeds.reuters.com/~ff/reuters/businessNews?a=XHROlFuqJmg:khbN52Rwdes:F7zBnMyn0Lo\"><img '\n",
      "                             'src=\"http://feeds.feedburner.com/~ff/reuters/businessNews?i=XHROlFuqJmg:khbN52Rwdes:F7zBnMyn0Lo\" '\n",
      "                             'border=\"0\"></img></a> <a '\n",
      "                             'href=\"http://feeds.reuters.com/~ff/reuters/businessNews?a=XHROlFuqJmg:khbN52Rwdes:V_sGLiPBpWU\"><img '\n",
      "                             'src=\"http://feeds.feedburner.com/~ff/reuters/businessNews?i=XHROlFuqJmg:khbN52Rwdes:V_sGLiPBpWU\" '\n",
      "                             'border=\"0\"></img></a>\\n'\n",
      "                             '</div><img '\n",
      "                             'src=\"http://feeds.feedburner.com/~r/reuters/businessNews/~4/XHROlFuqJmg\" '\n",
      "                             'height=\"1\" width=\"1\" alt=\"\"/>'},\n",
      " 'tags': [{'label': None, 'scheme': None, 'term': 'businessNews'}],\n",
      " 'title': 'S&P, Dow fall as oil drop hurts energy; chipmakers boost Nasdaq',\n",
      " 'title_detail': {'base': 'http://feeds.reuters.com/reuters/businessNews',\n",
      "                  'language': None,\n",
      "                  'type': 'text/plain',\n",
      "                  'value': 'S&P, Dow fall as oil drop hurts energy; chipmakers '\n",
      "                           'boost Nasdaq'}}\n"
     ]
    }
   ],
   "source": [
    "from pprint import PrettyPrinter\n",
    "PPRINTER = PrettyPrinter()\n",
    "PPRINTER.pprint(feed.entries[0])"
   ]
  },
  {
   "cell_type": "markdown",
   "metadata": {
    "heading_collapsed": true
   },
   "source": [
    "### URLs\n",
    "---"
   ]
  },
  {
   "cell_type": "markdown",
   "metadata": {
    "hidden": true
   },
   "source": [
    "`URL = web address`\n",
    "\n",
    "A URL can be composed of words (e.g. `georgetown.edu`), or an IP address (e.g. `192.68.20.50`). \n",
    "\n",
    "Names are easier to remember than numbers, so that's what we're used to.\n",
    "\n",
    "URLs follow these syntax rules:\n",
    "\n",
    "`scheme://prefix.domain:port/path/filename`\n",
    "\n",
    "- `scheme`, defines the type of Internet service (most common is `http` or `https`)\n",
    "- `prefix`, defines a domain prefix (default for `http` is `www`)\n",
    "- `domain`, defines the Internet domain name (like `georgetown.edu`)\n",
    "- `port`, defines the port number at the host (default for `http` is `80`)\n",
    "- `path`, defines a path at the server (if omitted it's the root directory of the site)\n",
    "- `filename`, defines the name of a document or resource\n",
    "\n",
    "The table below lists some common schemes:\n",
    "\n",
    "Scheme|Short for|Used for\n",
    ":---: | --- | ---\n",
    "`http`|HyperText Transfer Protocol|Common web pages. Not encrypted\n",
    "`https`|Secure HyperText Transfer Protocol|Secure web pages. Encrypted\n",
    "`ftp`|File Transfer Protocol|Downloading or uploading files\n",
    "`file`||A file on your computer"
   ]
  },
  {
   "cell_type": "markdown",
   "metadata": {
    "heading_collapsed": true
   },
   "source": [
    "### URL Encoding\n",
    "---"
   ]
  },
  {
   "cell_type": "markdown",
   "metadata": {
    "hidden": true
   },
   "source": [
    "URLs can only be sent over the Internet using the ASCII character-set. \n",
    "\n",
    "If a URL contains characters outside the ASCII set, the URL has to be converted.\n",
    "\n",
    "URL encoding converts non-ASCII characters into a format that can be transmitted over the Internet.\n",
    "\n",
    "URL encoding replaces non-ASCII characters with a \"%\" followed by hexadecimal digits.\n",
    "\n",
    "URLs cannot contain spaces. URL encoding normally replaces a space with `+` or `%20`"
   ]
  },
  {
   "cell_type": "markdown",
   "metadata": {
    "heading_collapsed": true
   },
   "source": [
    "### URL parameters\n",
    "---"
   ]
  },
  {
   "cell_type": "code",
   "execution_count": null,
   "metadata": {
    "collapsed": true,
    "hidden": true
   },
   "outputs": [],
   "source": []
  },
  {
   "cell_type": "code",
   "execution_count": null,
   "metadata": {
    "collapsed": true,
    "hidden": true
   },
   "outputs": [],
   "source": []
  }
 ],
 "metadata": {
  "kernelspec": {
   "display_name": "Python 3",
   "language": "python",
   "name": "python3"
  },
  "language_info": {
   "codemirror_mode": {
    "name": "ipython",
    "version": 3
   },
   "file_extension": ".py",
   "mimetype": "text/x-python",
   "name": "python",
   "nbconvert_exporter": "python",
   "pygments_lexer": "ipython3",
   "version": "3.6.0"
  }
 },
 "nbformat": 4,
 "nbformat_minor": 2
}
