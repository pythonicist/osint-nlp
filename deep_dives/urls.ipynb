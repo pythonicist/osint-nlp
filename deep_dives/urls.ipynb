{
 "cells": [
  {
   "cell_type": "markdown",
   "metadata": {},
   "source": [
    "## Application Programming Interfaces (APIs ) and Uniform Resource Locators (URLs)\n",
    "---"
   ]
  },
  {
   "cell_type": "markdown",
   "metadata": {
    "heading_collapsed": true
   },
   "source": [
    "### APIs\n",
    "---"
   ]
  },
  {
   "cell_type": "markdown",
   "metadata": {
    "hidden": true
   },
   "source": [
    "APIs are the best way to get structured information from the web, when available.\n",
    "\n",
    "Aggregator: https://www.programmableweb.com/ (20,000 APIs)\n",
    "\n",
    "**Example 1: RSS feeds**"
   ]
  },
  {
   "cell_type": "code",
   "execution_count": 6,
   "metadata": {
    "ExecuteTime": {
     "end_time": "2018-05-29T21:34:29.164666Z",
     "start_time": "2018-05-29T21:34:28.992552Z"
    },
    "collapsed": true,
    "hidden": true
   },
   "outputs": [],
   "source": [
    "import feedparser\n",
    "feed = feedparser.parse('http://feeds.reuters.com/reuters/businessNews')"
   ]
  },
  {
   "cell_type": "code",
   "execution_count": 7,
   "metadata": {
    "ExecuteTime": {
     "end_time": "2018-05-29T21:34:29.635643Z",
     "start_time": "2018-05-29T21:34:29.630018Z"
    },
    "collapsed": false,
    "hidden": true
   },
   "outputs": [
    {
     "data": {
      "text/plain": [
       "10"
      ]
     },
     "execution_count": 7,
     "metadata": {},
     "output_type": "execute_result"
    }
   ],
   "source": [
    "len(feed.entries)"
   ]
  },
  {
   "cell_type": "code",
   "execution_count": 8,
   "metadata": {
    "ExecuteTime": {
     "end_time": "2018-05-29T21:34:30.203051Z",
     "start_time": "2018-05-29T21:34:30.179912Z"
    },
    "collapsed": false,
    "hidden": true
   },
   "outputs": [
    {
     "name": "stdout",
     "output_type": "stream",
     "text": [
      "{'feedburner_origlink': 'http://www.reuters.com/article/us-global-markets/worsening-italian-crisis-batters-financial-markets-idUSKCN1IV004?feedType=RSS&feedName=businessNews',\n",
      " 'guidislink': False,\n",
      " 'id': 'http://www.reuters.com/article/us-global-markets/worsening-italian-crisis-batters-financial-markets-idUSKCN1IV004?feedType=RSS&feedName=businessNews',\n",
      " 'link': 'http://feeds.reuters.com/~r/reuters/businessNews/~3/xLHQncXg6gU/worsening-italian-crisis-batters-financial-markets-idUSKCN1IV004',\n",
      " 'links': [{'href': 'http://feeds.reuters.com/~r/reuters/businessNews/~3/xLHQncXg6gU/worsening-italian-crisis-batters-financial-markets-idUSKCN1IV004',\n",
      "            'rel': 'alternate',\n",
      "            'type': 'text/html'}],\n",
      " 'published': 'Tue, 29 May 2018 20:15:21 -0400',\n",
      " 'published_parsed': time.struct_time(tm_year=2018, tm_mon=5, tm_mday=30, tm_hour=0, tm_min=15, tm_sec=21, tm_wday=2, tm_yday=150, tm_isdst=0),\n",
      " 'summary': 'TOKYO (Reuters) - Asian shares looked set for a sharp fall on '\n",
      "            \"Wednesday as Italy's political crisis provoked a sell-off on Wall \"\n",
      "            'Street, sent the euro to a 10-month low and spiked borrowing '\n",
      "            'costs for the government in Rome.<div class=\"feedflare\">\\n'\n",
      "            '<a '\n",
      "            'href=\"http://feeds.reuters.com/~ff/reuters/businessNews?a=xLHQncXg6gU:Qn_azD7JKbQ:yIl2AUoC8zA\"><img '\n",
      "            'src=\"http://feeds.feedburner.com/~ff/reuters/businessNews?d=yIl2AUoC8zA\" '\n",
      "            'border=\"0\"></img></a> <a '\n",
      "            'href=\"http://feeds.reuters.com/~ff/reuters/businessNews?a=xLHQncXg6gU:Qn_azD7JKbQ:F7zBnMyn0Lo\"><img '\n",
      "            'src=\"http://feeds.feedburner.com/~ff/reuters/businessNews?i=xLHQncXg6gU:Qn_azD7JKbQ:F7zBnMyn0Lo\" '\n",
      "            'border=\"0\"></img></a> <a '\n",
      "            'href=\"http://feeds.reuters.com/~ff/reuters/businessNews?a=xLHQncXg6gU:Qn_azD7JKbQ:V_sGLiPBpWU\"><img '\n",
      "            'src=\"http://feeds.feedburner.com/~ff/reuters/businessNews?i=xLHQncXg6gU:Qn_azD7JKbQ:V_sGLiPBpWU\" '\n",
      "            'border=\"0\"></img></a>\\n'\n",
      "            '</div><img '\n",
      "            'src=\"http://feeds.feedburner.com/~r/reuters/businessNews/~4/xLHQncXg6gU\" '\n",
      "            'height=\"1\" width=\"1\" alt=\"\"/>',\n",
      " 'summary_detail': {'base': 'http://feeds.reuters.com/reuters/businessNews',\n",
      "                    'language': None,\n",
      "                    'type': 'text/html',\n",
      "                    'value': 'TOKYO (Reuters) - Asian shares looked set for a '\n",
      "                             \"sharp fall on Wednesday as Italy's political \"\n",
      "                             'crisis provoked a sell-off on Wall Street, sent '\n",
      "                             'the euro to a 10-month low and spiked borrowing '\n",
      "                             'costs for the government in Rome.<div '\n",
      "                             'class=\"feedflare\">\\n'\n",
      "                             '<a '\n",
      "                             'href=\"http://feeds.reuters.com/~ff/reuters/businessNews?a=xLHQncXg6gU:Qn_azD7JKbQ:yIl2AUoC8zA\"><img '\n",
      "                             'src=\"http://feeds.feedburner.com/~ff/reuters/businessNews?d=yIl2AUoC8zA\" '\n",
      "                             'border=\"0\"></img></a> <a '\n",
      "                             'href=\"http://feeds.reuters.com/~ff/reuters/businessNews?a=xLHQncXg6gU:Qn_azD7JKbQ:F7zBnMyn0Lo\"><img '\n",
      "                             'src=\"http://feeds.feedburner.com/~ff/reuters/businessNews?i=xLHQncXg6gU:Qn_azD7JKbQ:F7zBnMyn0Lo\" '\n",
      "                             'border=\"0\"></img></a> <a '\n",
      "                             'href=\"http://feeds.reuters.com/~ff/reuters/businessNews?a=xLHQncXg6gU:Qn_azD7JKbQ:V_sGLiPBpWU\"><img '\n",
      "                             'src=\"http://feeds.feedburner.com/~ff/reuters/businessNews?i=xLHQncXg6gU:Qn_azD7JKbQ:V_sGLiPBpWU\" '\n",
      "                             'border=\"0\"></img></a>\\n'\n",
      "                             '</div><img '\n",
      "                             'src=\"http://feeds.feedburner.com/~r/reuters/businessNews/~4/xLHQncXg6gU\" '\n",
      "                             'height=\"1\" width=\"1\" alt=\"\"/>'},\n",
      " 'tags': [{'label': None, 'scheme': None, 'term': 'businessNews'}],\n",
      " 'title': 'Worsening Italian crisis batters financial markets',\n",
      " 'title_detail': {'base': 'http://feeds.reuters.com/reuters/businessNews',\n",
      "                  'language': None,\n",
      "                  'type': 'text/plain',\n",
      "                  'value': 'Worsening Italian crisis batters financial '\n",
      "                           'markets'}}\n"
     ]
    }
   ],
   "source": [
    "from pprint import PrettyPrinter\n",
    "PPRINTER = PrettyPrinter()\n",
    "PPRINTER.pprint(feed.entries[0])"
   ]
  },
  {
   "cell_type": "markdown",
   "metadata": {
    "hidden": true
   },
   "source": [
    "**Example 2: Morningstar**"
   ]
  },
  {
   "cell_type": "code",
   "execution_count": 10,
   "metadata": {
    "ExecuteTime": {
     "end_time": "2018-05-29T21:35:06.650293Z",
     "start_time": "2018-05-29T21:35:06.264426Z"
    },
    "collapsed": false,
    "hidden": true
   },
   "outputs": [
    {
     "name": "stdout",
     "output_type": "stream",
     "text": [
      "{'companyProfile': 'Apple designs a wide variety of consumer electronic '\n",
      "                   'devices, including smartphones (iPhone), tablets (iPad), '\n",
      "                   'PCs (Mac), smartwatches (Watch), and TV boxes (Apple TV), '\n",
      "                   'among others. The iPhone makes up the majority of Apple’s '\n",
      "                   'total revenue. In addition, Apple offers its customers a '\n",
      "                   'variety of services such as Apple Music, iCloud, AppleCare '\n",
      "                   \"and Apple Pay, among others. Apple's products run \"\n",
      "                   'internally developed software and semiconductors, and the '\n",
      "                   'firm is well known for its integration of hardware, '\n",
      "                   \"software and services. Apple's products are distributed \"\n",
      "                   'online as well as through company-owned stores and '\n",
      "                   'third-party retailers. The company generates about 40% of '\n",
      "                   'its revenue from the Americas, with the remainder earned '\n",
      "                   'internationally.',\n",
      " 'isQuan': False,\n",
      " 'ticker': 'AAPL',\n",
      " 'userType': 'Premium',\n",
      " 'valuation': {'assessment': 'Fairly Valued',\n",
      "               'assessmentDate': '2018-05-28T00:00:00.000',\n",
      "               'bf2': '271.25',\n",
      "               'bf3': '201.25000',\n",
      "               'bf4': '148.75000',\n",
      "               'bf5': '105',\n",
      "               'fairValCurrency': 'USD',\n",
      "               'fairValue': '175',\n",
      "               'fairValueDate': '2018-05-02T00:00:00.000',\n",
      "               'fiveStar': '105',\n",
      "               'fiveStarDate': '2018-05-28T00:00:00.000',\n",
      "               'lastClose': None,\n",
      "               'lastCloseCurrency': '',\n",
      "               'moat': 'Narrow',\n",
      "               'moatDate': '2018-05-28T00:00:00.000',\n",
      "               'moatTrendEvaluate': 'Positive',\n",
      "               'oneStar': '271.25',\n",
      "               'oneStarDate': '2018-05-28T00:00:00.000',\n",
      "               'premDiscDelta': '8',\n",
      "               'premiumDisc': 'Premium',\n",
      "               'startRating': '3',\n",
      "               'stewardship': 'Standard',\n",
      "               'stewardshipDate': '2018-05-28T00:00:00.000',\n",
      "               'uncertainty': 'High'}}\n"
     ]
    }
   ],
   "source": [
    "import requests\n",
    "ticker = 'AAPL'\n",
    "url = 'https://morningstar-api.herokuapp.com/analysisData?ticker=%s' % ticker\n",
    "res = requests.get(url).json()\n",
    "PPRINTER.pprint(res)"
   ]
  },
  {
   "cell_type": "markdown",
   "metadata": {
    "heading_collapsed": true
   },
   "source": [
    "### URLs\n",
    "---"
   ]
  },
  {
   "cell_type": "markdown",
   "metadata": {
    "hidden": true
   },
   "source": [
    "`URL = web address`\n",
    "\n",
    "A URL can be composed of words (e.g. `georgetown.edu`), or an IP address (e.g. `192.68.20.50`). \n",
    "\n",
    "Names are easier to remember than numbers, so that's what we're used to.\n",
    "\n",
    "URLs follow these syntax rules:\n",
    "\n",
    "`scheme://prefix.domain:port/path/filename`\n",
    "\n",
    "- `scheme`, defines the type of Internet service (most common is `http` or `https`)\n",
    "- `prefix`, defines a domain prefix (default for `http` is `www`)\n",
    "- `domain`, defines the Internet domain name (like `georgetown.edu`)\n",
    "- `port`, defines the port number at the host (default for `http` is `80`)\n",
    "- `path`, defines a path at the server (if omitted it's the root directory of the site)\n",
    "- `filename`, defines the name of a document or resource\n",
    "\n",
    "The table below lists some common schemes:\n",
    "\n",
    "Scheme|Short for|Used for\n",
    ":---: | --- | ---\n",
    "`http`|HyperText Transfer Protocol|Common web pages. Not encrypted\n",
    "`https`|Secure HyperText Transfer Protocol|Secure web pages. Encrypted\n",
    "`ftp`|File Transfer Protocol|Downloading or uploading files\n",
    "`file`||A file on your computer"
   ]
  },
  {
   "cell_type": "markdown",
   "metadata": {
    "heading_collapsed": true
   },
   "source": [
    "### URL Encoding\n",
    "---"
   ]
  },
  {
   "cell_type": "markdown",
   "metadata": {
    "hidden": true
   },
   "source": [
    "URLs can only be sent over the Internet using the ASCII character-set. \n",
    "\n",
    "If a URL contains characters outside the ASCII set, the URL has to be converted.\n",
    "\n",
    "URL encoding converts non-ASCII characters into a format that can be transmitted over the Internet.\n",
    "\n",
    "URL encoding replaces non-ASCII characters with a \"%\" followed by hexadecimal digits.\n",
    "\n",
    "URLs cannot contain spaces. URL encoding normally replaces a space with `+` or `%20`"
   ]
  },
  {
   "cell_type": "markdown",
   "metadata": {
    "heading_collapsed": true
   },
   "source": [
    "### URL parameters\n",
    "---"
   ]
  },
  {
   "cell_type": "code",
   "execution_count": null,
   "metadata": {
    "collapsed": true,
    "hidden": true
   },
   "outputs": [],
   "source": []
  },
  {
   "cell_type": "code",
   "execution_count": null,
   "metadata": {
    "collapsed": true,
    "hidden": true
   },
   "outputs": [],
   "source": []
  }
 ],
 "metadata": {
  "kernelspec": {
   "display_name": "Python 3",
   "language": "python",
   "name": "python3"
  },
  "language_info": {
   "codemirror_mode": {
    "name": "ipython",
    "version": 3
   },
   "file_extension": ".py",
   "mimetype": "text/x-python",
   "name": "python",
   "nbconvert_exporter": "python",
   "pygments_lexer": "ipython3",
   "version": "3.6.0"
  }
 },
 "nbformat": 4,
 "nbformat_minor": 2
}
