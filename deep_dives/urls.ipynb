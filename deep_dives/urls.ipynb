{
 "cells": [
  {
   "cell_type": "markdown",
   "metadata": {},
   "source": [
    "## Application Programming Interfaces (APIs ) and Uniform Resource Locators (URLs)\n",
    "---"
   ]
  },
  {
   "cell_type": "markdown",
   "metadata": {},
   "source": [
    "### APIs\n",
    "---"
   ]
  },
  {
   "cell_type": "markdown",
   "metadata": {},
   "source": [
    "APIs are the best way to get structured information from the web, when available.\n",
    "\n",
    "Aggregator: https://www.programmableweb.com/ (20,000 APIs)\n",
    "\n",
    "**Example: Morningstar**"
   ]
  },
  {
   "cell_type": "code",
   "execution_count": 10,
   "metadata": {
    "ExecuteTime": {
     "end_time": "2018-05-29T21:35:06.650293Z",
     "start_time": "2018-05-29T21:35:06.264426Z"
    },
    "collapsed": false
   },
   "outputs": [
    {
     "name": "stdout",
     "output_type": "stream",
     "text": [
      "{'companyProfile': 'Apple designs a wide variety of consumer electronic '\n",
      "                   'devices, including smartphones (iPhone), tablets (iPad), '\n",
      "                   'PCs (Mac), smartwatches (Watch), and TV boxes (Apple TV), '\n",
      "                   'among others. The iPhone makes up the majority of Apple’s '\n",
      "                   'total revenue. In addition, Apple offers its customers a '\n",
      "                   'variety of services such as Apple Music, iCloud, AppleCare '\n",
      "                   \"and Apple Pay, among others. Apple's products run \"\n",
      "                   'internally developed software and semiconductors, and the '\n",
      "                   'firm is well known for its integration of hardware, '\n",
      "                   \"software and services. Apple's products are distributed \"\n",
      "                   'online as well as through company-owned stores and '\n",
      "                   'third-party retailers. The company generates about 40% of '\n",
      "                   'its revenue from the Americas, with the remainder earned '\n",
      "                   'internationally.',\n",
      " 'isQuan': False,\n",
      " 'ticker': 'AAPL',\n",
      " 'userType': 'Premium',\n",
      " 'valuation': {'assessment': 'Fairly Valued',\n",
      "               'assessmentDate': '2018-05-28T00:00:00.000',\n",
      "               'bf2': '271.25',\n",
      "               'bf3': '201.25000',\n",
      "               'bf4': '148.75000',\n",
      "               'bf5': '105',\n",
      "               'fairValCurrency': 'USD',\n",
      "               'fairValue': '175',\n",
      "               'fairValueDate': '2018-05-02T00:00:00.000',\n",
      "               'fiveStar': '105',\n",
      "               'fiveStarDate': '2018-05-28T00:00:00.000',\n",
      "               'lastClose': None,\n",
      "               'lastCloseCurrency': '',\n",
      "               'moat': 'Narrow',\n",
      "               'moatDate': '2018-05-28T00:00:00.000',\n",
      "               'moatTrendEvaluate': 'Positive',\n",
      "               'oneStar': '271.25',\n",
      "               'oneStarDate': '2018-05-28T00:00:00.000',\n",
      "               'premDiscDelta': '8',\n",
      "               'premiumDisc': 'Premium',\n",
      "               'startRating': '3',\n",
      "               'stewardship': 'Standard',\n",
      "               'stewardshipDate': '2018-05-28T00:00:00.000',\n",
      "               'uncertainty': 'High'}}\n"
     ]
    }
   ],
   "source": [
    "import requests\n",
    "ticker = 'AAPL'\n",
    "url = 'https://morningstar-api.herokuapp.com/analysisData?ticker=%s' % ticker\n",
    "res = requests.get(url).json()\n",
    "PPRINTER.pprint(res)"
   ]
  },
  {
   "cell_type": "markdown",
   "metadata": {
    "heading_collapsed": true
   },
   "source": [
    "### URLs\n",
    "---"
   ]
  },
  {
   "cell_type": "markdown",
   "metadata": {
    "hidden": true
   },
   "source": [
    "`URL = web address`\n",
    "\n",
    "A URL can be composed of words (e.g. `georgetown.edu`), or an IP address (e.g. `192.68.20.50`). \n",
    "\n",
    "Names are easier to remember than numbers, so that's what we're used to.\n",
    "\n",
    "URLs follow these syntax rules:\n",
    "\n",
    "`scheme://prefix.domain:port/path/filename`\n",
    "\n",
    "- `scheme`, defines the type of Internet service (most common is `http` or `https`)\n",
    "- `prefix`, defines a domain prefix (default for `http` is `www`)\n",
    "- `domain`, defines the Internet domain name (like `georgetown.edu`)\n",
    "- `port`, defines the port number at the host (default for `http` is `80`)\n",
    "- `path`, defines a path at the server (if omitted it's the root directory of the site)\n",
    "- `filename`, defines the name of a document or resource\n",
    "\n",
    "The table below lists some common schemes:\n",
    "\n",
    "Scheme|Short for|Used for\n",
    ":---: | --- | ---\n",
    "`http`|HyperText Transfer Protocol|Common web pages. Not encrypted\n",
    "`https`|Secure HyperText Transfer Protocol|Secure web pages. Encrypted\n",
    "`ftp`|File Transfer Protocol|Downloading or uploading files\n",
    "`file`||A file on your computer"
   ]
  },
  {
   "cell_type": "markdown",
   "metadata": {
    "heading_collapsed": true
   },
   "source": [
    "### URL Encoding\n",
    "---"
   ]
  },
  {
   "cell_type": "markdown",
   "metadata": {
    "hidden": true
   },
   "source": [
    "URLs can only be sent over the Internet using the ASCII character-set. \n",
    "\n",
    "If a URL contains characters outside the ASCII set, the URL has to be converted.\n",
    "\n",
    "URL encoding converts non-ASCII characters into a format that can be transmitted over the Internet.\n",
    "\n",
    "URL encoding replaces non-ASCII characters with a \"%\" followed by hexadecimal digits.\n",
    "\n",
    "URLs cannot contain spaces. URL encoding normally replaces a space with `+` or `%20`"
   ]
  },
  {
   "cell_type": "markdown",
   "metadata": {
    "heading_collapsed": true
   },
   "source": [
    "### URL parameters\n",
    "---"
   ]
  },
  {
   "cell_type": "code",
   "execution_count": null,
   "metadata": {
    "collapsed": true,
    "hidden": true
   },
   "outputs": [],
   "source": []
  },
  {
   "cell_type": "code",
   "execution_count": null,
   "metadata": {
    "collapsed": true,
    "hidden": true
   },
   "outputs": [],
   "source": []
  }
 ],
 "metadata": {
  "kernelspec": {
   "display_name": "Python 3",
   "language": "python",
   "name": "python3"
  },
  "language_info": {
   "codemirror_mode": {
    "name": "ipython",
    "version": 3
   },
   "file_extension": ".py",
   "mimetype": "text/x-python",
   "name": "python",
   "nbconvert_exporter": "python",
   "pygments_lexer": "ipython3",
   "version": "3.6.0"
  }
 },
 "nbformat": 4,
 "nbformat_minor": 2
}
