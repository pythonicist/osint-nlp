{
 "cells": [
  {
   "cell_type": "markdown",
   "metadata": {
    "ExecuteTime": {
     "end_time": "2018-05-19T15:07:26.119432Z",
     "start_time": "2018-05-19T15:07:26.114994Z"
    }
   },
   "source": [
    "## Hypertext Transfer Protocol (HTTP)\n",
    "---"
   ]
  },
  {
   "cell_type": "markdown",
   "metadata": {
    "heading_collapsed": true
   },
   "source": [
    "### Introduction\n",
    "---"
   ]
  },
  {
   "cell_type": "markdown",
   "metadata": {
    "hidden": true
   },
   "source": [
    "HTTP is a request-response protocol designed to enable communications between clients (e.g. web browsers, bots, scripts) and servers (e.g. application on a computer that hosts a web site).\n",
    "\n",
    "The client **requests**\n",
    "\n",
    "The server **responds**\n",
    "\n",
    "This is the foundation of data communication for the World Wide Web."
   ]
  },
  {
   "cell_type": "code",
   "execution_count": 66,
   "metadata": {
    "ExecuteTime": {
     "end_time": "2018-05-19T16:08:09.812473Z",
     "start_time": "2018-05-19T16:08:09.807426Z"
    },
    "collapsed": true,
    "hidden": true
   },
   "outputs": [],
   "source": [
    "# In python, HTTP requests are supported by the \"requests\" module.\n",
    "import socket\n",
    "import requests"
   ]
  },
  {
   "cell_type": "markdown",
   "metadata": {
    "heading_collapsed": true
   },
   "source": [
    "### HTTP Methods\n",
    "---"
   ]
  },
  {
   "cell_type": "markdown",
   "metadata": {
    "hidden": true
   },
   "source": [
    "- `GET`: used to request data from a specified resource, basically the only one fo interest for web scraping. They have length restrictions.\n",
    "- `POST` and `PUT`: used to send data to a server to create/update a resource.\n",
    "- `DELETE`: used to delete the specified resource.\n",
    "\n",
    "For example, the client requests:\n",
    "\n",
    "```\n",
    "GET /index.html HTTP/1.1\n",
    "Host: georgetown.edu\n",
    "```\n",
    "\n",
    "And the server responds with:\n",
    "\n",
    "```HTTP/1.1 200 OK\n",
    "Date: Mon, 23 May 2018 22:38:34 GMT\n",
    "Content-Type: text/html; charset=UTF-8\n",
    "Content-Encoding: UTF-8\n",
    "Content-Length: 138\n",
    "Last-Modified: Wed, 08 Jan 2003 23:11:55 GMT\n",
    "Server: Apache/1.3.3.7 (Unix) (Red-Hat/Linux)\n",
    "ETag: \"3f80f-1b6-3e1cb03b\"\n",
    "Accept-Ranges: bytes\n",
    "Connection: close```\n",
    "\n",
    "```html\n",
    "<html>\n",
    "    <head>\n",
    "      <title>An Example Page</title>\n",
    "    </head>\n",
    "    <body>\n",
    "      Hello World, this is a very simple HTML document.\n",
    "    </body>\n",
    "</html>```"
   ]
  },
  {
   "cell_type": "markdown",
   "metadata": {
    "ExecuteTime": {
     "end_time": "2018-05-19T15:07:30.742931Z",
     "start_time": "2018-05-19T15:07:30.739115Z"
    },
    "heading_collapsed": true
   },
   "source": [
    "### HTTP status codes\n",
    "---"
   ]
  },
  {
   "cell_type": "code",
   "execution_count": 74,
   "metadata": {
    "ExecuteTime": {
     "end_time": "2018-05-19T16:51:14.538436Z",
     "start_time": "2018-05-19T16:51:14.023924Z"
    },
    "collapsed": false,
    "hidden": true
   },
   "outputs": [
    {
     "name": "stdout",
     "output_type": "stream",
     "text": [
      "\n",
      "The status code for \"https://georgetown.edu\" is: 200\n",
      "The reason is: OK\n"
     ]
    }
   ],
   "source": [
    "url = 'https://georgetown.edu'\n",
    "res = requests.get(url)\n",
    "print('\\nThe status code for \"%s\" is: %d' % (url, res.status_code))\n",
    "print('The reason is: %s' % res.reason)"
   ]
  },
  {
   "cell_type": "markdown",
   "metadata": {
    "hidden": true
   },
   "source": [
    "- `2xx`: Successful\n",
    "    - e.g. `\"200: OK\"`\tmeans that the request is OK (this is the standard response for successful HTTP requests)\n",
    "    \n"
   ]
  },
  {
   "cell_type": "code",
   "execution_count": 75,
   "metadata": {
    "ExecuteTime": {
     "end_time": "2018-05-19T16:51:29.919053Z",
     "start_time": "2018-05-19T16:51:23.848290Z"
    },
    "collapsed": false,
    "hidden": true
   },
   "outputs": [
    {
     "name": "stdout",
     "output_type": "stream",
     "text": [
      "\n",
      "The status code for \"http://getstatuscode.com/301\" is: 301\n",
      "The reason is: Moved Permanently\n"
     ]
    }
   ],
   "source": [
    "url = 'http://getstatuscode.com/301'\n",
    "res = requests.get(url)\n",
    "print('\\nThe status code for \"%s\" is: %d' % (url, res.status_code))\n",
    "print('The reason is: %s' % res.reason)"
   ]
  },
  {
   "cell_type": "markdown",
   "metadata": {
    "hidden": true
   },
   "source": [
    "- `3xx`: Redirection\n",
    "    - e.g. `\"301: Moved Permanently\"` means that the requested page has moved to a new URL \n",
    "\n"
   ]
  },
  {
   "cell_type": "code",
   "execution_count": 76,
   "metadata": {
    "ExecuteTime": {
     "end_time": "2018-05-19T16:51:32.131037Z",
     "start_time": "2018-05-19T16:51:31.760407Z"
    },
    "collapsed": false,
    "hidden": true
   },
   "outputs": [
    {
     "name": "stdout",
     "output_type": "stream",
     "text": [
      "\n",
      "The status code for \"https://georgetown.edu/yanni-or-laurel\" is: 404\n",
      "The reason is: Not Found\n"
     ]
    }
   ],
   "source": [
    "url = 'https://georgetown.edu/yanni-or-laurel'\n",
    "res = requests.get(url)\n",
    "print('\\nThe status code for \"%s\" is: %d' % (url, res.status_code))\n",
    "print('The reason is: %s' % res.reason)"
   ]
  },
  {
   "cell_type": "markdown",
   "metadata": {
    "hidden": true
   },
   "source": [
    "- `4xx`: Client Error\n",
    "    - e.g. `\"400: Bad Request\"` means that the request cannot be fulfilled due to bad syntax\n",
    "    - e.g. `\"401: Unauthorized\"` means that the request was a legal request, but the server is refusing to respond to it. For use when authentication is possible but has failed or not yet been provided\n",
    "    - e.g. `\"403: Forbidden\"` means that the request was a legal request, but the server is refusing to respond to it\n",
    "    - e.g. `\"404: Not Found\"` means that the requested page could not be found but may be available again in the future\n",
    "    - e.g. `\"407: Proxy Authentication Required\"` means that the client must first authenticate itself with the proxy\n",
    "    - e.g. `\"408: Request Timeout\"` means that the server timed out waiting for the request\n",
    "    - e.g. `\"410: Gone\"` means that the requested page is no longer available\n",
    "    - e.g. `\"414: Request-URI Too Long\"` means that the server will not accept the request, because the URL is too long. Occurs when you convert a `POST` request to a `GET` request with a long query information  "
   ]
  },
  {
   "cell_type": "code",
   "execution_count": 77,
   "metadata": {
    "ExecuteTime": {
     "end_time": "2018-05-19T16:51:34.975689Z",
     "start_time": "2018-05-19T16:51:34.521541Z"
    },
    "collapsed": false,
    "hidden": true
   },
   "outputs": [
    {
     "name": "stdout",
     "output_type": "stream",
     "text": [
      "\n",
      "The status code for \"https://httpstat.us/502\" is: 502\n",
      "The reason is: Bad Gateway\n"
     ]
    }
   ],
   "source": [
    "url = 'https://httpstat.us/502'\n",
    "res = requests.get(url)\n",
    "print('\\nThe status code for \"%s\" is: %d' % (url, res.status_code))\n",
    "print('The reason is: %s' % res.reason)"
   ]
  },
  {
   "cell_type": "markdown",
   "metadata": {
    "hidden": true
   },
   "source": [
    "- `5xx`: Server Error  \n",
    "    - e.g. `\"500: Internal Server Error\"`, a generic error message, given when no more specific message is suitable\n",
    "    - e.g. `\"502: Bad Gateway\"` means that the server was acting as a gateway or proxy and received an invalid response from the upstream server\n",
    "    - e.g. `\"503: Service Unavailable\"` means that the server is currently unavailable (overloaded or down)"
   ]
  },
  {
   "cell_type": "code",
   "execution_count": null,
   "metadata": {
    "collapsed": true,
    "hidden": true
   },
   "outputs": [],
   "source": []
  }
 ],
 "metadata": {
  "kernelspec": {
   "display_name": "Python 3",
   "language": "python",
   "name": "python3"
  },
  "language_info": {
   "codemirror_mode": {
    "name": "ipython",
    "version": 3
   },
   "file_extension": ".py",
   "mimetype": "text/x-python",
   "name": "python",
   "nbconvert_exporter": "python",
   "pygments_lexer": "ipython3",
   "version": "3.6.0"
  }
 },
 "nbformat": 4,
 "nbformat_minor": 2
}
