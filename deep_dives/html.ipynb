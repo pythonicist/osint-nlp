{
 "cells": [
  {
   "cell_type": "markdown",
   "metadata": {
    "ExecuteTime": {
     "end_time": "2018-05-18T20:57:20.990380Z",
     "start_time": "2018-05-18T20:57:20.985878Z"
    }
   },
   "source": [
    "## Hyper Text Markup Language (HTML) and XPath"
   ]
  },
  {
   "cell_type": "markdown",
   "metadata": {
    "heading_collapsed": true
   },
   "source": [
    "### HTML"
   ]
  },
  {
   "cell_type": "markdown",
   "metadata": {
    "hidden": true
   },
   "source": [
    "HTML is the standard markup language for creating Web pages.\n",
    "\n",
    "- Its elements are the building blocks of HTML pages and are represented by tags\n",
    "- HTML tags label pieces of content such as \"heading\", \"paragraph\", \"table\", and so on\n",
    "- There are more than 100 different tags\n",
    "- Browsers do not display the HTML tags, but use them to render the content of the page\n",
    "\n",
    "Example:\n",
    "\n",
    "```html\n",
    "<!DOCTYPE html>\n",
    "<html>\n",
    "    <head>\n",
    "        <title>Page Title</title>\n",
    "    </head>\n",
    "    <body>\n",
    "        <h1>This is an amazing heading</h1>\n",
    "        <p>This is a fantastic paragraph.</p>\n",
    "        <a href=\"https://www.georgetown.edu/\">This is an awesome link</a>\n",
    "        <ul id=\"unordered_list\">\n",
    "            <li>Jason Schloetzer</li>\n",
    "            <li>Bill Smith</li>\n",
    "            <li>Barney Stinson</li>\n",
    "        </ul>\n",
    "    </body>\n",
    "</html>```\n",
    "\n",
    "Let's save it in a text document and open it in a browser. \n",
    "You can use either `.htm` or `.html` as file extension.\n",
    "\n",
    "- `<!DOCTYPE html>`: declaration that defines this document to be HTML (in particular, HTML5). It helps browsers to display web pages correctly. It must only appear once, at the top of the page.\n",
    "- `<html>`: root element of an HTML page\n",
    "- `<head>`: element that contains metadata (data about data) for the document, not displayed.\n",
    "- `<title>`: element that specifies a title for the document\n",
    "- `<body>`: element that contains the **visible content** \n",
    "- `<h1>`: element that defines a large heading. `<h1>` defines the most important heading, `<h6>` defines the least important heading.\n",
    "- `<p>:` element that defines a paragraph. Extra spaces and new lines are ignored.\n",
    "- `<a>`: element that defines a link (\"anchor\"). The link's destination is specified in the `href` attribute. \n",
    "- `<ul>`: element that defines an unordered list (`<ol>` for ordered lists), whose atomic elements are `<li>`. Any element can have an `id` attribute.\n",
    "\n",
    "As you can see, HTML elements can be nested: `<li>` is inside `<ul>` which is inside `<body>` which is inside `<html>`. \n",
    "\n",
    "**HTML is a tree**\n",
    "\n",
    "HTML tags are element names surrounded by angle brackets:\n",
    "\n",
    "`<tagname>content</tagname>`\n",
    "\n",
    "- HTML tags come in pairs like `<p>` and `</p>`\n",
    "- The first tag in a pair is the start tag, or opening tag\n",
    "- The second tag is the end tag, or closing tag\n",
    "- The end tag is written like the start tag, but with a forward slash inserted before the tag name\n",
    "- The browser does not display the HTML tags, but uses them to determine how to display the document.\n",
    "- Attributes in the start tag are used to provide additional information about HTML elements.\n",
    "- Empty elements don't have an end tag (e.g. `<br>`, line break)\n",
    "- Some HTML elements will display correctly even without the end tag, browser are error tolerant. But it makes them harder to parse."
   ]
  },
  {
   "cell_type": "markdown",
   "metadata": {
    "ExecuteTime": {
     "end_time": "2018-05-18T21:45:13.045937Z",
     "start_time": "2018-05-18T21:45:13.042297Z"
    },
    "heading_collapsed": true
   },
   "source": [
    "### HTML tables"
   ]
  },
  {
   "cell_type": "markdown",
   "metadata": {
    "hidden": true
   },
   "source": [
    "\n",
    "- An HTML table is defined with the `<table>` tag.\n",
    "- Each table row is defined with the `<tr>` tag. \n",
    "- A table header is defined with the `<th>` tag. \n",
    "- A table data/cell is defined with the `<td>` tag.\n",
    "\n",
    "```html\n",
    "<table style=\"width:20%\">\n",
    "  <tr>\n",
    "    <th>Firstname</th>\n",
    "    <th>Lastname</th> \n",
    "    <th>Age</th>\n",
    "  </tr>\n",
    "  <tr>\n",
    "    <td>Jill</td>\n",
    "    <td>Smith</td> \n",
    "    <td>50</td>\n",
    "  </tr>\n",
    "  <tr>\n",
    "    <td>Eve</td>\n",
    "    <td>Jackson</td> \n",
    "    <td>94</td>\n",
    "  </tr>\n",
    "</table>```\n",
    "\n",
    "- To make a cell span more than one column, use the `colspan` attribute\n",
    "- To make a cell span more than one row, use the `rowspan` attribute\n",
    "\n",
    "```html\n",
    "<table style=\"width:20%\">\n",
    "  <tr>\n",
    "    <th>Name</th>\n",
    "    <th colspan=\"2\">Telephone</th>\n",
    "  </tr>\n",
    "  <tr>\n",
    "    <td>Bill Gates</td>\n",
    "    <td>55577854</td>\n",
    "    <td>55577855</td>\n",
    "  </tr>\n",
    "</table>```"
   ]
  },
  {
   "cell_type": "markdown",
   "metadata": {
    "ExecuteTime": {
     "end_time": "2018-05-18T21:49:56.898217Z",
     "start_time": "2018-05-18T21:49:56.894859Z"
    },
    "heading_collapsed": true
   },
   "source": [
    "### HTML Block, Inline, Entities"
   ]
  },
  {
   "cell_type": "markdown",
   "metadata": {
    "ExecuteTime": {
     "end_time": "2018-05-18T21:50:21.203661Z",
     "start_time": "2018-05-18T21:50:21.197724Z"
    },
    "hidden": true
   },
   "source": [
    "- A block-level element always starts on a new line and takes up the full width available\n",
    "    - e.g. `<div>`, a generic container for other elements\n",
    "- An inline element does not start on a new line, and only takes up as much width as necessary\n",
    "    - e.g. `<span>`, a generic container for text"
   ]
  },
  {
   "cell_type": "markdown",
   "metadata": {
    "hidden": true
   },
   "source": [
    "- Reserved characters in HTML must be replaced with `character entities`\n",
    "- e.g. if you use `<` or `>` signs in your text, the browser might mix them with tags"
   ]
  },
  {
   "cell_type": "markdown",
   "metadata": {
    "hidden": true
   },
   "source": [
    "Result|Description|Entity Name|Entity Number\n",
    ":---: | --- | --- | ---\n",
    "` `|non-breaking space|`&nbsp`;|`&#160;`\n",
    "`<`|less than|`&lt;`|`&#60;`\n",
    "`>`|greater than|`&gt;`|`&#62;`\n",
    "`&`|ampersand|`&amp;`|`&#38;`\n",
    "`\"`|double quotation mark|`&quot;`|`&#34;`\n",
    "`'`|single quotation mark|`&apos;`|`&#39;`"
   ]
  },
  {
   "cell_type": "markdown",
   "metadata": {
    "hidden": true
   },
   "source": [
    "<div class=\"alert alert-block alert-info\" \n",
    "     style=\"border-color: #2E86C1; \n",
    "            border-left: 5px solid #2E86C1;\n",
    "            padding-top: 5px\">\n",
    "    <font size=\"4\"> \n",
    "    <a href=\"../projects/playground.ipynb\" style=\"text-decoration: none\"> \n",
    "    <h3 style=\"font-family: monospace\">Exercise html.1</h3>\n",
    "    <p style=\"margin-left: 100px;\n",
    "              margin-right: 100px;\n",
    "              line-height: 1.7em;\">Create a webpage that looks like this:</p></a></font>\n",
    "</div>"
   ]
  },
  {
   "cell_type": "markdown",
   "metadata": {},
   "source": [
    "### XPath"
   ]
  },
  {
   "cell_type": "markdown",
   "metadata": {},
   "source": [
    "XPath uses \"path-like\" syntax to identify and navigate nodes in an XML document. These path expressions look very much like the path expressions you use with traditional computer file systems.\n",
    "\n",
    "HTML pages are treated as **trees of nodes**. The topmost element of the tree is called the `root` element."
   ]
  },
  {
   "cell_type": "code",
   "execution_count": 1,
   "metadata": {
    "ExecuteTime": {
     "end_time": "2018-05-20T13:56:58.889616Z",
     "start_time": "2018-05-20T13:56:58.852623Z"
    },
    "collapsed": true
   },
   "outputs": [],
   "source": [
    "# In python, xpath is supported by the \"lxml\" module.\n",
    "from lxml import html"
   ]
  },
  {
   "cell_type": "code",
   "execution_count": 1,
   "metadata": {
    "ExecuteTime": {
     "end_time": "2018-05-25T21:32:46.900309Z",
     "start_time": "2018-05-25T21:32:46.893917Z"
    },
    "collapsed": true
   },
   "outputs": [],
   "source": [
    "html_page = \"\"\"\n",
    "<html>\n",
    "    <head>\n",
    "        <title>Page Title</title>\n",
    "    </head>\n",
    "    <body>\n",
    "        <h1>This is an amazing heading</h1>\n",
    "        <p>This is a fantastic paragraph.</p>\n",
    "        <a href=\"https://www.georgetown.edu/\">This is an awesome link</a>\n",
    "        <ul id=\"unordered_list\">\n",
    "            <li>Jason Schloetzer</li>\n",
    "            <li>Bill Smith</li>\n",
    "            <li>Barney Stinson</li>\n",
    "        </ul>\n",
    "    </body>\n",
    "</html>\n",
    "\"\"\""
   ]
  },
  {
   "cell_type": "markdown",
   "metadata": {},
   "source": [
    "Any HTML document is equivalent to a tree:\n",
    "![html_tree](../images/html_tree.png)"
   ]
  },
  {
   "cell_type": "code",
   "execution_count": 3,
   "metadata": {
    "ExecuteTime": {
     "end_time": "2018-05-20T13:56:58.908486Z",
     "start_time": "2018-05-20T13:56:58.902476Z"
    },
    "collapsed": false
   },
   "outputs": [],
   "source": [
    "tree = html.fromstring(html_page)"
   ]
  },
  {
   "cell_type": "code",
   "execution_count": 4,
   "metadata": {
    "ExecuteTime": {
     "end_time": "2018-05-20T13:56:58.933915Z",
     "start_time": "2018-05-20T13:56:58.911243Z"
    },
    "collapsed": false
   },
   "outputs": [
    {
     "data": {
      "text/plain": [
       "<Element html at 0x106a75db8>"
      ]
     },
     "execution_count": 4,
     "metadata": {},
     "output_type": "execute_result"
    }
   ],
   "source": [
    "tree"
   ]
  },
  {
   "cell_type": "markdown",
   "metadata": {},
   "source": [
    "- Each element has one parent.\n",
    "- Elements may have 0 or any number of children.\n",
    "- **`Siblings`** = nodes with the same parent\n",
    "- **`Ancestors`** = the node's parent, parent's parent, etc.\n",
    "- **`Descendants`** = the node's children, children's children, etc.\n",
    "\n",
    "In XPath, there are 7 kinds of nodes: \n",
    "- element\n",
    "- attribute\n",
    "- text\n",
    "- namespace\n",
    "- processing-instruction\n",
    "- comment\n",
    "- document nodes\n",
    "\n",
    "We'll only focus on the first 3."
   ]
  },
  {
   "cell_type": "code",
   "execution_count": 5,
   "metadata": {
    "ExecuteTime": {
     "end_time": "2018-05-20T13:56:58.947601Z",
     "start_time": "2018-05-20T13:56:58.937258Z"
    },
    "collapsed": false
   },
   "outputs": [
    {
     "data": {
      "text/plain": [
       "[<Element head at 0x106a75ea8>, <Element body at 0x106a89318>]"
      ]
     },
     "execution_count": 5,
     "metadata": {},
     "output_type": "execute_result"
    }
   ],
   "source": [
    "tree.getchildren()"
   ]
  },
  {
   "cell_type": "code",
   "execution_count": 6,
   "metadata": {
    "ExecuteTime": {
     "end_time": "2018-05-20T13:56:58.963632Z",
     "start_time": "2018-05-20T13:56:58.951181Z"
    },
    "collapsed": false
   },
   "outputs": [
    {
     "data": {
      "text/plain": [
       "<Element html at 0x106a75db8>"
      ]
     },
     "execution_count": 6,
     "metadata": {},
     "output_type": "execute_result"
    }
   ],
   "source": [
    "tree.getchildren()[1].getparent()"
   ]
  },
  {
   "cell_type": "code",
   "execution_count": 7,
   "metadata": {
    "ExecuteTime": {
     "end_time": "2018-05-20T13:56:58.973438Z",
     "start_time": "2018-05-20T13:56:58.966036Z"
    },
    "collapsed": false
   },
   "outputs": [
    {
     "data": {
      "text/plain": [
       "[<Element h1 at 0x106a895e8>,\n",
       " <Element p at 0x106a89868>,\n",
       " <Element a at 0x106a898b8>,\n",
       " <Element ul at 0x106a89908>]"
      ]
     },
     "execution_count": 7,
     "metadata": {},
     "output_type": "execute_result"
    }
   ],
   "source": [
    "tree.getchildren()[1].getchildren()"
   ]
  },
  {
   "cell_type": "code",
   "execution_count": 8,
   "metadata": {
    "ExecuteTime": {
     "end_time": "2018-05-20T13:56:58.999265Z",
     "start_time": "2018-05-20T13:56:58.975803Z"
    },
    "collapsed": false
   },
   "outputs": [
    {
     "data": {
      "text/plain": [
       "<Element a at 0x106a898b8>"
      ]
     },
     "execution_count": 8,
     "metadata": {},
     "output_type": "execute_result"
    }
   ],
   "source": [
    "tree.getchildren()[1].getchildren()[2]"
   ]
  },
  {
   "cell_type": "code",
   "execution_count": 9,
   "metadata": {
    "ExecuteTime": {
     "end_time": "2018-05-20T13:56:59.019178Z",
     "start_time": "2018-05-20T13:56:59.002167Z"
    },
    "collapsed": false
   },
   "outputs": [
    {
     "data": {
      "text/plain": [
       "'This is an awesome link'"
      ]
     },
     "execution_count": 9,
     "metadata": {},
     "output_type": "execute_result"
    }
   ],
   "source": [
    "tree.getchildren()[1].getchildren()[2].text"
   ]
  },
  {
   "cell_type": "code",
   "execution_count": 10,
   "metadata": {
    "ExecuteTime": {
     "end_time": "2018-05-20T13:56:59.029779Z",
     "start_time": "2018-05-20T13:56:59.021697Z"
    },
    "collapsed": false
   },
   "outputs": [
    {
     "data": {
      "text/plain": [
       "[<Element a at 0x106a898b8>]"
      ]
     },
     "execution_count": 10,
     "metadata": {},
     "output_type": "execute_result"
    }
   ],
   "source": [
    "tree.xpath('//a')"
   ]
  },
  {
   "cell_type": "code",
   "execution_count": 14,
   "metadata": {
    "ExecuteTime": {
     "end_time": "2018-05-20T13:58:05.250481Z",
     "start_time": "2018-05-20T13:58:05.244894Z"
    },
    "collapsed": false
   },
   "outputs": [
    {
     "data": {
      "text/plain": [
       "'This is an awesome link'"
      ]
     },
     "execution_count": 14,
     "metadata": {},
     "output_type": "execute_result"
    }
   ],
   "source": [
    "tree.xpath('//a')[0].text"
   ]
  },
  {
   "cell_type": "code",
   "execution_count": 56,
   "metadata": {
    "ExecuteTime": {
     "end_time": "2018-05-20T15:16:56.833132Z",
     "start_time": "2018-05-20T15:16:56.827178Z"
    },
    "collapsed": false
   },
   "outputs": [
    {
     "data": {
      "text/plain": [
       "'\\n            '"
      ]
     },
     "execution_count": 56,
     "metadata": {},
     "output_type": "execute_result"
    }
   ],
   "source": [
    "tree.xpath('//ul')[0].text"
   ]
  },
  {
   "cell_type": "code",
   "execution_count": 57,
   "metadata": {
    "ExecuteTime": {
     "end_time": "2018-05-20T15:16:58.858630Z",
     "start_time": "2018-05-20T15:16:58.852588Z"
    },
    "collapsed": false
   },
   "outputs": [
    {
     "data": {
      "text/plain": [
       "<lxml.etree.ElementTextIterator at 0x106b218d0>"
      ]
     },
     "execution_count": 57,
     "metadata": {},
     "output_type": "execute_result"
    }
   ],
   "source": [
    "tree.xpath('//ul')[0].itertext()"
   ]
  },
  {
   "cell_type": "code",
   "execution_count": 58,
   "metadata": {
    "ExecuteTime": {
     "end_time": "2018-05-20T15:17:12.822761Z",
     "start_time": "2018-05-20T15:17:12.815349Z"
    },
    "collapsed": false
   },
   "outputs": [
    {
     "data": {
      "text/plain": [
       "['\\n            ',\n",
       " 'Jason Schloetzer',\n",
       " '\\n            ',\n",
       " 'Bill Smith',\n",
       " '\\n            ',\n",
       " 'Barney Stinson',\n",
       " '\\n        ']"
      ]
     },
     "execution_count": 58,
     "metadata": {},
     "output_type": "execute_result"
    }
   ],
   "source": [
    "list(tree.xpath('//ul')[0].itertext())"
   ]
  },
  {
   "cell_type": "code",
   "execution_count": 63,
   "metadata": {
    "ExecuteTime": {
     "end_time": "2018-05-20T15:18:17.904120Z",
     "start_time": "2018-05-20T15:18:17.897865Z"
    },
    "collapsed": false
   },
   "outputs": [
    {
     "data": {
      "text/plain": [
       "'Jason Schloetzer, Bill Smith, Barney Stinson'"
      ]
     },
     "execution_count": 63,
     "metadata": {},
     "output_type": "execute_result"
    }
   ],
   "source": [
    "', '.join([i.strip() for i in list(tree.xpath('//ul')[0].itertext()) \n",
    "           if i.strip()]).strip()"
   ]
  },
  {
   "cell_type": "markdown",
   "metadata": {},
   "source": [
    "Expression|Description\n",
    ":---: | ---\n",
    "`tagname`|Selects all nodes with the name \"tagname\"\n",
    "`/`|Selects from the root node\n",
    "`//`|Selects nodes in the document from the current node that match the selection no matter where they are\n",
    "`.`|Selects the current node\n",
    "`..`|Selects the parent of the current node\n",
    "`@`|Selects attributes"
   ]
  },
  {
   "cell_type": "markdown",
   "metadata": {},
   "source": [
    "- If a path starts with a ` / ` it always represents an absolute path\n",
    "- If a path starts with a ` . ` it always represents a relative path"
   ]
  },
  {
   "cell_type": "code",
   "execution_count": 30,
   "metadata": {
    "ExecuteTime": {
     "end_time": "2018-05-20T14:27:20.021695Z",
     "start_time": "2018-05-20T14:27:20.015983Z"
    },
    "collapsed": false
   },
   "outputs": [
    {
     "data": {
      "text/plain": [
       "[]"
      ]
     },
     "execution_count": 30,
     "metadata": {},
     "output_type": "execute_result"
    }
   ],
   "source": [
    "tree.xpath('/a')"
   ]
  },
  {
   "cell_type": "code",
   "execution_count": 31,
   "metadata": {
    "ExecuteTime": {
     "end_time": "2018-05-20T14:27:28.942629Z",
     "start_time": "2018-05-20T14:27:28.937329Z"
    },
    "collapsed": false
   },
   "outputs": [
    {
     "data": {
      "text/plain": [
       "[<Element a at 0x106a898b8>]"
      ]
     },
     "execution_count": 31,
     "metadata": {},
     "output_type": "execute_result"
    }
   ],
   "source": [
    "tree.xpath('.//a')"
   ]
  },
  {
   "cell_type": "code",
   "execution_count": 32,
   "metadata": {
    "ExecuteTime": {
     "end_time": "2018-05-20T14:27:45.985985Z",
     "start_time": "2018-05-20T14:27:45.980280Z"
    },
    "collapsed": false
   },
   "outputs": [
    {
     "data": {
      "text/plain": [
       "[<Element body at 0x106a89318>]"
      ]
     },
     "execution_count": 32,
     "metadata": {},
     "output_type": "execute_result"
    }
   ],
   "source": [
    "tree.xpath('.//a/..')"
   ]
  },
  {
   "cell_type": "code",
   "execution_count": 33,
   "metadata": {
    "ExecuteTime": {
     "end_time": "2018-05-20T14:28:04.639808Z",
     "start_time": "2018-05-20T14:28:04.634124Z"
    },
    "collapsed": false
   },
   "outputs": [
    {
     "data": {
      "text/plain": [
       "['unordered_list']"
      ]
     },
     "execution_count": 33,
     "metadata": {},
     "output_type": "execute_result"
    }
   ],
   "source": [
    "tree.xpath('//@id')"
   ]
  },
  {
   "cell_type": "markdown",
   "metadata": {
    "ExecuteTime": {
     "end_time": "2018-05-20T13:59:32.494178Z",
     "start_time": "2018-05-20T13:59:32.491273Z"
    },
    "collapsed": true,
    "heading_collapsed": true
   },
   "source": [
    "### Predicates"
   ]
  },
  {
   "cell_type": "markdown",
   "metadata": {
    "hidden": true
   },
   "source": [
    "**`Predicates`** are embedded in square brackets. They are used to find a specific node, or a node that contains a specific value."
   ]
  },
  {
   "cell_type": "markdown",
   "metadata": {
    "ExecuteTime": {
     "end_time": "2018-05-20T14:04:06.194643Z",
     "start_time": "2018-05-20T14:04:06.185125Z"
    },
    "hidden": true
   },
   "source": [
    "Path Expression|Result\n",
    "--- | ---\n",
    "`tagname[n]`|Selects the `n`-th `tagname` element.\n",
    "`tagname[last()]`|Selects the last `tagname` element\n",
    "`tagname[last()-1]`|Selects the last but one `tagname` element\n",
    "`tagname[position()<3]`|Selects the first two `tagname` elements\n",
    "`tagname[@attribute_name]`|Selects all the `tagname` elements that have an attribute named attribute_name\n",
    "`tagname[@attribute_name='attribute_value']`|Selects all the `tagname` elements that have an `attribute_name` attribute with a value of \"attribute_value\""
   ]
  },
  {
   "cell_type": "code",
   "execution_count": 23,
   "metadata": {
    "ExecuteTime": {
     "end_time": "2018-05-20T14:06:05.199554Z",
     "start_time": "2018-05-20T14:06:05.194158Z"
    },
    "collapsed": false,
    "hidden": true
   },
   "outputs": [
    {
     "data": {
      "text/plain": [
       "[<Element li at 0x106acbcc8>]"
      ]
     },
     "execution_count": 23,
     "metadata": {},
     "output_type": "execute_result"
    }
   ],
   "source": [
    "tree.xpath('//li[1]')"
   ]
  },
  {
   "cell_type": "code",
   "execution_count": 24,
   "metadata": {
    "ExecuteTime": {
     "end_time": "2018-05-20T14:06:10.942452Z",
     "start_time": "2018-05-20T14:06:10.937091Z"
    },
    "collapsed": false,
    "hidden": true
   },
   "outputs": [
    {
     "data": {
      "text/plain": [
       "[<Element li at 0x106b0aae8>]"
      ]
     },
     "execution_count": 24,
     "metadata": {},
     "output_type": "execute_result"
    }
   ],
   "source": [
    "tree.xpath('//li[last()]')"
   ]
  },
  {
   "cell_type": "code",
   "execution_count": 28,
   "metadata": {
    "ExecuteTime": {
     "end_time": "2018-05-20T14:08:12.208226Z",
     "start_time": "2018-05-20T14:08:12.203128Z"
    },
    "collapsed": false,
    "hidden": true
   },
   "outputs": [
    {
     "data": {
      "text/plain": [
       "[<Element ul at 0x106a89908>]"
      ]
     },
     "execution_count": 28,
     "metadata": {},
     "output_type": "execute_result"
    }
   ],
   "source": [
    "tree.xpath(\"//ul[@id]\")"
   ]
  },
  {
   "cell_type": "code",
   "execution_count": 29,
   "metadata": {
    "ExecuteTime": {
     "end_time": "2018-05-20T14:08:12.815868Z",
     "start_time": "2018-05-20T14:08:12.810764Z"
    },
    "collapsed": false,
    "hidden": true
   },
   "outputs": [
    {
     "data": {
      "text/plain": [
       "[<Element ul at 0x106a89908>]"
      ]
     },
     "execution_count": 29,
     "metadata": {},
     "output_type": "execute_result"
    }
   ],
   "source": [
    "tree.xpath(\"//ul[@id='unordered_list']\")"
   ]
  },
  {
   "cell_type": "markdown",
   "metadata": {
    "heading_collapsed": true
   },
   "source": [
    "### Wildcards"
   ]
  },
  {
   "cell_type": "markdown",
   "metadata": {
    "hidden": true
   },
   "source": [
    "Wildcard|Description\n",
    "--- | ---\n",
    "`*`|Matches any element node\n",
    "`node()`|Matches any node of any kind"
   ]
  },
  {
   "cell_type": "code",
   "execution_count": 40,
   "metadata": {
    "ExecuteTime": {
     "end_time": "2018-05-20T14:31:42.832832Z",
     "start_time": "2018-05-20T14:31:42.826722Z"
    },
    "collapsed": false,
    "hidden": true
   },
   "outputs": [
    {
     "data": {
      "text/plain": [
       "[<Element head at 0x106a75ea8>, <Element body at 0x106a89318>]"
      ]
     },
     "execution_count": 40,
     "metadata": {},
     "output_type": "execute_result"
    }
   ],
   "source": [
    "tree.xpath('*')"
   ]
  },
  {
   "cell_type": "code",
   "execution_count": 41,
   "metadata": {
    "ExecuteTime": {
     "end_time": "2018-05-20T14:31:49.516172Z",
     "start_time": "2018-05-20T14:31:49.510532Z"
    },
    "collapsed": false,
    "hidden": true
   },
   "outputs": [
    {
     "data": {
      "text/plain": [
       "[<Element html at 0x106a75db8>,\n",
       " <Element head at 0x106a75ea8>,\n",
       " <Element title at 0x106b6ed18>,\n",
       " <Element body at 0x106a89318>,\n",
       " <Element h1 at 0x106a895e8>,\n",
       " <Element p at 0x106a89868>,\n",
       " <Element a at 0x106a898b8>,\n",
       " <Element ul at 0x106a89908>,\n",
       " <Element li at 0x106acbcc8>,\n",
       " <Element li at 0x106acbef8>,\n",
       " <Element li at 0x106b0aae8>]"
      ]
     },
     "execution_count": 41,
     "metadata": {},
     "output_type": "execute_result"
    }
   ],
   "source": [
    "tree.xpath('//*')"
   ]
  },
  {
   "cell_type": "code",
   "execution_count": 50,
   "metadata": {
    "ExecuteTime": {
     "end_time": "2018-05-20T15:13:46.207131Z",
     "start_time": "2018-05-20T15:13:46.201301Z"
    },
    "collapsed": false,
    "hidden": true
   },
   "outputs": [
    {
     "data": {
      "text/plain": [
       "[<Element html at 0x106a75db8>,\n",
       " <Element head at 0x106a75ea8>,\n",
       " <Element title at 0x106b6ed18>,\n",
       " <Element body at 0x106a89318>,\n",
       " <Element h1 at 0x106a895e8>,\n",
       " <Element p at 0x106a89868>,\n",
       " <Element a at 0x106a898b8>,\n",
       " <Element ul at 0x106a89908>,\n",
       " <Element li at 0x106acbcc8>,\n",
       " <Element li at 0x106acbef8>,\n",
       " <Element li at 0x106b0aae8>]"
      ]
     },
     "execution_count": 50,
     "metadata": {},
     "output_type": "execute_result"
    }
   ],
   "source": [
    "tree.xpath('//a')[0].xpath('//*')"
   ]
  },
  {
   "cell_type": "code",
   "execution_count": 43,
   "metadata": {
    "ExecuteTime": {
     "end_time": "2018-05-20T14:32:24.947421Z",
     "start_time": "2018-05-20T14:32:24.941601Z"
    },
    "collapsed": false,
    "hidden": true
   },
   "outputs": [
    {
     "data": {
      "text/plain": [
       "[<Element html at 0x106a75db8>,\n",
       " '\\n    ',\n",
       " <Element head at 0x106a75ea8>,\n",
       " '\\n        ',\n",
       " <Element title at 0x106b6ed18>,\n",
       " 'Page Title',\n",
       " '\\n    ',\n",
       " '\\n    ',\n",
       " <Element body at 0x106a89318>,\n",
       " '\\n        ',\n",
       " <Element h1 at 0x106a895e8>,\n",
       " 'This is an amazing heading',\n",
       " '\\n        ',\n",
       " <Element p at 0x106a89868>,\n",
       " 'This is a fantastic paragraph.',\n",
       " '\\n        ',\n",
       " <Element a at 0x106a898b8>,\n",
       " 'This is an awesome link',\n",
       " '\\n        ',\n",
       " <Element ul at 0x106a89908>,\n",
       " '\\n            ',\n",
       " <Element li at 0x106acbcc8>,\n",
       " 'Jason Schloetzer',\n",
       " '\\n            ',\n",
       " <Element li at 0x106acbef8>,\n",
       " 'Bill Smith',\n",
       " '\\n            ',\n",
       " <Element li at 0x106b0aae8>,\n",
       " 'Barney Stinson',\n",
       " '\\n        ',\n",
       " '\\n    ',\n",
       " '\\n']"
      ]
     },
     "execution_count": 43,
     "metadata": {},
     "output_type": "execute_result"
    }
   ],
   "source": [
    "tree.xpath('//node()')"
   ]
  },
  {
   "cell_type": "markdown",
   "metadata": {},
   "source": [
    "### Summary"
   ]
  },
  {
   "cell_type": "markdown",
   "metadata": {},
   "source": [
    "Expression|Description\n",
    "--- | ---\n",
    "`tagname`|Selects all nodes with the name \"tagname\"\n",
    "`/`|Selects from the root node\n",
    "`//`|Selects nodes in the document from the current node that match the selection no matter where they are\n",
    "`.`|Selects the current node\n",
    "`..`|Selects the parent of the current node\n",
    "`@`|Selects attributes\n",
    "`tagname[n]`|Selects the `n`-th `tagname` element.\n",
    "`tagname[last()]`|Selects the last `tagname` element\n",
    "`tagname[last()-1]`|Selects the last but one `tagname` element\n",
    "`tagname[position()<3]`|Selects the first two `tagname` elements\n",
    "`tagname[@attribute_name]`|Selects all the `tagname` elements that have an attribute named attribute_name\n",
    "`tagname[@attribute_name='attribute_value']`|Selects all the `tagname` elements that have an `attribute_name` attribute with a value of \"attribute_value\"\n",
    "`*`|Matches any element node\n",
    "`node()`|Matches any node of any kind"
   ]
  },
  {
   "cell_type": "markdown",
   "metadata": {
    "ExecuteTime": {
     "end_time": "2018-05-20T15:19:13.955302Z",
     "start_time": "2018-05-20T15:19:13.952266Z"
    },
    "collapsed": true
   },
   "source": [
    "<div class=\"alert alert-block alert-info\" \n",
    "     style=\"border-color: #2E86C1; \n",
    "            border-left: 5px solid #2E86C1;\n",
    "            padding-top: 5px\">\n",
    "    <font size=\"4\"> \n",
    "    <a href=\"../projects/playground.ipynb\" style=\"text-decoration: none\"> \n",
    "    <h3 style=\"font-family: monospace\">Exercise html.2</h3>\n",
    "    <p style=\"margin-left: 100px;\n",
    "              margin-right: 100px;\n",
    "              line-height: 1.7em;\">Given the HTML page above:\n",
    "    <ol style=\"margin-left: 200px;\n",
    "               margin-right: 100px;\n",
    "               line-height: 1.7em;\">\n",
    "        <li>select all nodes that have an attribute</li>\n",
    "        <li>select all nodes that don't have text</li>\n",
    "        <li>get the text of the whole HTML page</li>\n",
    "        <li>get the title of the page</li>\n",
    "        <li>build a dictionary of all links in the page {text: link}</li>\n",
    "    </ol>\n",
    "    </p></a></font>\n",
    "</div>"
   ]
  },
  {
   "cell_type": "code",
   "execution_count": null,
   "metadata": {
    "collapsed": true
   },
   "outputs": [],
   "source": []
  }
 ],
 "metadata": {
  "kernelspec": {
   "display_name": "Python 3",
   "language": "python",
   "name": "python3"
  },
  "language_info": {
   "codemirror_mode": {
    "name": "ipython",
    "version": 3
   },
   "file_extension": ".py",
   "mimetype": "text/x-python",
   "name": "python",
   "nbconvert_exporter": "python",
   "pygments_lexer": "ipython3",
   "version": "3.6.0"
  }
 },
 "nbformat": 4,
 "nbformat_minor": 2
}
