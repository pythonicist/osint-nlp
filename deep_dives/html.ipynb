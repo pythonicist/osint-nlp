{
 "cells": [
  {
   "cell_type": "markdown",
   "metadata": {
    "ExecuteTime": {
     "end_time": "2018-05-18T20:57:20.990380Z",
     "start_time": "2018-05-18T20:57:20.985878Z"
    }
   },
   "source": [
    "## Hyper Text Markup Language (HTML) and XPath\n",
    "---"
   ]
  },
  {
   "cell_type": "markdown",
   "metadata": {
    "heading_collapsed": true
   },
   "source": [
    "### HTML\n",
    "---"
   ]
  },
  {
   "cell_type": "markdown",
   "metadata": {
    "hidden": true
   },
   "source": [
    "HTML is the standard markup language for creating Web pages.\n",
    "\n",
    "- Its elements are the building blocks of HTML pages and are represented by tags\n",
    "- HTML tags label pieces of content such as \"heading\", \"paragraph\", \"table\", and so on\n",
    "- There are more than 100 different tags\n",
    "- Browsers do not display the HTML tags, but use them to render the content of the page\n",
    "\n",
    "Example:\n",
    "\n",
    "```html\n",
    "<!DOCTYPE html>\n",
    "<html>\n",
    "    <head>\n",
    "        <title>Page Title</title>\n",
    "    </head>\n",
    "    <body>\n",
    "        <h1>This is an amazing heading</h1>\n",
    "        <p>This is a fantastic paragraph.</p>\n",
    "        <a href=\"https://www.georgetown.edu/\">This is an awesome link</a>\n",
    "        <ul id=\"unordered_list\">\n",
    "            <li>Bill Baber</li>\n",
    "            <li>David Erkens</li>\n",
    "            <li>Patricia Fairfield</li>\n",
    "            <li>Gilles Hilary</li>\n",
    "            <li>Allison Koester</li>\n",
    "            <li>Silva Kurtisa</li>\n",
    "            <li>Reining Petacchi</li>\n",
    "            <li>Jason Schloetzer</li>\n",
    "            <li>Vicki Tang</li>\n",
    "            <li>Xiaoli Tian</li>\n",
    "        </ul>\n",
    "    </body>\n",
    "</html>```\n",
    "\n",
    "- `<!DOCTYPE html>`: declaration that defines this document to be HTML (in particular, HTML5). It helps browsers to display web pages correctly. It must only appear once, at the top of the page.\n",
    "- `<html>`: root element of an HTML page\n",
    "- `<head>`: element that contains metadata (data about data) for the document, not displayed.\n",
    "- `<title>`: element that specifies a title for the document\n",
    "- `<body>`: element that contains the **visible content** \n",
    "- `<h1>`: element that defines a large heading. `<h1>` defines the most important heading, `<h6>` defines the least important heading.\n",
    "- `<p>:` element that defines a paragraph. Extra spaces and new lines are ignored.\n",
    "- `<a>`: element that defines a link (\"anchor\"). The link's destination is specified in the `href` attribute. \n",
    "- `<ul>`: element that defines an unordered list (`<ol>` for ordered lists), whose atomic elements are `<li>`. Any element can have an `id` attribute."
   ]
  },
  {
   "cell_type": "code",
   "execution_count": 2,
   "metadata": {
    "ExecuteTime": {
     "end_time": "2018-05-31T20:55:58.421692Z",
     "start_time": "2018-05-31T20:55:58.406281Z"
    },
    "collapsed": false,
    "hidden": true
   },
   "outputs": [
    {
     "data": {
      "text/html": [
       "\n",
       "<!DOCTYPE html>\n",
       "<html>\n",
       "    <head>\n",
       "        <title>Page Title</title>\n",
       "    </head>\n",
       "    <body>\n",
       "        <h1>This is an amazing heading</h1>\n",
       "        <p>This is a fantastic paragraph.</p>\n",
       "        <a href=\"https://www.georgetown.edu/\">This is an awesome link</a>\n",
       "        <ul id=\"unordered_list\">\n",
       "            <li>Bill Baber</li>\n",
       "            <li>David Erkens</li>\n",
       "            <li>Patricia Fairfield</li>\n",
       "            <li>Gilles Hilary</li>\n",
       "            <li>Allison Koester</li>\n",
       "            <li>Silva Kurtisa</li>\n",
       "            <li>Reining Petacchi</li>\n",
       "            <li>Jason Schloetzer</li>\n",
       "            <li>Vicki Tang</li>\n",
       "            <li>Xiaoli Tian</li>\n",
       "        </ul>\n",
       "    </body>\n",
       "</html>\n"
      ],
      "text/plain": [
       "<IPython.core.display.HTML object>"
      ]
     },
     "metadata": {},
     "output_type": "display_data"
    }
   ],
   "source": [
    "from IPython.display import display, HTML\n",
    "\n",
    "s = \"\"\"\n",
    "<!DOCTYPE html>\n",
    "<html>\n",
    "    <head>\n",
    "        <title>Page Title</title>\n",
    "    </head>\n",
    "    <body>\n",
    "        <h1>This is an amazing heading</h1>\n",
    "        <p>This is a fantastic paragraph.</p>\n",
    "        <a href=\"https://www.georgetown.edu/\">This is an awesome link</a>\n",
    "        <ul id=\"unordered_list\">\n",
    "            <li>Bill Baber</li>\n",
    "            <li>David Erkens</li>\n",
    "            <li>Patricia Fairfield</li>\n",
    "            <li>Gilles Hilary</li>\n",
    "            <li>Allison Koester</li>\n",
    "            <li>Silva Kurtisa</li>\n",
    "            <li>Reining Petacchi</li>\n",
    "            <li>Jason Schloetzer</li>\n",
    "            <li>Vicki Tang</li>\n",
    "            <li>Xiaoli Tian</li>\n",
    "        </ul>\n",
    "    </body>\n",
    "</html>\n",
    "\"\"\"\n",
    "\n",
    "h = HTML(s)\n",
    "display(h)"
   ]
  },
  {
   "cell_type": "markdown",
   "metadata": {
    "hidden": true
   },
   "source": [
    "As you can see, HTML elements can be nested: `<li>` is inside `<ul>` which is inside `<body>` which is inside `<html>`. \n",
    "\n",
    "**HTML is a tree**\n",
    "\n",
    "HTML tags are element names surrounded by angle brackets:\n",
    "\n",
    "`<tagname>content</tagname>`\n",
    "\n",
    "- HTML tags come in pairs like `<p>` and `</p>`\n",
    "- The first tag in a pair is the start tag, or opening tag\n",
    "- The second tag is the end tag, or closing tag\n",
    "- The end tag is written like the start tag, but with a forward slash inserted before the tag name\n",
    "- The browser does not display the HTML tags, but uses them to determine how to display the document.\n",
    "- Attributes in the start tag are used to provide additional information about HTML elements.\n",
    "- Empty elements don't have an end tag (e.g. `<br>`, line break)\n",
    "- Some HTML elements will display correctly even without the end tag, browser are error tolerant. But it makes them harder to parse."
   ]
  },
  {
   "cell_type": "markdown",
   "metadata": {
    "ExecuteTime": {
     "end_time": "2018-05-18T21:45:13.045937Z",
     "start_time": "2018-05-18T21:45:13.042297Z"
    },
    "heading_collapsed": true
   },
   "source": [
    "### HTML tables\n",
    "---"
   ]
  },
  {
   "cell_type": "markdown",
   "metadata": {
    "hidden": true
   },
   "source": [
    "- An HTML table is defined with the `<table>` tag.\n",
    "- Each table row is defined with the `<tr>` tag. \n",
    "- A table header is defined with the `<th>` tag. \n",
    "- A table data/cell is defined with the `<td>` tag.\n",
    "\n",
    "```html\n",
    "<table style=\"width:20%\">\n",
    "  <tr>\n",
    "    <th>Firstname</th>\n",
    "    <th>Lastname</th> \n",
    "    <th>Age</th>\n",
    "  </tr>\n",
    "  <tr>\n",
    "    <td>Jason</td>\n",
    "    <td>Schloetzer</td> \n",
    "    <td>28</td>\n",
    "  </tr>\n",
    "</table>```"
   ]
  },
  {
   "cell_type": "code",
   "execution_count": 7,
   "metadata": {
    "ExecuteTime": {
     "end_time": "2018-05-31T21:12:41.085946Z",
     "start_time": "2018-05-31T21:12:41.078025Z"
    },
    "collapsed": false,
    "hidden": true
   },
   "outputs": [
    {
     "data": {
      "text/html": [
       "\n",
       "<table style=\"width:20%\">\n",
       "  <tr>\n",
       "    <th>First name</th>\n",
       "    <th>Last name</th> \n",
       "    <th>Age</th>\n",
       "  </tr>\n",
       "  <tr>\n",
       "    <td>Jason</td>\n",
       "    <td>Schloetzer</td> \n",
       "    <td>28</td>\n",
       "  </tr>\n",
       "</table>\n"
      ],
      "text/plain": [
       "<IPython.core.display.HTML object>"
      ]
     },
     "metadata": {},
     "output_type": "display_data"
    }
   ],
   "source": [
    "from IPython.display import display, HTML\n",
    "\n",
    "s = \"\"\"\n",
    "<table style=\"width:20%\">\n",
    "  <tr>\n",
    "    <th>First name</th>\n",
    "    <th>Last name</th> \n",
    "    <th>Age</th>\n",
    "  </tr>\n",
    "  <tr>\n",
    "    <td>Jason</td>\n",
    "    <td>Schloetzer</td> \n",
    "    <td>28</td>\n",
    "  </tr>\n",
    "</table>\n",
    "\"\"\"\n",
    "\n",
    "h = HTML(s)\n",
    "display(h)"
   ]
  },
  {
   "cell_type": "markdown",
   "metadata": {
    "hidden": true
   },
   "source": [
    "- To make a cell span more than one column, use the `colspan` attribute\n",
    "- To make a cell span more than one row, use the `rowspan` attribute\n",
    "\n",
    "```html\n",
    "<table style=\"width:20%\">\n",
    "  <tr>\n",
    "    <th>Name</th>\n",
    "    <th colspan=\"2\">Telephone</th>\n",
    "  </tr>\n",
    "  <tr>\n",
    "    <td>Bill Gates</td>\n",
    "    <td>55577854</td>\n",
    "    <td>55577855</td>\n",
    "  </tr>\n",
    "</table>```"
   ]
  },
  {
   "cell_type": "code",
   "execution_count": 10,
   "metadata": {
    "ExecuteTime": {
     "end_time": "2018-05-31T21:23:34.568037Z",
     "start_time": "2018-05-31T21:23:34.559298Z"
    },
    "collapsed": false,
    "hidden": true
   },
   "outputs": [
    {
     "data": {
      "text/html": [
       "\n",
       "<table style=\"width:20%\">\n",
       "  <tr>\n",
       "    <th>Name</th>\n",
       "    <th colspan=\"6\">Companies</th>\n",
       "  </tr>\n",
       "  <tr>\n",
       "    <td>Elon Musk</td>\n",
       "    <td>PayPal</td>\n",
       "    <td>SpaceX</td>\n",
       "    <td>Tesla</td>\n",
       "    <td>SolarCity</td>\n",
       "    <td>Hyperloop</td>\n",
       "    <td>OpenAI</td>\n",
       "  </tr>\n",
       "  <tr>\n",
       "    <td>Mark Cuban</td>\n",
       "    <td>Dallas Mavericks</td>\n",
       "    <td>2929 Entertainment</td>\n",
       "    <td>AXS TV</td>\n",
       "    <td>Magnolia Pictures</td>\n",
       "    <td>Billshark</td>\n",
       "    <td>Alyssa's</td>\n",
       "  </tr>\n",
       "</table>\n"
      ],
      "text/plain": [
       "<IPython.core.display.HTML object>"
      ]
     },
     "metadata": {},
     "output_type": "display_data"
    }
   ],
   "source": [
    "from IPython.display import display, HTML\n",
    "\n",
    "s = \"\"\"\n",
    "<table style=\"width:20%\">\n",
    "  <tr>\n",
    "    <th>Name</th>\n",
    "    <th colspan=\"6\">Companies</th>\n",
    "  </tr>\n",
    "  <tr>\n",
    "    <td>Elon Musk</td>\n",
    "    <td>PayPal</td>\n",
    "    <td>SpaceX</td>\n",
    "    <td>Tesla</td>\n",
    "    <td>SolarCity</td>\n",
    "    <td>Hyperloop</td>\n",
    "    <td>OpenAI</td>\n",
    "  </tr>\n",
    "  <tr>\n",
    "    <td>Mark Cuban</td>\n",
    "    <td>Dallas Mavericks</td>\n",
    "    <td>2929 Entertainment</td>\n",
    "    <td>AXS TV</td>\n",
    "    <td>Magnolia Pictures</td>\n",
    "    <td>Billshark</td>\n",
    "    <td>Alyssa's</td>\n",
    "  </tr>\n",
    "</table>\n",
    "\"\"\"\n",
    "\n",
    "h = HTML(s)\n",
    "display(h)"
   ]
  },
  {
   "cell_type": "markdown",
   "metadata": {
    "ExecuteTime": {
     "end_time": "2018-05-18T21:49:56.898217Z",
     "start_time": "2018-05-18T21:49:56.894859Z"
    },
    "heading_collapsed": true
   },
   "source": [
    "### HTML Entities\n",
    "---"
   ]
  },
  {
   "cell_type": "markdown",
   "metadata": {
    "hidden": true
   },
   "source": [
    "- Reserved characters in HTML must be replaced with `character entities`\n",
    "- e.g. if you use `<` or `>` signs in your text, the browser might mix them with tags"
   ]
  },
  {
   "cell_type": "markdown",
   "metadata": {
    "hidden": true
   },
   "source": [
    "Result|Description|Entity Name|Entity Number\n",
    ":---: | --- | --- | ---\n",
    "` `|non-breaking space|`&nbsp`;|`&#160;`\n",
    "`<`|less than|`&lt;`|`&#60;`\n",
    "`>`|greater than|`&gt;`|`&#62;`\n",
    "`&`|ampersand|`&amp;`|`&#38;`\n",
    "`\"`|double quotation mark|`&quot;`|`&#34;`\n",
    "`'`|single quotation mark|`&apos;`|`&#39;`"
   ]
  },
  {
   "cell_type": "markdown",
   "metadata": {
    "heading_collapsed": true
   },
   "source": [
    "### XPath\n",
    "---"
   ]
  },
  {
   "cell_type": "markdown",
   "metadata": {
    "hidden": true
   },
   "source": [
    "- Should we use `regexes` to parse `HTML`? Better a proper `HTML` parser like `lxml.html`.\n",
    "\n",
    "- This will parse the webpage into a tree-like object, that can be queried with `XPath`.\n",
    "\n",
    "- `XPath` uses \"path-like\" syntax (like computer file systems )to identify and navigate nodes in an XML document. \n",
    "\n",
    "- `HTML` pages are treated as **trees of nodes**. The topmost element of the tree is called the `root` element."
   ]
  },
  {
   "cell_type": "code",
   "execution_count": 14,
   "metadata": {
    "ExecuteTime": {
     "end_time": "2018-05-31T21:27:57.975480Z",
     "start_time": "2018-05-31T21:27:57.922958Z"
    },
    "collapsed": true,
    "hidden": true
   },
   "outputs": [],
   "source": [
    "# In python, XPath is supported by the \"lxml\" module.\n",
    "from lxml import html"
   ]
  },
  {
   "cell_type": "code",
   "execution_count": 15,
   "metadata": {
    "ExecuteTime": {
     "end_time": "2018-05-31T21:27:58.766581Z",
     "start_time": "2018-05-31T21:27:58.761056Z"
    },
    "collapsed": true,
    "hidden": true
   },
   "outputs": [],
   "source": [
    "html_page = \"\"\"\n",
    "<html>\n",
    "    <head>\n",
    "        <title>Page Title</title>\n",
    "    </head>\n",
    "    <body>\n",
    "        <h1>This is an amazing heading</h1>\n",
    "        <p>This is a fantastic paragraph.</p>\n",
    "        <a href=\"https://www.georgetown.edu/\">This is an awesome link</a>\n",
    "        <ul id=\"unordered_list\">\n",
    "            <li>Bill Baber</li>\n",
    "            <li>David Erkens</li>\n",
    "            <li>Patricia Fairfield</li>\n",
    "            <li>Gilles Hilary</li>\n",
    "            <li>Allison Koester</li>\n",
    "            <li>Silva Kurtisa</li>\n",
    "            <li>Reining Petacchi</li>\n",
    "            <li>Jason Schloetzer</li>\n",
    "            <li>Vicki Tang</li>\n",
    "            <li>Xiaoli Tian</li>\n",
    "        </ul>\n",
    "    </body>\n",
    "</html>\n",
    "\"\"\""
   ]
  },
  {
   "cell_type": "markdown",
   "metadata": {
    "hidden": true
   },
   "source": [
    "Any HTML document is equivalent to a tree:\n",
    "![html_tree](../images/html_tree.png)"
   ]
  },
  {
   "cell_type": "code",
   "execution_count": 16,
   "metadata": {
    "ExecuteTime": {
     "end_time": "2018-05-31T21:27:59.722358Z",
     "start_time": "2018-05-31T21:27:59.715537Z"
    },
    "collapsed": false,
    "hidden": true
   },
   "outputs": [],
   "source": [
    "tree = html.fromstring(html_page)"
   ]
  },
  {
   "cell_type": "code",
   "execution_count": 17,
   "metadata": {
    "ExecuteTime": {
     "end_time": "2018-05-31T21:28:00.439897Z",
     "start_time": "2018-05-31T21:28:00.434874Z"
    },
    "collapsed": false,
    "hidden": true
   },
   "outputs": [
    {
     "data": {
      "text/plain": [
       "<Element html at 0x10dd32b38>"
      ]
     },
     "execution_count": 17,
     "metadata": {},
     "output_type": "execute_result"
    }
   ],
   "source": [
    "tree"
   ]
  },
  {
   "cell_type": "markdown",
   "metadata": {
    "hidden": true
   },
   "source": [
    "- Each element has one parent.\n",
    "- Elements may have 0 or any number of children.\n",
    "- **`Siblings`** = nodes with the same parent\n",
    "- **`Ancestors`** = the node's parent, parent's parent, etc.\n",
    "- **`Descendants`** = the node's children, children's children, etc.\n",
    "\n",
    "In XPath, there are 7 kinds of nodes: \n",
    "- element\n",
    "- attribute\n",
    "- text\n",
    "- namespace\n",
    "- processing-instruction\n",
    "- comment\n",
    "- document nodes\n",
    "\n",
    "We'll only focus on the first 3."
   ]
  },
  {
   "cell_type": "code",
   "execution_count": 21,
   "metadata": {
    "ExecuteTime": {
     "end_time": "2018-05-31T21:29:01.579714Z",
     "start_time": "2018-05-31T21:29:01.573706Z"
    },
    "collapsed": false,
    "hidden": true
   },
   "outputs": [
    {
     "data": {
      "text/plain": [
       "[<Element head at 0x10e3e2778>, <Element body at 0x10e3e27c8>]"
      ]
     },
     "execution_count": 21,
     "metadata": {},
     "output_type": "execute_result"
    }
   ],
   "source": [
    "tree.getchildren()"
   ]
  },
  {
   "cell_type": "code",
   "execution_count": 22,
   "metadata": {
    "ExecuteTime": {
     "end_time": "2018-05-31T21:29:02.066157Z",
     "start_time": "2018-05-31T21:29:02.060484Z"
    },
    "collapsed": false,
    "hidden": true
   },
   "outputs": [
    {
     "data": {
      "text/plain": [
       "<Element html at 0x10dd32b38>"
      ]
     },
     "execution_count": 22,
     "metadata": {},
     "output_type": "execute_result"
    }
   ],
   "source": [
    "tree.getchildren()[1].getparent()"
   ]
  },
  {
   "cell_type": "code",
   "execution_count": 23,
   "metadata": {
    "ExecuteTime": {
     "end_time": "2018-05-31T21:29:02.621532Z",
     "start_time": "2018-05-31T21:29:02.615684Z"
    },
    "collapsed": false,
    "hidden": true
   },
   "outputs": [
    {
     "data": {
      "text/plain": [
       "[<Element h1 at 0x10e3e29a8>,\n",
       " <Element p at 0x10e3e29f8>,\n",
       " <Element a at 0x10e3e2a48>,\n",
       " <Element ul at 0x10e3e2a98>]"
      ]
     },
     "execution_count": 23,
     "metadata": {},
     "output_type": "execute_result"
    }
   ],
   "source": [
    "tree.getchildren()[1].getchildren()"
   ]
  },
  {
   "cell_type": "code",
   "execution_count": 24,
   "metadata": {
    "ExecuteTime": {
     "end_time": "2018-05-31T21:29:03.209342Z",
     "start_time": "2018-05-31T21:29:03.203462Z"
    },
    "collapsed": false,
    "hidden": true
   },
   "outputs": [
    {
     "data": {
      "text/plain": [
       "<Element a at 0x10e3e2a48>"
      ]
     },
     "execution_count": 24,
     "metadata": {},
     "output_type": "execute_result"
    }
   ],
   "source": [
    "tree.getchildren()[1].getchildren()[2]"
   ]
  },
  {
   "cell_type": "code",
   "execution_count": 25,
   "metadata": {
    "ExecuteTime": {
     "end_time": "2018-05-31T21:29:04.094369Z",
     "start_time": "2018-05-31T21:29:04.088305Z"
    },
    "collapsed": false,
    "hidden": true
   },
   "outputs": [
    {
     "data": {
      "text/plain": [
       "'This is an awesome link'"
      ]
     },
     "execution_count": 25,
     "metadata": {},
     "output_type": "execute_result"
    }
   ],
   "source": [
    "tree.getchildren()[1].getchildren()[2].text"
   ]
  },
  {
   "cell_type": "code",
   "execution_count": 26,
   "metadata": {
    "ExecuteTime": {
     "end_time": "2018-05-31T21:29:04.775754Z",
     "start_time": "2018-05-31T21:29:04.769037Z"
    },
    "collapsed": false,
    "hidden": true
   },
   "outputs": [
    {
     "data": {
      "text/plain": [
       "[<Element a at 0x10e3e2a48>]"
      ]
     },
     "execution_count": 26,
     "metadata": {},
     "output_type": "execute_result"
    }
   ],
   "source": [
    "tree.xpath('//a')"
   ]
  },
  {
   "cell_type": "code",
   "execution_count": 27,
   "metadata": {
    "ExecuteTime": {
     "end_time": "2018-05-31T21:29:05.381629Z",
     "start_time": "2018-05-31T21:29:05.376237Z"
    },
    "collapsed": false,
    "hidden": true
   },
   "outputs": [
    {
     "data": {
      "text/plain": [
       "'This is an awesome link'"
      ]
     },
     "execution_count": 27,
     "metadata": {},
     "output_type": "execute_result"
    }
   ],
   "source": [
    "tree.xpath('//a')[0].text"
   ]
  },
  {
   "cell_type": "code",
   "execution_count": 28,
   "metadata": {
    "ExecuteTime": {
     "end_time": "2018-05-31T21:29:06.115987Z",
     "start_time": "2018-05-31T21:29:06.109589Z"
    },
    "collapsed": false,
    "hidden": true
   },
   "outputs": [
    {
     "data": {
      "text/plain": [
       "'\\n            '"
      ]
     },
     "execution_count": 28,
     "metadata": {},
     "output_type": "execute_result"
    }
   ],
   "source": [
    "tree.xpath('//ul')[0].text"
   ]
  },
  {
   "cell_type": "code",
   "execution_count": 29,
   "metadata": {
    "ExecuteTime": {
     "end_time": "2018-05-31T21:29:08.698113Z",
     "start_time": "2018-05-31T21:29:08.691116Z"
    },
    "collapsed": false,
    "hidden": true
   },
   "outputs": [
    {
     "data": {
      "text/plain": [
       "<lxml.etree.ElementTextIterator at 0x10e3d4f98>"
      ]
     },
     "execution_count": 29,
     "metadata": {},
     "output_type": "execute_result"
    }
   ],
   "source": [
    "tree.xpath('//ul')[0].itertext()"
   ]
  },
  {
   "cell_type": "code",
   "execution_count": 30,
   "metadata": {
    "ExecuteTime": {
     "end_time": "2018-05-31T21:29:10.558433Z",
     "start_time": "2018-05-31T21:29:10.550879Z"
    },
    "collapsed": false,
    "hidden": true
   },
   "outputs": [
    {
     "data": {
      "text/plain": [
       "['\\n            ',\n",
       " 'Bill Baber',\n",
       " '\\n            ',\n",
       " 'David Erkens',\n",
       " '\\n            ',\n",
       " 'Patricia Fairfield',\n",
       " '\\n            ',\n",
       " 'Gilles Hilary',\n",
       " '\\n            ',\n",
       " 'Allison Koester',\n",
       " '\\n            ',\n",
       " 'Silva Kurtisa',\n",
       " '\\n            ',\n",
       " 'Reining Petacchi',\n",
       " '\\n            ',\n",
       " 'Jason Schloetzer',\n",
       " '\\n            ',\n",
       " 'Vicki Tang',\n",
       " '\\n            ',\n",
       " 'Xiaoli Tian',\n",
       " '\\n        ']"
      ]
     },
     "execution_count": 30,
     "metadata": {},
     "output_type": "execute_result"
    }
   ],
   "source": [
    "list(tree.xpath('//ul')[0].itertext())"
   ]
  },
  {
   "cell_type": "code",
   "execution_count": 31,
   "metadata": {
    "ExecuteTime": {
     "end_time": "2018-05-31T21:29:13.649219Z",
     "start_time": "2018-05-31T21:29:13.642600Z"
    },
    "collapsed": false,
    "hidden": true
   },
   "outputs": [
    {
     "data": {
      "text/plain": [
       "'Bill Baber, David Erkens, Patricia Fairfield, Gilles Hilary, Allison Koester, Silva Kurtisa, Reining Petacchi, Jason Schloetzer, Vicki Tang, Xiaoli Tian'"
      ]
     },
     "execution_count": 31,
     "metadata": {},
     "output_type": "execute_result"
    }
   ],
   "source": [
    "', '.join([i.strip() for i in list(tree.xpath('//ul')[0].itertext()) \n",
    "           if i.strip()]).strip()"
   ]
  },
  {
   "cell_type": "markdown",
   "metadata": {
    "hidden": true
   },
   "source": [
    "Expression|Description\n",
    ":---: | ---\n",
    "`tagname`|Selects all nodes with the name \"tagname\"\n",
    "`/`|Selects from the root node\n",
    "`//`|Selects nodes in the document from the current node that match the selection no matter where they are\n",
    "`.`|Selects the current node\n",
    "`..`|Selects the parent of the current node\n",
    "`@`|Selects attributes"
   ]
  },
  {
   "cell_type": "markdown",
   "metadata": {
    "hidden": true
   },
   "source": [
    "- If a path starts with a ` / ` it always represents an absolute path\n",
    "- If a path starts with a ` . ` it always represents a relative path"
   ]
  },
  {
   "cell_type": "code",
   "execution_count": 32,
   "metadata": {
    "ExecuteTime": {
     "end_time": "2018-05-31T21:29:17.625329Z",
     "start_time": "2018-05-31T21:29:17.618605Z"
    },
    "collapsed": false,
    "hidden": true
   },
   "outputs": [
    {
     "data": {
      "text/plain": [
       "[]"
      ]
     },
     "execution_count": 32,
     "metadata": {},
     "output_type": "execute_result"
    }
   ],
   "source": [
    "tree.xpath('/a')"
   ]
  },
  {
   "cell_type": "code",
   "execution_count": 33,
   "metadata": {
    "ExecuteTime": {
     "end_time": "2018-05-31T21:29:18.715120Z",
     "start_time": "2018-05-31T21:29:18.709523Z"
    },
    "collapsed": false,
    "hidden": true
   },
   "outputs": [
    {
     "data": {
      "text/plain": [
       "[<Element a at 0x10e3e2a48>]"
      ]
     },
     "execution_count": 33,
     "metadata": {},
     "output_type": "execute_result"
    }
   ],
   "source": [
    "tree.xpath('.//a')"
   ]
  },
  {
   "cell_type": "code",
   "execution_count": 36,
   "metadata": {
    "ExecuteTime": {
     "end_time": "2018-05-31T21:30:09.488530Z",
     "start_time": "2018-05-31T21:30:09.483054Z"
    },
    "collapsed": false,
    "hidden": true
   },
   "outputs": [
    {
     "data": {
      "text/plain": [
       "[<Element body at 0x10e3e27c8>]"
      ]
     },
     "execution_count": 36,
     "metadata": {},
     "output_type": "execute_result"
    }
   ],
   "source": [
    "tree.xpath('.//a/..')"
   ]
  },
  {
   "cell_type": "code",
   "execution_count": 37,
   "metadata": {
    "ExecuteTime": {
     "end_time": "2018-05-31T21:30:10.395104Z",
     "start_time": "2018-05-31T21:30:10.388938Z"
    },
    "collapsed": false,
    "hidden": true
   },
   "outputs": [
    {
     "data": {
      "text/plain": [
       "['unordered_list']"
      ]
     },
     "execution_count": 37,
     "metadata": {},
     "output_type": "execute_result"
    }
   ],
   "source": [
    "tree.xpath('//@id')"
   ]
  },
  {
   "cell_type": "markdown",
   "metadata": {
    "ExecuteTime": {
     "end_time": "2018-05-20T13:59:32.494178Z",
     "start_time": "2018-05-20T13:59:32.491273Z"
    },
    "collapsed": true,
    "heading_collapsed": true
   },
   "source": [
    "### Predicates\n",
    "---"
   ]
  },
  {
   "cell_type": "markdown",
   "metadata": {
    "hidden": true
   },
   "source": [
    "**`Predicates`** are embedded in square brackets. They are used to find a specific node, or a node that contains a specific value."
   ]
  },
  {
   "cell_type": "markdown",
   "metadata": {
    "ExecuteTime": {
     "end_time": "2018-05-20T14:04:06.194643Z",
     "start_time": "2018-05-20T14:04:06.185125Z"
    },
    "hidden": true
   },
   "source": [
    "Path Expression|Result\n",
    "--- | ---\n",
    "`tagname[n]`|Selects the `n`-th `tagname` element.\n",
    "`tagname[last()]`|Selects the last `tagname` element\n",
    "`tagname[last()-1]`|Selects the last but one `tagname` element\n",
    "`tagname[position()<3]`|Selects the first two `tagname` elements\n",
    "`tagname[@attribute_name]`|Selects all the `tagname` elements that have an attribute named attribute_name\n",
    "`tagname[@attribute_name='attribute_value']`|Selects all the `tagname` elements that have an `attribute_name` attribute with a value of \"attribute_value\""
   ]
  },
  {
   "cell_type": "code",
   "execution_count": 38,
   "metadata": {
    "ExecuteTime": {
     "end_time": "2018-05-31T21:30:27.335921Z",
     "start_time": "2018-05-31T21:30:27.329321Z"
    },
    "collapsed": false,
    "hidden": true
   },
   "outputs": [
    {
     "data": {
      "text/plain": [
       "[<Element li at 0x10e3eaf48>]"
      ]
     },
     "execution_count": 38,
     "metadata": {},
     "output_type": "execute_result"
    }
   ],
   "source": [
    "tree.xpath('//li[1]')"
   ]
  },
  {
   "cell_type": "code",
   "execution_count": 39,
   "metadata": {
    "ExecuteTime": {
     "end_time": "2018-05-31T21:30:27.881295Z",
     "start_time": "2018-05-31T21:30:27.874425Z"
    },
    "collapsed": false,
    "hidden": true
   },
   "outputs": [
    {
     "data": {
      "text/plain": [
       "[<Element li at 0x10e3f04a8>]"
      ]
     },
     "execution_count": 39,
     "metadata": {},
     "output_type": "execute_result"
    }
   ],
   "source": [
    "tree.xpath('//li[last()]')"
   ]
  },
  {
   "cell_type": "code",
   "execution_count": 40,
   "metadata": {
    "ExecuteTime": {
     "end_time": "2018-05-31T21:30:28.493317Z",
     "start_time": "2018-05-31T21:30:28.487400Z"
    },
    "collapsed": false,
    "hidden": true
   },
   "outputs": [
    {
     "data": {
      "text/plain": [
       "[<Element ul at 0x10e3e2a98>]"
      ]
     },
     "execution_count": 40,
     "metadata": {},
     "output_type": "execute_result"
    }
   ],
   "source": [
    "tree.xpath(\"//ul[@id]\")"
   ]
  },
  {
   "cell_type": "code",
   "execution_count": 41,
   "metadata": {
    "ExecuteTime": {
     "end_time": "2018-05-31T21:30:29.118559Z",
     "start_time": "2018-05-31T21:30:29.111528Z"
    },
    "collapsed": false,
    "hidden": true
   },
   "outputs": [
    {
     "data": {
      "text/plain": [
       "[<Element ul at 0x10e3e2a98>]"
      ]
     },
     "execution_count": 41,
     "metadata": {},
     "output_type": "execute_result"
    }
   ],
   "source": [
    "tree.xpath(\"//ul[@id='unordered_list']\")"
   ]
  },
  {
   "cell_type": "markdown",
   "metadata": {
    "heading_collapsed": true
   },
   "source": [
    "### Wildcards\n",
    "---"
   ]
  },
  {
   "cell_type": "markdown",
   "metadata": {
    "hidden": true
   },
   "source": [
    "Wildcard|Description\n",
    "--- | ---\n",
    "`*`|Matches any element node\n",
    "`node()`|Matches any node of any kind"
   ]
  },
  {
   "cell_type": "code",
   "execution_count": 42,
   "metadata": {
    "ExecuteTime": {
     "end_time": "2018-05-31T21:30:31.846097Z",
     "start_time": "2018-05-31T21:30:31.840296Z"
    },
    "collapsed": false,
    "hidden": true
   },
   "outputs": [
    {
     "data": {
      "text/plain": [
       "[<Element head at 0x10e3e2778>, <Element body at 0x10e3e27c8>]"
      ]
     },
     "execution_count": 42,
     "metadata": {},
     "output_type": "execute_result"
    }
   ],
   "source": [
    "tree.xpath('*')"
   ]
  },
  {
   "cell_type": "code",
   "execution_count": 43,
   "metadata": {
    "ExecuteTime": {
     "end_time": "2018-05-31T21:30:32.830445Z",
     "start_time": "2018-05-31T21:30:32.824157Z"
    },
    "collapsed": false,
    "hidden": true
   },
   "outputs": [
    {
     "data": {
      "text/plain": [
       "[<Element html at 0x10dd32b38>,\n",
       " <Element head at 0x10e3e2778>,\n",
       " <Element title at 0x10e3f06d8>,\n",
       " <Element body at 0x10e3e27c8>,\n",
       " <Element h1 at 0x10e3e29a8>,\n",
       " <Element p at 0x10e3e29f8>,\n",
       " <Element a at 0x10e3e2a48>,\n",
       " <Element ul at 0x10e3e2a98>,\n",
       " <Element li at 0x10e3eaf48>,\n",
       " <Element li at 0x10e3f0958>,\n",
       " <Element li at 0x10e3f09a8>,\n",
       " <Element li at 0x10e3f09f8>,\n",
       " <Element li at 0x10e3f0a48>,\n",
       " <Element li at 0x10e3f0a98>,\n",
       " <Element li at 0x10e3f0ae8>,\n",
       " <Element li at 0x10e3f0b38>,\n",
       " <Element li at 0x10e3f0b88>,\n",
       " <Element li at 0x10e3f04a8>]"
      ]
     },
     "execution_count": 43,
     "metadata": {},
     "output_type": "execute_result"
    }
   ],
   "source": [
    "tree.xpath('//*')"
   ]
  },
  {
   "cell_type": "code",
   "execution_count": 44,
   "metadata": {
    "ExecuteTime": {
     "end_time": "2018-05-31T21:30:35.211587Z",
     "start_time": "2018-05-31T21:30:35.204582Z"
    },
    "collapsed": false,
    "hidden": true
   },
   "outputs": [
    {
     "data": {
      "text/plain": [
       "[<Element html at 0x10dd32b38>,\n",
       " <Element head at 0x10e3e2778>,\n",
       " <Element title at 0x10e3f06d8>,\n",
       " <Element body at 0x10e3e27c8>,\n",
       " <Element h1 at 0x10e3e29a8>,\n",
       " <Element p at 0x10e3e29f8>,\n",
       " <Element a at 0x10e3e2a48>,\n",
       " <Element ul at 0x10e3e2a98>,\n",
       " <Element li at 0x10e3eaf48>,\n",
       " <Element li at 0x10e3f0958>,\n",
       " <Element li at 0x10e3f09a8>,\n",
       " <Element li at 0x10e3f09f8>,\n",
       " <Element li at 0x10e3f0a48>,\n",
       " <Element li at 0x10e3f0a98>,\n",
       " <Element li at 0x10e3f0ae8>,\n",
       " <Element li at 0x10e3f0b38>,\n",
       " <Element li at 0x10e3f0b88>,\n",
       " <Element li at 0x10e3f04a8>]"
      ]
     },
     "execution_count": 44,
     "metadata": {},
     "output_type": "execute_result"
    }
   ],
   "source": [
    "tree.xpath('//a')[0].xpath('//*')"
   ]
  },
  {
   "cell_type": "code",
   "execution_count": 45,
   "metadata": {
    "ExecuteTime": {
     "end_time": "2018-05-31T21:30:38.742097Z",
     "start_time": "2018-05-31T21:30:38.732910Z"
    },
    "collapsed": false,
    "hidden": true
   },
   "outputs": [
    {
     "data": {
      "text/plain": [
       "[<Element html at 0x10dd32b38>,\n",
       " '\\n    ',\n",
       " <Element head at 0x10e3e2778>,\n",
       " '\\n        ',\n",
       " <Element title at 0x10e3f06d8>,\n",
       " 'Page Title',\n",
       " '\\n    ',\n",
       " '\\n    ',\n",
       " <Element body at 0x10e3e27c8>,\n",
       " '\\n        ',\n",
       " <Element h1 at 0x10e3e29a8>,\n",
       " 'This is an amazing heading',\n",
       " '\\n        ',\n",
       " <Element p at 0x10e3e29f8>,\n",
       " 'This is a fantastic paragraph.',\n",
       " '\\n        ',\n",
       " <Element a at 0x10e3e2a48>,\n",
       " 'This is an awesome link',\n",
       " '\\n        ',\n",
       " <Element ul at 0x10e3e2a98>,\n",
       " '\\n            ',\n",
       " <Element li at 0x10e3eaf48>,\n",
       " 'Bill Baber',\n",
       " '\\n            ',\n",
       " <Element li at 0x10e3f0958>,\n",
       " 'David Erkens',\n",
       " '\\n            ',\n",
       " <Element li at 0x10e3f09a8>,\n",
       " 'Patricia Fairfield',\n",
       " '\\n            ',\n",
       " <Element li at 0x10e3f09f8>,\n",
       " 'Gilles Hilary',\n",
       " '\\n            ',\n",
       " <Element li at 0x10e3f0a48>,\n",
       " 'Allison Koester',\n",
       " '\\n            ',\n",
       " <Element li at 0x10e3f0a98>,\n",
       " 'Silva Kurtisa',\n",
       " '\\n            ',\n",
       " <Element li at 0x10e3f0ae8>,\n",
       " 'Reining Petacchi',\n",
       " '\\n            ',\n",
       " <Element li at 0x10e3f0b38>,\n",
       " 'Jason Schloetzer',\n",
       " '\\n            ',\n",
       " <Element li at 0x10e3f0b88>,\n",
       " 'Vicki Tang',\n",
       " '\\n            ',\n",
       " <Element li at 0x10e3f04a8>,\n",
       " 'Xiaoli Tian',\n",
       " '\\n        ',\n",
       " '\\n    ',\n",
       " '\\n']"
      ]
     },
     "execution_count": 45,
     "metadata": {},
     "output_type": "execute_result"
    }
   ],
   "source": [
    "tree.xpath('//node()')"
   ]
  },
  {
   "cell_type": "markdown",
   "metadata": {
    "heading_collapsed": true
   },
   "source": [
    "### Summary\n",
    "---"
   ]
  },
  {
   "cell_type": "markdown",
   "metadata": {
    "hidden": true
   },
   "source": [
    "Expression|Description\n",
    "--- | ---\n",
    "`tagname`|Selects all nodes with the name \"tagname\"\n",
    "`/`|Selects from the root node\n",
    "`//`|Selects nodes from the current node that match the selection no matter where they are\n",
    "`.`|Selects the current node\n",
    "`..`|Selects the parent of the current node\n",
    "`@`|Selects attributes\n",
    "`tagname[n]`|Selects the `n`-th `tagname` element.\n",
    "`tagname[last()]`|Selects the last `tagname` element\n",
    "`tagname[last()-1]`|Selects the last but one `tagname` element\n",
    "`tagname[position()<3]`|Selects the first two `tagname` elements\n",
    "`tagname[@attribute_name]`|Selects all the `tagname` elements that have an attribute named attribute_name\n",
    "`tagname[@attribute_name='attribute_value']`|Selects all the `tagname` elements that have an `attribute_name` with the given value\n",
    "`*`|Matches any element node\n",
    "`node()`|Matches any node of any kind"
   ]
  },
  {
   "cell_type": "markdown",
   "metadata": {
    "ExecuteTime": {
     "end_time": "2018-05-20T15:19:13.955302Z",
     "start_time": "2018-05-20T15:19:13.952266Z"
    },
    "collapsed": true,
    "hidden": true
   },
   "source": [
    "<div class=\"alert alert-block alert-info\" \n",
    "     style=\"border-color: #2E86C1; \n",
    "            border-left: 5px solid #2E86C1;\n",
    "            padding-top: 5px\">\n",
    "    <font size=\"4\"> \n",
    "    <a href=\"../projects/playground.ipynb\" style=\"text-decoration: none\"> \n",
    "    <h3 style=\"font-family: monospace\">Exercise html.2</h3>\n",
    "    <p style=\"margin-left: 100px;\n",
    "              margin-right: 100px;\n",
    "              line-height: 1.7em;\">Given the HTML page above:\n",
    "    <ol style=\"margin-left: 200px;\n",
    "               margin-right: 100px;\n",
    "               line-height: 1.7em;\">\n",
    "        <li>select all nodes that have an attribute</li>\n",
    "        <li>select all nodes that don't have text</li>\n",
    "        <li>get the text of the whole HTML page</li>\n",
    "        <li>get the title of the page</li>\n",
    "        <li>build a dictionary of all links in the page {text: link}</li>\n",
    "    </ol>\n",
    "    </p></a></font>\n",
    "</div>"
   ]
  },
  {
   "cell_type": "code",
   "execution_count": null,
   "metadata": {
    "collapsed": true,
    "hidden": true
   },
   "outputs": [],
   "source": []
  }
 ],
 "metadata": {
  "kernelspec": {
   "display_name": "Python 3",
   "language": "python",
   "name": "python3"
  },
  "language_info": {
   "codemirror_mode": {
    "name": "ipython",
    "version": 3
   },
   "file_extension": ".py",
   "mimetype": "text/x-python",
   "name": "python",
   "nbconvert_exporter": "python",
   "pygments_lexer": "ipython3",
   "version": "3.6.0"
  }
 },
 "nbformat": 4,
 "nbformat_minor": 2
}
