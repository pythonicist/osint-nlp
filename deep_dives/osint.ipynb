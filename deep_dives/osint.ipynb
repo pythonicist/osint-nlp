{
 "cells": [
  {
   "cell_type": "markdown",
   "metadata": {},
   "source": [
    "## Open Source INTelligence (OSINT)\n",
    "---"
   ]
  },
  {
   "cell_type": "markdown",
   "metadata": {},
   "source": [
    "### Preliminary evaluation \n",
    "---"
   ]
  },
  {
   "cell_type": "markdown",
   "metadata": {
    "ExecuteTime": {
     "end_time": "2018-05-20T15:22:58.124747Z",
     "start_time": "2018-05-20T15:22:58.067474Z"
    },
    "collapsed": true
   },
   "source": [
    "What are the options?\n",
    "- The data has been processed and it's ready to be downloaded somewhere\n",
    "    - how recent is it?\n",
    "    \n",
    "    \n",
    "- There is a python library for it\n",
    "    - how flexible is it?\n",
    "    - is it updated regularly?\n",
    "    \n",
    "    \n",
    "- There is an API for it\n",
    "    - how much does it cost? \n",
    "    - what fraction of the data does it cover?\n",
    "    \n",
    "    \n",
    "- The data has to be scraped\n",
    "    - how long would it take?\n",
    "    - should I do it by hand?\n",
    "    - does the URL accept parameters?"
   ]
  },
  {
   "cell_type": "markdown",
   "metadata": {},
   "source": [
    "### Example: preprocessed data"
   ]
  },
  {
   "cell_type": "markdown",
   "metadata": {},
   "source": [
    "[GDELT](https://www.gdeltproject.org/#intro)"
   ]
  },
  {
   "cell_type": "markdown",
   "metadata": {},
   "source": [
    "### Example: python library"
   ]
  },
  {
   "cell_type": "code",
   "execution_count": 4,
   "metadata": {
    "ExecuteTime": {
     "end_time": "2018-05-31T16:17:28.781235Z",
     "start_time": "2018-05-31T16:17:26.221465Z"
    },
    "collapsed": false
   },
   "outputs": [
    {
     "name": "stdout",
     "output_type": "stream",
     "text": [
      "\n",
      "                         Open      High       Low     Close     Volume\n",
      "2018-05-01 16:00:00  24117.29  24117.29  23808.19  24099.05  380066052\n",
      "2018-05-02 16:00:00  24097.63  24185.52  23886.30  23924.98  385346919\n",
      "2018-05-03 16:00:00  23836.23  23996.15  23531.31  23930.15  389239720\n",
      "2018-05-04 16:00:00  23865.22  24333.35  23778.87  24262.51  329482313\n",
      "2018-05-07 16:00:00  24317.66  24479.45  24263.42  24357.32  307674344\n",
      "2018-05-08 16:00:00  24341.35  24412.34  24198.34  24360.21  344935025\n",
      "2018-05-09 16:00:00  24399.18  24586.48  24323.87  24542.54  361584696\n",
      "2018-05-10 16:00:00  24591.66  24794.99  24575.91  24739.53  304209370\n",
      "2018-05-11 16:00:00  24758.64  24868.65  24717.50  24831.17  274145837\n",
      "2018-05-14 16:00:00  24879.37  24994.19  24862.52  24899.41  282855588\n",
      "2018-05-15 16:00:00  24809.55  24809.55  24629.39  24706.41  301903205\n",
      "2018-05-16 16:00:00  24722.32  24801.19  24672.79  24768.93  280812814\n",
      "2018-05-17 16:00:00  24752.40  24839.49  24639.40  24713.98  314650345\n",
      "2018-05-18 16:00:00  24707.72  24774.97  24664.87  24715.09  269696371\n",
      "2018-05-21 16:00:00  24883.06  25086.49  24883.06  25013.29  308921612\n",
      "2018-05-22 16:00:00  25047.55  25064.99  24812.06  24834.41  288204714\n",
      "2018-05-23 16:00:00  24757.71  24889.46  24667.12  24886.81  399609887\n",
      "2018-05-24 16:00:00  24877.36  24877.36  24605.90  24811.76  347051120\n",
      "2018-05-25 16:00:00  24781.29  24824.22  24687.81  24753.09  257211712\n",
      "2018-05-29 16:00:00  24606.59  24635.18  24247.84  24361.45  395806456\n",
      "2018-05-30 16:00:00  24467.83  24714.48  24459.09  24667.78  324874267\n"
     ]
    }
   ],
   "source": [
    "from googlefinance.client import get_price_data\n",
    "\n",
    "param = {\n",
    "    'q': \".DJI\",     # Stock symbol \n",
    "    'i': \"86400\",    # Interval size in seconds \n",
    "    'x': \"INDEXDJX\", # Stock exchange \n",
    "    'p': \"1M\"        # Period \n",
    "}\n",
    "\n",
    "df = get_price_data(param)\n",
    "print()\n",
    "print(df)"
   ]
  },
  {
   "cell_type": "markdown",
   "metadata": {},
   "source": [
    "### Example: API"
   ]
  },
  {
   "cell_type": "code",
   "execution_count": 1,
   "metadata": {
    "ExecuteTime": {
     "end_time": "2018-05-31T16:10:39.283780Z",
     "start_time": "2018-05-31T16:10:36.862812Z"
    },
    "collapsed": true
   },
   "outputs": [],
   "source": [
    "import feedparser\n",
    "feed = feedparser.parse('http://feeds.reuters.com/reuters/businessNews')"
   ]
  },
  {
   "cell_type": "code",
   "execution_count": 2,
   "metadata": {
    "ExecuteTime": {
     "end_time": "2018-05-31T16:10:40.279538Z",
     "start_time": "2018-05-31T16:10:40.262737Z"
    },
    "collapsed": false
   },
   "outputs": [
    {
     "data": {
      "text/plain": [
       "10"
      ]
     },
     "execution_count": 2,
     "metadata": {},
     "output_type": "execute_result"
    }
   ],
   "source": [
    "len(feed.entries)"
   ]
  },
  {
   "cell_type": "code",
   "execution_count": 3,
   "metadata": {
    "ExecuteTime": {
     "end_time": "2018-05-31T16:10:40.988587Z",
     "start_time": "2018-05-31T16:10:40.963769Z"
    },
    "collapsed": false
   },
   "outputs": [
    {
     "name": "stdout",
     "output_type": "stream",
     "text": [
      "{'feedburner_origlink': 'http://www.reuters.com/article/us-usa-trade-metals-europe/u-s-hits-allies-with-tariffs-as-risk-of-trade-war-rises-idUSKCN1IV2TN?feedType=RSS&feedName=businessNews',\n",
      " 'guidislink': False,\n",
      " 'id': 'http://www.reuters.com/article/us-usa-trade-metals-europe/u-s-hits-allies-with-tariffs-as-risk-of-trade-war-rises-idUSKCN1IV2TN?feedType=RSS&feedName=businessNews',\n",
      " 'link': 'http://feeds.reuters.com/~r/reuters/businessNews/~3/18fl4LSAN48/u-s-hits-allies-with-tariffs-as-risk-of-trade-war-rises-idUSKCN1IV2TN',\n",
      " 'links': [{'href': 'http://feeds.reuters.com/~r/reuters/businessNews/~3/18fl4LSAN48/u-s-hits-allies-with-tariffs-as-risk-of-trade-war-rises-idUSKCN1IV2TN',\n",
      "            'rel': 'alternate',\n",
      "            'type': 'text/html'}],\n",
      " 'published': 'Thu, 31 May 2018 15:58:47 -0400',\n",
      " 'published_parsed': time.struct_time(tm_year=2018, tm_mon=5, tm_mday=31, tm_hour=19, tm_min=58, tm_sec=47, tm_wday=3, tm_yday=151, tm_isdst=0),\n",
      " 'summary': 'WASHINGTON/PARIS (Reuters) - The United States on Thursday said '\n",
      "            'it will impose tariffs on aluminum and steel imports from Canada, '\n",
      "            'Mexico and the European Union, reigniting investor fears of a '\n",
      "            \"global trade war as Washington's allies took steps to retaliate \"\n",
      "            'against U.S. goods.<div class=\"feedflare\">\\n'\n",
      "            '<a '\n",
      "            'href=\"http://feeds.reuters.com/~ff/reuters/businessNews?a=18fl4LSAN48:dte9m-leOMA:yIl2AUoC8zA\"><img '\n",
      "            'src=\"http://feeds.feedburner.com/~ff/reuters/businessNews?d=yIl2AUoC8zA\" '\n",
      "            'border=\"0\"></img></a> <a '\n",
      "            'href=\"http://feeds.reuters.com/~ff/reuters/businessNews?a=18fl4LSAN48:dte9m-leOMA:F7zBnMyn0Lo\"><img '\n",
      "            'src=\"http://feeds.feedburner.com/~ff/reuters/businessNews?i=18fl4LSAN48:dte9m-leOMA:F7zBnMyn0Lo\" '\n",
      "            'border=\"0\"></img></a> <a '\n",
      "            'href=\"http://feeds.reuters.com/~ff/reuters/businessNews?a=18fl4LSAN48:dte9m-leOMA:V_sGLiPBpWU\"><img '\n",
      "            'src=\"http://feeds.feedburner.com/~ff/reuters/businessNews?i=18fl4LSAN48:dte9m-leOMA:V_sGLiPBpWU\" '\n",
      "            'border=\"0\"></img></a>\\n'\n",
      "            '</div><img '\n",
      "            'src=\"http://feeds.feedburner.com/~r/reuters/businessNews/~4/18fl4LSAN48\" '\n",
      "            'height=\"1\" width=\"1\" alt=\"\"/>',\n",
      " 'summary_detail': {'base': 'http://feeds.reuters.com/reuters/businessNews',\n",
      "                    'language': None,\n",
      "                    'type': 'text/html',\n",
      "                    'value': 'WASHINGTON/PARIS (Reuters) - The United States '\n",
      "                             'on Thursday said it will impose tariffs on '\n",
      "                             'aluminum and steel imports from Canada, Mexico '\n",
      "                             'and the European Union, reigniting investor '\n",
      "                             \"fears of a global trade war as Washington's \"\n",
      "                             'allies took steps to retaliate against U.S. '\n",
      "                             'goods.<div class=\"feedflare\">\\n'\n",
      "                             '<a '\n",
      "                             'href=\"http://feeds.reuters.com/~ff/reuters/businessNews?a=18fl4LSAN48:dte9m-leOMA:yIl2AUoC8zA\"><img '\n",
      "                             'src=\"http://feeds.feedburner.com/~ff/reuters/businessNews?d=yIl2AUoC8zA\" '\n",
      "                             'border=\"0\"></img></a> <a '\n",
      "                             'href=\"http://feeds.reuters.com/~ff/reuters/businessNews?a=18fl4LSAN48:dte9m-leOMA:F7zBnMyn0Lo\"><img '\n",
      "                             'src=\"http://feeds.feedburner.com/~ff/reuters/businessNews?i=18fl4LSAN48:dte9m-leOMA:F7zBnMyn0Lo\" '\n",
      "                             'border=\"0\"></img></a> <a '\n",
      "                             'href=\"http://feeds.reuters.com/~ff/reuters/businessNews?a=18fl4LSAN48:dte9m-leOMA:V_sGLiPBpWU\"><img '\n",
      "                             'src=\"http://feeds.feedburner.com/~ff/reuters/businessNews?i=18fl4LSAN48:dte9m-leOMA:V_sGLiPBpWU\" '\n",
      "                             'border=\"0\"></img></a>\\n'\n",
      "                             '</div><img '\n",
      "                             'src=\"http://feeds.feedburner.com/~r/reuters/businessNews/~4/18fl4LSAN48\" '\n",
      "                             'height=\"1\" width=\"1\" alt=\"\"/>'},\n",
      " 'tags': [{'label': None, 'scheme': None, 'term': 'businessNews'}],\n",
      " 'title': 'U.S. hits allies with tariffs as risk of trade war rises',\n",
      " 'title_detail': {'base': 'http://feeds.reuters.com/reuters/businessNews',\n",
      "                  'language': None,\n",
      "                  'type': 'text/plain',\n",
      "                  'value': 'U.S. hits allies with tariffs as risk of trade war '\n",
      "                           'rises'}}\n"
     ]
    }
   ],
   "source": [
    "from pprint import PrettyPrinter\n",
    "PPRINTER = PrettyPrinter()\n",
    "PPRINTER.pprint(feed.entries[0])"
   ]
  },
  {
   "cell_type": "code",
   "execution_count": null,
   "metadata": {
    "collapsed": true
   },
   "outputs": [],
   "source": []
  }
 ],
 "metadata": {
  "kernelspec": {
   "display_name": "Python 3",
   "language": "python",
   "name": "python3"
  },
  "language_info": {
   "codemirror_mode": {
    "name": "ipython",
    "version": 3
   },
   "file_extension": ".py",
   "mimetype": "text/x-python",
   "name": "python",
   "nbconvert_exporter": "python",
   "pygments_lexer": "ipython3",
   "version": "3.6.0"
  }
 },
 "nbformat": 4,
 "nbformat_minor": 2
}
