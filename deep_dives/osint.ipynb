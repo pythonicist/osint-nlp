{
 "cells": [
  {
   "cell_type": "markdown",
   "metadata": {},
   "source": [
    "## Open Source INTelligence (OSINT)\n",
    "---"
   ]
  },
  {
   "cell_type": "markdown",
   "metadata": {},
   "source": [
    "### Preliminary evaluation \n",
    "---"
   ]
  },
  {
   "cell_type": "markdown",
   "metadata": {
    "ExecuteTime": {
     "end_time": "2018-05-20T15:22:58.124747Z",
     "start_time": "2018-05-20T15:22:58.067474Z"
    },
    "collapsed": true
   },
   "source": [
    "What are the options?\n",
    "- The data has been processed and it's ready to be downloaded somewhere\n",
    "    - how recent is it?\n",
    "    \n",
    "    \n",
    "- There is a python library for it\n",
    "    - how flexible is it?\n",
    "    \n",
    "    \n",
    "- There is an API for it\n",
    "    - how much does it cost? \n",
    "    - what fraction of the data does it cover?\n",
    "    \n",
    "    \n",
    "- The data has to be scraped\n",
    "    - how long would it take?\n",
    "    - should I do it by hand?\n",
    "    - does the URL accept parameters?"
   ]
  },
  {
   "cell_type": "code",
   "execution_count": null,
   "metadata": {
    "collapsed": true
   },
   "outputs": [],
   "source": []
  }
 ],
 "metadata": {
  "kernelspec": {
   "display_name": "Python 3",
   "language": "python",
   "name": "python3"
  },
  "language_info": {
   "codemirror_mode": {
    "name": "ipython",
    "version": 3
   },
   "file_extension": ".py",
   "mimetype": "text/x-python",
   "name": "python",
   "nbconvert_exporter": "python",
   "pygments_lexer": "ipython3",
   "version": "3.6.0"
  }
 },
 "nbformat": 4,
 "nbformat_minor": 2
}
