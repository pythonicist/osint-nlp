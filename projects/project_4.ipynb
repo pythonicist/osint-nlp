{
 "cells": [
  {
   "cell_type": "markdown",
   "metadata": {},
   "source": [
    "## Research Project 4\n",
    "---\n",
    "```text\n",
    "- Source: SEC\n",
    "- Goal: Extract CEO appointments from 8K\n",
    "- Techniques: NER, sentence tokenization\n",
    "- Tools: Spacy, NLTK\n",
    "- Lines of code: ~50```"
   ]
  },
  {
   "cell_type": "markdown",
   "metadata": {
    "heading_collapsed": true
   },
   "source": [
    "### Request and parse SEC index\n",
    "---"
   ]
  },
  {
   "cell_type": "code",
   "execution_count": 6,
   "metadata": {
    "ExecuteTime": {
     "end_time": "2018-05-22T21:30:11.921417Z",
     "start_time": "2018-05-22T21:30:11.916485Z"
    },
    "collapsed": true,
    "hidden": true
   },
   "outputs": [],
   "source": [
    "# Let's find a page on the SEC website with all 8-Ks\n",
    "url = 'https://www.sec.gov/Archives/edgar/daily-index/2018/QTR2/form.20180402.idx'"
   ]
  },
  {
   "cell_type": "code",
   "execution_count": 7,
   "metadata": {
    "ExecuteTime": {
     "end_time": "2018-05-22T21:30:13.072575Z",
     "start_time": "2018-05-22T21:30:12.668642Z"
    },
    "collapsed": false,
    "hidden": true
   },
   "outputs": [],
   "source": [
    "import requests\n",
    "res = requests.get(url)"
   ]
  },
  {
   "cell_type": "markdown",
   "metadata": {
    "hidden": true
   },
   "source": [
    "<div class=\"alert alert-block alert-info\" \n",
    "     style=\"border-color: #2E86C1;\n",
    "            background-color: #FCF3CF;\n",
    "            border-left: 5px solid #2E86C1;\n",
    "            padding-top: 5px\">\n",
    "    <font size=\"4\">\n",
    "    <a href=\"../deep_dives/http.ipynb\" style=\"text-decoration: none\"> \n",
    "    <h3 style=\"font-family: monospace\">Deep-dive</h3>\n",
    "    <p style=\"margin-left: 100px;\n",
    "              margin-right: 100px;\n",
    "              line-height: 1.7em;\">Hypertext Transfer Protocol (HTTP)</p></a></font>\n",
    "</div>"
   ]
  },
  {
   "cell_type": "code",
   "execution_count": 8,
   "metadata": {
    "ExecuteTime": {
     "end_time": "2018-05-22T21:30:14.265754Z",
     "start_time": "2018-05-22T21:30:14.241983Z"
    },
    "collapsed": false,
    "hidden": true
   },
   "outputs": [
    {
     "name": "stdout",
     "output_type": "stream",
     "text": [
      "Description:           Daily Index of EDGAR Dissemination Feed by Form Type\n",
      "Last Data Received:    Apr  2, 2018\n",
      "Comments:              webmaster@sec.gov\n",
      "Anonymous FTP:         ftp://ftp.sec.gov/edgar/\n",
      " \n",
      " \n",
      " \n",
      " \n",
      "Form Type   Company Name                                                  CIK\n",
      "      Date Filed  File Name\n",
      "---------------------------------------------------------------------------------------------------------------------------------------------\n",
      "1-SA        HYGEN INDUSTRIES, INC.                                        1661116     20180402    edgar/data/1661116/0001065949-18-000055.txt         \n",
      "1-U         FUNDRISE REAL ESTATE INVESTMENT TRUST, LLC                    1645583     20180402    edgar/data/1645583/0001144204-18-018374.txt         \n",
      "1-U         Fundrise East Coast Opportunistic REIT, LLC                   1660918     20180402    edgar/data/1660918/0001144204-18-018370.txt         \n",
      "1-U         Fundrise Equity REIT, LLC                                     1648956     2018\n"
     ]
    }
   ],
   "source": [
    "print(res.text[:1000])"
   ]
  },
  {
   "cell_type": "code",
   "execution_count": 9,
   "metadata": {
    "ExecuteTime": {
     "end_time": "2018-05-22T21:31:08.072915Z",
     "start_time": "2018-05-22T21:31:08.067498Z"
    },
    "collapsed": true,
    "hidden": true
   },
   "outputs": [],
   "source": [
    "line = '1-SA        HYGEN INDUSTRIES, INC.                                        1661116     20180402    edgar/data/1661116/0001065949-18-000055.txt'"
   ]
  },
  {
   "cell_type": "code",
   "execution_count": 15,
   "metadata": {
    "ExecuteTime": {
     "end_time": "2018-05-22T21:32:45.777704Z",
     "start_time": "2018-05-22T21:32:45.769693Z"
    },
    "collapsed": false,
    "hidden": true
   },
   "outputs": [
    {
     "name": "stdout",
     "output_type": "stream",
     "text": [
      "12\n",
      "74\n",
      "86\n",
      "98\n"
     ]
    }
   ],
   "source": [
    "print(line.find('HYGEN')); \n",
    "print(line.find('1661116')); \n",
    "print(line.find('20180402')); \n",
    "print(line.find('edgar/data'))"
   ]
  },
  {
   "cell_type": "code",
   "execution_count": 18,
   "metadata": {
    "ExecuteTime": {
     "end_time": "2018-05-22T21:34:53.926642Z",
     "start_time": "2018-05-22T21:34:53.915682Z"
    },
    "collapsed": false,
    "hidden": true
   },
   "outputs": [
    {
     "data": {
      "text/plain": [
       "{'CIK': '1661116',\n",
       " 'Company Name': 'HYGEN INDUSTRIES, INC.',\n",
       " 'Date Filed': '20180402',\n",
       " 'File Name': 'edgar/data/1661116/0001065949-18-000055.txt',\n",
       " 'Form Type': '1-SA'}"
      ]
     },
     "execution_count": 18,
     "metadata": {},
     "output_type": "execute_result"
    }
   ],
   "source": [
    "record = {\n",
    "    'Form Type': line[0:12].strip(),\n",
    "    'Company Name': line[12:74].strip(),\n",
    "    'CIK': line[74:86].strip(),\n",
    "    'Date Filed': line[86:98].strip(),\n",
    "    'File Name': line[98:].strip()\n",
    "}\n",
    "record"
   ]
  },
  {
   "cell_type": "markdown",
   "metadata": {
    "collapsed": true,
    "hidden": true
   },
   "source": [
    "<div class=\"alert alert-block alert-info\" \n",
    "     style=\"border-color: #2E86C1; \n",
    "            border-left: 5px solid #2E86C1;\n",
    "            padding-top: 5px\">\n",
    "    <font size=\"4\"> \n",
    "    <a href=\"./playground.ipynb\" style=\"text-decoration: none\"> \n",
    "    <h3 style=\"font-family: monospace\">Exercise 4.1</h3>\n",
    "    <p style=\"margin-left: 100px;\n",
    "              margin-right: 100px;\n",
    "              line-height: 1.7em;\">Create a function that parses \"Date Filed\" into a python datetime object.\n",
    "    </p></a></font>\n",
    "</div>"
   ]
  },
  {
   "cell_type": "markdown",
   "metadata": {
    "collapsed": true,
    "hidden": true
   },
   "source": [
    "<div class=\"alert alert-block alert-info\" \n",
    "     style=\"border-color: #2E86C1; \n",
    "            border-left: 5px solid #2E86C1;\n",
    "            padding-top: 5px\">\n",
    "    <font size=\"4\"> \n",
    "    <a href=\"./playground.ipynb\" style=\"text-decoration: none\"> \n",
    "    <h3 style=\"font-family: monospace\">Exercise 4.2</h3>\n",
    "    <p style=\"margin-left: 100px;\n",
    "              margin-right: 100px;\n",
    "              line-height: 1.7em;\">Create a function that, given an SEC index, parses it and returns a list of records.\n",
    "    </p></a></font>\n",
    "</div>"
   ]
  },
  {
   "cell_type": "markdown",
   "metadata": {
    "heading_collapsed": true
   },
   "source": [
    "### Parse 8-K\n",
    "---"
   ]
  },
  {
   "cell_type": "code",
   "execution_count": 22,
   "metadata": {
    "ExecuteTime": {
     "end_time": "2018-05-22T21:43:24.453074Z",
     "start_time": "2018-05-22T21:43:23.796807Z"
    },
    "collapsed": false,
    "hidden": true
   },
   "outputs": [],
   "source": [
    "for line in res.text.split('\\n')[11:]:\n",
    "    if line.startswith('8-K'):\n",
    "        url = 'https://www.sec.gov/Archives/' + line[98:].strip()\n",
    "        doc = requests.get(url)\n",
    "        break"
   ]
  },
  {
   "cell_type": "code",
   "execution_count": 25,
   "metadata": {
    "ExecuteTime": {
     "end_time": "2018-05-22T21:44:03.735240Z",
     "start_time": "2018-05-22T21:44:03.728707Z"
    },
    "collapsed": false,
    "hidden": true
   },
   "outputs": [
    {
     "data": {
      "text/plain": [
       "'https://www.sec.gov/Archives/edgar/data/318306/0001144204-18-018693.txt'"
      ]
     },
     "execution_count": 25,
     "metadata": {},
     "output_type": "execute_result"
    }
   ],
   "source": [
    "url"
   ]
  },
  {
   "cell_type": "code",
   "execution_count": 24,
   "metadata": {
    "ExecuteTime": {
     "end_time": "2018-05-22T21:43:40.104589Z",
     "start_time": "2018-05-22T21:43:40.098717Z"
    },
    "collapsed": false,
    "hidden": true
   },
   "outputs": [
    {
     "data": {
      "text/plain": [
       "'<SEC-DOCUMENT>0001144204-18-018693.txt : 20180402\\n<SEC-HEADER>0001144204-18-018693.hdr.sgml : 20180402\\n<ACCEPTANCE-DATETIME>20180402170558\\nACCESSION NUMBER:\\t\\t0001144204-18-018693\\nCONFORMED SUBMISSION TYPE:\\t8-K\\nPUBLIC DOCUMENT COUNT:\\t\\t3\\nCONFORMED PERIOD OF REPORT:\\t20180329\\nITEM INFORMATION:\\t\\tDeparture of Directors or Certain Officers; Election of Directors; Appointment of Certain Officers: Compensatory Arrangements of Certain Officers\\nITEM INFORMATION:\\t\\tRegulation FD Disclosure\\nITEM INFORMATION:\\t\\tFinancial Statements and Exhibits\\nFILED AS OF DATE:\\t\\t20180402\\nDATE AS OF CHANGE:\\t\\t20180402\\n\\nFILER:\\n\\n\\tCOMPANY DATA:\\t\\n\\t\\tCOMPANY CONFORMED NAME:\\t\\t\\tABEONA THERAPEUTICS INC.\\n\\t\\tCENTRAL INDEX KEY:\\t\\t\\t0000318306\\n\\t\\tSTANDARD INDUSTRIAL CLASSIFICATION:\\tPHARMACEUTICAL PREPARATIONS [2834]\\n\\t\\tIRS NUMBER:\\t\\t\\t\\t830221517\\n\\t\\tSTATE OF INCORPORATION:\\t\\t\\tDE\\n\\t\\tFISCAL YEAR END:\\t\\t\\t1231\\n\\n\\tFILING VALUES:\\n\\t\\tFORM TYPE:\\t\\t8-K\\n\\t\\tSEC ACT:\\t\\t1934 Act\\n\\t\\tSEC FILE NUMBER:\\t001-15771\\n\\t\\tFILM NUMBER:\\t\\t18729963\\n\\n\\tBUSINESS ADDRESS:\\t\\n\\t\\tSTREET'"
      ]
     },
     "execution_count": 24,
     "metadata": {},
     "output_type": "execute_result"
    }
   ],
   "source": [
    "doc.text[:1000]"
   ]
  },
  {
   "cell_type": "code",
   "execution_count": 28,
   "metadata": {
    "ExecuteTime": {
     "end_time": "2018-05-22T21:46:45.485669Z",
     "start_time": "2018-05-22T21:46:45.470401Z"
    },
    "collapsed": true,
    "hidden": true
   },
   "outputs": [],
   "source": [
    "from lxml import html\n",
    "tree = html.fromstring(doc.content)"
   ]
  },
  {
   "cell_type": "code",
   "execution_count": 30,
   "metadata": {
    "ExecuteTime": {
     "end_time": "2018-05-22T21:46:55.013109Z",
     "start_time": "2018-05-22T21:46:55.005272Z"
    },
    "collapsed": false,
    "hidden": true
   },
   "outputs": [
    {
     "data": {
      "text/plain": [
       "'0001144204-18-018693.txt : 20180402\\n 0001144204-18-018693.hdr.sgml : 20180402\\n 20180402170558\\nACCESSION NUMBER:\\t\\t0001144204-18-018693\\nCONFORMED SUBMISSION TYPE:\\t8-K\\nPUBLIC DOCUMENT COUNT:\\t\\t3\\nCONFORMED PERIOD OF REPORT:\\t20180329\\nITEM INFORMATION:\\t\\tDeparture of Directors or Certain Officers; Election of Directors; Appointment of Certain Officers: Compensatory Arrangements of Certain Officers\\nITEM INFORMATION:\\t\\tRegulation FD Disclosure\\nITEM INFORMATION:\\t\\tFinancial Statements and Exhibits\\nFILED AS OF DATE:\\t\\t20180402\\nDATE AS OF CHANGE:\\t\\t20180402\\n\\nFILER:\\n\\n\\tCOMPANY DATA:\\t\\n\\t\\tCOMPANY CONFORMED NAME:\\t\\t\\tABEONA THERAPEUTICS INC.\\n\\t\\tCENTRAL INDEX KEY:\\t\\t\\t0000318306\\n\\t\\tSTANDARD INDUSTRIAL CLASSIFICATION:\\tPHARMACEUTICAL PREPARATIONS [2834]\\n\\t\\tIRS NUMBER:\\t\\t\\t\\t830221517\\n\\t\\tSTATE OF INCORPORATION:\\t\\t\\tDE\\n\\t\\tFISCAL YEAR END:\\t\\t\\t1231\\n\\n\\tFILING VALUES:\\n\\t\\tFORM TYPE:\\t\\t8-K\\n\\t\\tSEC ACT:\\t\\t1934 Act\\n\\t\\tSEC FILE NUMBER:\\t001-15771\\n\\t\\tFILM NUMBER:\\t\\t18729963\\n\\n\\tBUSINESS ADDRESS:\\t\\n\\t\\tSTREET 1:\\t\\t3333 LEE PARKWAY\\n\\t\\tSTREET 2:\\t\\tSUITE 600\\n'"
      ]
     },
     "execution_count": 30,
     "metadata": {},
     "output_type": "execute_result"
    }
   ],
   "source": [
    "' '.join(tree.itertext())[:1000]"
   ]
  },
  {
   "cell_type": "code",
   "execution_count": 37,
   "metadata": {
    "ExecuteTime": {
     "end_time": "2018-05-22T21:49:47.374088Z",
     "start_time": "2018-05-22T21:49:47.364094Z"
    },
    "collapsed": false,
    "hidden": true
   },
   "outputs": [],
   "source": [
    "import re\n",
    "text = ' '.join(tree.itertext())\n",
    "text = re.sub(r'\\n|\\t|\\xa0', ' ', text)\n",
    "text = re.sub(' +', ' ', text)"
   ]
  },
  {
   "cell_type": "code",
   "execution_count": 39,
   "metadata": {
    "ExecuteTime": {
     "end_time": "2018-05-22T21:52:41.431156Z",
     "start_time": "2018-05-22T21:52:37.365480Z"
    },
    "collapsed": false,
    "hidden": true
   },
   "outputs": [
    {
     "name": "stdout",
     "output_type": "stream",
     "text": [
      "Item 5.02. Departure of Directors or Certain Officers; Election of Directors; Appointment of Certain Officers; Compensatory Arrangements of Certain Officers. Effective March 29, 2018, Frank Carsten Thiel, Ph.D., age 55, has been named by the Board of Directors of Abeona Therapeutics Inc. (the “Company”) as the Company's Chief Executive Officer. Dr. Thiel brings 25 years of proven global biopharmaceutical industry experience, including rare and orphan diseases, to Abeona. His most recent position at Alexion, he served as its Senior Vice President, Europe/Middle East/Africa and Asia Pacific where he was responsible for driving Alexion’s global commercial operations in these regions, including maximizing the current rare disease portfolio as well as guiding the launch of anticipated new products and indications.\n"
     ]
    }
   ],
   "source": [
    "from nltk.tokenize import sent_tokenize\n",
    "char = text.find('Item 5.02')\n",
    "if char >= 0:\n",
    "    sentences = sent_tokenize(text[char:])\n",
    "    joined = ' '.join(sentences[0:5])\n",
    "    print(joined)"
   ]
  },
  {
   "cell_type": "code",
   "execution_count": null,
   "metadata": {
    "collapsed": true,
    "hidden": true
   },
   "outputs": [],
   "source": [
    "# This requires building a training set for text classification, \n",
    "# likely with a deep neural network. We'll stop here."
   ]
  },
  {
   "cell_type": "code",
   "execution_count": 1,
   "metadata": {
    "ExecuteTime": {
     "end_time": "2018-05-14T21:15:06.928064Z",
     "start_time": "2018-05-14T21:12:34.302304Z"
    },
    "collapsed": false,
    "hidden": true,
    "scrolled": false
   },
   "outputs": [
    {
     "name": "stdout",
     "output_type": "stream",
     "text": [
      "0) ABEONA THERAPEUTICS INC.: \"Item 5.02. Departure of Directors or Certain Officers; Election of Directors; Appointment of Certain Officers; Compensatory Arrangements of Certain Officers. Effective March 29, 2018, Frank Carsten Thiel, Ph.D., age 55, has been named by the Board of Directors of Abeona Therapeutics Inc. (the “Company”) as the Company's Chief Executive Officer. Dr. Thiel brings 25 years of proven global biopharmaceutical industry experience, including rare and orphan diseases, to Abeona. His most recent position at Alexion, he served as its Senior Vice President, Europe/Middle East/Africa and Asia Pacific where he was responsible for driving Alexion’s global commercial operations in these regions, including maximizing the current rare disease portfolio as well as guiding the launch of anticipated new products and indications.\"\n",
      "\n",
      "7) AMARILLO BIOSCIENCES INC: \"Item 5.02. Compensatory Arrangements of Certain Officers. On March 28, 2018, the Company entered into employment contracts with Stephen T Chen, the Company's President and CEO; and with Bernard Cohen, the Company's Vice-President and CFO. The contracts are identical except for job descriptions, duties and titles, and compensation amounts. The contracts are for a three-year term, subject to earlier termination by the Company for certain acts of Employee constituting illegality or breach of fiduciary duty.\"\n",
      "\n",
      "19) Acushnet Holdings Corp.: \"Item 5.02 Departure of Directors or Certain Officers; Election of Directors; Appointment of Certain Officers; Compensatory Arrangements of Certain Officers. On March 28, 2018, Christopher Metz and David Valcourt tendered their resignations from the board of directors (the “Board”) of Acushnet Holdings Corp. (the “Company”), effective immediately after the Board’s acceptance thereof, which occurred on March 29, 2018. The resignations were not the result of any disagreement with the Company. The Board has elected David Maher, President and Chief Executive Officer of the Company, to serve out the remainder of Mr. Metz’s term in office, and Jonathan Epstein to serve out the remainder of Mr. Valcourt’s term in office, in each case until such time as their respective successors are duly elected and qualified or until their respective earlier death, resignation, retirement, disqualification or removal. Mr. Epstein is expected to serve on the Nominating and Corporate Governance Committee of the Board.\"\n",
      "\n",
      "26) Apellis Pharmaceuticals, Inc.: \"Item 5.02. Departure of Directors or Principal Officers; Election of Directors; Appointment of Principal Officers; Compensatory Arrangements of Certain Officers. At a meeting of the Board of Directors (the Board) of Apellis Pharmaceuticals, Inc. (the Company) held on March 30, 2018, based on recommendations of the Compensation Committee, the Board approved annual base salaries for 2018 and target bonus percentages (as a percentage of annual base salary) for 2018 for each of the following executive officers of the Company, as set forth in the table below. Executive Officer Salary Target Bonus Cedric Francois, M.D., Ph.D., President and Chief Executive Officer $ 555,000 55 % Pascal Deschatelets, Ph.D. Chief Operating Officer 400,000 45 % Timothy Sullivan Chief Financial Officer 380,000 40 % David Watson General Counsel & Vice President of Corporate Development 275,000 30 % Additional information regarding compensation of the Companys executive officers will be included in the Companys proxy statement to be filed in connection with its 2018 Annual Meeting of Stockholders to be held on June 4, 2018. SIGNATURES Pursuant to the requirements of the Securities Exchange Act of 1934, the registrant has duly caused this report to be signed on its behalf by the undersigned hereunto duly authorized.\"\n",
      "\n",
      "72) Cerecor Inc.: \"Item 5.02 Departure of Directors or Certain Officers; Election of Directors; Appointment of Certain Officers; Compensatory Arrangements of Certain Officers. (b), (c) and (e) Effective March 27, 2018 (the  Effective Date ), Cerecor Inc. (the  Company ) appointed Peter Greenleaf as Chief Executive Officer of the Company, and as such he will serve as the Companys principal executive officer. Mr. Greenleaf has served on the Companys board of directors (the  Board ) since May of 2017 and will remain on the Board going forward. Because Mr. Greenleaf will be an employee of the Company, he is stepping off of the Audit Committee and Compensation Committee and independent director Isaac Blech will take his place on the Audit Committee and independent director Phil Gutry will take his place on the Compensation Committee. Until February 2018, Mr. Greenleaf, age 46, served as Chief Executive Officer and is a member of the board of directors of Sucampo Pharmaceuticals, Inc. (NASDAQ: SCMP), positions he held since March 2014.\"\n",
      "\n",
      "77) Command Center, Inc.: \"Item 5.02 Departure of Directors or Certain Officers; Election of Directors; Appointment of Certain Officers; Compensatory Arrangements of Certain Officers. Our Board of Directors appointed Richard K. Coleman, Jr. as our new President and Chief Executive Officer and Director effective April 1, 2018. Richard K. Coleman, Jr., 61, has deep experience serving in senior executive positions and on various public company boards, and has gained extensive expertise in business development and operations. He is currently Chairman of Hudson Global Inc., a global talent solutions company, and has been a director of Hudson since May 2014. He was the Principal Executive Officer of Crossroads Systems, Inc., a global provider of data archive solutions, from August 2017 to March 2018, and previously served as the company’s President and CEO from May 2013 to July 2017.\"\n",
      "\n",
      "93) EARTHSTONE ENERGY INC: \"Item 5.02 Departure of Directors or Certain Officers; Election of Directors; Appointment of Certain Officers; Compensatory Arrangements of Certain Officers. On April 2, 2018, Earthstone Energy, Inc. (the \"Company\") announced that its board of directors appointed Mr. Robert J. Anderson, age 56, as the Company’s President, effective immediately, a position formerly held by Frank A. Lodzinski who will remain Chief Executive Officer and Chairman of the Board of Directors. Mr. Anderson has served as Executive Vice President, Corporate Development and Engineering of the Company since December 2014. He served in a similar capacity with Oak Valley Resources, LLC (“OVR”) from March 2013 until the strategic combination between OVR and the Company in December 2014. A copy of the press release is attached to this Current Report on Form 8-K as Exhibit 99.1 and is incorporated herein by reference.\"\n",
      "\n",
      "106) FIRST FINANCIAL BANCORP /OH/: \"Item 5.02 Departure of Directors or Certain Officers; Election of Directors; Appointment of Certain Officers; Compensatory Arrangements of Certain Officers Transition of Certain Principal Officers Pursuant to the arrangements previously disclosed on the Current Report on Form 8-K filed by the Company on July 27, 2017, at the Effective Time, Archie M. Brown, Jr., who, prior to the Merger, served as the President and Chief Executive Officer of MainSource, became the Chief Executive Officer and President of the Company. Claude E. Davis, who served as the Chief Executive Officer of the Company prior to the Effective Time, transitioned to the role of Executive Chairman of the Board of Directors of the Company. Pursuant to the arrangements previously disclosed on the Current Report on Form 8-K filed by the Company on September 22, 2017, at the Effective Time, James M. Anderson, who, prior to the Merger, served as the Chief Financial Officer of MainSource, became the Chief Financial Officer of the Company. John M. Gavigan, who served as the Chief Financial Officer of the Company prior to the Effective Time, transitioned to the role of Chief Administrative Officer of the Company. Pursuant to the arrangements previously disclosed on the Current Report on Form 8-K filed by the Company on October 13, 2017, at the Effective Time, Anthony M. Stollings, who, prior to the Merger, served as the President and Chief Banking Officer of the Company, retained the role of Chief Banking Officer but the title of “President” transitioned to Mr. Brown.\"\n",
      "\n",
      "135) Hi-Crush Partners LP: \"Item 5.02 - Departure of Directors or Certain Officers; Election of Directors; Appointment of Certain Officers; Compensatory Arrangements of Certain Officers. Hi-Crush Partners LP (the \"Partnership\") issued a press release on April 2, 2018 announcing the appointment of Scott J. Preston as Chief Operating Officer of Hi-Crush GP LLC (the \"General Partner\"), the general partner of the Partnership, effective April 2, 2018. Prior to joining Hi-Crush, from 2016 to 2017, Mr. Preston, age 46, served simultaneously as Chief Operations Officer of Unimin Corporation, a producer of non-metallic industrial minerals including frac sand, and Chief Executive Officer of Winchester & Western Railroad, a multi-state freight railroad, within the Sibelco Group portfolio. At Unimin, he led all planning, operations, supply chain, procurement, and engineering, with a team of over 2,000 employees and contractors. From 2012 to 2016, Mr. Preston served as Vice President, Global Supply Chain & Chief Procurement Officer and then as Chief Supply Chain & Chief Procurement Officer at Tronox Incorporated, a global chemical company where he led all supply chain, procurement, and contract manufacturing operations across 8 countries.\"\n",
      "\n",
      "139) Hostess Brands, Inc.: \"Item 5.02. Departure of Directors or Certain Officers; Election of Directors; Appointment of Certain Officers; Compensatory Arrangements of Certain Officers. Chief Executive Officer and President As previously announced, Mr. William Toler retired as the Chief Executive Officer and President of Hostess Brands, Inc. (the “Company”) on March 30, 2018. The Company’s search for a new chief executive officer and president remains in process. Mr. C. Dean Metropoulos, the Company’s Executive Chairman who expanded his duties when Mr. Toler announced his retirement to ensure continuity of leadership, is serving as Chief Executive Officer and President on an interim basis.\"\n",
      "\n",
      "141) Hudson Global, Inc.: \"Item 5.02 . Departure of Directors or Certain Officers; Election of Directors; Appointment of Certain Officers; Compensatory Arrangements of Certain Officers . On April 1, 2018, Stephen A. Nolan gave notice to the Board of Directors (the “Board of Directors”) of Hudson Global, Inc. (the “Company”) of his resignation as Chief Executive Officer and a director of the Company effective as of April 1, 2018. On April 1, 2018, following the resignation of Mr. Nolan, the Board of Directors of the Company appointed Jeffrey E. Eberwein, the Chairman of the Board of Directors, as Chief Executive Officer, and Richard K. Coleman, Jr., a director of the Company, as the Chairman of the Board of Directors. Mr. Eberwein has served as a director of the Company since May 2014.\"\n",
      "\n",
      "151) Inovalon Holdings, Inc.: \"Item 5.02. Departure of Directors or Certain Officers; Election of Directors; Appointment of Certain Officers; Compensatory Arrangement of Certain Officers. In connection with the Merger, Mark A. Pulido, formerly the Chairman of the Board and Chief Executive Officer of ABILITY Network Inc., was appointed to the Company’s board of directors (the “Board”) effective as of the Closing Date. It is contemplated that Mr. Pulido may serve on certain committees of the Company’s Board, but no such committee appointments have been made at this time. Mr. Pulido will receive the same compensation as other non-employee Company directors, which includes an annual cash retainer of $75,000 payable quarterly in arrears and an annual award of $175,000 payable in equity, which Mr. Pulido will receive as a grant of restricted stock units in connection with his appointment.\"\n",
      "\n",
      "167) LANNETT CO INC: \"Item 5.02 Departure of Directors or Certain Officers; Election of Directors; Appointment of Certain Officers; Compensatory Arrangements of Certain Officers. (e) Compensatory Arrangement On March 28, 2018, Lannett Company, Inc. (the Company) and Timothy C. Crew, the Chief Executive Officer of the Company, entered into an Addendum to Employment Agreement (the Addendum), pursuant to which the Company and Mr. Crew amended the Employment Agreement between the Company and Mr. Crew dated effective as of January 2, 2018 (the Employment Agreement) The Addendum amended the Employment Agreement by removing the ability of Mr. Crew to terminate his employment for Good Reason (as defined in the Employment Agreement) upon providing written notice of his resignation within (30) days after a Change in Control (as defined in the Employment Agreement), in the event that a Change in Control occurs before December 31, 2018.\"\n",
      "\n",
      "169) LHC Group, Inc: \"Item 5.02. Departure of Directors or Certain Officers; Election of Directors; Appointment of Certain Officers; Compensatory Arrangements of Certain Officers. Directors The Merger Agreement provided that the board of directors of the Company (the Board) following the consummation of the Merger will consist of (i) five independent directors selected by the Company, (ii) four independent directors selected by Almost Family and (iii) Keith G. Myers (the current Chief Executive Officer of the Company and Chairman of the Board). The Company designees are Keith G. Myers, W.J. Billy Tauzin, Monica F. Azare, John L. Indest, Ronald T. Nixon and Brent Turner (the Company Designees) and the Almost Family designees are W. Earl Reed III, Tyree G. Wilburn, Clifford S. Holtz and Jonathan D. Goldberg (the Almost Family Designees).\"\n",
      "\n",
      "188) Mastercard Inc: \"Item 5.02 Departure of Directors or Certain Officers; Election of Directors; Appointment of Certain Officers; Compensatory Arrangements of Certain Officers On April 2, 2018, the Board of Directors of Mastercard Incorporated (the “Company”) elected Choon Phong Goh to the Board of Directors. Mr. Goh is the Chief Executive Officer of Singapore Airlines Ltd. Mr. Goh has also been appointed to the Board’s Nominating and Corporate Governance Committee. A copy of the press release announcing Mr. Goh’s election is attached hereto as Exhibit 99.1 and incorporated herein by reference. Mr. Goh will receive benefits consistent with that received by non-employee directors, including director compensation, as described in our most recent Annual Report on Form 10-K and proxy statement. As such, Mr. Goh will receive a pro rated award of Mastercard deferred stock units under the Company’s 2006 Non-Employee Director Equity Compensation Plan to reflect his three months of service prior to the Annual Meeting, after which, if elected by stockholders, Mr. Goh will receive a full term’s award.\"\n",
      "\n",
      "248) STRATA Skin Sciences, Inc.: \"Item 5.02. Departure of Directors or Certain Officers; Election of Directors; Appointment of Certain Officers; Compensatory Arrangements of Certain Officers. Pursuant to the Accelmed SPA, on April 10, 2018, Dr. Dolev Rafaeli will become Interim Chief Executive Officer and Frank J McCaney, the Company's current CEO, will become Interim Chief Financial Officer on a part-time basis. Also, effective after the closing of the investment at least five of the current board members will resign and the Company's CEO will be a Board member. Accelmed shall have the right to fill all the remaining vacancies effective as of the Closing .\"\n",
      "\n",
      "250) Smartag International, Inc.: \"Item 5.02. Departure of Directors or Certain Officers; Election of Directors; Appointment of Certain Officers; Compensatory Arrangements of Certain Officers. Effective April 1, 2018, Smartag International, Inc. (the “Company”) entered into an Employment Agreement (the “Employment Agreement”) with Lock Sen Yow, the Company’s CEO. Under the Employment Agreement, Mr. Yow will receive a base salary of $200,000 per year and a guaranteed bonus of $40,000 per year. Mr. Yow shall receive 10,000,000 options to purchase the Company’s common at an exercise price of $0.30 per share (“Employee Options”).\"\n",
      "\n",
      "281) Wellesley Bancorp, Inc.: \"Item 5.02 Departure of Directors of Certain Officers; Election of Directors; Appointment of Certain Officers; Compensatory Arrangements of Certain Officers . (e) On March 27, 2018 Wellesley Bancorp, Inc. (the “Company”) and Wellesley Bank (the “Bank”), a wholly-owned subsidiary of the Company, entered into an employment agreement (the “Employment Agreement”) with Thomas J. Fontaine, President and Chief Executive Officer of the Company and the Bank (the “Executive”) which supersedes in its entirety the employment agreement by and between the Bank and the Company dated January 25, 2012 (“Prior Agreement”). Like the Prior Agreement, the Employment Agreement provides for a thirty-six month term which renews on a daily basis unless the Company, Bank or Mr. Fontaine elects not to extend the term of the Employment Agreement. The Prior Agreement and Employment Agreement also provide for, among other things, a minimum annual base salary, eligibility to participate in employee benefit plans and programs maintained by the Company and the Bank for the benefit of their employees, including discretionary bonuses, incentive compensation programs, medical, dental, pension, profit sharing, retirement and stock-based compensation plans and certain fringe benefits applicable to executive personnel and general severance in the event Mr. Fontaine’s employment is terminated without Cause by the Company or the Bank or if Mr. Fontaine terminates his employment for Good Reason. The Employment Agreement clarifies the Change in Control benefit provided in the Prior Agreement, by providing Mr. Fontaine with a severance benefit equal to three times his highest annual compensation in the event his employment is terminated without Cause or for Good Reason following a Change in Control.\"\n",
      "\n"
     ]
    }
   ],
   "source": [
    "# Standard library\n",
    "import datetime\n",
    "\n",
    "# Third-party\n",
    "import spacy\n",
    "import gensim\n",
    "import requests\n",
    "from lxml import html\n",
    "from nltk.tokenize import sent_tokenize\n",
    "\n",
    "url = 'https://www.sec.gov/Archives/edgar/daily-index/2018/QTR2/form.20180402.idx'\n",
    "res = requests.get(url)\n",
    "form_index = res.text.split('\\n')\n",
    "records = []\n",
    "for line in form_index[11:]:\n",
    "    record = {}\n",
    "    record['filing'] = line[0:12].strip()\n",
    "    record['name'] = line[12:74].strip()\n",
    "    try:\n",
    "        record['cik'] = int(line[74:86].strip())\n",
    "    except ValueError:\n",
    "        continue\n",
    "    try:\n",
    "        record['date'] = datetime.datetime(int(line[86:90]),\n",
    "                                           int(line[90:92]),\n",
    "                                           int(line[92:94]))\n",
    "    except ValueError:\n",
    "        continue\n",
    "    record['path'] = 'https://www.sec.gov/Archives/' + line[98:].strip()\n",
    "    records.append(record)\n",
    "\n",
    "eight_ks = [i for i in records if i['filing'].startswith('8-K')]\n",
    "for num, doc in enumerate(eight_ks):\n",
    "    res = requests.get(doc['path'])\n",
    "    tree = html.fromstring(res.content)\n",
    "    clean = ' '.join(tree.itertext()).replace('\\n', ' ').replace('\\t', ' ').replace('\\xa0', ' ')\n",
    "    clean = re.sub(' +', ' ', clean)\n",
    "    char = clean.find('Item 5.02')\n",
    "    if char >= 0:\n",
    "        sentences = sent_tokenize(clean[char:])\n",
    "        joined = ' '.join(sentences[0:5])\n",
    "        if 'CEO' in joined or 'Chief Executive Officer' in joined: \n",
    "            print('%d) %s: \"%s\"\\n' % (num, doc['name'], joined))"
   ]
  },
  {
   "cell_type": "code",
   "execution_count": null,
   "metadata": {
    "collapsed": true,
    "hidden": true
   },
   "outputs": [],
   "source": []
  }
 ],
 "metadata": {
  "kernelspec": {
   "display_name": "Python 3",
   "language": "python",
   "name": "python3"
  },
  "language_info": {
   "codemirror_mode": {
    "name": "ipython",
    "version": 3
   },
   "file_extension": ".py",
   "mimetype": "text/x-python",
   "name": "python",
   "nbconvert_exporter": "python",
   "pygments_lexer": "ipython3",
   "version": "3.6.0"
  }
 },
 "nbformat": 4,
 "nbformat_minor": 2
}
