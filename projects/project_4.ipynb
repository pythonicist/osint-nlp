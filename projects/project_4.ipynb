{
 "cells": [
  {
   "cell_type": "markdown",
   "metadata": {},
   "source": [
    "## Research Project 4\n",
    "---\n",
    "```text\n",
    "- Source: SEC\n",
    "- Goal: Extract CEO appointments from 8K\n",
    "- Techniques: sentence tokenization\n",
    "- Tools: NLTK\n",
    "- Lines of code: ~50 (incomplete)```"
   ]
  },
  {
   "cell_type": "markdown",
   "metadata": {
    "heading_collapsed": true
   },
   "source": [
    "### Request and parse SEC index\n",
    "---"
   ]
  },
  {
   "cell_type": "code",
   "execution_count": 6,
   "metadata": {
    "ExecuteTime": {
     "end_time": "2018-05-22T21:30:11.921417Z",
     "start_time": "2018-05-22T21:30:11.916485Z"
    },
    "collapsed": true,
    "hidden": true
   },
   "outputs": [],
   "source": [
    "# Let's find a page on the SEC website with all 8-Ks\n",
    "url = 'https://www.sec.gov/Archives/edgar/daily-index/2018/QTR2/form.20180402.idx'"
   ]
  },
  {
   "cell_type": "code",
   "execution_count": 7,
   "metadata": {
    "ExecuteTime": {
     "end_time": "2018-05-22T21:30:13.072575Z",
     "start_time": "2018-05-22T21:30:12.668642Z"
    },
    "collapsed": false,
    "hidden": true
   },
   "outputs": [],
   "source": [
    "import requests\n",
    "res = requests.get(url)"
   ]
  },
  {
   "cell_type": "markdown",
   "metadata": {
    "hidden": true
   },
   "source": [
    "<div class=\"alert alert-block alert-info\" \n",
    "     style=\"border-color: #2E86C1;\n",
    "            background-color: #FCF3CF;\n",
    "            border-left: 5px solid #2E86C1;\n",
    "            padding-top: 5px\">\n",
    "    <font size=\"4\">\n",
    "    <a href=\"../deep_dives/http.ipynb\" style=\"text-decoration: none\"> \n",
    "    <h3 style=\"font-family: monospace\">Deep-dive</h3>\n",
    "    <p style=\"margin-left: 100px;\n",
    "              margin-right: 100px;\n",
    "              line-height: 1.7em;\">Hypertext Transfer Protocol (HTTP)</p></a></font>\n",
    "</div>"
   ]
  },
  {
   "cell_type": "code",
   "execution_count": 8,
   "metadata": {
    "ExecuteTime": {
     "end_time": "2018-05-22T21:30:14.265754Z",
     "start_time": "2018-05-22T21:30:14.241983Z"
    },
    "collapsed": false,
    "hidden": true
   },
   "outputs": [
    {
     "name": "stdout",
     "output_type": "stream",
     "text": [
      "Description:           Daily Index of EDGAR Dissemination Feed by Form Type\n",
      "Last Data Received:    Apr  2, 2018\n",
      "Comments:              webmaster@sec.gov\n",
      "Anonymous FTP:         ftp://ftp.sec.gov/edgar/\n",
      " \n",
      " \n",
      " \n",
      " \n",
      "Form Type   Company Name                                                  CIK\n",
      "      Date Filed  File Name\n",
      "---------------------------------------------------------------------------------------------------------------------------------------------\n",
      "1-SA        HYGEN INDUSTRIES, INC.                                        1661116     20180402    edgar/data/1661116/0001065949-18-000055.txt         \n",
      "1-U         FUNDRISE REAL ESTATE INVESTMENT TRUST, LLC                    1645583     20180402    edgar/data/1645583/0001144204-18-018374.txt         \n",
      "1-U         Fundrise East Coast Opportunistic REIT, LLC                   1660918     20180402    edgar/data/1660918/0001144204-18-018370.txt         \n",
      "1-U         Fundrise Equity REIT, LLC                                     1648956     2018\n"
     ]
    }
   ],
   "source": [
    "print(res.text[:1000])"
   ]
  },
  {
   "cell_type": "code",
   "execution_count": 9,
   "metadata": {
    "ExecuteTime": {
     "end_time": "2018-05-22T21:31:08.072915Z",
     "start_time": "2018-05-22T21:31:08.067498Z"
    },
    "collapsed": true,
    "hidden": true
   },
   "outputs": [],
   "source": [
    "line = '1-SA        HYGEN INDUSTRIES, INC.                                        1661116     20180402    edgar/data/1661116/0001065949-18-000055.txt'"
   ]
  },
  {
   "cell_type": "code",
   "execution_count": 15,
   "metadata": {
    "ExecuteTime": {
     "end_time": "2018-05-22T21:32:45.777704Z",
     "start_time": "2018-05-22T21:32:45.769693Z"
    },
    "collapsed": false,
    "hidden": true
   },
   "outputs": [
    {
     "name": "stdout",
     "output_type": "stream",
     "text": [
      "12\n",
      "74\n",
      "86\n",
      "98\n"
     ]
    }
   ],
   "source": [
    "print(line.find('HYGEN')); \n",
    "print(line.find('1661116')); \n",
    "print(line.find('20180402')); \n",
    "print(line.find('edgar/data'))"
   ]
  },
  {
   "cell_type": "code",
   "execution_count": 18,
   "metadata": {
    "ExecuteTime": {
     "end_time": "2018-05-22T21:34:53.926642Z",
     "start_time": "2018-05-22T21:34:53.915682Z"
    },
    "collapsed": false,
    "hidden": true
   },
   "outputs": [
    {
     "data": {
      "text/plain": [
       "{'CIK': '1661116',\n",
       " 'Company Name': 'HYGEN INDUSTRIES, INC.',\n",
       " 'Date Filed': '20180402',\n",
       " 'File Name': 'edgar/data/1661116/0001065949-18-000055.txt',\n",
       " 'Form Type': '1-SA'}"
      ]
     },
     "execution_count": 18,
     "metadata": {},
     "output_type": "execute_result"
    }
   ],
   "source": [
    "record = {\n",
    "    'Form Type': line[0:12].strip(),\n",
    "    'Company Name': line[12:74].strip(),\n",
    "    'CIK': line[74:86].strip(),\n",
    "    'Date Filed': line[86:98].strip(),\n",
    "    'File Name': line[98:].strip()\n",
    "}\n",
    "record"
   ]
  },
  {
   "cell_type": "markdown",
   "metadata": {
    "collapsed": true,
    "hidden": true
   },
   "source": [
    "<div class=\"alert alert-block alert-info\" \n",
    "     style=\"border-color: #2E86C1; \n",
    "            border-left: 5px solid #2E86C1;\n",
    "            padding-top: 5px\">\n",
    "    <font size=\"4\"> \n",
    "    <a href=\"./playground.ipynb\" style=\"text-decoration: none\"> \n",
    "    <h3 style=\"font-family: monospace\">Exercise 4.1</h3>\n",
    "    <p style=\"margin-left: 100px;\n",
    "              margin-right: 100px;\n",
    "              line-height: 1.7em;\">Create a function that parses \"Date Filed\" into a python datetime object.\n",
    "    </p></a></font>\n",
    "</div>"
   ]
  },
  {
   "cell_type": "markdown",
   "metadata": {
    "collapsed": true,
    "hidden": true
   },
   "source": [
    "<div class=\"alert alert-block alert-info\" \n",
    "     style=\"border-color: #2E86C1; \n",
    "            border-left: 5px solid #2E86C1;\n",
    "            padding-top: 5px\">\n",
    "    <font size=\"4\"> \n",
    "    <a href=\"./playground.ipynb\" style=\"text-decoration: none\"> \n",
    "    <h3 style=\"font-family: monospace\">Exercise 4.2</h3>\n",
    "    <p style=\"margin-left: 100px;\n",
    "              margin-right: 100px;\n",
    "              line-height: 1.7em;\">Create a function that, given an SEC index, parses it and returns a list of records.\n",
    "    </p></a></font>\n",
    "</div>"
   ]
  },
  {
   "cell_type": "markdown",
   "metadata": {},
   "source": [
    "### Parse 8-K\n",
    "---"
   ]
  },
  {
   "cell_type": "code",
   "execution_count": 22,
   "metadata": {
    "ExecuteTime": {
     "end_time": "2018-05-22T21:43:24.453074Z",
     "start_time": "2018-05-22T21:43:23.796807Z"
    },
    "collapsed": false
   },
   "outputs": [],
   "source": [
    "for line in res.text.split('\\n')[11:]:\n",
    "    if line.startswith('8-K'):\n",
    "        url = 'https://www.sec.gov/Archives/' + line[98:].strip()\n",
    "        doc = requests.get(url)\n",
    "        break"
   ]
  },
  {
   "cell_type": "code",
   "execution_count": 25,
   "metadata": {
    "ExecuteTime": {
     "end_time": "2018-05-22T21:44:03.735240Z",
     "start_time": "2018-05-22T21:44:03.728707Z"
    },
    "collapsed": false
   },
   "outputs": [
    {
     "data": {
      "text/plain": [
       "'https://www.sec.gov/Archives/edgar/data/318306/0001144204-18-018693.txt'"
      ]
     },
     "execution_count": 25,
     "metadata": {},
     "output_type": "execute_result"
    }
   ],
   "source": [
    "url"
   ]
  },
  {
   "cell_type": "code",
   "execution_count": 24,
   "metadata": {
    "ExecuteTime": {
     "end_time": "2018-05-22T21:43:40.104589Z",
     "start_time": "2018-05-22T21:43:40.098717Z"
    },
    "collapsed": false
   },
   "outputs": [
    {
     "data": {
      "text/plain": [
       "'<SEC-DOCUMENT>0001144204-18-018693.txt : 20180402\\n<SEC-HEADER>0001144204-18-018693.hdr.sgml : 20180402\\n<ACCEPTANCE-DATETIME>20180402170558\\nACCESSION NUMBER:\\t\\t0001144204-18-018693\\nCONFORMED SUBMISSION TYPE:\\t8-K\\nPUBLIC DOCUMENT COUNT:\\t\\t3\\nCONFORMED PERIOD OF REPORT:\\t20180329\\nITEM INFORMATION:\\t\\tDeparture of Directors or Certain Officers; Election of Directors; Appointment of Certain Officers: Compensatory Arrangements of Certain Officers\\nITEM INFORMATION:\\t\\tRegulation FD Disclosure\\nITEM INFORMATION:\\t\\tFinancial Statements and Exhibits\\nFILED AS OF DATE:\\t\\t20180402\\nDATE AS OF CHANGE:\\t\\t20180402\\n\\nFILER:\\n\\n\\tCOMPANY DATA:\\t\\n\\t\\tCOMPANY CONFORMED NAME:\\t\\t\\tABEONA THERAPEUTICS INC.\\n\\t\\tCENTRAL INDEX KEY:\\t\\t\\t0000318306\\n\\t\\tSTANDARD INDUSTRIAL CLASSIFICATION:\\tPHARMACEUTICAL PREPARATIONS [2834]\\n\\t\\tIRS NUMBER:\\t\\t\\t\\t830221517\\n\\t\\tSTATE OF INCORPORATION:\\t\\t\\tDE\\n\\t\\tFISCAL YEAR END:\\t\\t\\t1231\\n\\n\\tFILING VALUES:\\n\\t\\tFORM TYPE:\\t\\t8-K\\n\\t\\tSEC ACT:\\t\\t1934 Act\\n\\t\\tSEC FILE NUMBER:\\t001-15771\\n\\t\\tFILM NUMBER:\\t\\t18729963\\n\\n\\tBUSINESS ADDRESS:\\t\\n\\t\\tSTREET'"
      ]
     },
     "execution_count": 24,
     "metadata": {},
     "output_type": "execute_result"
    }
   ],
   "source": [
    "doc.text[:1000]"
   ]
  },
  {
   "cell_type": "code",
   "execution_count": 28,
   "metadata": {
    "ExecuteTime": {
     "end_time": "2018-05-22T21:46:45.485669Z",
     "start_time": "2018-05-22T21:46:45.470401Z"
    },
    "collapsed": true
   },
   "outputs": [],
   "source": [
    "from lxml import html\n",
    "tree = html.fromstring(doc.content)"
   ]
  },
  {
   "cell_type": "code",
   "execution_count": 30,
   "metadata": {
    "ExecuteTime": {
     "end_time": "2018-05-22T21:46:55.013109Z",
     "start_time": "2018-05-22T21:46:55.005272Z"
    },
    "collapsed": false
   },
   "outputs": [
    {
     "data": {
      "text/plain": [
       "'0001144204-18-018693.txt : 20180402\\n 0001144204-18-018693.hdr.sgml : 20180402\\n 20180402170558\\nACCESSION NUMBER:\\t\\t0001144204-18-018693\\nCONFORMED SUBMISSION TYPE:\\t8-K\\nPUBLIC DOCUMENT COUNT:\\t\\t3\\nCONFORMED PERIOD OF REPORT:\\t20180329\\nITEM INFORMATION:\\t\\tDeparture of Directors or Certain Officers; Election of Directors; Appointment of Certain Officers: Compensatory Arrangements of Certain Officers\\nITEM INFORMATION:\\t\\tRegulation FD Disclosure\\nITEM INFORMATION:\\t\\tFinancial Statements and Exhibits\\nFILED AS OF DATE:\\t\\t20180402\\nDATE AS OF CHANGE:\\t\\t20180402\\n\\nFILER:\\n\\n\\tCOMPANY DATA:\\t\\n\\t\\tCOMPANY CONFORMED NAME:\\t\\t\\tABEONA THERAPEUTICS INC.\\n\\t\\tCENTRAL INDEX KEY:\\t\\t\\t0000318306\\n\\t\\tSTANDARD INDUSTRIAL CLASSIFICATION:\\tPHARMACEUTICAL PREPARATIONS [2834]\\n\\t\\tIRS NUMBER:\\t\\t\\t\\t830221517\\n\\t\\tSTATE OF INCORPORATION:\\t\\t\\tDE\\n\\t\\tFISCAL YEAR END:\\t\\t\\t1231\\n\\n\\tFILING VALUES:\\n\\t\\tFORM TYPE:\\t\\t8-K\\n\\t\\tSEC ACT:\\t\\t1934 Act\\n\\t\\tSEC FILE NUMBER:\\t001-15771\\n\\t\\tFILM NUMBER:\\t\\t18729963\\n\\n\\tBUSINESS ADDRESS:\\t\\n\\t\\tSTREET 1:\\t\\t3333 LEE PARKWAY\\n\\t\\tSTREET 2:\\t\\tSUITE 600\\n'"
      ]
     },
     "execution_count": 30,
     "metadata": {},
     "output_type": "execute_result"
    }
   ],
   "source": [
    "' '.join(tree.itertext())[:1000]"
   ]
  },
  {
   "cell_type": "code",
   "execution_count": 37,
   "metadata": {
    "ExecuteTime": {
     "end_time": "2018-05-22T21:49:47.374088Z",
     "start_time": "2018-05-22T21:49:47.364094Z"
    },
    "collapsed": false
   },
   "outputs": [],
   "source": [
    "import re\n",
    "text = ' '.join(tree.itertext())\n",
    "text = re.sub(r'\\n|\\t|\\xa0', ' ', text)\n",
    "text = re.sub(' +', ' ', text)"
   ]
  },
  {
   "cell_type": "code",
   "execution_count": 3,
   "metadata": {
    "ExecuteTime": {
     "end_time": "2018-05-31T13:37:27.876100Z",
     "start_time": "2018-05-31T13:37:27.862498Z"
    },
    "collapsed": false
   },
   "outputs": [
    {
     "name": "stdout",
     "output_type": "stream",
     "text": [
      "[nltk_data] Downloading package punkt to /Users/marco/nltk_data...\n",
      "[nltk_data]   Package punkt is already up-to-date!\n"
     ]
    },
    {
     "data": {
      "text/plain": [
       "True"
      ]
     },
     "execution_count": 3,
     "metadata": {},
     "output_type": "execute_result"
    }
   ],
   "source": [
    "import nltk\n",
    "nltk.download('punkt')"
   ]
  },
  {
   "cell_type": "code",
   "execution_count": 2,
   "metadata": {
    "ExecuteTime": {
     "end_time": "2018-05-31T13:36:50.120798Z",
     "start_time": "2018-05-31T13:36:47.638598Z"
    },
    "collapsed": false
   },
   "outputs": [
    {
     "name": "stdout",
     "output_type": "stream",
     "text": [
      "[nltk_data] Downloading package punkt to /Users/marco/nltk_data...\n",
      "[nltk_data]   Package punkt is already up-to-date!\n"
     ]
    },
    {
     "ename": "NameError",
     "evalue": "name 'text' is not defined",
     "output_type": "error",
     "traceback": [
      "\u001b[0;31m---------------------------------------------------------------------------\u001b[0m",
      "\u001b[0;31mNameError\u001b[0m                                 Traceback (most recent call last)",
      "\u001b[0;32m<ipython-input-2-a209b31bb8a2>\u001b[0m in \u001b[0;36m<module>\u001b[0;34m()\u001b[0m\n\u001b[1;32m      3\u001b[0m \u001b[0;34m\u001b[0m\u001b[0m\n\u001b[1;32m      4\u001b[0m \u001b[0;32mfrom\u001b[0m \u001b[0mnltk\u001b[0m\u001b[0;34m.\u001b[0m\u001b[0mtokenize\u001b[0m \u001b[0;32mimport\u001b[0m \u001b[0msent_tokenize\u001b[0m\u001b[0;34m\u001b[0m\u001b[0m\n\u001b[0;32m----> 5\u001b[0;31m \u001b[0mchar\u001b[0m \u001b[0;34m=\u001b[0m \u001b[0mtext\u001b[0m\u001b[0;34m.\u001b[0m\u001b[0mfind\u001b[0m\u001b[0;34m(\u001b[0m\u001b[0;34m'Item 5.02'\u001b[0m\u001b[0;34m)\u001b[0m\u001b[0;34m\u001b[0m\u001b[0m\n\u001b[0m\u001b[1;32m      6\u001b[0m \u001b[0;32mif\u001b[0m \u001b[0mchar\u001b[0m \u001b[0;34m>=\u001b[0m \u001b[0;36m0\u001b[0m\u001b[0;34m:\u001b[0m\u001b[0;34m\u001b[0m\u001b[0m\n\u001b[1;32m      7\u001b[0m     \u001b[0msentences\u001b[0m \u001b[0;34m=\u001b[0m \u001b[0msent_tokenize\u001b[0m\u001b[0;34m(\u001b[0m\u001b[0mtext\u001b[0m\u001b[0;34m[\u001b[0m\u001b[0mchar\u001b[0m\u001b[0;34m:\u001b[0m\u001b[0;34m]\u001b[0m\u001b[0;34m)\u001b[0m\u001b[0;34m\u001b[0m\u001b[0m\n",
      "\u001b[0;31mNameError\u001b[0m: name 'text' is not defined"
     ]
    }
   ],
   "source": [
    "from nltk.tokenize import sent_tokenize\n",
    "char = text.find('Item 5.02')\n",
    "if char >= 0:\n",
    "    sentences = sent_tokenize(text[char:])\n",
    "    joined = ' '.join(sentences[0:5])\n",
    "    print(joined)"
   ]
  },
  {
   "cell_type": "markdown",
   "metadata": {
    "collapsed": true
   },
   "source": [
    "This requires building a training set for text classification, likely with a deep neural network. \n",
    "\n",
    "We'll stop here, but here's a possible solution.\n",
    "\n",
    "1. Generate a training set including sentences from `Item 5.02`. \n",
    "1. Label each sample 1 if it represents a `CEO turnover`, 0 otherwise (or more granular if other events are of interest)\n",
    "1. Replace every word with its embedding (`word2vec`, or `sentence encoder`)\n",
    "1. Train a Long-Short Term Memory (Recurrent Neural Network) on the dataset\n",
    "\n",
    "See for example [here](https://machinelearningmastery.com/sequence-classification-lstm-recurrent-neural-networks-python-keras/)"
   ]
  },
  {
   "cell_type": "code",
   "execution_count": null,
   "metadata": {
    "collapsed": true
   },
   "outputs": [],
   "source": []
  }
 ],
 "metadata": {
  "kernelspec": {
   "display_name": "Python 3",
   "language": "python",
   "name": "python3"
  },
  "language_info": {
   "codemirror_mode": {
    "name": "ipython",
    "version": 3
   },
   "file_extension": ".py",
   "mimetype": "text/x-python",
   "name": "python",
   "nbconvert_exporter": "python",
   "pygments_lexer": "ipython3",
   "version": "3.6.0"
  }
 },
 "nbformat": 4,
 "nbformat_minor": 2
}
