{
 "cells": [
  {
   "cell_type": "markdown",
   "metadata": {},
   "source": [
    "## Research Project 1\n",
    "---\n",
    "```text\n",
    "- Source: PCAOB\n",
    "- Goal: Information Extraction from PDF files\n",
    "- Techniques: Regular Expressions\n",
    "- Tools: pdftotext, re, duckling\n",
    "- Lines of code: ~100```"
   ]
  },
  {
   "cell_type": "markdown",
   "metadata": {
    "collapsed": true
   },
   "source": [
    "### Get a PDF\n",
    "---"
   ]
  },
  {
   "cell_type": "code",
   "execution_count": 3,
   "metadata": {
    "ExecuteTime": {
     "end_time": "2018-05-25T21:52:52.792265Z",
     "start_time": "2018-05-25T21:52:51.930980Z"
    },
    "collapsed": false
   },
   "outputs": [],
   "source": [
    "import requests\n",
    "url = 'https://pcaobus.org/Inspections/Reports/Documents/2005_Tamas_B._Revai_CPA.pdf'\n",
    "res = requests.get(url)"
   ]
  },
  {
   "cell_type": "code",
   "execution_count": 5,
   "metadata": {
    "ExecuteTime": {
     "end_time": "2018-05-25T21:52:59.023229Z",
     "start_time": "2018-05-25T21:52:59.016330Z"
    },
    "collapsed": false
   },
   "outputs": [],
   "source": [
    "filename = '2005_Tamas_B._Revai_CPA'\n",
    "with open('../data/%s.pdf' % filename, 'wb') as f:\n",
    "    f.write(res.content)"
   ]
  },
  {
   "cell_type": "code",
   "execution_count": 9,
   "metadata": {
    "ExecuteTime": {
     "end_time": "2018-05-25T21:53:27.783417Z",
     "start_time": "2018-05-25T21:53:27.742795Z"
    },
    "collapsed": false
   },
   "outputs": [
    {
     "name": "stdout",
     "output_type": "stream",
     "text": [
      "\n",
      "1666 K Street, N.W.\n",
      "Washington, DC 20006\n",
      "Telephone: (202) 207-9100\n",
      "Facsimile: (202) 862-8430\n",
      "www.pcaobus.org\n",
      "\n",
      "Inspection of\n",
      "Tamas B. Revai, CPA\n",
      "\n",
      "Issued by the\n",
      "\n",
      "Public Company Accounting Oversight Board\n",
      "June 23, 2005\n",
      "\n",
      "THIS IS A PUBLIC VERSION OF A PCAOB INSPECTION REPORT\n",
      "PORTIONS OF THE COMPLETE REPORT ARE OMITTED\n",
      "FROM THIS DOCUMENT IN ORDER TO COMPLY WITH\n",
      "SECTIONS 104(g)(2) AND 105(b)(5)(A)\n",
      "OF THE SARBANES-OXLEY ACT OF 2002\n",
      "\n",
      "PCAOB RELEASE NO. 104-2005-022\n",
      "\n",
      "\n"
     ]
    }
   ],
   "source": [
    "import sys\n",
    "if sys.platform == 'darwin':\n",
    "    import os\n",
    "    os.system('pdftotext ./data/%s.pdf ../data/%s.txt' % (filename, filename))\n",
    "    pdf = open('../data/%s.txt' % filename).read().split('\\x0c')\n",
    "else:\n",
    "    with open(\"../data/%s.pdf\" % filename, \"rb\") as f:\n",
    "        import pdftotext\n",
    "        pdf = pdftotext.PDF(f)\n",
    "print()\n",
    "print(pdf[0])"
   ]
  },
  {
   "cell_type": "markdown",
   "metadata": {
    "collapsed": true
   },
   "source": [
    "<div class=\"alert alert-block alert-info\" \n",
    "     style=\"border-color: #2E86C1; \n",
    "            border-left: 5px solid #2E86C1;\n",
    "            padding-top: 5px\">\n",
    "    <font size=\"4\"> \n",
    "    <a href=\"./playground.ipynb\" style=\"text-decoration: none\">\n",
    "    <h3 style=\"font-family: monospace\">Exercise 1.1</h3>\n",
    "    <p style=\"margin-left: 100px;\n",
    "              margin-right: 100px;\n",
    "              line-height: 1.7em;\">Write a <span style=\"font-family:monospace;\">get_text_from_pdf</span> function that, given a filename, downloads the PDF and returns its text as a list of pages.</p></a></font>\n",
    "</div>"
   ]
  },
  {
   "cell_type": "markdown",
   "metadata": {},
   "source": [
    "Fields we're interested in:\n",
    "- `PCAOB Release No`\n",
    "- `Firm`\n",
    "- `Offices`\n",
    "- `Ownership structure`\n",
    "- `Date of Inspection Report`\n",
    "- `Inspection Period`\n",
    "- `Failures`"
   ]
  },
  {
   "cell_type": "markdown",
   "metadata": {},
   "source": [
    "### Parse \"`PCAOB Release No`\"\n",
    "---"
   ]
  },
  {
   "cell_type": "code",
   "execution_count": 4,
   "metadata": {
    "ExecuteTime": {
     "end_time": "2018-05-23T21:29:04.006567Z",
     "start_time": "2018-05-23T21:29:03.965214Z"
    },
    "collapsed": false
   },
   "outputs": [
    {
     "data": {
      "text/plain": [
       "'1666 K Street, N.W.\\nWashington, DC 20006\\nTelephone: (202) 207-9100\\nFacsimile: (202) 862-8430\\nwww.pcaobus.org\\n\\nInspection of\\nTamas B. Revai, CPA\\n\\nIssued by the\\n\\nPublic Company Accounting Oversight Board\\nJune 23, 2005\\n\\nTHIS IS A PUBLIC VERSION OF A PCAOB INSPECTION REPORT\\nPORTIONS OF THE COMPLETE REPORT ARE OMITTED\\nFROM THIS DOCUMENT IN ORDER TO COMPLY WITH\\nSECTIONS 104(g)(2) AND 105(b)(5)(A)\\nOF THE SARBANES-OXLEY ACT OF 2002\\n\\nPCAOB RELEASE NO. 104-2005-022\\n\\n'"
      ]
     },
     "execution_count": 4,
     "metadata": {},
     "output_type": "execute_result"
    }
   ],
   "source": [
    "pdf[0]"
   ]
  },
  {
   "cell_type": "code",
   "execution_count": 5,
   "metadata": {
    "ExecuteTime": {
     "end_time": "2018-05-23T21:29:04.033140Z",
     "start_time": "2018-05-23T21:29:04.010974Z"
    },
    "collapsed": false
   },
   "outputs": [
    {
     "data": {
      "text/plain": [
       "'104-2005-022'"
      ]
     },
     "execution_count": 5,
     "metadata": {},
     "output_type": "execute_result"
    }
   ],
   "source": [
    "import re\n",
    "re.findall(r'PCAOB RELEASE NO\\.? ?([0-9\\-]+)', pdf[0], flags=re.IGNORECASE)[0]"
   ]
  },
  {
   "cell_type": "markdown",
   "metadata": {},
   "source": [
    "<div class=\"alert alert-block alert-info\" \n",
    "     style=\"border-color: #2E86C1;\n",
    "            background-color: #FCF3CF;\n",
    "            border-left: 5px solid #2E86C1;\n",
    "            padding-top: 5px\">\n",
    "    <font size=\"4\">\n",
    "    <a href=\"../deep_dives/regex.ipynb\" style=\"text-decoration: none\"> \n",
    "    <h3 style=\"font-family: monospace\">Deep-dive</h3>\n",
    "    <p style=\"margin-left: 100px;\n",
    "              margin-right: 100px;\n",
    "              line-height: 1.7em;\">Regular expressions</p></a></font>\n",
    "</div>"
   ]
  },
  {
   "cell_type": "markdown",
   "metadata": {},
   "source": [
    "### Parse \"`Firm`\"\n",
    "---"
   ]
  },
  {
   "cell_type": "code",
   "execution_count": 6,
   "metadata": {
    "ExecuteTime": {
     "end_time": "2018-05-23T21:29:04.051406Z",
     "start_time": "2018-05-23T21:29:04.042082Z"
    },
    "collapsed": false
   },
   "outputs": [
    {
     "data": {
      "text/plain": [
       "'Tamas B. Revai, CPA'"
      ]
     },
     "execution_count": 6,
     "metadata": {},
     "output_type": "execute_result"
    }
   ],
   "source": [
    "re.findall(r'Inspection of\\n?(.*?)\\n', pdf[0])[0]"
   ]
  },
  {
   "cell_type": "markdown",
   "metadata": {},
   "source": [
    "### Parse \"`Offices`\"\n",
    "---"
   ]
  },
  {
   "cell_type": "code",
   "execution_count": 7,
   "metadata": {
    "ExecuteTime": {
     "end_time": "2018-05-23T21:29:04.062871Z",
     "start_time": "2018-05-23T21:29:04.054993Z"
    },
    "collapsed": false
   },
   "outputs": [
    {
     "data": {
      "text/plain": [
       "'PCAOB Release No. 104-2005-022\\nInspection of Tamas B. Revai, CPA\\nJune 23, 2005\\nPage 2\\n\\nPART I\\nINSPECTION PROCEDURES AND CERTAIN OBSERVATIONS\\nMembers of the Board\\'s inspection staff (\"the inspection team\") conducted\\nfieldwork for the inspection on September 7, 2004 and October 7, 2004. The fieldwork\\nincluded procedures tailored to the nature of the Firm, certain aspects of which the\\ninspection team understood at the outset of the inspection to be as follows:\\nNumber of offices\\n\\n1 (New York, New York)\\n\\nOwnership structure\\n\\nSole proprietorship\\n\\nNumber of partners\\n\\n1\\n\\nNumber of professional staff3/\\n\\nNone\\n\\nNumber of issuer audit clients4/\\n\\nNone5/\\n\\nBoard inspections are designed to identify and address weaknesses and\\ndeficiencies related to how a firm conducts audits. To achieve that goal, Board\\ninspections include reviews of certain aspects of selected audits performed by the firm\\nand reviews of other matters related to the firm\\'s quality control system.\\nIn the course of reviewing aspects of selected audits, an inspection may identify\\nways in which a particular audit is deficient, including failures by the firm to identify, or to\\n3/\\n\\n\"Professional staff\" includes all personnel of the Firm, except partners or\\nshareholders and administrative support personnel.\\n4/\\n\\nThe number of issuer audit clients shown here is based on the Firm\\'s selfreporting and the inspection team\\'s review of certain information for inspection planning\\npurposes. It does not reflect any Board determination concerning which, or how many,\\nof the Firm\\'s audit clients are \"issuers\" as defined in the Act.\\n5/\\n\\nPrior to the beginning of the inspection field work, the Firm ceased to be\\nthe auditor of its single issuer client. The inspection team reviewed aspects of the\\nFirm\\'s most recent complete audit of this former client.\\n\\n'"
      ]
     },
     "execution_count": 7,
     "metadata": {},
     "output_type": "execute_result"
    }
   ],
   "source": [
    "pdf[3]"
   ]
  },
  {
   "cell_type": "code",
   "execution_count": 8,
   "metadata": {
    "ExecuteTime": {
     "end_time": "2018-05-23T21:29:04.075010Z",
     "start_time": "2018-05-23T21:29:04.065865Z"
    },
    "collapsed": false
   },
   "outputs": [
    {
     "data": {
      "text/plain": [
       "'1 (New York, New York)'"
      ]
     },
     "execution_count": 8,
     "metadata": {},
     "output_type": "execute_result"
    }
   ],
   "source": [
    "re.findall(r'Number of offices(.*?)Ownership', pdf[3], flags=re.DOTALL)[0].strip()"
   ]
  },
  {
   "cell_type": "markdown",
   "metadata": {},
   "source": [
    "### Parse \"`Ownership structure`\"\n",
    "---"
   ]
  },
  {
   "cell_type": "markdown",
   "metadata": {
    "ExecuteTime": {
     "end_time": "2018-05-23T21:22:15.232639Z",
     "start_time": "2018-05-23T21:22:15.225029Z"
    },
    "collapsed": false
   },
   "source": [
    "<div class=\"alert alert-block alert-info\" \n",
    "     style=\"border-color: #2E86C1; \n",
    "            border-left: 5px solid #2E86C1;\n",
    "            padding-top: 5px\">\n",
    "    <font size=\"4\"> \n",
    "    <a href=\"./playground.ipynb\" style=\"text-decoration: none\">\n",
    "    <h3 style=\"font-family: monospace\">Exercise 1.2</h3>\n",
    "    <p style=\"margin-left: 100px;\n",
    "              margin-right: 100px;\n",
    "              line-height: 1.7em;\">\n",
    "                    Write a regular expression that prints out the ownership structure of the company</p></a></font>\n",
    "</div>"
   ]
  },
  {
   "cell_type": "markdown",
   "metadata": {},
   "source": [
    "### Parse \"`Date of Inspection Report`\"\n",
    "---"
   ]
  },
  {
   "cell_type": "code",
   "execution_count": 9,
   "metadata": {
    "ExecuteTime": {
     "end_time": "2018-05-23T21:29:33.643602Z",
     "start_time": "2018-05-23T21:29:04.077777Z"
    },
    "collapsed": false
   },
   "outputs": [],
   "source": [
    "from duckling import DucklingWrapper\n",
    "DUCK_PARSER = DucklingWrapper()"
   ]
  },
  {
   "cell_type": "code",
   "execution_count": 10,
   "metadata": {
    "ExecuteTime": {
     "end_time": "2018-05-23T21:29:33.968727Z",
     "start_time": "2018-05-23T21:29:33.651343Z"
    },
    "collapsed": false
   },
   "outputs": [
    {
     "data": {
      "text/plain": [
       "16"
      ]
     },
     "execution_count": 10,
     "metadata": {},
     "output_type": "execute_result"
    }
   ],
   "source": [
    "parsed = DUCK_PARSER.parse_time(pdf[0])\n",
    "len(parsed)"
   ]
  },
  {
   "cell_type": "code",
   "execution_count": 11,
   "metadata": {
    "ExecuteTime": {
     "end_time": "2018-05-23T21:29:33.992049Z",
     "start_time": "2018-05-23T21:29:33.972421Z"
    },
    "collapsed": false
   },
   "outputs": [
    {
     "data": {
      "text/plain": [
       "{'dim': 'time',\n",
       " 'end': 4,\n",
       " 'start': 0,\n",
       " 'text': '1666',\n",
       " 'value': {'grain': 'year',\n",
       "  'others': [],\n",
       "  'value': '1666-01-01T00:00:00.000-04:56:02'}}"
      ]
     },
     "execution_count": 11,
     "metadata": {},
     "output_type": "execute_result"
    }
   ],
   "source": [
    "parsed[0]"
   ]
  },
  {
   "cell_type": "code",
   "execution_count": 12,
   "metadata": {
    "ExecuteTime": {
     "end_time": "2018-05-23T21:29:34.017096Z",
     "start_time": "2018-05-23T21:29:33.995106Z"
    },
    "collapsed": false
   },
   "outputs": [
    {
     "data": {
      "text/plain": [
       "[{'dim': 'time',\n",
       "  'end': 4,\n",
       "  'start': 0,\n",
       "  'text': '1666',\n",
       "  'value': {'grain': 'year',\n",
       "   'others': [],\n",
       "   'value': '1666-01-01T00:00:00.000-04:56:02'}},\n",
       " {'dim': 'time',\n",
       "  'end': 427,\n",
       "  'start': 423,\n",
       "  'text': '2002',\n",
       "  'value': {'grain': 'year',\n",
       "   'others': [],\n",
       "   'value': '2002-01-01T00:00:00.000-05:00'}},\n",
       " {'dim': 'time',\n",
       "  'end': 56,\n",
       "  'start': 53,\n",
       "  'text': '202',\n",
       "  'value': {'grain': 'year',\n",
       "   'others': [],\n",
       "   'value': '0202-01-01T00:00:00.000-04:56:02'}},\n",
       " {'dim': 'time',\n",
       "  'end': 61,\n",
       "  'start': 58,\n",
       "  'text': '207',\n",
       "  'value': {'grain': 'year',\n",
       "   'others': [],\n",
       "   'value': '0207-01-01T00:00:00.000-04:56:02'}},\n",
       " {'dim': 'time',\n",
       "  'end': 82,\n",
       "  'start': 79,\n",
       "  'text': '202',\n",
       "  'value': {'grain': 'year',\n",
       "   'others': [],\n",
       "   'value': '0202-01-01T00:00:00.000-04:56:02'}},\n",
       " {'dim': 'time',\n",
       "  'end': 87,\n",
       "  'start': 84,\n",
       "  'text': '862',\n",
       "  'value': {'grain': 'year',\n",
       "   'others': [],\n",
       "   'value': '0862-01-01T00:00:00.000-04:56:02'}},\n",
       " {'dim': 'time',\n",
       "  'end': 370,\n",
       "  'start': 367,\n",
       "  'text': '104',\n",
       "  'value': {'grain': 'year',\n",
       "   'others': [],\n",
       "   'value': '0104-01-01T00:00:00.000-04:56:02'}},\n",
       " {'dim': 'time',\n",
       "  'end': 384,\n",
       "  'start': 381,\n",
       "  'text': '105',\n",
       "  'value': {'grain': 'year',\n",
       "   'others': [],\n",
       "   'value': '0105-01-01T00:00:00.000-04:56:02'}},\n",
       " {'dim': 'time',\n",
       "  'end': 450,\n",
       "  'start': 447,\n",
       "  'text': '104',\n",
       "  'value': {'grain': 'year',\n",
       "   'others': [],\n",
       "   'value': '0104-01-01T00:00:00.000-04:56:02'}},\n",
       " {'dim': 'time',\n",
       "  'end': 375,\n",
       "  'start': 374,\n",
       "  'text': '2',\n",
       "  'value': {'grain': 'hour',\n",
       "   'others': [{'grain': 'hour', 'value': '2018-05-24T02:00:00.000-04:00'},\n",
       "    {'grain': 'hour', 'value': '2018-05-24T14:00:00.000-04:00'},\n",
       "    {'grain': 'hour', 'value': '2018-05-25T02:00:00.000-04:00'}],\n",
       "   'value': '2018-05-24T02:00:00.000-04:00'}},\n",
       " {'dim': 'time',\n",
       "  'end': 389,\n",
       "  'start': 388,\n",
       "  'text': '5',\n",
       "  'value': {'grain': 'hour',\n",
       "   'others': [{'grain': 'hour', 'value': '2018-05-24T05:00:00.000-04:00'},\n",
       "    {'grain': 'hour', 'value': '2018-05-24T17:00:00.000-04:00'},\n",
       "    {'grain': 'hour', 'value': '2018-05-25T05:00:00.000-04:00'}],\n",
       "   'value': '2018-05-24T05:00:00.000-04:00'}},\n",
       " {'dim': 'time',\n",
       "  'end': 215,\n",
       "  'start': 202,\n",
       "  'text': 'June 23, 2005',\n",
       "  'value': {'grain': 'day',\n",
       "   'others': [],\n",
       "   'value': '2005-06-23T00:00:00.000-04:00'}},\n",
       " {'dim': 'time',\n",
       "  'end': 66,\n",
       "  'start': 61,\n",
       "  'text': '-9100',\n",
       "  'value': {'grain': 'year',\n",
       "   'others': [],\n",
       "   'value': '2000-01-01T00:00:00.000-05:00'}},\n",
       " {'dim': 'time',\n",
       "  'end': 92,\n",
       "  'start': 87,\n",
       "  'text': '-8430',\n",
       "  'value': {'grain': 'year',\n",
       "   'others': [],\n",
       "   'value': '1970-01-01T00:00:00.000-05:00'}},\n",
       " {'dim': 'time',\n",
       "  'end': 455,\n",
       "  'start': 450,\n",
       "  'text': '-2005',\n",
       "  'value': {'grain': 'year',\n",
       "   'others': [],\n",
       "   'value': '1995-01-01T00:00:00.000-05:00'}},\n",
       " {'dim': 'time',\n",
       "  'end': 459,\n",
       "  'start': 455,\n",
       "  'text': '-022',\n",
       "  'value': {'grain': 'year',\n",
       "   'others': [],\n",
       "   'value': '1978-01-01T00:00:00.000-05:00'}}]"
      ]
     },
     "execution_count": 12,
     "metadata": {},
     "output_type": "execute_result"
    }
   ],
   "source": [
    "parsed"
   ]
  },
  {
   "cell_type": "code",
   "execution_count": 13,
   "metadata": {
    "ExecuteTime": {
     "end_time": "2018-05-23T21:29:34.043081Z",
     "start_time": "2018-05-23T21:29:34.027645Z"
    },
    "collapsed": false
   },
   "outputs": [
    {
     "data": {
      "text/plain": [
       "['2005-06-23T00:00:00.000-04:00']"
      ]
     },
     "execution_count": 13,
     "metadata": {},
     "output_type": "execute_result"
    }
   ],
   "source": [
    "report = [i['value']['value'] for i in parsed if 'grain' in i['value'] and \n",
    "          i['value']['grain'] == 'day']\n",
    "report"
   ]
  },
  {
   "cell_type": "code",
   "execution_count": 14,
   "metadata": {
    "ExecuteTime": {
     "end_time": "2018-05-23T21:29:34.063489Z",
     "start_time": "2018-05-23T21:29:34.047942Z"
    },
    "collapsed": false
   },
   "outputs": [
    {
     "data": {
      "text/plain": [
       "datetime.datetime(2005, 6, 23, 0, 0)"
      ]
     },
     "execution_count": 14,
     "metadata": {},
     "output_type": "execute_result"
    }
   ],
   "source": [
    "from dateutil import parser\n",
    "sorted([parser.parse(i).replace(tzinfo=None) for i in report])[0]"
   ]
  },
  {
   "cell_type": "markdown",
   "metadata": {},
   "source": [
    "### Parse \"`Inspection Period`\"\n",
    "---"
   ]
  },
  {
   "cell_type": "code",
   "execution_count": 15,
   "metadata": {
    "ExecuteTime": {
     "end_time": "2018-05-23T21:29:34.425005Z",
     "start_time": "2018-05-23T21:29:34.070893Z"
    },
    "collapsed": false
   },
   "outputs": [
    {
     "data": {
      "text/plain": [
       "['2004-10-07T00:00:00.000-04:00', '2004-09-07T00:00:00.000-04:00']"
      ]
     },
     "execution_count": 15,
     "metadata": {},
     "output_type": "execute_result"
    }
   ],
   "source": [
    "parsed = DUCK_PARSER.parse_time(pdf[3])\n",
    "values = [i['value']['value'] for i in parsed if 'grain' in i['value'] and \n",
    "          i['value']['grain'] == 'day' if i['value']['value'] not in report]\n",
    "values"
   ]
  },
  {
   "cell_type": "markdown",
   "metadata": {},
   "source": [
    "### Parse \"`Failures`\"\n",
    "---"
   ]
  },
  {
   "cell_type": "code",
   "execution_count": 16,
   "metadata": {
    "ExecuteTime": {
     "end_time": "2018-05-23T21:29:34.445769Z",
     "start_time": "2018-05-23T21:29:34.435642Z"
    },
    "collapsed": false
   },
   "outputs": [
    {
     "data": {
      "text/plain": [
       "\"PCAOB Release No. 104-2005-022\\nInspection of Tamas B. Revai, CPA\\nJune 23, 2005\\nPage 3\\n\\naddress appropriately, respects in which an issuer's financial statements do not present\\nfairly the financial position, results of operations, or cash flows of the issuer in\\nconformity with GAAP.6/ It is not the purpose of an inspection, however, to review all of\\na firm's audits or to identify every respect in which a reviewed audit is deficient.\\nAccordingly, a Board inspection report should not be understood to provide any\\nassurance that the firm's audits, or its issuer clients' financial statements, are free of any\\ndeficiencies not specifically described in an inspection report.\\nA.\\n\\nReview of Audit Engagement\\n\\nThe scope of the inspection procedures performed included review of aspects of\\nthe performance of the Firm's audit of the financial statements of its issuer audit client.\\nThose aspects were selected according to the Board's criteria, and the Firm was not\\nallowed an opportunity to limit or influence the selection process.\\nThe inspection team identified matters that it considered to be audit\\ndeficiencies.7/ The deficiencies identified included deficiencies of such significance that\\nit appeared to the inspection team that the Firm did not obtain sufficient competent\\nevidential matter to support its opinion on the issuer's financial statements. Those\\ndeficiencies included –\\n(1)\\nthe pervasive failure to plan, perform, and document performance of the\\naudit or the quarterly reviews of interim financial information for the first three\\nquarters of the issuer's fiscal year; and\\n6/\\n\\nWhen it comes to the Board's attention that an\\nstatements appear not to present fairly, in a material respect, the\\nresults of operations or cash flows of the issuer in conformity with\\nreports that information to the SEC, which has jurisdiction to\\naccounting in issuers' financial statements.\\n7/\\n\\nissuer's financial\\nfinancial position,\\nGAAP, the Board\\ndetermine proper\\n\\nPCAOB standards require a firm to take appropriate actions to assess the\\nimportance of audit deficiencies identified after the date of the audit report to the firm's\\npresent ability to support its previously expressed opinions. See AU 390, Consideration\\nof Omitted Procedures After the Report Date, and AU 561, Subsequent Discovery of\\nFacts Existing at the Date of the Auditor's Report (both included among the PCAOB's\\ninterim auditing standards, pursuant to PCAOB Rule 3200T). Failure to comply with\\nthese PCAOB standards could be a basis for Board disciplinary sanctions.\\n\\n PCAOB Release No. 104-2005-022\\nInspection of Tamas B. Revai, CPA\\nJune 23, 2005\\nPage 4\\n\\n(2)\\nthe failure to properly evaluate the issuer's ability to continue as a going\\nconcern.\\nB.\\n\\nReview of Quality Control System\\n\\nIn addition to evaluating the quality of the audit work performed on a specific\\naudit, the inspection included review of certain of the Firm's practices, policies and\\nprocedures related to audit quality. This review addressed practices, policies and\\nprocedures concerning audit performance, training, compliance with independence\\nstandards, client acceptance and retention, and the establishment of policies and\\nprocedures. As described above, any defects in, or criticisms of, the Firm's quality\\ncontrol system are discussed in the nonpublic portion of this report and will remain\\nnonpublic unless the Firm fails to address them to the Board's satisfaction within 12\\nmonths of the date of this report.\\nEND OF PART I\\n\\n\""
      ]
     },
     "execution_count": 16,
     "metadata": {},
     "output_type": "execute_result"
    }
   ],
   "source": [
    "pdf[4] + ' ' + pdf[5]"
   ]
  },
  {
   "cell_type": "code",
   "execution_count": 17,
   "metadata": {
    "ExecuteTime": {
     "end_time": "2018-05-23T21:29:34.467485Z",
     "start_time": "2018-05-23T21:29:34.450933Z"
    },
    "collapsed": false
   },
   "outputs": [
    {
     "data": {
      "text/plain": [
       "[\"the pervasive failure to plan, perform, and document performance of the audit or the quarterly reviews of interim financial information for the first three quarters of the issuer's fiscal year\",\n",
       " \"the failure to properly evaluate the issuer's ability to continue as a going concern\"]"
      ]
     },
     "execution_count": 17,
     "metadata": {},
     "output_type": "execute_result"
    }
   ],
   "source": [
    "failures = re.findall(r'\\n\\(\\d\\)(.*?failure.*?)(?:\\.|;)', \n",
    "                      pdf[4] + ' ' + pdf[5], flags=re.DOTALL)\n",
    "[' '.join(i.split()).strip() for i in failures]"
   ]
  },
  {
   "cell_type": "markdown",
   "metadata": {},
   "source": [
    "<div class=\"alert alert-block alert-info\" \n",
    "     style=\"border-color: #2E86C1; \n",
    "            border-left: 5px solid #2E86C1;\n",
    "            padding-top: 5px\">\n",
    "    <font size=\"4\"> \n",
    "    <a href=\"./playground.ipynb\" style=\"text-decoration: none\">\n",
    "    <h3 style=\"font-family: monospace\">Exercise 1.3</h3>\n",
    "    <p style=\"margin-left: 100px;\n",
    "              margin-right: 100px;\n",
    "              line-height: 1.7em;\">Write a function <span style=\"font-family:monospace;\">parse_text</span> that, given the parsed <span style=\"font-family:monospace;\">pdf</span>, returns a dictionary with all the fields we extracted above.</p></a></font>\n",
    "</div>"
   ]
  },
  {
   "cell_type": "code",
   "execution_count": null,
   "metadata": {
    "collapsed": true
   },
   "outputs": [],
   "source": []
  }
 ],
 "metadata": {
  "kernelspec": {
   "display_name": "Python 3",
   "language": "python",
   "name": "python3"
  },
  "language_info": {
   "codemirror_mode": {
    "name": "ipython",
    "version": 3
   },
   "file_extension": ".py",
   "mimetype": "text/x-python",
   "name": "python",
   "nbconvert_exporter": "python",
   "pygments_lexer": "ipython3",
   "version": "3.6.0"
  }
 },
 "nbformat": 4,
 "nbformat_minor": 2
}
