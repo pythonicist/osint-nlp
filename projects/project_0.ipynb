{
 "cells": [
  {
   "cell_type": "markdown",
   "metadata": {},
   "source": [
    "## Natural Language Processing with Python\n",
    "---"
   ]
  },
  {
   "cell_type": "markdown",
   "metadata": {
    "heading_collapsed": true
   },
   "source": [
    "### NLP is hard. \n",
    "### Exhibit 1: `Sentiment Analysis`\n",
    "---"
   ]
  },
  {
   "cell_type": "code",
   "execution_count": 1,
   "metadata": {
    "ExecuteTime": {
     "end_time": "2018-05-28T17:04:35.599291Z",
     "start_time": "2018-05-28T17:04:35.590989Z"
    },
    "collapsed": false,
    "hidden": true
   },
   "outputs": [],
   "source": [
    "scores = {\n",
    "    \"You are shit\": -1, \n",
    "    \"You ain't shit\": -1, \n",
    "    \"You are not shit\": 0,\n",
    "    \"You are the shit\": 1,\n",
    "    \"You are not the shit\": -1\n",
    "}"
   ]
  },
  {
   "cell_type": "markdown",
   "metadata": {
    "heading_collapsed": true
   },
   "source": [
    "### NLP is hard. \n",
    "### Exhibit 2: `Machine translation`\n",
    "---"
   ]
  },
  {
   "cell_type": "markdown",
   "metadata": {
    "ExecuteTime": {
     "end_time": "2018-05-23T23:03:03.705932Z",
     "start_time": "2018-05-23T23:03:03.702869Z"
    },
    "collapsed": true,
    "hidden": true
   },
   "source": [
    "<font size=\"3\"><a href=\"http://www.translationparty.com/it-unlikely-that-this-phrase-will-generate-anything-meaningful-after-13225425\">Translation Party!</a></font><br/><br/>\n",
    "\n",
    "<font size=\"3\">Translations on Google Translate of \"I'm a flat earther\" to</font>\n",
    "\n",
    "Language|Translation|Back to English\n",
    "---|---|---\n",
    "Italian|\"Sono un piatto\"|\"I am a dish.\"\n",
    "German|\"Ich bin ein flacher Erdenmensch\"|\"I'm a flat human from Earth.\"\n",
    "Dutch|\"Ik ben een platte weg\"|\"I'm a flat road.\"\n",
    "Arabic|\"أنا أذن مسطح\"|\"I'm a flat ear.\"\n",
    "Hebrew|\"אני אחורית שטוחה\"|\"I'm a flat back.\"\n",
    "Japanese|\"私はフラットアースターです\"|\"I'm a flat star.\"\n",
    "Azerbaijani|\"Mən düz bir quldurum\"|\"I'm a straight robber.\"\n",
    "Finnish|\"Olen tasainen maanpäällinen\"|\"I have a flat above ground.\"\n",
    "Welsh|\"Rwy'n fflat ymhellach\"|\"I'm an apartment further.\"\n",
    "Zulu|\"Ngingumhlabathi obala\"|\"I'm am open ground.\"\n",
    "Lao|\"ຂ້າພະເຈົ້າເປັນເອກະລັກພື້ນເຮືອນ\"|\"I am unique on the floor.\"\n",
    "Somali|\"Anigu waxaan ahay guri caadi ah\"|\"I am a real house.\"\n",
    "Spanish|\"Soy un chico de tierra plano\"|\"I'm a boy from flat land\"\n",
    "French|\"Je suis un fou\"|\"I'm a crazy person.\"\n",
    "\n",
    "<font size=\"3\"><br/>... and \"I am a flat earther\" might give you different results, of course.</font>"
   ]
  },
  {
   "cell_type": "markdown",
   "metadata": {
    "heading_collapsed": true
   },
   "source": [
    "### NLP is hard. \n",
    "### Exhibit 3: `POS tagging`\n",
    "---"
   ]
  },
  {
   "cell_type": "code",
   "execution_count": 2,
   "metadata": {
    "ExecuteTime": {
     "end_time": "2018-05-28T17:04:38.231806Z",
     "start_time": "2018-05-28T17:04:35.768537Z"
    },
    "collapsed": false,
    "hidden": true
   },
   "outputs": [
    {
     "name": "stdout",
     "output_type": "stream",
     "text": [
      "[nltk_data] Downloading package punkt to /Users/marco/nltk_data...\n",
      "[nltk_data]   Package punkt is already up-to-date!\n",
      "[nltk_data] Downloading package wordnet to /Users/marco/nltk_data...\n",
      "[nltk_data]   Package wordnet is already up-to-date!\n",
      "[nltk_data] Downloading package averaged_perceptron_tagger to\n",
      "[nltk_data]     /Users/marco/nltk_data...\n",
      "[nltk_data]   Package averaged_perceptron_tagger is already up-to-\n",
      "[nltk_data]       date!\n"
     ]
    },
    {
     "data": {
      "text/plain": [
       "[('Buffalo', 'NNP'),\n",
       " ('buffalo', 'NN'),\n",
       " (',', ','),\n",
       " ('Buffalo', 'NNP'),\n",
       " ('buffalo', 'NN'),\n",
       " ('buffalo', 'NN'),\n",
       " (',', ','),\n",
       " ('buffalo', 'NN'),\n",
       " ('Buffalo', 'NNP'),\n",
       " ('buffalo', 'NN')]"
      ]
     },
     "execution_count": 2,
     "metadata": {},
     "output_type": "execute_result"
    }
   ],
   "source": [
    "import nltk\n",
    "nltk.download('punkt')\n",
    "nltk.download('wordnet')\n",
    "nltk.download('averaged_perceptron_tagger')\n",
    "\n",
    "from nltk.tokenize import word_tokenize\n",
    "\n",
    "s = \"Buffalo buffalo, Buffalo buffalo buffalo, buffalo Buffalo buffalo\"\n",
    "\n",
    "tokens = word_tokenize(s)\n",
    "nltk.pos_tag(tokens)"
   ]
  },
  {
   "cell_type": "markdown",
   "metadata": {
    "heading_collapsed": true
   },
   "source": [
    "### NLP is hard. \n",
    "### Exhibit 4: `Word-sense disambiguation`\n",
    "---"
   ]
  },
  {
   "cell_type": "markdown",
   "metadata": {
    "hidden": true
   },
   "source": [
    "Not something you want to be seen googling:\n",
    "\n",
    "- \"disown slave process\"\n",
    "- \"how to execute children\"\n",
    "- \"display child images\"\n",
    "- \"force children to become parents\"\n",
    "- \"kill zombie parent with fork, make child deamon\""
   ]
  },
  {
   "cell_type": "markdown",
   "metadata": {
    "hidden": true
   },
   "source": [
    "<div class=\"alert alert-block alert-info\" \n",
    "     style=\"border-color: #2E86C1;\n",
    "            background-color: #FCF3CF;\n",
    "            border-left: 5px solid #2E86C1;\n",
    "            padding-top: 5px\">\n",
    "    <font size=\"4\">\n",
    "    <a href=\"../deep_dives/jupyter.ipynb\" style=\"text-decoration: none\"> \n",
    "    <h3 style=\"font-family: monospace\">Deep-dive 0.1</h3>\n",
    "    <p style=\"margin-left: 100px;\n",
    "              margin-right: 100px;\n",
    "              line-height: 1.7em;\">The Jupyter notebook</p></a></font>\n",
    "</div>"
   ]
  },
  {
   "cell_type": "markdown",
   "metadata": {
    "heading_collapsed": true
   },
   "source": [
    "### String manipulation\n",
    "---"
   ]
  },
  {
   "cell_type": "code",
   "execution_count": 3,
   "metadata": {
    "ExecuteTime": {
     "end_time": "2018-05-28T17:04:38.241187Z",
     "start_time": "2018-05-28T17:04:38.233578Z"
    },
    "collapsed": false,
    "hidden": true
   },
   "outputs": [
    {
     "data": {
      "text/plain": [
       "True"
      ]
     },
     "execution_count": 3,
     "metadata": {},
     "output_type": "execute_result"
    }
   ],
   "source": [
    "'Georgetown' == \"Georgetown\""
   ]
  },
  {
   "cell_type": "code",
   "execution_count": 4,
   "metadata": {
    "ExecuteTime": {
     "end_time": "2018-05-28T17:04:38.248551Z",
     "start_time": "2018-05-28T17:04:38.244022Z"
    },
    "collapsed": false,
    "hidden": true
   },
   "outputs": [],
   "source": [
    "s = 'Georgetown isn\\'t in Boston'"
   ]
  },
  {
   "cell_type": "code",
   "execution_count": 5,
   "metadata": {
    "ExecuteTime": {
     "end_time": "2018-05-28T17:04:38.255286Z",
     "start_time": "2018-05-28T17:04:38.251671Z"
    },
    "collapsed": true,
    "hidden": true
   },
   "outputs": [],
   "source": [
    "s1 = ('This string goes over'\n",
    "      'more than one line')"
   ]
  },
  {
   "cell_type": "code",
   "execution_count": 6,
   "metadata": {
    "ExecuteTime": {
     "end_time": "2018-05-28T17:04:38.263334Z",
     "start_time": "2018-05-28T17:04:38.258448Z"
    },
    "collapsed": true,
    "hidden": true
   },
   "outputs": [],
   "source": [
    "s2 = 'This string goes over' \\\n",
    "     'more than one line'"
   ]
  },
  {
   "cell_type": "code",
   "execution_count": 7,
   "metadata": {
    "ExecuteTime": {
     "end_time": "2018-05-28T17:04:38.270965Z",
     "start_time": "2018-05-28T17:04:38.265645Z"
    },
    "collapsed": false,
    "hidden": true
   },
   "outputs": [],
   "source": [
    "s3 = \"\"\"\n",
    "This string goes over\n",
    "more than one line\n",
    "\"\"\""
   ]
  },
  {
   "cell_type": "code",
   "execution_count": 8,
   "metadata": {
    "ExecuteTime": {
     "end_time": "2018-05-28T17:04:38.279713Z",
     "start_time": "2018-05-28T17:04:38.273424Z"
    },
    "collapsed": false,
    "hidden": true
   },
   "outputs": [
    {
     "name": "stdout",
     "output_type": "stream",
     "text": [
      "This string goes overmore than one line\n",
      "This string goes overmore than one line\n",
      "\n",
      "This string goes over\n",
      "more than one line\n",
      "\n"
     ]
    }
   ],
   "source": [
    "print(s1)\n",
    "print(s2)\n",
    "print(s3)"
   ]
  },
  {
   "cell_type": "code",
   "execution_count": 9,
   "metadata": {
    "ExecuteTime": {
     "end_time": "2018-05-28T17:04:38.287195Z",
     "start_time": "2018-05-28T17:04:38.282744Z"
    },
    "collapsed": false,
    "hidden": true
   },
   "outputs": [],
   "source": [
    "gtown = 'Georgetown'"
   ]
  },
  {
   "cell_type": "code",
   "execution_count": 10,
   "metadata": {
    "ExecuteTime": {
     "end_time": "2018-05-28T17:04:38.296205Z",
     "start_time": "2018-05-28T17:04:38.290083Z"
    },
    "collapsed": false,
    "hidden": true
   },
   "outputs": [
    {
     "data": {
      "text/plain": [
       "'Georgetown is awesome'"
      ]
     },
     "execution_count": 10,
     "metadata": {},
     "output_type": "execute_result"
    }
   ],
   "source": [
    "gtown + ' ' + 'is' + ' ' + 'awesome'"
   ]
  },
  {
   "cell_type": "code",
   "execution_count": 11,
   "metadata": {
    "ExecuteTime": {
     "end_time": "2018-05-28T17:04:38.306522Z",
     "start_time": "2018-05-28T17:04:38.299421Z"
    },
    "collapsed": false,
    "hidden": true
   },
   "outputs": [
    {
     "data": {
      "text/plain": [
       "'Georgetown Georgetown Georgetown '"
      ]
     },
     "execution_count": 11,
     "metadata": {},
     "output_type": "execute_result"
    }
   ],
   "source": [
    "(gtown + ' ') * 3"
   ]
  },
  {
   "cell_type": "code",
   "execution_count": 12,
   "metadata": {
    "ExecuteTime": {
     "end_time": "2018-05-28T17:04:38.316507Z",
     "start_time": "2018-05-28T17:04:38.308882Z"
    },
    "collapsed": false,
    "hidden": true
   },
   "outputs": [
    {
     "data": {
      "text/plain": [
       "'G'"
      ]
     },
     "execution_count": 12,
     "metadata": {},
     "output_type": "execute_result"
    }
   ],
   "source": [
    "gtown[0]"
   ]
  },
  {
   "cell_type": "code",
   "execution_count": 13,
   "metadata": {
    "ExecuteTime": {
     "end_time": "2018-05-28T17:04:38.325368Z",
     "start_time": "2018-05-28T17:04:38.319159Z"
    },
    "collapsed": false,
    "hidden": true
   },
   "outputs": [
    {
     "data": {
      "text/plain": [
       "'n'"
      ]
     },
     "execution_count": 13,
     "metadata": {},
     "output_type": "execute_result"
    }
   ],
   "source": [
    "gtown[-1]"
   ]
  },
  {
   "cell_type": "markdown",
   "metadata": {
    "hidden": true
   },
   "source": [
    "**`Substring`** = continuous section of a string\n",
    "\n",
    "![indexes](../images/indexes.png)"
   ]
  },
  {
   "cell_type": "code",
   "execution_count": 14,
   "metadata": {
    "ExecuteTime": {
     "end_time": "2018-05-28T17:04:38.336695Z",
     "start_time": "2018-05-28T17:04:38.328088Z"
    },
    "collapsed": false,
    "hidden": true
   },
   "outputs": [
    {
     "data": {
      "text/plain": [
       "'get George to town'"
      ]
     },
     "execution_count": 14,
     "metadata": {},
     "output_type": "execute_result"
    }
   ],
   "source": [
    "gtown[4:7] + ' ' + gtown[-10:-4] + ' ' + gtown[6:8] + ' ' + gtown[-4:]"
   ]
  },
  {
   "cell_type": "code",
   "execution_count": 15,
   "metadata": {
    "ExecuteTime": {
     "end_time": "2018-05-28T17:04:38.353457Z",
     "start_time": "2018-05-28T17:04:38.340396Z"
    },
    "collapsed": false,
    "hidden": true
   },
   "outputs": [
    {
     "name": "stdout",
     "output_type": "stream",
     "text": [
      "gEOrgEtOwn"
     ]
    }
   ],
   "source": [
    "for char in gtown:\n",
    "    if char in 'aeiou': print(char.upper(), end='')\n",
    "    else: print(char.lower(), end='')"
   ]
  },
  {
   "cell_type": "markdown",
   "metadata": {
    "hidden": true
   },
   "source": [
    "<div class=\"alert alert-block alert-info\" \n",
    "     style=\"border-color: #2E86C1; \n",
    "            border-left: 5px solid #2E86C1;\n",
    "            padding-top: 5px\">\n",
    "    <font size=\"3\"> \n",
    "    <a href=\"./playground.ipynb\" style=\"text-decoration: none\"> \n",
    "    <h3 style=\"font-family: monospace\">Exercise 0.1</h3>\n",
    "    <p style=\"margin-left: 50px;\n",
    "              line-height: 1.7em;\">Convert the following text</p></a>\n",
    "    <p style=\"margin-left: 100px;\n",
    "              line-height: 1.7em;\"><span style=\"font-family:monospace;\">Business Administration is fun, but NLP is mo' better.</span></p>\n",
    "    <a href=\"./playground.ipynb\" style=\"text-decoration: none\"> \n",
    "    <p style=\"margin-left: 50px;\n",
    "              line-height: 1em;\">into</p></a>\n",
    "    <p style=\"margin-left: 100px;\n",
    "              line-height: 1.7em;\"><span style=\"font-family:monospace;\">B u s i n e s s A d m i n i s t r a t i o n i s f u n , b u t N L P i s m o ' b e t t e r .</span></p>\n",
    "\n",
    "</font>\n",
    "</div>"
   ]
  },
  {
   "cell_type": "code",
   "execution_count": 16,
   "metadata": {
    "ExecuteTime": {
     "end_time": "2018-05-28T17:04:38.364843Z",
     "start_time": "2018-05-28T17:04:38.357187Z"
    },
    "collapsed": false,
    "hidden": true
   },
   "outputs": [
    {
     "data": {
      "text/plain": [
       "4"
      ]
     },
     "execution_count": 16,
     "metadata": {},
     "output_type": "execute_result"
    }
   ],
   "source": [
    "gtown.find('get')"
   ]
  },
  {
   "cell_type": "markdown",
   "metadata": {
    "hidden": true
   },
   "source": [
    "Method|Functionality\n",
    "---|---\n",
    "`s.find(t)`|index of first instance of string `t` inside `s` (`-1` if not found)\n",
    "`s.rfind(t)`|index of last instance of string `t` inside `s` (`-1` if not found)\n",
    "`s.index(t)`|like `s.find(t)` except it raises ValueError if not found\n",
    "`s.join(text)`|combine the words of the text into a string using `s` as the glue\n",
    "`s.split(t)`|split `s` into a list wherever a t is found (whitespace by default)\n",
    "`s.lower()`|a lowercased version of the string `s`\n",
    "`s.upper()`|an uppercased version of the string `s`\n",
    "`s.title()`|a titlecased version of the string `s`\n",
    "`s.strip()`|a copy of `s` without leading or trailing whitespace\n",
    "`s.replace(t, u)`|replace instances of `t` with `u` inside `s`"
   ]
  },
  {
   "cell_type": "code",
   "execution_count": 17,
   "metadata": {
    "ExecuteTime": {
     "end_time": "2018-05-28T17:04:38.373126Z",
     "start_time": "2018-05-28T17:04:38.367415Z"
    },
    "collapsed": false,
    "hidden": true
   },
   "outputs": [
    {
     "data": {
      "text/plain": [
       "'GEORGETOWN'"
      ]
     },
     "execution_count": 17,
     "metadata": {},
     "output_type": "execute_result"
    }
   ],
   "source": [
    "gtown.upper()"
   ]
  },
  {
   "cell_type": "code",
   "execution_count": 18,
   "metadata": {
    "ExecuteTime": {
     "end_time": "2018-05-28T17:04:38.635360Z",
     "start_time": "2018-05-28T17:04:38.376688Z"
    },
    "collapsed": false,
    "hidden": true
   },
   "outputs": [
    {
     "ename": "TypeError",
     "evalue": "'str' object does not support item assignment",
     "output_type": "error",
     "traceback": [
      "\u001b[0;31m---------------------------------------------------------------------------\u001b[0m",
      "\u001b[0;31mTypeError\u001b[0m                                 Traceback (most recent call last)",
      "\u001b[0;32m<ipython-input-18-9fff0db4343f>\u001b[0m in \u001b[0;36m<module>\u001b[0;34m()\u001b[0m\n\u001b[1;32m      1\u001b[0m \u001b[0mindex\u001b[0m \u001b[0;34m=\u001b[0m \u001b[0mgtown\u001b[0m\u001b[0;34m.\u001b[0m\u001b[0mfind\u001b[0m\u001b[0;34m(\u001b[0m\u001b[0;34m't'\u001b[0m\u001b[0;34m)\u001b[0m\u001b[0;34m\u001b[0m\u001b[0m\n\u001b[0;32m----> 2\u001b[0;31m \u001b[0mgtown\u001b[0m\u001b[0;34m[\u001b[0m\u001b[0mindex\u001b[0m\u001b[0;34m]\u001b[0m \u001b[0;34m=\u001b[0m \u001b[0;34m'd'\u001b[0m\u001b[0;34m\u001b[0m\u001b[0m\n\u001b[0m",
      "\u001b[0;31mTypeError\u001b[0m: 'str' object does not support item assignment"
     ]
    }
   ],
   "source": [
    "index = gtown.find('t')\n",
    "gtown[index] = 'd'"
   ]
  },
  {
   "cell_type": "markdown",
   "metadata": {
    "hidden": true
   },
   "source": [
    "<div class=\"alert alert-block alert-info\" \n",
    "     style=\"border-color: #2E86C1; \n",
    "            border-left: 5px solid #2E86C1;\n",
    "            padding-top: 5px\">\n",
    "    <font size=\"3\"> \n",
    "    <a href=\"./playground.ipynb\" style=\"text-decoration: none\"> \n",
    "    <h3 style=\"font-family: monospace\">Exercise 0.2</h3>\n",
    "    <p style=\"margin-left: 50px;\n",
    "              line-height: 1.7em;\">Replace the second <span style=\"font-family:monospace;\">  o  </span> in <span style=\"font-family:monospace;\"> Georgetown </span> with an <span style=\"font-family:monospace;\"> u </span></p></a>\n",
    "</font>\n",
    "</div>"
   ]
  },
  {
   "cell_type": "markdown",
   "metadata": {},
   "source": [
    "### Encoding and Decoding\n",
    "---"
   ]
  },
  {
   "cell_type": "markdown",
   "metadata": {
    "collapsed": true
   },
   "source": [
    "Our programs need to deal with different languages, and different **character sets**. E.g. for English-speaking world `ASCII` is enough, but for most European languages you need `Latin-2` (\"ø\" for Danish and Norwegian, \"ő\" for Hungarian, \"ñ\" for Spanish and Breton).\n",
    "\n",
    "`Unicode` is an abstraction that supports over a million characters. Each character is assigned a number, called a `code point`. In Python, code points are written in the form `\\uXXXX`, where `XXXX` is in hexadecimal form.\n",
    "\n",
    "Within a program, we can manipulate Unicode just like normal strings. However, when Unicode characters are stored in files or displayed on a terminal, they must be encoded as a stream of bytes. Some encodings (such as `ASCII` and `Latin-2`) use a single byte per code point, so they can only support a small subset of Unicode, enough for a single language. Other encodings (such as `UTF-8`) use multiple bytes and can represent the full range of Unicode characters.\n",
    "\n",
    "**encoding** = translate Unicode into a string\n",
    "\n",
    "**decoding** = translate a string into Unicode\n",
    "\n",
    "<br/>\n",
    "\n",
    "<img src=\"../images/enc_dec.png\", width=\"500\">"
   ]
  },
  {
   "cell_type": "code",
   "execution_count": 146,
   "metadata": {
    "ExecuteTime": {
     "end_time": "2018-05-28T17:27:04.060074Z",
     "start_time": "2018-05-28T17:27:04.052917Z"
    },
    "collapsed": false
   },
   "outputs": [
    {
     "data": {
      "text/plain": [
       "str"
      ]
     },
     "execution_count": 146,
     "metadata": {},
     "output_type": "execute_result"
    }
   ],
   "source": [
    "n = 'ń'\n",
    "type(n)"
   ]
  },
  {
   "cell_type": "code",
   "execution_count": 147,
   "metadata": {
    "ExecuteTime": {
     "end_time": "2018-05-28T17:27:41.034666Z",
     "start_time": "2018-05-28T17:27:40.929761Z"
    },
    "collapsed": false
   },
   "outputs": [
    {
     "ename": "UnicodeEncodeError",
     "evalue": "'ascii' codec can't encode character '\\u0144' in position 0: ordinal not in range(128)",
     "output_type": "error",
     "traceback": [
      "\u001b[0;31m---------------------------------------------------------------------------\u001b[0m",
      "\u001b[0;31mUnicodeEncodeError\u001b[0m                        Traceback (most recent call last)",
      "\u001b[0;32m<ipython-input-147-8ee0c6e3b048>\u001b[0m in \u001b[0;36m<module>\u001b[0;34m()\u001b[0m\n\u001b[0;32m----> 1\u001b[0;31m \u001b[0mn\u001b[0m\u001b[0;34m.\u001b[0m\u001b[0mencode\u001b[0m\u001b[0;34m(\u001b[0m\u001b[0;34m'ascii'\u001b[0m\u001b[0;34m)\u001b[0m\u001b[0;34m\u001b[0m\u001b[0m\n\u001b[0m",
      "\u001b[0;31mUnicodeEncodeError\u001b[0m: 'ascii' codec can't encode character '\\u0144' in position 0: ordinal not in range(128)"
     ]
    }
   ],
   "source": [
    "n.encode('ascii')"
   ]
  },
  {
   "cell_type": "code",
   "execution_count": 150,
   "metadata": {
    "ExecuteTime": {
     "end_time": "2018-05-28T17:28:59.619361Z",
     "start_time": "2018-05-28T17:28:59.613390Z"
    },
    "collapsed": false
   },
   "outputs": [
    {
     "data": {
      "text/plain": [
       "b'\\xc5\\x84'"
      ]
     },
     "execution_count": 150,
     "metadata": {},
     "output_type": "execute_result"
    }
   ],
   "source": [
    "nb = n.encode('utf-8')\n",
    "nb"
   ]
  },
  {
   "cell_type": "code",
   "execution_count": 151,
   "metadata": {
    "ExecuteTime": {
     "end_time": "2018-05-28T17:29:00.161731Z",
     "start_time": "2018-05-28T17:29:00.156620Z"
    },
    "collapsed": false
   },
   "outputs": [
    {
     "data": {
      "text/plain": [
       "bytes"
      ]
     },
     "execution_count": 151,
     "metadata": {},
     "output_type": "execute_result"
    }
   ],
   "source": [
    "type(nb)"
   ]
  },
  {
   "cell_type": "markdown",
   "metadata": {
    "collapsed": true
   },
   "source": [
    "### Tokenization\n",
    "---"
   ]
  },
  {
   "cell_type": "code",
   "execution_count": 19,
   "metadata": {
    "ExecuteTime": {
     "end_time": "2018-05-28T17:05:01.188645Z",
     "start_time": "2018-05-28T17:05:01.180786Z"
    },
    "collapsed": false
   },
   "outputs": [
    {
     "data": {
      "text/plain": [
       "['Call', 'me', 'Ishmael']"
      ]
     },
     "execution_count": 19,
     "metadata": {},
     "output_type": "execute_result"
    }
   ],
   "source": [
    "from nltk import word_tokenize\n",
    "sent1 = word_tokenize('Call me Ishmael')\n",
    "sent1"
   ]
  },
  {
   "cell_type": "code",
   "execution_count": 20,
   "metadata": {
    "ExecuteTime": {
     "end_time": "2018-05-28T17:05:01.197823Z",
     "start_time": "2018-05-28T17:05:01.191492Z"
    },
    "collapsed": false
   },
   "outputs": [
    {
     "data": {
      "text/plain": [
       "3"
      ]
     },
     "execution_count": 20,
     "metadata": {},
     "output_type": "execute_result"
    }
   ],
   "source": [
    "len(sent1)"
   ]
  },
  {
   "cell_type": "code",
   "execution_count": 21,
   "metadata": {
    "ExecuteTime": {
     "end_time": "2018-05-28T17:05:01.204505Z",
     "start_time": "2018-05-28T17:05:01.200544Z"
    },
    "collapsed": true
   },
   "outputs": [],
   "source": [
    "def lexical_diversity(text):\n",
    "    return len(set(text)) / len(text)"
   ]
  },
  {
   "cell_type": "markdown",
   "metadata": {},
   "source": [
    "<br/>\n",
    "<img src=\"https://imgs.xkcd.com/comics/sustainable.png\" height=\"500\" width=\"500\">\n",
    "<font size=\"3\"><a href=\"https://books.google.com/ngrams/graph?content=sustainable&year_start=1960&year_end=2000&corpus=15&smoothing=0&share=&direct_url=t1%3B%2Csustainable%3B%2Cc0\">Source</a>"
   ]
  },
  {
   "cell_type": "code",
   "execution_count": 22,
   "metadata": {
    "ExecuteTime": {
     "end_time": "2018-05-28T17:05:01.242691Z",
     "start_time": "2018-05-28T17:05:01.236887Z"
    },
    "collapsed": false
   },
   "outputs": [
    {
     "data": {
      "text/plain": [
       "1.0"
      ]
     },
     "execution_count": 22,
     "metadata": {},
     "output_type": "execute_result"
    }
   ],
   "source": [
    "lexical_diversity(sent1)"
   ]
  },
  {
   "cell_type": "code",
   "execution_count": 23,
   "metadata": {
    "ExecuteTime": {
     "end_time": "2018-05-28T17:05:01.300759Z",
     "start_time": "2018-05-28T17:05:01.293902Z"
    },
    "collapsed": false
   },
   "outputs": [
    {
     "data": {
      "text/plain": [
       "['georgetown', 'university', 'is', 'the', 'best', 'university']"
      ]
     },
     "execution_count": 23,
     "metadata": {},
     "output_type": "execute_result"
    }
   ],
   "source": [
    "sent2 = word_tokenize('georgetown university is the best university')\n",
    "sent2"
   ]
  },
  {
   "cell_type": "code",
   "execution_count": 24,
   "metadata": {
    "ExecuteTime": {
     "end_time": "2018-05-28T17:05:01.309595Z",
     "start_time": "2018-05-28T17:05:01.303197Z"
    },
    "collapsed": false
   },
   "outputs": [
    {
     "data": {
      "text/plain": [
       "0.8333333333333334"
      ]
     },
     "execution_count": 24,
     "metadata": {},
     "output_type": "execute_result"
    }
   ],
   "source": [
    "lexical_diversity(sent2)"
   ]
  },
  {
   "cell_type": "code",
   "execution_count": 25,
   "metadata": {
    "ExecuteTime": {
     "end_time": "2018-05-28T17:05:01.318434Z",
     "start_time": "2018-05-28T17:05:01.312708Z"
    },
    "collapsed": false
   },
   "outputs": [
    {
     "data": {
      "text/plain": [
       "'university'"
      ]
     },
     "execution_count": 25,
     "metadata": {},
     "output_type": "execute_result"
    }
   ],
   "source": [
    "sent2[1]"
   ]
  },
  {
   "cell_type": "code",
   "execution_count": 26,
   "metadata": {
    "ExecuteTime": {
     "end_time": "2018-05-28T17:05:01.328325Z",
     "start_time": "2018-05-28T17:05:01.321072Z"
    },
    "collapsed": false
   },
   "outputs": [
    {
     "data": {
      "text/plain": [
       "3"
      ]
     },
     "execution_count": 26,
     "metadata": {},
     "output_type": "execute_result"
    }
   ],
   "source": [
    "sent2.index('the')"
   ]
  },
  {
   "cell_type": "code",
   "execution_count": 27,
   "metadata": {
    "ExecuteTime": {
     "end_time": "2018-05-28T17:05:01.337656Z",
     "start_time": "2018-05-28T17:05:01.330974Z"
    },
    "collapsed": false
   },
   "outputs": [
    {
     "data": {
      "text/plain": [
       "['university', 'is', 'the']"
      ]
     },
     "execution_count": 27,
     "metadata": {},
     "output_type": "execute_result"
    }
   ],
   "source": [
    "sent2[1:4]"
   ]
  },
  {
   "cell_type": "code",
   "execution_count": 28,
   "metadata": {
    "ExecuteTime": {
     "end_time": "2018-05-28T17:05:01.349293Z",
     "start_time": "2018-05-28T17:05:01.340607Z"
    },
    "collapsed": false
   },
   "outputs": [
    {
     "data": {
      "text/plain": [
       "['georgetown', 'university']"
      ]
     },
     "execution_count": 28,
     "metadata": {},
     "output_type": "execute_result"
    }
   ],
   "source": [
    "sent2[:2]"
   ]
  },
  {
   "cell_type": "code",
   "execution_count": 29,
   "metadata": {
    "ExecuteTime": {
     "end_time": "2018-05-28T17:05:01.361223Z",
     "start_time": "2018-05-28T17:05:01.352919Z"
    },
    "collapsed": false
   },
   "outputs": [
    {
     "data": {
      "text/plain": [
       "['is', 'the', 'best', 'university']"
      ]
     },
     "execution_count": 29,
     "metadata": {},
     "output_type": "execute_result"
    }
   ],
   "source": [
    "sent2[2:]"
   ]
  },
  {
   "cell_type": "code",
   "execution_count": 30,
   "metadata": {
    "ExecuteTime": {
     "end_time": "2018-05-28T17:05:01.372125Z",
     "start_time": "2018-05-28T17:05:01.365156Z"
    },
    "collapsed": false
   },
   "outputs": [
    {
     "data": {
      "text/plain": [
       "'Georgetown University'"
      ]
     },
     "execution_count": 30,
     "metadata": {},
     "output_type": "execute_result"
    }
   ],
   "source": [
    "' '.join(['Georgetown', 'University'])"
   ]
  },
  {
   "cell_type": "code",
   "execution_count": 31,
   "metadata": {
    "ExecuteTime": {
     "end_time": "2018-05-28T17:05:01.381951Z",
     "start_time": "2018-05-28T17:05:01.374702Z"
    },
    "collapsed": false
   },
   "outputs": [
    {
     "data": {
      "text/plain": [
       "'GeorgetownUniversity'"
      ]
     },
     "execution_count": 31,
     "metadata": {},
     "output_type": "execute_result"
    }
   ],
   "source": [
    "''.join(['Georgetown', 'University'])"
   ]
  },
  {
   "cell_type": "code",
   "execution_count": 32,
   "metadata": {
    "ExecuteTime": {
     "end_time": "2018-05-28T17:05:01.394777Z",
     "start_time": "2018-05-28T17:05:01.385010Z"
    },
    "collapsed": false
   },
   "outputs": [
    {
     "data": {
      "text/plain": [
       "True"
      ]
     },
     "execution_count": 32,
     "metadata": {},
     "output_type": "execute_result"
    }
   ],
   "source": [
    "# join is the inverse operation of split\n",
    "string = 'georgetown university is the best university'\n",
    "split_char = ' '\n",
    "\n",
    "split_char.join(string.split(split_char)) == string"
   ]
  },
  {
   "cell_type": "code",
   "execution_count": 33,
   "metadata": {
    "ExecuteTime": {
     "end_time": "2018-05-28T17:05:01.404694Z",
     "start_time": "2018-05-28T17:05:01.397809Z"
    },
    "collapsed": false
   },
   "outputs": [
    {
     "data": {
      "text/plain": [
       "['best', 'georgetown', 'is', 'the', 'university', 'university']"
      ]
     },
     "execution_count": 33,
     "metadata": {},
     "output_type": "execute_result"
    }
   ],
   "source": [
    "sorted(sent2)"
   ]
  },
  {
   "cell_type": "code",
   "execution_count": 34,
   "metadata": {
    "ExecuteTime": {
     "end_time": "2018-05-28T17:05:01.414081Z",
     "start_time": "2018-05-28T17:05:01.407403Z"
    },
    "collapsed": false
   },
   "outputs": [
    {
     "data": {
      "text/plain": [
       "['is', 'the', 'best', 'georgetown', 'university', 'university']"
      ]
     },
     "execution_count": 34,
     "metadata": {},
     "output_type": "execute_result"
    }
   ],
   "source": [
    "sorted(sent2, key=len)"
   ]
  },
  {
   "cell_type": "code",
   "execution_count": 35,
   "metadata": {
    "ExecuteTime": {
     "end_time": "2018-05-28T17:05:01.423855Z",
     "start_time": "2018-05-28T17:05:01.416752Z"
    },
    "collapsed": false
   },
   "outputs": [
    {
     "data": {
      "text/plain": [
       "['is', 'university', 'the', 'best', 'university', 'georgetown']"
      ]
     },
     "execution_count": 35,
     "metadata": {},
     "output_type": "execute_result"
    }
   ],
   "source": [
    "sorted(sent2, key=lambda x: x.count('e'))"
   ]
  },
  {
   "cell_type": "code",
   "execution_count": 36,
   "metadata": {
    "ExecuteTime": {
     "end_time": "2018-05-28T17:05:01.431455Z",
     "start_time": "2018-05-28T17:05:01.426492Z"
    },
    "collapsed": false
   },
   "outputs": [],
   "source": [
    "from nltk.tokenize import sent_tokenize"
   ]
  },
  {
   "cell_type": "code",
   "execution_count": 37,
   "metadata": {
    "ExecuteTime": {
     "end_time": "2018-05-28T17:05:01.440950Z",
     "start_time": "2018-05-28T17:05:01.433763Z"
    },
    "collapsed": false
   },
   "outputs": [],
   "source": [
    "text = (\"Beautiful is better than ugly. \"\n",
    "        \"Explicit is better than implicit. \"\n",
    "        \"Simple is better than complex. \"\n",
    "        \"Complex is better than complicated. \"\n",
    "        \"Flat is better than nested. \"\n",
    "        \"Sparse is better than dense. \"\n",
    "        \"Readability counts. \"\n",
    "        \"Special cases aren't special enough to break the rules. \"\n",
    "        \"Although practicality beats purity. \"\n",
    "        \"Errors should never pass silently. \"\n",
    "        \"Unless explicitly silenced. \"\n",
    "        \"In the face of ambiguity, refuse the temptation to guess. \"\n",
    "        \"There should be one-- and preferably only one --obvious way to do it. \"\n",
    "        \"Although that way may not be obvious at first unless you're Dutch. \"\n",
    "        \"Now is better than... never. \"\n",
    "        \"Although never is often better than *right* now. \"\n",
    "        \"If the implementation is hard to explain, it's a bad idea. \"\n",
    "        \"If the implementation is easy to explain, it may be a good idea. \"\n",
    "        \"Namespaces are one honking great idea -- let's do more of those!\")"
   ]
  },
  {
   "cell_type": "code",
   "execution_count": 38,
   "metadata": {
    "ExecuteTime": {
     "end_time": "2018-05-28T17:05:01.455354Z",
     "start_time": "2018-05-28T17:05:01.444007Z"
    },
    "collapsed": false
   },
   "outputs": [
    {
     "data": {
      "text/plain": [
       "['Beautiful is better than ugly.',\n",
       " 'Explicit is better than implicit.',\n",
       " 'Simple is better than complex.',\n",
       " 'Complex is better than complicated.',\n",
       " 'Flat is better than nested.',\n",
       " 'Sparse is better than dense.',\n",
       " 'Readability counts.',\n",
       " \"Special cases aren't special enough to break the rules.\",\n",
       " 'Although practicality beats purity.',\n",
       " 'Errors should never pass silently.',\n",
       " 'Unless explicitly silenced.',\n",
       " 'In the face of ambiguity, refuse the temptation to guess.',\n",
       " 'There should be one-- and preferably only one --obvious way to do it.',\n",
       " \"Although that way may not be obvious at first unless you're Dutch.\",\n",
       " 'Now is better than... never.',\n",
       " 'Although never is often better than *right* now.',\n",
       " \"If the implementation is hard to explain, it's a bad idea.\",\n",
       " 'If the implementation is easy to explain, it may be a good idea.',\n",
       " \"Namespaces are one honking great idea -- let's do more of those!\"]"
      ]
     },
     "execution_count": 38,
     "metadata": {},
     "output_type": "execute_result"
    }
   ],
   "source": [
    "sent_tokenize(text)"
   ]
  },
  {
   "cell_type": "markdown",
   "metadata": {},
   "source": [
    "<div class=\"alert alert-block alert-info\" \n",
    "     style=\"border-color: #2E86C1; \n",
    "            border-left: 5px solid #2E86C1;\n",
    "            padding-top: 5px\">\n",
    "    <font size=\"4\"> \n",
    "    <a href=\"./playground.ipynb\" style=\"text-decoration: none\"> \n",
    "    <h3 style=\"font-family: monospace\">Exercise 0.3</h3>\n",
    "    <p style=\"margin-left: 100px;\n",
    "              margin-right: 100px;\n",
    "              line-height: 1.7em;\">Write a function that, given some text, calculates the </a><a href=\"https://en.wikipedia.org/wiki/Automated_readability_index\">Automated readability index (ARI)</a><a href=\"./playground.ipynb\" style=\"text-decoration: none\">. <br/>Verify that, for the \"Zen of Python\" above, ARI ~ 4.73 (third-grade level)</p></a></font>\n",
    "</div>"
   ]
  },
  {
   "cell_type": "markdown",
   "metadata": {},
   "source": [
    "### Preprocessing"
   ]
  },
  {
   "cell_type": "markdown",
   "metadata": {},
   "source": [
    "1. **Lowercasing**: the distinction between `The` and `the` is ignored. But do we want to ignore the distinction between `Apple` and `apple`?\n",
    "1. **Stemming**: normalize affixes by stripping them off\n",
    "1. **Lemmatizing**: normalize affixes, but make sure that the resulting form is a known word in a dictionary\n",
    "1. **Part-of-speech Tagging**: get the POS for each token\n",
    "1. **Removing Stopwords**: increase the signal-to-noise ratio"
   ]
  },
  {
   "cell_type": "code",
   "execution_count": 152,
   "metadata": {
    "ExecuteTime": {
     "end_time": "2018-05-28T18:09:47.284897Z",
     "start_time": "2018-05-28T18:09:47.277934Z"
    },
    "collapsed": true
   },
   "outputs": [],
   "source": [
    "raw = \"\"\"\n",
    "Listen, strange women lying in ponds distributing swords is no basis for a \n",
    "system of government. Supreme executive power derives from a mandate from the \n",
    "masses, not from some farcical aquatic ceremony.\n",
    "\"\"\"\n",
    "tokens = word_tokenize(raw.strip())"
   ]
  },
  {
   "cell_type": "code",
   "execution_count": 155,
   "metadata": {
    "ExecuteTime": {
     "end_time": "2018-05-28T18:10:10.126003Z",
     "start_time": "2018-05-28T18:10:10.119680Z"
    },
    "collapsed": false
   },
   "outputs": [
    {
     "data": {
      "text/plain": [
       "'listen , strang women lie in pond distribut sword is no basi for a system of govern . suprem execut power deriv from a mandat from the mass , not from some farcic aquat ceremoni .'"
      ]
     },
     "execution_count": 155,
     "metadata": {},
     "output_type": "execute_result"
    }
   ],
   "source": [
    "porter = nltk.PorterStemmer()\n",
    "' '.join([porter.stem(t) for t in tokens])"
   ]
  },
  {
   "cell_type": "code",
   "execution_count": 156,
   "metadata": {
    "ExecuteTime": {
     "end_time": "2018-05-28T18:10:49.148831Z",
     "start_time": "2018-05-28T18:10:49.140764Z"
    },
    "collapsed": false
   },
   "outputs": [
    {
     "data": {
      "text/plain": [
       "'Listen , strange woman lying in pond distributing sword is no basis for a system of government . Supreme executive power derives from a mandate from the mass , not from some farcical aquatic ceremony .'"
      ]
     },
     "execution_count": 156,
     "metadata": {},
     "output_type": "execute_result"
    }
   ],
   "source": [
    "wnl = nltk.WordNetLemmatizer()\n",
    "' '.join([wnl.lemmatize(t) for t in tokens])"
   ]
  },
  {
   "cell_type": "markdown",
   "metadata": {},
   "source": [
    "The `WordNetLemmatizer` didn't quite catch `derives`, but"
   ]
  },
  {
   "cell_type": "code",
   "execution_count": 158,
   "metadata": {
    "ExecuteTime": {
     "end_time": "2018-05-28T18:11:19.472366Z",
     "start_time": "2018-05-28T18:11:19.465633Z"
    },
    "collapsed": false
   },
   "outputs": [
    {
     "data": {
      "text/plain": [
       "'derive'"
      ]
     },
     "execution_count": 158,
     "metadata": {},
     "output_type": "execute_result"
    }
   ],
   "source": [
    "wnl.lemmatize('derives', 'v')"
   ]
  },
  {
   "cell_type": "code",
   "execution_count": 159,
   "metadata": {
    "ExecuteTime": {
     "end_time": "2018-05-28T18:17:07.161331Z",
     "start_time": "2018-05-28T18:17:07.144529Z"
    },
    "collapsed": false
   },
   "outputs": [
    {
     "data": {
      "text/plain": [
       "[('Listen', 'NNP'),\n",
       " (',', ','),\n",
       " ('strange', 'JJ'),\n",
       " ('women', 'NNS'),\n",
       " ('lying', 'VBG'),\n",
       " ('in', 'IN'),\n",
       " ('ponds', 'NNS'),\n",
       " ('distributing', 'VBG'),\n",
       " ('swords', 'NNS'),\n",
       " ('is', 'VBZ'),\n",
       " ('no', 'DT'),\n",
       " ('basis', 'NN'),\n",
       " ('for', 'IN'),\n",
       " ('a', 'DT'),\n",
       " ('system', 'NN'),\n",
       " ('of', 'IN'),\n",
       " ('government', 'NN'),\n",
       " ('.', '.'),\n",
       " ('Supreme', 'NNP'),\n",
       " ('executive', 'NN'),\n",
       " ('power', 'NN'),\n",
       " ('derives', 'VBZ'),\n",
       " ('from', 'IN'),\n",
       " ('a', 'DT'),\n",
       " ('mandate', 'NN'),\n",
       " ('from', 'IN'),\n",
       " ('the', 'DT'),\n",
       " ('masses', 'NNS'),\n",
       " (',', ','),\n",
       " ('not', 'RB'),\n",
       " ('from', 'IN'),\n",
       " ('some', 'DT'),\n",
       " ('farcical', 'JJ'),\n",
       " ('aquatic', 'JJ'),\n",
       " ('ceremony', 'NN'),\n",
       " ('.', '.')]"
      ]
     },
     "execution_count": 159,
     "metadata": {},
     "output_type": "execute_result"
    }
   ],
   "source": [
    "nltk.pos_tag(tokens)"
   ]
  },
  {
   "cell_type": "markdown",
   "metadata": {},
   "source": [
    "For a full list of tags, see [here](https://www.ling.upenn.edu/courses/Fall_2003/ling001/penn_treebank_pos.html)"
   ]
  },
  {
   "cell_type": "code",
   "execution_count": 173,
   "metadata": {
    "ExecuteTime": {
     "end_time": "2018-05-28T20:04:02.229928Z",
     "start_time": "2018-05-28T20:04:02.215676Z"
    },
    "collapsed": false
   },
   "outputs": [
    {
     "name": "stdout",
     "output_type": "stream",
     "text": [
      "\n",
      "Tokens\t\t: Listen , strange women lying in ponds distributing swords is no basis for a system of government . Supreme executive power derives from a mandate from the masses , not from some farcical aquatic ceremony .\n",
      "\n",
      "Old lemmas\t: Listen , strange woman lying in pond distributing sword is no basis for a system of government . Supreme executive power derives from a mandate from the mass , not from some farcical aquatic ceremony .\n",
      "\n",
      "New lemmas\t: Listen , strange woman lie in pond distribute sword be no basis for a system of government . Supreme executive power derive from a mandate from the mass , not from some farcical aquatic ceremony .\n"
     ]
    }
   ],
   "source": [
    "pos = [i[1][0].lower() for i in nltk.pos_tag(tokens)]\n",
    "new = ' '.join([wnl.lemmatize(t, pos[num]) if pos[num] in ['n', 'v', 'a']\n",
    "                else wnl.lemmatize(t) for num, t in enumerate(tokens) ])\n",
    "old = ' '.join([wnl.lemmatize(t) for t in tokens])\n",
    "print('\\nTokens\\t\\t: %s' % ' '.join(tokens))\n",
    "print('\\nOld lemmas\\t: %s' % old)\n",
    "print('\\nNew lemmas\\t: %s' % new)"
   ]
  },
  {
   "cell_type": "markdown",
   "metadata": {
    "heading_collapsed": true
   },
   "source": [
    "### Text analysis with NLTK\n",
    "---"
   ]
  },
  {
   "cell_type": "code",
   "execution_count": 39,
   "metadata": {
    "ExecuteTime": {
     "end_time": "2018-05-28T17:05:02.144283Z",
     "start_time": "2018-05-28T17:05:01.546768Z"
    },
    "collapsed": false,
    "hidden": true
   },
   "outputs": [
    {
     "data": {
      "text/plain": [
       "\"Jason Schloetzer is the William and Karen Sonneborn Term Associate Professor of Business Administration at the Georgetown University McDonough School of Business. His research focuses on management control systems with a particular concentration on the impact of corporate governance on firm value, the dynamics of CEO succession, and performance management issues in global supply chains. His work has been published in leading academic journals, including the Journal of Accounting Research and The Accounting Review. He serves on the Editorial Advisory and Review Board of The Accounting Review, and is a member of the American Accounting Association and the Institute of Management Accountants. Schloetzer is a frequent contributor to The Conference Board's Corporate Leadership practice, for which he has authored Director Notes on hedge fund activism, shareholder engagement, and CEO succession; with Matteo Tonello, he coauthors the CEO Succession Practices annual research report. Schloetzer has been named by the National Association of Corporate Directors (NACD) to the Directorship 100, a list of the most influential experts in corporate governance. His research has garnered over 50 media mentions in premier news outlets, including Bloomberg, CNBC, CNN, Financial Times, Forbes, Fortune, Institutional Investor, The Economist, The Los Angeles Times, The Wall Street Journal, US News & World Report, and USA Today. Schloetzer teaches Financial Analysis for Managers and Investors (MBA core), Performance as Value Creation (MBA elective) and Strategic Management of Cost and Profit (Executive MBA elective). He has received two MBA teaching awards. Schloetzer earned his BSc in Mechanical Engineering from the University of Kansas, MBA from George Washington University, and PhD in Business Administration from the University of Pittsburgh.\""
      ]
     },
     "execution_count": 39,
     "metadata": {},
     "output_type": "execute_result"
    }
   ],
   "source": [
    "from lxml import html\n",
    "from requests import get\n",
    "\n",
    "# Request the page\n",
    "res = get('https://www.conference-board.org/bio/index.cfm?bioid=1048')\n",
    "\n",
    "# Parse the page\n",
    "tree = html.fromstring(res.content)\n",
    "\n",
    "# Extract the element of interest\n",
    "text = ' '.join(list(tree.xpath('//ul[@class=\"clearfix\"]')[0].itertext()))\n",
    "\n",
    "# Clean the text\n",
    "text = ' '.join(text.split()); text"
   ]
  },
  {
   "cell_type": "code",
   "execution_count": 40,
   "metadata": {
    "ExecuteTime": {
     "end_time": "2018-05-28T17:05:02.153749Z",
     "start_time": "2018-05-28T17:05:02.146739Z"
    },
    "collapsed": false,
    "hidden": true
   },
   "outputs": [],
   "source": [
    "# nltk = Natural language toolkit\n",
    "from nltk.tokenize import word_tokenize\n",
    "tokens = word_tokenize(text)"
   ]
  },
  {
   "cell_type": "code",
   "execution_count": 41,
   "metadata": {
    "ExecuteTime": {
     "end_time": "2018-05-28T17:05:02.162276Z",
     "start_time": "2018-05-28T17:05:02.156246Z"
    },
    "collapsed": false,
    "hidden": true
   },
   "outputs": [
    {
     "data": {
      "text/plain": [
       "0.5416666666666666"
      ]
     },
     "execution_count": 41,
     "metadata": {},
     "output_type": "execute_result"
    }
   ],
   "source": [
    "lexical_diversity(tokens)"
   ]
  },
  {
   "cell_type": "code",
   "execution_count": 42,
   "metadata": {
    "ExecuteTime": {
     "end_time": "2018-05-28T17:05:02.246524Z",
     "start_time": "2018-05-28T17:05:02.165074Z"
    },
    "collapsed": false,
    "hidden": true
   },
   "outputs": [
    {
     "name": "stdout",
     "output_type": "stream",
     "text": [
      "[nltk_data] Downloading package genesis to /Users/marco/nltk_data...\n",
      "[nltk_data]   Package genesis is already up-to-date!\n"
     ]
    },
    {
     "data": {
      "text/plain": [
       "0.06230453042623537"
      ]
     },
     "execution_count": 42,
     "metadata": {},
     "output_type": "execute_result"
    }
   ],
   "source": [
    "import nltk\n",
    "nltk.download('genesis')\n",
    "from nltk.corpus import genesis\n",
    "lexical_diversity(genesis.words('english-kjv.txt'))"
   ]
  },
  {
   "cell_type": "code",
   "execution_count": 43,
   "metadata": {
    "ExecuteTime": {
     "end_time": "2018-05-28T17:05:02.523866Z",
     "start_time": "2018-05-28T17:05:02.249129Z"
    },
    "collapsed": false,
    "hidden": true
   },
   "outputs": [
    {
     "name": "stdout",
     "output_type": "stream",
     "text": [
      "[nltk_data] Downloading package stopwords to /Users/marco/nltk_data...\n",
      "[nltk_data]   Unzipping corpora/stopwords.zip.\n",
      "corporate governance; Business Administration; CEO succession; MBA\n",
      "elective; Accounting Review\n"
     ]
    }
   ],
   "source": [
    "nltk.download('stopwords')\n",
    "nltk_text = nltk.Text(tokens)\n",
    "nltk_text.collocations()"
   ]
  },
  {
   "cell_type": "code",
   "execution_count": 44,
   "metadata": {
    "ExecuteTime": {
     "end_time": "2018-05-28T17:05:02.534898Z",
     "start_time": "2018-05-28T17:05:02.526995Z"
    },
    "collapsed": false,
    "hidden": true
   },
   "outputs": [
    {
     "name": "stdout",
     "output_type": "stream",
     "text": [
      "Displaying 5 of 5 matches:\n",
      "Analysis for Managers and Investors ( MBA core ) , Performance as Value Creatio\n",
      "e ) , Performance as Value Creation ( MBA elective ) and Strategic Management o\n",
      "gement of Cost and Profit ( Executive MBA elective ) . He has received two MBA \n",
      " MBA elective ) . He has received two MBA teaching awards . Schloetzer earned h\n",
      "ering from the University of Kansas , MBA from George Washington University , a\n"
     ]
    }
   ],
   "source": [
    "nltk_text.concordance('MBA')"
   ]
  },
  {
   "cell_type": "code",
   "execution_count": 45,
   "metadata": {
    "ExecuteTime": {
     "end_time": "2018-05-28T17:05:03.318104Z",
     "start_time": "2018-05-28T17:05:02.537203Z"
    },
    "collapsed": false,
    "hidden": true,
    "scrolled": false
   },
   "outputs": [
    {
     "data": {
      "image/png": "[encoded data removed]",
      "text/plain": [
       "<matplotlib.figure.Figure at 0x11748c630>"
      ]
     },
     "metadata": {},
     "output_type": "display_data"
    }
   ],
   "source": [
    "nltk_text.dispersion_plot(['Jason', 'Schloetzer', 'MBA', 'Georgetown', \n",
    "                           'Accounting'])"
   ]
  },
  {
   "cell_type": "code",
   "execution_count": 46,
   "metadata": {
    "ExecuteTime": {
     "end_time": "2018-05-28T17:05:03.842609Z",
     "start_time": "2018-05-28T17:05:03.320057Z"
    },
    "collapsed": false,
    "hidden": true
   },
   "outputs": [
    {
     "data": {
      "image/png": "[encoded data removed]",
      "text/plain": [
       "<matplotlib.figure.Figure at 0x11748c668>"
      ]
     },
     "metadata": {},
     "output_type": "display_data"
    }
   ],
   "source": [
    "nltk_text.plot(30)"
   ]
  },
  {
   "cell_type": "code",
   "execution_count": 47,
   "metadata": {
    "ExecuteTime": {
     "end_time": "2018-05-28T17:05:03.868194Z",
     "start_time": "2018-05-28T17:05:03.846187Z"
    },
    "collapsed": false,
    "hidden": true
   },
   "outputs": [
    {
     "data": {
      "text/plain": [
       "FreqDist({'&': 1,\n",
       "          \"'s\": 1,\n",
       "          '(': 4,\n",
       "          ')': 4,\n",
       "          ',': 24,\n",
       "          '.': 10,\n",
       "          '100': 1,\n",
       "          '50': 1,\n",
       "          ';': 1,\n",
       "          'Accountants': 1,\n",
       "          'Accounting': 4,\n",
       "          'Administration': 2,\n",
       "          'Advisory': 1,\n",
       "          'American': 1,\n",
       "          'Analysis': 1,\n",
       "          'Angeles': 1,\n",
       "          'Associate': 1,\n",
       "          'Association': 2,\n",
       "          'BSc': 1,\n",
       "          'Bloomberg': 1,\n",
       "          'Board': 2,\n",
       "          'Business': 3,\n",
       "          'CEO': 3,\n",
       "          'CNBC': 1,\n",
       "          'CNN': 1,\n",
       "          'Conference': 1,\n",
       "          'Corporate': 2,\n",
       "          'Cost': 1,\n",
       "          'Creation': 1,\n",
       "          'Director': 1,\n",
       "          'Directors': 1,\n",
       "          'Directorship': 1,\n",
       "          'Economist': 1,\n",
       "          'Editorial': 1,\n",
       "          'Engineering': 1,\n",
       "          'Executive': 1,\n",
       "          'Financial': 2,\n",
       "          'Forbes': 1,\n",
       "          'Fortune': 1,\n",
       "          'George': 1,\n",
       "          'Georgetown': 1,\n",
       "          'He': 2,\n",
       "          'His': 3,\n",
       "          'Institute': 1,\n",
       "          'Institutional': 1,\n",
       "          'Investor': 1,\n",
       "          'Investors': 1,\n",
       "          'Jason': 1,\n",
       "          'Journal': 2,\n",
       "          'Kansas': 1,\n",
       "          'Karen': 1,\n",
       "          'Leadership': 1,\n",
       "          'Los': 1,\n",
       "          'MBA': 5,\n",
       "          'Management': 2,\n",
       "          'Managers': 1,\n",
       "          'Matteo': 1,\n",
       "          'McDonough': 1,\n",
       "          'Mechanical': 1,\n",
       "          'NACD': 1,\n",
       "          'National': 1,\n",
       "          'News': 1,\n",
       "          'Notes': 1,\n",
       "          'Performance': 1,\n",
       "          'PhD': 1,\n",
       "          'Pittsburgh': 1,\n",
       "          'Practices': 1,\n",
       "          'Professor': 1,\n",
       "          'Profit': 1,\n",
       "          'Report': 1,\n",
       "          'Research': 1,\n",
       "          'Review': 3,\n",
       "          'Schloetzer': 5,\n",
       "          'School': 1,\n",
       "          'Sonneborn': 1,\n",
       "          'Strategic': 1,\n",
       "          'Street': 1,\n",
       "          'Succession': 1,\n",
       "          'Term': 1,\n",
       "          'The': 6,\n",
       "          'Times': 2,\n",
       "          'Today': 1,\n",
       "          'Tonello': 1,\n",
       "          'US': 1,\n",
       "          'USA': 1,\n",
       "          'University': 4,\n",
       "          'Value': 1,\n",
       "          'Wall': 1,\n",
       "          'Washington': 1,\n",
       "          'William': 1,\n",
       "          'World': 1,\n",
       "          'a': 4,\n",
       "          'academic': 1,\n",
       "          'activism': 1,\n",
       "          'and': 12,\n",
       "          'annual': 1,\n",
       "          'as': 1,\n",
       "          'at': 1,\n",
       "          'authored': 1,\n",
       "          'awards': 1,\n",
       "          'been': 2,\n",
       "          'by': 1,\n",
       "          'chains': 1,\n",
       "          'coauthors': 1,\n",
       "          'concentration': 1,\n",
       "          'contributor': 1,\n",
       "          'control': 1,\n",
       "          'core': 1,\n",
       "          'corporate': 2,\n",
       "          'dynamics': 1,\n",
       "          'earned': 1,\n",
       "          'elective': 2,\n",
       "          'engagement': 1,\n",
       "          'experts': 1,\n",
       "          'firm': 1,\n",
       "          'focuses': 1,\n",
       "          'for': 2,\n",
       "          'frequent': 1,\n",
       "          'from': 3,\n",
       "          'fund': 1,\n",
       "          'garnered': 1,\n",
       "          'global': 1,\n",
       "          'governance': 2,\n",
       "          'has': 5,\n",
       "          'he': 2,\n",
       "          'hedge': 1,\n",
       "          'his': 1,\n",
       "          'impact': 1,\n",
       "          'in': 6,\n",
       "          'including': 2,\n",
       "          'influential': 1,\n",
       "          'is': 3,\n",
       "          'issues': 1,\n",
       "          'journals': 1,\n",
       "          'leading': 1,\n",
       "          'list': 1,\n",
       "          'management': 2,\n",
       "          'media': 1,\n",
       "          'member': 1,\n",
       "          'mentions': 1,\n",
       "          'most': 1,\n",
       "          'named': 1,\n",
       "          'news': 1,\n",
       "          'of': 13,\n",
       "          'on': 5,\n",
       "          'outlets': 1,\n",
       "          'over': 1,\n",
       "          'particular': 1,\n",
       "          'performance': 1,\n",
       "          'practice': 1,\n",
       "          'premier': 1,\n",
       "          'published': 1,\n",
       "          'received': 1,\n",
       "          'report': 1,\n",
       "          'research': 3,\n",
       "          'serves': 1,\n",
       "          'shareholder': 1,\n",
       "          'succession': 2,\n",
       "          'supply': 1,\n",
       "          'systems': 1,\n",
       "          'teaches': 1,\n",
       "          'teaching': 1,\n",
       "          'the': 14,\n",
       "          'to': 2,\n",
       "          'two': 1,\n",
       "          'value': 1,\n",
       "          'which': 1,\n",
       "          'with': 2,\n",
       "          'work': 1})"
      ]
     },
     "execution_count": 47,
     "metadata": {},
     "output_type": "execute_result"
    }
   ],
   "source": [
    "from nltk.probability import FreqDist\n",
    "fdist = FreqDist(tokens)\n",
    "fdist"
   ]
  },
  {
   "cell_type": "code",
   "execution_count": 48,
   "metadata": {
    "ExecuteTime": {
     "end_time": "2018-05-28T17:05:03.889762Z",
     "start_time": "2018-05-28T17:05:03.878609Z"
    },
    "collapsed": false,
    "hidden": true
   },
   "outputs": [
    {
     "data": {
      "text/plain": [
       "[(',', 24), ('the', 14), ('of', 13)]"
      ]
     },
     "execution_count": 48,
     "metadata": {},
     "output_type": "execute_result"
    }
   ],
   "source": [
    "fdist.most_common(3)"
   ]
  },
  {
   "cell_type": "code",
   "execution_count": 49,
   "metadata": {
    "ExecuteTime": {
     "end_time": "2018-05-28T17:05:03.914756Z",
     "start_time": "2018-05-28T17:05:03.899280Z"
    },
    "collapsed": false,
    "hidden": true
   },
   "outputs": [
    {
     "data": {
      "text/plain": [
       "5"
      ]
     },
     "execution_count": 49,
     "metadata": {},
     "output_type": "execute_result"
    }
   ],
   "source": [
    "fdist['MBA']"
   ]
  },
  {
   "cell_type": "code",
   "execution_count": 50,
   "metadata": {
    "ExecuteTime": {
     "end_time": "2018-05-28T17:05:03.936655Z",
     "start_time": "2018-05-28T17:05:03.921031Z"
    },
    "collapsed": false,
    "hidden": true
   },
   "outputs": [
    {
     "data": {
      "text/plain": [
       "[(3, 58),\n",
       " (1, 48),\n",
       " (2, 39),\n",
       " (10, 30),\n",
       " (8, 28),\n",
       " (9, 23),\n",
       " (6, 22),\n",
       " (4, 21),\n",
       " (5, 15),\n",
       " (7, 14)]"
      ]
     },
     "execution_count": 50,
     "metadata": {},
     "output_type": "execute_result"
    }
   ],
   "source": [
    "fdist = FreqDist(len(w) for w in tokens)\n",
    "fdist.most_common(10)"
   ]
  },
  {
   "cell_type": "code",
   "execution_count": 51,
   "metadata": {
    "ExecuteTime": {
     "end_time": "2018-05-28T17:05:03.971901Z",
     "start_time": "2018-05-28T17:05:03.951690Z"
    },
    "collapsed": false,
    "hidden": true
   },
   "outputs": [
    {
     "data": {
      "text/plain": [
       "0.1858974358974359"
      ]
     },
     "execution_count": 51,
     "metadata": {},
     "output_type": "execute_result"
    }
   ],
   "source": [
    "fdist.freq(3)"
   ]
  },
  {
   "cell_type": "code",
   "execution_count": 52,
   "metadata": {
    "ExecuteTime": {
     "end_time": "2018-05-28T17:05:03.996185Z",
     "start_time": "2018-05-28T17:05:03.977627Z"
    },
    "collapsed": false,
    "hidden": true
   },
   "outputs": [
    {
     "data": {
      "text/plain": [
       "[(' ', 267),\n",
       " ('e', 179),\n",
       " ('n', 129),\n",
       " ('o', 122),\n",
       " ('a', 110),\n",
       " ('i', 109),\n",
       " ('t', 108),\n",
       " ('s', 103),\n",
       " ('r', 103),\n",
       " ('c', 75)]"
      ]
     },
     "execution_count": 52,
     "metadata": {},
     "output_type": "execute_result"
    }
   ],
   "source": [
    "fdist = FreqDist(i for i in text)\n",
    "fdist.most_common(10)"
   ]
  },
  {
   "cell_type": "code",
   "execution_count": 53,
   "metadata": {
    "ExecuteTime": {
     "end_time": "2018-05-28T17:05:04.014967Z",
     "start_time": "2018-05-28T17:05:03.999328Z"
    },
    "collapsed": false,
    "hidden": true
   },
   "outputs": [
    {
     "data": {
      "text/plain": [
       "['Jason Schloetzer is the William and Karen Sonneborn Term Associate Professor of Business Administration at the Georgetown University McDonough School of Business.',\n",
       " 'His research focuses on management control systems with a particular concentration on the impact of corporate governance on firm value, the dynamics of CEO succession, and performance management issues in global supply chains.',\n",
       " 'His work has been published in leading academic journals, including the Journal of Accounting Research and The Accounting Review.',\n",
       " 'He serves on the Editorial Advisory and Review Board of The Accounting Review, and is a member of the American Accounting Association and the Institute of Management Accountants.',\n",
       " \"Schloetzer is a frequent contributor to The Conference Board's Corporate Leadership practice, for which he has authored Director Notes on hedge fund activism, shareholder engagement, and CEO succession; with Matteo Tonello, he coauthors the CEO Succession Practices annual research report.\",\n",
       " 'Schloetzer has been named by the National Association of Corporate Directors (NACD) to the Directorship 100, a list of the most influential experts in corporate governance.',\n",
       " 'His research has garnered over 50 media mentions in premier news outlets, including Bloomberg, CNBC, CNN, Financial Times, Forbes, Fortune, Institutional Investor, The Economist, The Los Angeles Times, The Wall Street Journal, US News & World Report, and USA Today.',\n",
       " 'Schloetzer teaches Financial Analysis for Managers and Investors (MBA core), Performance as Value Creation (MBA elective) and Strategic Management of Cost and Profit (Executive MBA elective).',\n",
       " 'He has received two MBA teaching awards.',\n",
       " 'Schloetzer earned his BSc in Mechanical Engineering from the University of Kansas, MBA from George Washington University, and PhD in Business Administration from the University of Pittsburgh.']"
      ]
     },
     "execution_count": 53,
     "metadata": {},
     "output_type": "execute_result"
    }
   ],
   "source": [
    "from nltk.tokenize import sent_tokenize\n",
    "sents = sent_tokenize(text)\n",
    "sents"
   ]
  },
  {
   "cell_type": "code",
   "execution_count": 54,
   "metadata": {
    "ExecuteTime": {
     "end_time": "2018-05-28T17:05:04.041473Z",
     "start_time": "2018-05-28T17:05:04.021488Z"
    },
    "collapsed": false,
    "hidden": true
   },
   "outputs": [
    {
     "name": "stdout",
     "output_type": "stream",
     "text": [
      "Chars: [162, 226, 129, 178, 289, 172, 265, 191, 40, 191]\n",
      "Words: [23, 36, 21, 30, 47, 30, 53, 34, 8, 30]\n"
     ]
    }
   ],
   "source": [
    "print('Chars: %s' % [len(i) for i in sents])\n",
    "print('Words: %s' % [len(word_tokenize(i)) for i in sents])"
   ]
  },
  {
   "cell_type": "markdown",
   "metadata": {
    "heading_collapsed": true
   },
   "source": [
    "### Frequency distributions\n",
    "---"
   ]
  },
  {
   "cell_type": "code",
   "execution_count": 55,
   "metadata": {
    "ExecuteTime": {
     "end_time": "2018-05-28T17:05:04.231591Z",
     "start_time": "2018-05-28T17:05:04.046441Z"
    },
    "collapsed": false,
    "hidden": true
   },
   "outputs": [
    {
     "data": {
      "text/plain": [
       "[(',', 3681),\n",
       " ('and', 2428),\n",
       " ('the', 2411),\n",
       " ('of', 1358),\n",
       " ('.', 1315),\n",
       " ('And', 1250),\n",
       " ('his', 651),\n",
       " ('he', 648),\n",
       " ('to', 611),\n",
       " (';', 605),\n",
       " ('unto', 590),\n",
       " ('in', 588),\n",
       " ('that', 509),\n",
       " ('I', 484),\n",
       " ('said', 476),\n",
       " ('him', 387),\n",
       " ('a', 342),\n",
       " ('my', 325),\n",
       " ('was', 317),\n",
       " ('for', 297),\n",
       " ('it', 290),\n",
       " ('with', 289),\n",
       " ('me', 282),\n",
       " ('thou', 272),\n",
       " (\"'\", 268),\n",
       " ('is', 267),\n",
       " ('thy', 267),\n",
       " ('s', 263),\n",
       " ('thee', 257),\n",
       " ('be', 254)]"
      ]
     },
     "execution_count": 55,
     "metadata": {},
     "output_type": "execute_result"
    }
   ],
   "source": [
    "from nltk.probability import FreqDist\n",
    "FreqDist(genesis.words('english-kjv.txt')).most_common(30)"
   ]
  },
  {
   "cell_type": "code",
   "execution_count": 56,
   "metadata": {
    "ExecuteTime": {
     "end_time": "2018-05-28T17:05:04.343377Z",
     "start_time": "2018-05-28T17:05:04.237584Z"
    },
    "collapsed": false,
    "hidden": true
   },
   "outputs": [
    {
     "data": {
      "text/plain": [
       "['In',\n",
       " 'beginning',\n",
       " 'God',\n",
       " 'created',\n",
       " 'heaven',\n",
       " 'earth',\n",
       " '.',\n",
       " 'And',\n",
       " 'earth',\n",
       " 'without',\n",
       " 'form',\n",
       " ',',\n",
       " 'void',\n",
       " ';',\n",
       " 'darkness',\n",
       " 'upon',\n",
       " 'face',\n",
       " 'deep',\n",
       " '.',\n",
       " 'And']"
      ]
     },
     "execution_count": 56,
     "metadata": {},
     "output_type": "execute_result"
    }
   ],
   "source": [
    "from nltk.corpus import stopwords\n",
    "words = genesis.words('english-kjv.txt')\n",
    "stop = set(stopwords.words('english'))\n",
    "words = [i for i in words if i not in stop]\n",
    "words[:20]"
   ]
  },
  {
   "cell_type": "code",
   "execution_count": 57,
   "metadata": {
    "ExecuteTime": {
     "end_time": "2018-05-28T17:05:04.396742Z",
     "start_time": "2018-05-28T17:05:04.350405Z"
    },
    "collapsed": false,
    "hidden": true
   },
   "outputs": [
    {
     "data": {
      "text/plain": [
       "['In',\n",
       " 'beginning',\n",
       " 'God',\n",
       " 'created',\n",
       " 'heaven',\n",
       " 'earth',\n",
       " '.',\n",
       " 'And',\n",
       " 'earth',\n",
       " 'without',\n",
       " 'form',\n",
       " ',',\n",
       " 'void',\n",
       " ';',\n",
       " 'darkness',\n",
       " 'upon',\n",
       " 'face',\n",
       " 'deep',\n",
       " '.',\n",
       " 'And']"
      ]
     },
     "execution_count": 57,
     "metadata": {},
     "output_type": "execute_result"
    }
   ],
   "source": [
    "words = [i for i in words if i not in stop]\n",
    "words[:20]"
   ]
  },
  {
   "cell_type": "code",
   "execution_count": 58,
   "metadata": {
    "ExecuteTime": {
     "end_time": "2018-05-28T17:05:04.437801Z",
     "start_time": "2018-05-28T17:05:04.401981Z"
    },
    "collapsed": false,
    "hidden": true
   },
   "outputs": [
    {
     "data": {
      "text/plain": [
       "['In',\n",
       " 'beginning',\n",
       " 'God',\n",
       " 'created',\n",
       " 'heaven',\n",
       " 'earth',\n",
       " 'And',\n",
       " 'earth',\n",
       " 'without',\n",
       " 'form',\n",
       " 'void',\n",
       " 'darkness',\n",
       " 'upon',\n",
       " 'face',\n",
       " 'deep',\n",
       " 'And',\n",
       " 'Spirit',\n",
       " 'God',\n",
       " 'moved',\n",
       " 'upon']"
      ]
     },
     "execution_count": 58,
     "metadata": {},
     "output_type": "execute_result"
    }
   ],
   "source": [
    "import string\n",
    "words = [i for i in words if i not in string.punctuation]\n",
    "words[:20]"
   ]
  },
  {
   "cell_type": "code",
   "execution_count": 59,
   "metadata": {
    "ExecuteTime": {
     "end_time": "2018-05-28T17:05:04.458423Z",
     "start_time": "2018-05-28T17:05:04.441489Z"
    },
    "collapsed": false,
    "hidden": true
   },
   "outputs": [
    {
     "data": {
      "text/plain": [
       "[('And', 1250),\n",
       " ('unto', 590),\n",
       " ('I', 484),\n",
       " ('said', 476),\n",
       " ('thou', 272),\n",
       " ('thy', 267),\n",
       " ('thee', 257),\n",
       " ('shall', 253),\n",
       " ('God', 231),\n",
       " ('father', 198),\n",
       " ('land', 184),\n",
       " ('Jacob', 179),\n",
       " ('came', 177),\n",
       " ('LORD', 166),\n",
       " ('Joseph', 157),\n",
       " ('son', 152),\n",
       " ('sons', 142),\n",
       " ('upon', 139),\n",
       " ('Abraham', 129),\n",
       " ('man', 114),\n",
       " ('earth', 111),\n",
       " ('went', 110),\n",
       " ('wife', 104),\n",
       " ('years', 102),\n",
       " ('name', 100),\n",
       " ('called', 98),\n",
       " ('us', 93),\n",
       " ('brother', 91),\n",
       " ('Pharaoh', 90),\n",
       " ('every', 88)]"
      ]
     },
     "execution_count": 59,
     "metadata": {},
     "output_type": "execute_result"
    }
   ],
   "source": [
    "FreqDist(words).most_common(30)"
   ]
  },
  {
   "cell_type": "code",
   "execution_count": 60,
   "metadata": {
    "ExecuteTime": {
     "end_time": "2018-05-28T17:05:04.501061Z",
     "start_time": "2018-05-28T17:05:04.461734Z"
    },
    "collapsed": false,
    "hidden": true
   },
   "outputs": [
    {
     "name": "stdout",
     "output_type": "stream",
     "text": [
      "[nltk_data] Downloading package names to /Users/marco/nltk_data...\n",
      "[nltk_data]   Package names is already up-to-date!\n"
     ]
    }
   ],
   "source": [
    "nltk.download('names')\n",
    "names = nltk.corpus.names\n",
    "male_names = names.words('male.txt')\n",
    "female_names = names.words('female.txt')"
   ]
  },
  {
   "cell_type": "code",
   "execution_count": 61,
   "metadata": {
    "ExecuteTime": {
     "end_time": "2018-05-28T17:05:04.883568Z",
     "start_time": "2018-05-28T17:05:04.504038Z"
    },
    "collapsed": false,
    "hidden": true
   },
   "outputs": [
    {
     "data": {
      "text/plain": [
       "['Abbey',\n",
       " 'Abbie',\n",
       " 'Abby',\n",
       " 'Addie',\n",
       " 'Adrian',\n",
       " 'Adrien',\n",
       " 'Ajay',\n",
       " 'Alex',\n",
       " 'Alexis',\n",
       " 'Alfie',\n",
       " 'Ali',\n",
       " 'Alix',\n",
       " 'Allie',\n",
       " 'Allyn',\n",
       " 'Andie',\n",
       " 'Andrea',\n",
       " 'Andy',\n",
       " 'Angel',\n",
       " 'Angie',\n",
       " 'Ariel',\n",
       " 'Ashley',\n",
       " 'Aubrey',\n",
       " 'Augustine',\n",
       " 'Austin',\n",
       " 'Averil',\n",
       " 'Barrie',\n",
       " 'Barry',\n",
       " 'Beau',\n",
       " 'Bennie',\n",
       " 'Benny',\n",
       " 'Bernie',\n",
       " 'Bert',\n",
       " 'Bertie',\n",
       " 'Bill',\n",
       " 'Billie',\n",
       " 'Billy',\n",
       " 'Blair',\n",
       " 'Blake',\n",
       " 'Bo',\n",
       " 'Bobbie',\n",
       " 'Bobby',\n",
       " 'Brandy',\n",
       " 'Brett',\n",
       " 'Britt',\n",
       " 'Brook',\n",
       " 'Brooke',\n",
       " 'Brooks',\n",
       " 'Bryn',\n",
       " 'Cal',\n",
       " 'Cam',\n",
       " 'Cammy',\n",
       " 'Carey',\n",
       " 'Carlie',\n",
       " 'Carlin',\n",
       " 'Carmine',\n",
       " 'Carroll',\n",
       " 'Cary',\n",
       " 'Caryl',\n",
       " 'Casey',\n",
       " 'Cass',\n",
       " 'Cat',\n",
       " 'Cecil',\n",
       " 'Chad',\n",
       " 'Chris',\n",
       " 'Chrissy',\n",
       " 'Christian',\n",
       " 'Christie',\n",
       " 'Christy',\n",
       " 'Clair',\n",
       " 'Claire',\n",
       " 'Clare',\n",
       " 'Claude',\n",
       " 'Clem',\n",
       " 'Clemmie',\n",
       " 'Cody',\n",
       " 'Connie',\n",
       " 'Constantine',\n",
       " 'Corey',\n",
       " 'Corrie',\n",
       " 'Cory',\n",
       " 'Courtney',\n",
       " 'Cris',\n",
       " 'Daffy',\n",
       " 'Dale',\n",
       " 'Dallas',\n",
       " 'Dana',\n",
       " 'Dani',\n",
       " 'Daniel',\n",
       " 'Dannie',\n",
       " 'Danny',\n",
       " 'Darby',\n",
       " 'Darcy',\n",
       " 'Darryl',\n",
       " 'Daryl',\n",
       " 'Deane',\n",
       " 'Del',\n",
       " 'Dell',\n",
       " 'Demetris',\n",
       " 'Dennie',\n",
       " 'Denny',\n",
       " 'Devin',\n",
       " 'Devon',\n",
       " 'Dion',\n",
       " 'Dionis',\n",
       " 'Dominique',\n",
       " 'Donnie',\n",
       " 'Donny',\n",
       " 'Dorian',\n",
       " 'Dory',\n",
       " 'Drew',\n",
       " 'Eddie',\n",
       " 'Eddy',\n",
       " 'Edie',\n",
       " 'Elisha',\n",
       " 'Emmy',\n",
       " 'Erin',\n",
       " 'Esme',\n",
       " 'Evelyn',\n",
       " 'Felice',\n",
       " 'Fran',\n",
       " 'Francis',\n",
       " 'Frank',\n",
       " 'Frankie',\n",
       " 'Franky',\n",
       " 'Fred',\n",
       " 'Freddie',\n",
       " 'Freddy',\n",
       " 'Gabriel',\n",
       " 'Gabriell',\n",
       " 'Gail',\n",
       " 'Gale',\n",
       " 'Gay',\n",
       " 'Gayle',\n",
       " 'Gene',\n",
       " 'George',\n",
       " 'Georgia',\n",
       " 'Georgie',\n",
       " 'Geri',\n",
       " 'Germaine',\n",
       " 'Gerri',\n",
       " 'Gerry',\n",
       " 'Gill',\n",
       " 'Ginger',\n",
       " 'Glen',\n",
       " 'Glenn',\n",
       " 'Grace',\n",
       " 'Gretchen',\n",
       " 'Gus',\n",
       " 'Haleigh',\n",
       " 'Haley',\n",
       " 'Hannibal',\n",
       " 'Harley',\n",
       " 'Hazel',\n",
       " 'Heath',\n",
       " 'Henrie',\n",
       " 'Hilary',\n",
       " 'Hillary',\n",
       " 'Holly',\n",
       " 'Ike',\n",
       " 'Ikey',\n",
       " 'Ira',\n",
       " 'Isa',\n",
       " 'Isador',\n",
       " 'Isadore',\n",
       " 'Jackie',\n",
       " 'Jaime',\n",
       " 'Jamie',\n",
       " 'Jan',\n",
       " 'Jean',\n",
       " 'Jere',\n",
       " 'Jermaine',\n",
       " 'Jerrie',\n",
       " 'Jerry',\n",
       " 'Jess',\n",
       " 'Jesse',\n",
       " 'Jessie',\n",
       " 'Jo',\n",
       " 'Jodi',\n",
       " 'Jodie',\n",
       " 'Jody',\n",
       " 'Joey',\n",
       " 'Jordan',\n",
       " 'Juanita',\n",
       " 'Jude',\n",
       " 'Judith',\n",
       " 'Judy',\n",
       " 'Julie',\n",
       " 'Justin',\n",
       " 'Karel',\n",
       " 'Kellen',\n",
       " 'Kelley',\n",
       " 'Kelly',\n",
       " 'Kelsey',\n",
       " 'Kerry',\n",
       " 'Kim',\n",
       " 'Kip',\n",
       " 'Kirby',\n",
       " 'Kit',\n",
       " 'Kris',\n",
       " 'Kyle',\n",
       " 'Lane',\n",
       " 'Lanny',\n",
       " 'Lauren',\n",
       " 'Laurie',\n",
       " 'Lee',\n",
       " 'Leigh',\n",
       " 'Leland',\n",
       " 'Lesley',\n",
       " 'Leslie',\n",
       " 'Lin',\n",
       " 'Lind',\n",
       " 'Lindsay',\n",
       " 'Lindsey',\n",
       " 'Lindy',\n",
       " 'Lonnie',\n",
       " 'Loren',\n",
       " 'Lorne',\n",
       " 'Lorrie',\n",
       " 'Lou',\n",
       " 'Luce',\n",
       " 'Lyn',\n",
       " 'Lynn',\n",
       " 'Maddie',\n",
       " 'Maddy',\n",
       " 'Marietta',\n",
       " 'Marion',\n",
       " 'Marlo',\n",
       " 'Martie',\n",
       " 'Marty',\n",
       " 'Mattie',\n",
       " 'Matty',\n",
       " 'Maurise',\n",
       " 'Max',\n",
       " 'Maxie',\n",
       " 'Mead',\n",
       " 'Meade',\n",
       " 'Mel',\n",
       " 'Meredith',\n",
       " 'Merle',\n",
       " 'Merrill',\n",
       " 'Merry',\n",
       " 'Meryl',\n",
       " 'Michal',\n",
       " 'Michel',\n",
       " 'Michele',\n",
       " 'Mickie',\n",
       " 'Micky',\n",
       " 'Millicent',\n",
       " 'Morgan',\n",
       " 'Morlee',\n",
       " 'Muffin',\n",
       " 'Nat',\n",
       " 'Nichole',\n",
       " 'Nickie',\n",
       " 'Nicky',\n",
       " 'Niki',\n",
       " 'Nikki',\n",
       " 'Noel',\n",
       " 'Ollie',\n",
       " 'Page',\n",
       " 'Paige',\n",
       " 'Pat',\n",
       " 'Patrice',\n",
       " 'Patsy',\n",
       " 'Pattie',\n",
       " 'Patty',\n",
       " 'Pen',\n",
       " 'Pennie',\n",
       " 'Penny',\n",
       " 'Perry',\n",
       " 'Phil',\n",
       " 'Pooh',\n",
       " 'Quentin',\n",
       " 'Quinn',\n",
       " 'Randi',\n",
       " 'Randie',\n",
       " 'Randy',\n",
       " 'Ray',\n",
       " 'Regan',\n",
       " 'Reggie',\n",
       " 'Rene',\n",
       " 'Rey',\n",
       " 'Ricki',\n",
       " 'Rickie',\n",
       " 'Ricky',\n",
       " 'Rikki',\n",
       " 'Robbie',\n",
       " 'Robin',\n",
       " 'Ronnie',\n",
       " 'Ronny',\n",
       " 'Rory',\n",
       " 'Ruby',\n",
       " 'Sal',\n",
       " 'Sam',\n",
       " 'Sammy',\n",
       " 'Sandy',\n",
       " 'Sascha',\n",
       " 'Sasha',\n",
       " 'Saundra',\n",
       " 'Sayre',\n",
       " 'Scotty',\n",
       " 'Sean',\n",
       " 'Shaine',\n",
       " 'Shane',\n",
       " 'Shannon',\n",
       " 'Shaun',\n",
       " 'Shawn',\n",
       " 'Shay',\n",
       " 'Shayne',\n",
       " 'Shea',\n",
       " 'Shelby',\n",
       " 'Shell',\n",
       " 'Shelley',\n",
       " 'Sibyl',\n",
       " 'Simone',\n",
       " 'Sonnie',\n",
       " 'Sonny',\n",
       " 'Stacy',\n",
       " 'Sunny',\n",
       " 'Sydney',\n",
       " 'Tabbie',\n",
       " 'Tabby',\n",
       " 'Tallie',\n",
       " 'Tally',\n",
       " 'Tammie',\n",
       " 'Tammy',\n",
       " 'Tate',\n",
       " 'Ted',\n",
       " 'Teddie',\n",
       " 'Teddy',\n",
       " 'Terri',\n",
       " 'Terry',\n",
       " 'Theo',\n",
       " 'Tim',\n",
       " 'Timmie',\n",
       " 'Timmy',\n",
       " 'Tobe',\n",
       " 'Tobie',\n",
       " 'Toby',\n",
       " 'Tommie',\n",
       " 'Tommy',\n",
       " 'Tony',\n",
       " 'Torey',\n",
       " 'Trace',\n",
       " 'Tracey',\n",
       " 'Tracie',\n",
       " 'Tracy',\n",
       " 'Val',\n",
       " 'Vale',\n",
       " 'Valentine',\n",
       " 'Van',\n",
       " 'Vin',\n",
       " 'Vinnie',\n",
       " 'Vinny',\n",
       " 'Virgie',\n",
       " 'Wallie',\n",
       " 'Wallis',\n",
       " 'Wally',\n",
       " 'Whitney',\n",
       " 'Willi',\n",
       " 'Willie',\n",
       " 'Willy',\n",
       " 'Winnie',\n",
       " 'Winny',\n",
       " 'Wynn']"
      ]
     },
     "execution_count": 61,
     "metadata": {},
     "output_type": "execute_result"
    }
   ],
   "source": [
    "[w for w in male_names if w in female_names]"
   ]
  },
  {
   "cell_type": "code",
   "execution_count": 62,
   "metadata": {
    "ExecuteTime": {
     "end_time": "2018-05-28T17:05:05.602379Z",
     "start_time": "2018-05-28T17:05:04.893878Z"
    },
    "collapsed": false,
    "hidden": true
   },
   "outputs": [
    {
     "data": {
      "image/png": "[encoded data removed]",
      "text/plain": [
       "<matplotlib.figure.Figure at 0x118348748>"
      ]
     },
     "metadata": {},
     "output_type": "display_data"
    }
   ],
   "source": [
    "cfd = nltk.ConditionalFreqDist(\n",
    "        (fileid, name[-1])\n",
    "        for fileid in names.fileids()\n",
    "        for name in names.words(fileid))\n",
    "cfd.plot()"
   ]
  },
  {
   "cell_type": "markdown",
   "metadata": {
    "hidden": true
   },
   "source": [
    "<div class=\"alert alert-block alert-info\" \n",
    "     style=\"border-color: #2E86C1; \n",
    "            border-left: 5px solid #2E86C1;\n",
    "            padding-top: 5px\">\n",
    "    <font size=\"4\"> \n",
    "    <a href=\"./playground.ipynb\" style=\"text-decoration: none\"> \n",
    "    <h3 style=\"font-family: monospace\">Exercise 0.4</h3>\n",
    "    <p style=\"margin-left: 100px;\n",
    "              margin-right: 100px;\n",
    "              line-height: 1.7em;\">Write your own <span style=\"font-family:monospace;\">Conditional Frequency Distribution</span> on the names dataset. <br/> Try to plot frequencies rather than counts on the y axis. <br/> Tip: inspect the object with <span style=\"font-family:monospace;\">??nltk.ConditionalFreqDist</span></p></a></font>\n",
    "</div>"
   ]
  },
  {
   "cell_type": "code",
   "execution_count": 63,
   "metadata": {
    "ExecuteTime": {
     "end_time": "2018-05-28T17:05:05.628415Z",
     "start_time": "2018-05-28T17:05:05.609899Z"
    },
    "collapsed": false,
    "hidden": true
   },
   "outputs": [
    {
     "name": "stdout",
     "output_type": "stream",
     "text": [
      "2943\n",
      "5001\n"
     ]
    }
   ],
   "source": [
    "print(len(male_names))\n",
    "print(len(female_names))"
   ]
  },
  {
   "cell_type": "markdown",
   "metadata": {
    "heading_collapsed": true
   },
   "source": [
    "### Meaning: an ab-initio approach\n",
    "---"
   ]
  },
  {
   "cell_type": "code",
   "execution_count": 64,
   "metadata": {
    "ExecuteTime": {
     "end_time": "2018-05-28T17:05:05.638810Z",
     "start_time": "2018-05-28T17:05:05.633190Z"
    },
    "collapsed": true,
    "hidden": true
   },
   "outputs": [],
   "source": [
    "# WordNet = semantic dictionary \n",
    "# http://wordnetweb.princeton.edu/perl/webwn?s=fish"
   ]
  },
  {
   "cell_type": "code",
   "execution_count": 65,
   "metadata": {
    "ExecuteTime": {
     "end_time": "2018-05-28T17:05:09.092611Z",
     "start_time": "2018-05-28T17:05:05.643880Z"
    },
    "collapsed": false,
    "hidden": true
   },
   "outputs": [
    {
     "data": {
      "text/plain": [
       "[Synset('fish.n.01'),\n",
       " Synset('fish.n.02'),\n",
       " Synset('pisces.n.02'),\n",
       " Synset('pisces.n.01'),\n",
       " Synset('fish.v.01'),\n",
       " Synset('fish.v.02')]"
      ]
     },
     "execution_count": 65,
     "metadata": {},
     "output_type": "execute_result"
    }
   ],
   "source": [
    "# synonyms = words with the same meaning\n",
    "# synset = set of synonyms defining a concept\n",
    "from nltk.corpus import wordnet as wn\n",
    "wn.synsets('fish')"
   ]
  },
  {
   "cell_type": "code",
   "execution_count": 66,
   "metadata": {
    "ExecuteTime": {
     "end_time": "2018-05-28T17:05:09.101642Z",
     "start_time": "2018-05-28T17:05:09.095892Z"
    },
    "collapsed": false,
    "hidden": true
   },
   "outputs": [
    {
     "data": {
      "text/plain": [
       "'any of various mostly cold-blooded aquatic vertebrates usually having scales and breathing through gills'"
      ]
     },
     "execution_count": 66,
     "metadata": {},
     "output_type": "execute_result"
    }
   ],
   "source": [
    "wn.synsets('fish')[0].definition()"
   ]
  },
  {
   "cell_type": "code",
   "execution_count": 67,
   "metadata": {
    "ExecuteTime": {
     "end_time": "2018-05-28T17:05:09.112422Z",
     "start_time": "2018-05-28T17:05:09.104195Z"
    },
    "collapsed": false,
    "hidden": true
   },
   "outputs": [
    {
     "data": {
      "text/plain": [
       "['the shark is a large fish',\n",
       " 'in the living room there was a tank of colorful fish']"
      ]
     },
     "execution_count": 67,
     "metadata": {},
     "output_type": "execute_result"
    }
   ],
   "source": [
    "wn.synsets('fish')[0].examples()"
   ]
  },
  {
   "cell_type": "code",
   "execution_count": 68,
   "metadata": {
    "ExecuteTime": {
     "end_time": "2018-05-28T17:05:09.131337Z",
     "start_time": "2018-05-28T17:05:09.120115Z"
    },
    "collapsed": false,
    "hidden": true
   },
   "outputs": [
    {
     "data": {
      "text/plain": [
       "[Lemma('pisces.n.02.Pisces'), Lemma('pisces.n.02.Fish')]"
      ]
     },
     "execution_count": 68,
     "metadata": {},
     "output_type": "execute_result"
    }
   ],
   "source": [
    "# lemma = synset + word\n",
    "wn.synsets('fish')[2].lemmas()"
   ]
  },
  {
   "cell_type": "code",
   "execution_count": 69,
   "metadata": {
    "ExecuteTime": {
     "end_time": "2018-05-28T17:05:09.170375Z",
     "start_time": "2018-05-28T17:05:09.143093Z"
    },
    "collapsed": false,
    "hidden": true
   },
   "outputs": [
    {
     "data": {
      "text/plain": [
       "[Lemma('fish.n.01.fish'),\n",
       " Lemma('fish.n.02.fish'),\n",
       " Lemma('pisces.n.02.Fish'),\n",
       " Lemma('pisces.n.01.Fish'),\n",
       " Lemma('fish.v.01.fish'),\n",
       " Lemma('fish.v.02.fish'),\n",
       " Lemma('pisces.n.01.Pisces'),\n",
       " Lemma('pisces.n.02.Pisces'),\n",
       " Lemma('pisces.n.03.Pisces'),\n",
       " Lemma('pisces.n.04.Pisces')]"
      ]
     },
     "execution_count": 69,
     "metadata": {},
     "output_type": "execute_result"
    }
   ],
   "source": [
    "wn.lemmas('fish') + wn.lemmas('pisces')"
   ]
  },
  {
   "cell_type": "code",
   "execution_count": 70,
   "metadata": {
    "ExecuteTime": {
     "end_time": "2018-05-28T17:05:09.203767Z",
     "start_time": "2018-05-28T17:05:09.177950Z"
    },
    "collapsed": false,
    "hidden": true
   },
   "outputs": [
    {
     "data": {
      "text/plain": [
       "[Synset('bony_fish.n.01'),\n",
       " Synset('bottom-feeder.n.02'),\n",
       " Synset('bottom_lurkers.n.01'),\n",
       " Synset('cartilaginous_fish.n.01'),\n",
       " Synset('climbing_perch.n.01'),\n",
       " Synset('fingerling.n.01'),\n",
       " Synset('food_fish.n.01'),\n",
       " Synset('game_fish.n.01'),\n",
       " Synset('mouthbreeder.n.01'),\n",
       " Synset('northern_snakehead.n.01'),\n",
       " Synset('rough_fish.n.01'),\n",
       " Synset('spawner.n.01'),\n",
       " Synset('young_fish.n.01')]"
      ]
     },
     "execution_count": 70,
     "metadata": {},
     "output_type": "execute_result"
    }
   ],
   "source": [
    "# synsets are linked together in a hierarchy\n",
    "# lexical relations (\"is a\"):\n",
    "#     hyponyms = concepts that are more specific\n",
    "#     hypernyms = concepts that are more generic\n",
    "fish = wn.synsets('fish')[0]\n",
    "fish.hyponyms()"
   ]
  },
  {
   "cell_type": "code",
   "execution_count": 71,
   "metadata": {
    "ExecuteTime": {
     "end_time": "2018-05-28T17:05:09.218933Z",
     "start_time": "2018-05-28T17:05:09.207310Z"
    },
    "collapsed": false,
    "hidden": true
   },
   "outputs": [
    {
     "data": {
      "text/plain": [
       "[Synset('crossopterygian.n.01'),\n",
       " Synset('lungfish.n.01'),\n",
       " Synset('teleost_fish.n.01')]"
      ]
     },
     "execution_count": 71,
     "metadata": {},
     "output_type": "execute_result"
    }
   ],
   "source": [
    "fish.hyponyms()[0].hyponyms()"
   ]
  },
  {
   "cell_type": "code",
   "execution_count": 72,
   "metadata": {
    "ExecuteTime": {
     "end_time": "2018-05-28T17:05:09.231737Z",
     "start_time": "2018-05-28T17:05:09.221787Z"
    },
    "collapsed": false,
    "hidden": true
   },
   "outputs": [
    {
     "data": {
      "text/plain": [
       "[Synset('aquatic_vertebrate.n.01')]"
      ]
     },
     "execution_count": 72,
     "metadata": {},
     "output_type": "execute_result"
    }
   ],
   "source": [
    "fish.hypernyms()"
   ]
  },
  {
   "cell_type": "code",
   "execution_count": 73,
   "metadata": {
    "ExecuteTime": {
     "end_time": "2018-05-28T17:05:09.243964Z",
     "start_time": "2018-05-28T17:05:09.237352Z"
    },
    "collapsed": false,
    "hidden": true
   },
   "outputs": [
    {
     "data": {
      "text/plain": [
       "[Synset('vertebrate.n.01')]"
      ]
     },
     "execution_count": 73,
     "metadata": {},
     "output_type": "execute_result"
    }
   ],
   "source": [
    "fish.hypernyms()[0].hypernyms()"
   ]
  },
  {
   "cell_type": "code",
   "execution_count": 74,
   "metadata": {
    "ExecuteTime": {
     "end_time": "2018-05-28T17:05:09.263269Z",
     "start_time": "2018-05-28T17:05:09.250728Z"
    },
    "collapsed": false,
    "hidden": true
   },
   "outputs": [
    {
     "data": {
      "text/plain": [
       "[Synset('fin.n.06'),\n",
       " Synset('fish_scale.n.01'),\n",
       " Synset('fishbone.n.01'),\n",
       " Synset('lateral_line.n.01'),\n",
       " Synset('milt.n.02'),\n",
       " Synset('roe.n.02'),\n",
       " Synset('tail_fin.n.03')]"
      ]
     },
     "execution_count": 74,
     "metadata": {},
     "output_type": "execute_result"
    }
   ],
   "source": [
    "# meronyms = things an item contains\n",
    "# holonyms = things an item is contained in\n",
    "fish.part_meronyms()"
   ]
  },
  {
   "cell_type": "code",
   "execution_count": 75,
   "metadata": {
    "ExecuteTime": {
     "end_time": "2018-05-28T17:05:09.278611Z",
     "start_time": "2018-05-28T17:05:09.269218Z"
    },
    "collapsed": false,
    "hidden": true
   },
   "outputs": [
    {
     "data": {
      "text/plain": [
       "[Synset('pisces.n.04'), Synset('school.n.07')]"
      ]
     },
     "execution_count": 75,
     "metadata": {},
     "output_type": "execute_result"
    }
   ],
   "source": [
    "fish.member_holonyms()"
   ]
  },
  {
   "cell_type": "code",
   "execution_count": 76,
   "metadata": {
    "ExecuteTime": {
     "end_time": "2018-05-28T17:05:09.366110Z",
     "start_time": "2018-05-28T17:05:09.307888Z"
    },
    "collapsed": false,
    "hidden": true
   },
   "outputs": [
    {
     "data": {
      "text/plain": [
       "'a male sovereign; ruler of a kingdom'"
      ]
     },
     "execution_count": 76,
     "metadata": {},
     "output_type": "execute_result"
    }
   ],
   "source": [
    "# `path_similarity` assigns a score in the range (0, 1) based on the shortest \n",
    "# path that connects the concepts in the hypernym hierarchy (-1 is returned \n",
    "# when a path cannot be found).\n",
    "wn.synsets('king')[0].definition()"
   ]
  },
  {
   "cell_type": "code",
   "execution_count": 77,
   "metadata": {
    "ExecuteTime": {
     "end_time": "2018-05-28T17:05:09.403494Z",
     "start_time": "2018-05-28T17:05:09.373900Z"
    },
    "collapsed": false,
    "hidden": true
   },
   "outputs": [
    {
     "data": {
      "text/plain": [
       "'the only fertile female in a colony of social insects such as bees and ants and termites; its function is to lay eggs'"
      ]
     },
     "execution_count": 77,
     "metadata": {},
     "output_type": "execute_result"
    }
   ],
   "source": [
    "wn.synsets('queen')[0].definition()"
   ]
  },
  {
   "cell_type": "code",
   "execution_count": 78,
   "metadata": {
    "ExecuteTime": {
     "end_time": "2018-05-28T17:05:09.413378Z",
     "start_time": "2018-05-28T17:05:09.405507Z"
    },
    "collapsed": false,
    "hidden": true
   },
   "outputs": [
    {
     "data": {
      "text/plain": [
       "'a female sovereign ruler'"
      ]
     },
     "execution_count": 78,
     "metadata": {},
     "output_type": "execute_result"
    }
   ],
   "source": [
    "wn.synsets('queen')[1].definition()"
   ]
  },
  {
   "cell_type": "code",
   "execution_count": 79,
   "metadata": {
    "ExecuteTime": {
     "end_time": "2018-05-28T17:05:09.446392Z",
     "start_time": "2018-05-28T17:05:09.417798Z"
    },
    "collapsed": false,
    "hidden": true
   },
   "outputs": [
    {
     "data": {
      "text/plain": [
       "0.125"
      ]
     },
     "execution_count": 79,
     "metadata": {},
     "output_type": "execute_result"
    }
   ],
   "source": [
    "king = wn.synsets('king')[0]\n",
    "queen = wn.synsets('queen')[1]\n",
    "king.path_similarity(queen)"
   ]
  },
  {
   "cell_type": "markdown",
   "metadata": {},
   "source": [
    "### Meaning: a statistical approach (1972)\n",
    "---"
   ]
  },
  {
   "cell_type": "markdown",
   "metadata": {},
   "source": [
    "**Computers only know how to deal with 0s and 1s.**\n",
    "\n",
    "How do we convert the meaning of words into numbers?\n",
    "\n",
    "`TF-IDF` stands for \"Term Frequency, Inverse Document Frequency\". \n",
    "\n",
    "It's a way to score the importance of words in a document based on how frequently they appear across multiple documents.\n",
    "\n",
    "If a word appears frequently in a document, it's important. Give the word a high score.\n",
    "\n",
    "But if a word appears in many documents, it's not a unique identifier. Give the word a low score.\n",
    "\n",
    "Therefore, common words like \"the\" and \"for,\" which appear in many documents, will be scaled down. \n",
    "\n",
    "Words that appear frequently in a single document will be scaled up."
   ]
  },
  {
   "cell_type": "code",
   "execution_count": 105,
   "metadata": {
    "ExecuteTime": {
     "end_time": "2018-05-28T17:11:09.110022Z",
     "start_time": "2018-05-28T17:11:09.103597Z"
    },
    "collapsed": true
   },
   "outputs": [],
   "source": [
    "sentences = [\"Beautiful is better than ugly.\",\n",
    "             \"Explicit is better than implicit.\",\n",
    "             \"Simple is better than complex.\",\n",
    "             \"Complex is better than complicated.\",\n",
    "             \"Flat is better than nested.\",\n",
    "             \"Sparse is better than dense.\",\n",
    "             \"Readability counts.\",\n",
    "             \"Special cases aren't special enough to break the rules.\",\n",
    "             \"Although practicality beats purity.\",\n",
    "             \"Errors should never pass silently.\",\n",
    "             \"Unless explicitly silenced.\",\n",
    "             \"In the face of ambiguity, refuse the temptation to guess.\",\n",
    "             \"There should be one-- and preferably only one --obvious way to do it.\",\n",
    "             \"Although that way may not be obvious at first unless you're Dutch.\",\n",
    "             \"Now is better than... never.\",\n",
    "             \"Although never is often better than *right* now.\",\n",
    "             \"If the implementation is hard to explain, it's a bad idea.\",\n",
    "             \"If the implementation is easy to explain, it may be a good idea.\",\n",
    "             \"Namespaces are one honking great idea -- let's do more of those!\"]"
   ]
  },
  {
   "cell_type": "code",
   "execution_count": 106,
   "metadata": {
    "ExecuteTime": {
     "end_time": "2018-05-28T17:11:10.290946Z",
     "start_time": "2018-05-28T17:11:10.281468Z"
    },
    "collapsed": false
   },
   "outputs": [],
   "source": [
    "import warnings\n",
    "warnings.filterwarnings(\"ignore\")\n",
    "\n",
    "from nltk.tokenize import word_tokenize\n",
    "from sklearn.feature_extraction.text import TfidfVectorizer\n",
    "vectorizer = TfidfVectorizer(ngram_range=(1, 1))\n",
    "matrix = vectorizer.fit_transform(sentences)"
   ]
  },
  {
   "cell_type": "code",
   "execution_count": 107,
   "metadata": {
    "ExecuteTime": {
     "end_time": "2018-05-28T17:11:12.396479Z",
     "start_time": "2018-05-28T17:11:12.384074Z"
    },
    "collapsed": false
   },
   "outputs": [
    {
     "data": {
      "text/plain": [
       "{'although': 0,\n",
       " 'ambiguity': 1,\n",
       " 'and': 2,\n",
       " 'are': 3,\n",
       " 'aren': 4,\n",
       " 'at': 5,\n",
       " 'bad': 6,\n",
       " 'be': 7,\n",
       " 'beats': 8,\n",
       " 'beautiful': 9,\n",
       " 'better': 10,\n",
       " 'break': 11,\n",
       " 'cases': 12,\n",
       " 'complex': 13,\n",
       " 'complicated': 14,\n",
       " 'counts': 15,\n",
       " 'dense': 16,\n",
       " 'do': 17,\n",
       " 'dutch': 18,\n",
       " 'easy': 19,\n",
       " 'enough': 20,\n",
       " 'errors': 21,\n",
       " 'explain': 22,\n",
       " 'explicit': 23,\n",
       " 'explicitly': 24,\n",
       " 'face': 25,\n",
       " 'first': 26,\n",
       " 'flat': 27,\n",
       " 'good': 28,\n",
       " 'great': 29,\n",
       " 'guess': 30,\n",
       " 'hard': 31,\n",
       " 'honking': 32,\n",
       " 'idea': 33,\n",
       " 'if': 34,\n",
       " 'implementation': 35,\n",
       " 'implicit': 36,\n",
       " 'in': 37,\n",
       " 'is': 38,\n",
       " 'it': 39,\n",
       " 'let': 40,\n",
       " 'may': 41,\n",
       " 'more': 42,\n",
       " 'namespaces': 43,\n",
       " 'nested': 44,\n",
       " 'never': 45,\n",
       " 'not': 46,\n",
       " 'now': 47,\n",
       " 'obvious': 48,\n",
       " 'of': 49,\n",
       " 'often': 50,\n",
       " 'one': 51,\n",
       " 'only': 52,\n",
       " 'pass': 53,\n",
       " 'practicality': 54,\n",
       " 'preferably': 55,\n",
       " 'purity': 56,\n",
       " 're': 57,\n",
       " 'readability': 58,\n",
       " 'refuse': 59,\n",
       " 'right': 60,\n",
       " 'rules': 61,\n",
       " 'should': 62,\n",
       " 'silenced': 63,\n",
       " 'silently': 64,\n",
       " 'simple': 65,\n",
       " 'sparse': 66,\n",
       " 'special': 67,\n",
       " 'temptation': 68,\n",
       " 'than': 69,\n",
       " 'that': 70,\n",
       " 'the': 71,\n",
       " 'there': 72,\n",
       " 'those': 73,\n",
       " 'to': 74,\n",
       " 'ugly': 75,\n",
       " 'unless': 76,\n",
       " 'way': 77,\n",
       " 'you': 78}"
      ]
     },
     "execution_count": 107,
     "metadata": {},
     "output_type": "execute_result"
    }
   ],
   "source": [
    "vectorizer.vocabulary_"
   ]
  },
  {
   "cell_type": "code",
   "execution_count": 108,
   "metadata": {
    "ExecuteTime": {
     "end_time": "2018-05-28T17:11:15.737757Z",
     "start_time": "2018-05-28T17:11:15.729912Z"
    },
    "collapsed": false
   },
   "outputs": [
    {
     "data": {
      "text/plain": [
       "array([[0.        ],\n",
       "       [0.        ],\n",
       "       [0.        ],\n",
       "       [0.        ],\n",
       "       [0.        ],\n",
       "       [0.        ],\n",
       "       [0.        ],\n",
       "       [0.21137834],\n",
       "       [0.        ],\n",
       "       [0.        ],\n",
       "       [0.        ],\n",
       "       [0.21879413],\n",
       "       [0.19386082],\n",
       "       [0.        ],\n",
       "       [0.        ],\n",
       "       [0.        ],\n",
       "       [0.25669732],\n",
       "       [0.23372594],\n",
       "       [0.        ]])"
      ]
     },
     "execution_count": 108,
     "metadata": {},
     "output_type": "execute_result"
    }
   ],
   "source": [
    "matrix[:,74].toarray()"
   ]
  },
  {
   "cell_type": "code",
   "execution_count": 109,
   "metadata": {
    "ExecuteTime": {
     "end_time": "2018-05-28T17:11:16.681152Z",
     "start_time": "2018-05-28T17:11:16.671415Z"
    },
    "collapsed": false
   },
   "outputs": [
    {
     "data": {
      "text/plain": [
       "array([[0.        ],\n",
       "       [0.        ],\n",
       "       [0.62056399],\n",
       "       [0.        ],\n",
       "       [0.        ],\n",
       "       [0.        ],\n",
       "       [0.        ],\n",
       "       [0.        ],\n",
       "       [0.        ],\n",
       "       [0.        ],\n",
       "       [0.        ],\n",
       "       [0.        ],\n",
       "       [0.        ],\n",
       "       [0.        ],\n",
       "       [0.        ],\n",
       "       [0.        ],\n",
       "       [0.        ],\n",
       "       [0.        ],\n",
       "       [0.        ]])"
      ]
     },
     "execution_count": 109,
     "metadata": {},
     "output_type": "execute_result"
    }
   ],
   "source": [
    "matrix[:,65].toarray()"
   ]
  },
  {
   "cell_type": "markdown",
   "metadata": {},
   "source": [
    "### Meaning: a statistical approach (2013)\n",
    "---"
   ]
  },
  {
   "cell_type": "code",
   "execution_count": 134,
   "metadata": {
    "ExecuteTime": {
     "end_time": "2018-05-28T17:13:41.400404Z",
     "start_time": "2018-05-28T17:13:41.051492Z"
    },
    "collapsed": false
   },
   "outputs": [],
   "source": [
    "from gensim.models.word2vec import Word2Vec\n",
    "    \n",
    "def clean(word):\n",
    "    word = re.sub('[^A-Za-z0-9]+', '', word.strip().lower())\n",
    "    return word if word not in stop_words else ''\n",
    "    \n",
    "stop_words = set([i.strip() for i in open('../data/stopwords.txt')])\n",
    "sentences = []\n",
    "for filein in ['macbeth.txt', 'julius_caesar.txt']:\n",
    "    x = [i.strip() for i in open('../data/' + filein)]\n",
    "    for line in x:\n",
    "        words = [clean(i) for i in line.split() if clean(i)]\n",
    "        if words: sentences.append(words)\n",
    "                \n",
    "model = Word2Vec(sentences, window=8, size=1000, workers=4, min_count=5)"
   ]
  },
  {
   "cell_type": "code",
   "execution_count": 140,
   "metadata": {
    "ExecuteTime": {
     "end_time": "2018-05-28T17:14:09.616978Z",
     "start_time": "2018-05-28T17:14:09.611428Z"
    },
    "collapsed": false
   },
   "outputs": [
    {
     "data": {
      "text/plain": [
       "5324"
      ]
     },
     "execution_count": 140,
     "metadata": {},
     "output_type": "execute_result"
    }
   ],
   "source": [
    "len(sentences)"
   ]
  },
  {
   "cell_type": "code",
   "execution_count": 142,
   "metadata": {
    "ExecuteTime": {
     "end_time": "2018-05-28T17:14:36.324767Z",
     "start_time": "2018-05-28T17:14:36.319324Z"
    },
    "collapsed": false
   },
   "outputs": [
    {
     "data": {
      "text/plain": [
       "683"
      ]
     },
     "execution_count": 142,
     "metadata": {},
     "output_type": "execute_result"
    }
   ],
   "source": [
    "len(model.wv.vocab)"
   ]
  },
  {
   "cell_type": "code",
   "execution_count": 135,
   "metadata": {
    "ExecuteTime": {
     "end_time": "2018-05-28T17:13:41.988549Z",
     "start_time": "2018-05-28T17:13:41.982848Z"
    },
    "collapsed": false
   },
   "outputs": [
    {
     "data": {
      "text/plain": [
       "array([-3.9749956e-04, -1.3485850e-03, -7.2288699e-04,  8.3106558e-04,\n",
       "       -5.0254275e-05, -1.0442768e-03,  1.3981668e-04, -4.1901958e-04,\n",
       "        1.6033670e-04,  1.4141078e-04], dtype=float32)"
      ]
     },
     "execution_count": 135,
     "metadata": {},
     "output_type": "execute_result"
    }
   ],
   "source": [
    "model.wv['macbeth'][:10]"
   ]
  },
  {
   "cell_type": "code",
   "execution_count": 136,
   "metadata": {
    "ExecuteTime": {
     "end_time": "2018-05-28T17:13:42.765284Z",
     "start_time": "2018-05-28T17:13:42.759410Z"
    },
    "collapsed": false
   },
   "outputs": [
    {
     "data": {
      "text/plain": [
       "0.7675349493002244"
      ]
     },
     "execution_count": 136,
     "metadata": {},
     "output_type": "execute_result"
    }
   ],
   "source": [
    "model.wv.similarity('caesar', 'macbeth')"
   ]
  },
  {
   "cell_type": "code",
   "execution_count": 137,
   "metadata": {
    "ExecuteTime": {
     "end_time": "2018-05-28T17:13:43.485124Z",
     "start_time": "2018-05-28T17:13:43.474734Z"
    },
    "collapsed": false
   },
   "outputs": [
    {
     "data": {
      "text/plain": [
       "('macbeth', 0.6382871270179749)"
      ]
     },
     "execution_count": 137,
     "metadata": {},
     "output_type": "execute_result"
    }
   ],
   "source": [
    "model.wv.most_similar('duncan')[0]"
   ]
  },
  {
   "cell_type": "code",
   "execution_count": 138,
   "metadata": {
    "ExecuteTime": {
     "end_time": "2018-05-28T17:13:44.824898Z",
     "start_time": "2018-05-28T17:13:44.818813Z"
    },
    "collapsed": false
   },
   "outputs": [
    {
     "data": {
      "text/plain": [
       "('brutus', 0.6649589538574219)"
      ]
     },
     "execution_count": 138,
     "metadata": {},
     "output_type": "execute_result"
    }
   ],
   "source": [
    "model.wv.most_similar(positive=['macbeth', 'caesar'], negative=['good'])[0]"
   ]
  },
  {
   "cell_type": "code",
   "execution_count": 139,
   "metadata": {
    "ExecuteTime": {
     "end_time": "2018-05-28T17:13:46.012312Z",
     "start_time": "2018-05-28T17:13:46.006557Z"
    },
    "collapsed": false
   },
   "outputs": [
    {
     "data": {
      "text/plain": [
       "'scotland'"
      ]
     },
     "execution_count": 139,
     "metadata": {},
     "output_type": "execute_result"
    }
   ],
   "source": [
    "model.wv.doesnt_match(['macbeth', 'caesar', 'brutus', 'scotland'])"
   ]
  },
  {
   "cell_type": "markdown",
   "metadata": {},
   "source": [
    "### Meaning: a statistical approach (2018)\n",
    "---"
   ]
  },
  {
   "cell_type": "markdown",
   "metadata": {
    "collapsed": true
   },
   "source": [
    "A couple of interesting state-of-the-art demos\n",
    "\n",
    "\n",
    "- [NLP tasks](https://cloud.google.com/natural-language/):\n",
    "    - P: Jason's bio\n",
    "\n",
    "\n",
    "- [Machine comprehension](http://demo.allennlp.org/machine-comprehension/MjA0MTQ1)\n",
    "    - P: Jason's bio\n",
    "    - Q: Where did Jason get his MBA?\n",
    "\n",
    "\n",
    "- [Entailment](http://demo.allennlp.org/textual-entailment/MjA0MTM5)\n",
    "    - P: I like cake\n",
    "    - H: If I eat cake, I'll be happy\n",
    "\n",
    "\n",
    "Want to know more about statistical vs rule-based approach?\n",
    "http://norvig.com/chomsky.html\n",
    "\n",
    "<br/>"
   ]
  },
  {
   "cell_type": "code",
   "execution_count": 91,
   "metadata": {
    "ExecuteTime": {
     "end_time": "2018-05-28T17:05:12.970288Z",
     "start_time": "2018-05-28T17:05:10.490944Z"
    },
    "collapsed": true
   },
   "outputs": [],
   "source": [
    "import tensorflow as tf\n",
    "tf.logging.set_verbosity(tf.logging.ERROR)"
   ]
  },
  {
   "cell_type": "code",
   "execution_count": 92,
   "metadata": {
    "ExecuteTime": {
     "end_time": "2018-05-28T17:05:30.740705Z",
     "start_time": "2018-05-28T17:05:12.972685Z"
    },
    "collapsed": false
   },
   "outputs": [
    {
     "data": {
      "text/plain": [
       "[None, None]"
      ]
     },
     "execution_count": 92,
     "metadata": {},
     "output_type": "execute_result"
    }
   ],
   "source": [
    "import tensorflow_hub as hub\n",
    "EMBED = hub.Module(\"https://tfhub.dev/google/universal-sentence-encoder/1\")\n",
    "session = tf.Session()\n",
    "session.run([tf.global_variables_initializer(), \n",
    "             tf.tables_initializer()])"
   ]
  },
  {
   "cell_type": "code",
   "execution_count": 93,
   "metadata": {
    "ExecuteTime": {
     "end_time": "2018-05-28T17:05:34.516805Z",
     "start_time": "2018-05-28T17:05:30.743841Z"
    },
    "collapsed": false
   },
   "outputs": [
    {
     "data": {
      "text/html": [
       "<script>requirejs.config({paths: { 'plotly': ['https://cdn.plot.ly/plotly-latest.min']},});if(!window.Plotly) {{require(['plotly'],function(plotly) {window.Plotly=plotly;});}}</script>"
      ],
      "text/vnd.plotly.v1+html": [
       "<script>requirejs.config({paths: { 'plotly': ['https://cdn.plot.ly/plotly-latest.min']},});if(!window.Plotly) {{require(['plotly'],function(plotly) {window.Plotly=plotly;});}}</script>"
      ]
     },
     "metadata": {},
     "output_type": "display_data"
    },
    {
     "data": {
      "application/vnd.plotly.v1+json": {
       "data": [
        {
         "marker": {
          "line": {
           "color": "rgb(217, 217, 217)",
           "width": 0.5
          },
          "opacity": 0.8,
          "size": 12
         },
         "mode": "markers",
         "name": "Embeddings",
         "text": [
          "dog",
          "cat",
          "tiger",
          "lion",
          "elephant",
          "snake",
          "spider",
          "mouse",
          "leopard",
          "jaguar",
          "puma",
          "zebra",
          "cockroach",
          "tarantula",
          "centipede",
          "ferret",
          "goldfish",
          "rabbit",
          "rat"
         ],
         "type": "scatter",
         "x": [
          -0.2564017152354357,
          -0.2729608678287002,
          -0.3204622336908749,
          -0.29975840792542885,
          -0.1194367259480718,
          0.22697283905655685,
          0.41375411268698986,
          0.058447559836377186,
          -0.3401587614161653,
          -0.29535957989282385,
          -0.31464533640798903,
          -0.1568261990518521,
          0.4922118869075573,
          0.48185065138887806,
          0.5256748777308408,
          0.030033671979699153,
          0.06479441673017186,
          -0.052659910854678395,
          0.13492972193494843
         ],
         "y": [
          0.286911183539746,
          0.4167634114267604,
          -0.15873398187598056,
          -0.0874997223261103,
          -0.25361314582804284,
          0.18113567579078596,
          -0.01261252098325106,
          0.1666044026834294,
          -0.21709949855258218,
          -0.1466885378545202,
          -0.20011738243299973,
          -0.2890021609850126,
          -0.0816617490401103,
          -0.13223346240307804,
          -0.2199390797463473,
          0.3788596824960069,
          -0.011439138704121063,
          0.17906288150898594,
          0.20130314328644172
         ]
        }
       ],
       "layout": {}
      },
      "text/html": [
       "<div id=\"249ca737-354e-4ff1-824b-a18d272de50e\" style=\"height: 525px; width: 100%;\" class=\"plotly-graph-div\"></div><script type=\"text/javascript\">require([\"plotly\"], function(Plotly) { window.PLOTLYENV=window.PLOTLYENV || {};window.PLOTLYENV.BASE_URL=\"https://plot.ly\";Plotly.newPlot(\"249ca737-354e-4ff1-824b-a18d272de50e\", [{\"type\": \"scatter\", \"name\": \"Embeddings\", \"x\": [-0.2564017152354357, -0.2729608678287002, -0.3204622336908749, -0.29975840792542885, -0.1194367259480718, 0.22697283905655685, 0.41375411268698986, 0.058447559836377186, -0.3401587614161653, -0.29535957989282385, -0.31464533640798903, -0.1568261990518521, 0.4922118869075573, 0.48185065138887806, 0.5256748777308408, 0.030033671979699153, 0.06479441673017186, -0.052659910854678395, 0.13492972193494843], \"y\": [0.286911183539746, 0.4167634114267604, -0.15873398187598056, -0.0874997223261103, -0.25361314582804284, 0.18113567579078596, -0.01261252098325106, 0.1666044026834294, -0.21709949855258218, -0.1466885378545202, -0.20011738243299973, -0.2890021609850126, -0.0816617490401103, -0.13223346240307804, -0.2199390797463473, 0.3788596824960069, -0.011439138704121063, 0.17906288150898594, 0.20130314328644172], \"mode\": \"markers\", \"marker\": {\"size\": 12, \"line\": {\"color\": \"rgb(217, 217, 217)\", \"width\": 0.5}, \"opacity\": 0.8}, \"text\": [\"dog\", \"cat\", \"tiger\", \"lion\", \"elephant\", \"snake\", \"spider\", \"mouse\", \"leopard\", \"jaguar\", \"puma\", \"zebra\", \"cockroach\", \"tarantula\", \"centipede\", \"ferret\", \"goldfish\", \"rabbit\", \"rat\"]}], {}, {\"showLink\": false, \"linkText\": \"Export to plot.ly\"})});</script>"
      ],
      "text/vnd.plotly.v1+html": [
       "<div id=\"249ca737-354e-4ff1-824b-a18d272de50e\" style=\"height: 525px; width: 100%;\" class=\"plotly-graph-div\"></div><script type=\"text/javascript\">require([\"plotly\"], function(Plotly) { window.PLOTLYENV=window.PLOTLYENV || {};window.PLOTLYENV.BASE_URL=\"https://plot.ly\";Plotly.newPlot(\"249ca737-354e-4ff1-824b-a18d272de50e\", [{\"type\": \"scatter\", \"name\": \"Embeddings\", \"x\": [-0.2564017152354357, -0.2729608678287002, -0.3204622336908749, -0.29975840792542885, -0.1194367259480718, 0.22697283905655685, 0.41375411268698986, 0.058447559836377186, -0.3401587614161653, -0.29535957989282385, -0.31464533640798903, -0.1568261990518521, 0.4922118869075573, 0.48185065138887806, 0.5256748777308408, 0.030033671979699153, 0.06479441673017186, -0.052659910854678395, 0.13492972193494843], \"y\": [0.286911183539746, 0.4167634114267604, -0.15873398187598056, -0.0874997223261103, -0.25361314582804284, 0.18113567579078596, -0.01261252098325106, 0.1666044026834294, -0.21709949855258218, -0.1466885378545202, -0.20011738243299973, -0.2890021609850126, -0.0816617490401103, -0.13223346240307804, -0.2199390797463473, 0.3788596824960069, -0.011439138704121063, 0.17906288150898594, 0.20130314328644172], \"mode\": \"markers\", \"marker\": {\"size\": 12, \"line\": {\"color\": \"rgb(217, 217, 217)\", \"width\": 0.5}, \"opacity\": 0.8}, \"text\": [\"dog\", \"cat\", \"tiger\", \"lion\", \"elephant\", \"snake\", \"spider\", \"mouse\", \"leopard\", \"jaguar\", \"puma\", \"zebra\", \"cockroach\", \"tarantula\", \"centipede\", \"ferret\", \"goldfish\", \"rabbit\", \"rat\"]}], {}, {\"showLink\": false, \"linkText\": \"Export to plot.ly\"})});</script>"
      ]
     },
     "metadata": {},
     "output_type": "display_data"
    }
   ],
   "source": [
    "import plotly.offline as py\n",
    "import plotly.graph_objs as go\n",
    "from sklearn.decomposition import PCA\n",
    "py.init_notebook_mode(connected=True) \n",
    "\n",
    "words = [\"dog\", \"cat\", \"tiger\", \"lion\", \"elephant\", \"snake\", \"spider\",\n",
    "         \"mouse\", \"leopard\", \"jaguar\", \"puma\", \"zebra\", \"cockroach\",\n",
    "         \"tarantula\", \"centipede\", \"ferret\", \"goldfish\", \"rabbit\", \"rat\"]\n",
    "\n",
    "embeddings = EMBED(words)\n",
    "transformed = session.run(embeddings) \n",
    "\n",
    "dims = 2\n",
    "matrix = PCA(n_components=dims).fit_transform(transformed)\n",
    "marker = dict(size=12, line=dict(color='rgb(217, 217, 217)', width=0.5), \n",
    "              opacity=0.8)\n",
    "if dims == 2:\n",
    "    trace = go.Scatter(name='Embeddings', x=matrix[:, 0], \n",
    "                       y=matrix[:, 1], mode='markers', marker=marker,\n",
    "                       text=words)\n",
    "elif dims == 3:\n",
    "    trace = go.Scatter3d(name='Embeddings', x=matrix[:, 0], \n",
    "                         y=matrix[:, 1], z=matrix[:, 2], mode='markers', \n",
    "                         marker=marker, text=words)\n",
    "py.iplot(go.Figure(data=[trace]), show_link=False)"
   ]
  },
  {
   "cell_type": "code",
   "execution_count": 94,
   "metadata": {
    "ExecuteTime": {
     "end_time": "2018-05-28T17:05:37.417533Z",
     "start_time": "2018-05-28T17:05:34.519393Z"
    },
    "collapsed": true
   },
   "outputs": [],
   "source": [
    "words = [\"Italy\", \"Rome\", \"Paris\", \"France\"]\n",
    "embeddings = EMBED(words)\n",
    "transformed = session.run(embeddings) \n",
    "hyp = transformed[0] - transformed[1] + transformed[2]"
   ]
  },
  {
   "cell_type": "code",
   "execution_count": 95,
   "metadata": {
    "ExecuteTime": {
     "end_time": "2018-05-28T17:05:37.430742Z",
     "start_time": "2018-05-28T17:05:37.419477Z"
    },
    "collapsed": false
   },
   "outputs": [
    {
     "data": {
      "text/plain": [
       "0.70912504"
      ]
     },
     "execution_count": 95,
     "metadata": {},
     "output_type": "execute_result"
    }
   ],
   "source": [
    "from sklearn.metrics.pairwise import cosine_similarity\n",
    "cosine_similarity([hyp, transformed[3]])[0][1]"
   ]
  },
  {
   "cell_type": "markdown",
   "metadata": {
    "ExecuteTime": {
     "end_time": "2018-05-24T14:43:52.996193Z",
     "start_time": "2018-05-24T14:43:52.990218Z"
    }
   },
   "source": [
    "<div class=\"alert alert-block alert-info\" \n",
    "     style=\"border-color: #2E86C1; \n",
    "            border-left: 5px solid #2E86C1;\n",
    "            padding-top: 5px\">\n",
    "    <font size=\"4\"> \n",
    "    <a href=\"./playground.ipynb\" style=\"text-decoration: none\"> \n",
    "    <h3 style=\"font-family: monospace\">Exercise 0.5</h3>\n",
    "    <p style=\"margin-left: 100px;\n",
    "              margin-right: 100px;\n",
    "              line-height: 1.7em;\">Calculate the similarity between these two sentences:</p>\n",
    "    <ul style=\"font-family: monospace;\n",
    "               margin-left: 150px;\">\n",
    "        <li>Georgetown University is an amazing school</li>\n",
    "        <li>What a fantastic institution, Georgetown!</li>\n",
    "    </ul></a></font>\n",
    "    <p style=\"margin-left: 100px;\n",
    "              margin-right: 100px;\n",
    "              line-height: 1.7em;\">N.B.: They only have 1 word in common!</p>\n",
    "</div>"
   ]
  },
  {
   "cell_type": "code",
   "execution_count": null,
   "metadata": {
    "collapsed": true
   },
   "outputs": [],
   "source": []
  }
 ],
 "metadata": {
  "kernelspec": {
   "display_name": "Python 3",
   "language": "python",
   "name": "python3"
  },
  "language_info": {
   "codemirror_mode": {
    "name": "ipython",
    "version": 3
   },
   "file_extension": ".py",
   "mimetype": "text/x-python",
   "name": "python",
   "nbconvert_exporter": "python",
   "pygments_lexer": "ipython3",
   "version": "3.6.0"
  }
 },
 "nbformat": 4,
 "nbformat_minor": 2
}
