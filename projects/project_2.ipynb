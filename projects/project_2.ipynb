{
 "cells": [
  {
   "cell_type": "markdown",
   "metadata": {},
   "source": [
    "## Research Project 2\n",
    "---\n",
    "```text\n",
    "- Source: SEC\n",
    "- Goal: Extract information from HTML tables (DEF 14A)\n",
    "- Techniques: HTML parsing, NER, DataFrames\n",
    "- Tools: Beautifulsoup, pandas, spacy\n",
    "- Lines of code: ~100```"
   ]
  },
  {
   "cell_type": "markdown",
   "metadata": {
    "heading_collapsed": true
   },
   "source": [
    "### Get all tables from a webpage\n",
    "---"
   ]
  },
  {
   "cell_type": "code",
   "execution_count": 1,
   "metadata": {
    "ExecuteTime": {
     "end_time": "2018-05-24T09:40:43.552781Z",
     "start_time": "2018-05-24T09:40:43.292777Z"
    },
    "collapsed": true,
    "hidden": true
   },
   "outputs": [],
   "source": [
    "import requests\n",
    "from lxml import html"
   ]
  },
  {
   "cell_type": "code",
   "execution_count": 3,
   "metadata": {
    "ExecuteTime": {
     "end_time": "2018-05-24T09:41:36.882865Z",
     "start_time": "2018-05-24T09:41:36.569429Z"
    },
    "collapsed": true,
    "hidden": true
   },
   "outputs": [],
   "source": [
    "url = 'https://www.sec.gov/Archives/edgar/data/789019/000119312517310951/d461626ddef14a.htm'\n",
    "res = requests.get(url)\n",
    "tree = html.fromstring(res.content)"
   ]
  },
  {
   "cell_type": "code",
   "execution_count": 8,
   "metadata": {
    "ExecuteTime": {
     "end_time": "2018-05-24T09:45:06.633782Z",
     "start_time": "2018-05-24T09:45:06.625658Z"
    },
    "collapsed": false,
    "hidden": true
   },
   "outputs": [
    {
     "data": {
      "text/plain": [
       "427"
      ]
     },
     "execution_count": 8,
     "metadata": {},
     "output_type": "execute_result"
    }
   ],
   "source": [
    "tables = tree.xpath('//table')\n",
    "len(tables)"
   ]
  },
  {
   "cell_type": "markdown",
   "metadata": {
    "hidden": true
   },
   "source": [
    "<div class=\"alert alert-block alert-info\" \n",
    "     style=\"border-color: #2E86C1;\n",
    "            background-color: #FCF3CF;\n",
    "            border-left: 5px solid #2E86C1;\n",
    "            padding-top: 5px\">\n",
    "    <font size=\"4\">\n",
    "    <a href=\"../deep_dives/html.ipynb\" style=\"text-decoration: none\"> \n",
    "    <h3 style=\"font-family: monospace\">Deep-dive</h3>\n",
    "    <p style=\"margin-left: 100px;\n",
    "              margin-right: 100px;\n",
    "              line-height: 1.7em;\">Hyper Text Markup Language (HTML) and XPath</p></a></font>\n",
    "</div>"
   ]
  },
  {
   "cell_type": "markdown",
   "metadata": {
    "heading_collapsed": true
   },
   "source": [
    "### Convert HTML tables to DataFrames\n",
    "---"
   ]
  },
  {
   "cell_type": "code",
   "execution_count": 16,
   "metadata": {
    "ExecuteTime": {
     "end_time": "2018-05-24T09:50:07.856188Z",
     "start_time": "2018-05-24T09:50:07.733057Z"
    },
    "collapsed": true,
    "hidden": true
   },
   "outputs": [],
   "source": [
    "from lxml import etree\n",
    "from bs4 import BeautifulSoup, Tag\n",
    "\n",
    "def parse(table):\n",
    "    table_string = re.sub(r'<br/?>', '\\n', \n",
    "                          str(etree.tostring(table)), \n",
    "                          flags=re.DOTALL)\n",
    "    new_table = BeautifulSoup(table_string, 'html.parser')\n",
    "\n",
    "    row_ind, col_ind, output = 0, 0, []\n",
    "    for row in new_table.find_all('tr'):\n",
    "        smallest_row_span = 1\n",
    "        for cell in row.children:\n",
    "            if cell.name in ('td', 'th'):\n",
    "                span = cell.get('rowspan')\n",
    "                row_span = int(span) if span else 1\n",
    "                smallest_row_span = min(smallest_row_span, row_span)\n",
    "                span = cell.get('colspan')\n",
    "                col_span = int(span) if span else 1\n",
    "                while True:\n",
    "                    if row_ind >= len(output) or \\\n",
    "                            col_ind >= len(output[row_ind]) \\\n",
    "                            or output[row_ind][col_ind] is None:\n",
    "                        break\n",
    "                    col_ind += 1\n",
    "                for ii in range(row_ind, row_ind + row_span):\n",
    "                    for jj in range(col_ind, col_ind + col_span):\n",
    "                        while ii >= len(output):\n",
    "                            output.append([])\n",
    "                        while jj >= len(output[ii]):\n",
    "                            output[ii].append(None)\n",
    "                        if output[ii][jj] is None:\n",
    "                            output[ii][jj] = str(cell.get_text())\n",
    "                col_ind += col_span\n",
    "        row_ind += smallest_row_span\n",
    "        col_ind = 0\n",
    "        \n",
    "    output = [[i.replace('\\xa0', ' ').strip() for i in j] for j in output]\n",
    "    output = [i for i in output if any(bool(j) for j in i)]\n",
    "    output[0] = [' '.join(i.split()).strip() for i in output[0]]\n",
    "    output[0] = [i.replace('\\\\n', ' ').strip() for i in output[0]]\n",
    "    output[1:] = [[i.replace(r'\\n', ', ').strip() for i in j] for j in output[1:]]\n",
    "    output = [[i if i else None for i in j] for j in output]\n",
    "    \n",
    "    return output"
   ]
  },
  {
   "cell_type": "code",
   "execution_count": 18,
   "metadata": {
    "ExecuteTime": {
     "end_time": "2018-05-24T09:51:36.126281Z",
     "start_time": "2018-05-24T09:51:36.116575Z"
    },
    "collapsed": false,
    "hidden": true
   },
   "outputs": [
    {
     "data": {
      "text/plain": [
       "[['☐', None, 'Preliminary Proxy Statement'],\n",
       " ['☐,',\n",
       "  None,\n",
       "  'Confidential, for Use of the Commission Only (as permitted by Rule 14a-6(e)(2))'],\n",
       " ['☒', None, 'Definitive Proxy Statement'],\n",
       " ['☐,', None, 'Definitive Additional Materials'],\n",
       " ['☐,', None, 'Soliciting Material Pursuant to §240.14a-12']]"
      ]
     },
     "execution_count": 18,
     "metadata": {},
     "output_type": "execute_result"
    }
   ],
   "source": [
    "parse(tables[0])"
   ]
  },
  {
   "cell_type": "code",
   "execution_count": 19,
   "metadata": {
    "ExecuteTime": {
     "end_time": "2018-05-24T09:52:01.096753Z",
     "start_time": "2018-05-24T09:51:59.827565Z"
    },
    "collapsed": true,
    "hidden": true
   },
   "outputs": [],
   "source": [
    "parsed = []\n",
    "for table in tables:\n",
    "    parsed.append(parse(table))"
   ]
  },
  {
   "cell_type": "code",
   "execution_count": 25,
   "metadata": {
    "ExecuteTime": {
     "end_time": "2018-05-24T09:53:39.328535Z",
     "start_time": "2018-05-24T09:53:39.320215Z"
    },
    "collapsed": false,
    "hidden": true
   },
   "outputs": [
    {
     "data": {
      "text/plain": [
       "[['Name',\n",
       "  None,\n",
       "  'Fees earned or paid in cash¹ ($)',\n",
       "  'Fees earned or paid in cash¹ ($)',\n",
       "  None,\n",
       "  None,\n",
       "  'Stock awards ($)',\n",
       "  'Stock awards ($)',\n",
       "  None,\n",
       "  None,\n",
       "  'Matching charitable gifts² ($)',\n",
       "  'Matching charitable gifts² ($)',\n",
       "  None,\n",
       "  None,\n",
       "  'Total ($)',\n",
       "  'Total ($)',\n",
       "  None],\n",
       " ['William H. Gates III³,',\n",
       "  None,\n",
       "  None,\n",
       "  '0',\n",
       "  None,\n",
       "  None,\n",
       "  None,\n",
       "  '0',\n",
       "  None,\n",
       "  None,\n",
       "  None,\n",
       "  '0',\n",
       "  None,\n",
       "  None,\n",
       "  None,\n",
       "  '0',\n",
       "  None],\n",
       " ['Reid G. Hoffman4',\n",
       "  None,\n",
       "  None,\n",
       "  '20,483',\n",
       "  None,\n",
       "  None,\n",
       "  None,\n",
       "  '32,773',\n",
       "  None,\n",
       "  None,\n",
       "  None,\n",
       "  '0',\n",
       "  None,\n",
       "  None,\n",
       "  None,\n",
       "  '53,256',\n",
       "  None],\n",
       " ['Teri L. List-Stoll5',\n",
       "  None,\n",
       "  None,\n",
       "  '140,000',\n",
       "  None,\n",
       "  None,\n",
       "  None,\n",
       "  '200,000',\n",
       "  None,\n",
       "  None,\n",
       "  None,\n",
       "  '15,000',\n",
       "  None,\n",
       "  None,\n",
       "  None,\n",
       "  '355,000',\n",
       "  None],\n",
       " ['G. Mason Morfit,',\n",
       "  None,\n",
       "  None,\n",
       "  '140,000',\n",
       "  None,\n",
       "  None,\n",
       "  None,\n",
       "  '200,000',\n",
       "  None,\n",
       "  None,\n",
       "  None,\n",
       "  '0',\n",
       "  None,\n",
       "  None,\n",
       "  None,\n",
       "  '340,000',\n",
       "  None],\n",
       " ['Charles H. Noski6',\n",
       "  None,\n",
       "  None,\n",
       "  '170,000',\n",
       "  None,\n",
       "  None,\n",
       "  None,\n",
       "  '200,000',\n",
       "  None,\n",
       "  None,\n",
       "  None,\n",
       "  '0',\n",
       "  None,\n",
       "  None,\n",
       "  None,\n",
       "  '370,000',\n",
       "  None],\n",
       " ['Helmut Panke,',\n",
       "  None,\n",
       "  None,\n",
       "  '155,000',\n",
       "  None,\n",
       "  None,\n",
       "  None,\n",
       "  '200,000',\n",
       "  None,\n",
       "  None,\n",
       "  None,\n",
       "  '5,000',\n",
       "  None,\n",
       "  None,\n",
       "  None,\n",
       "  '360,000',\n",
       "  None],\n",
       " ['Sandra E. Peterson7',\n",
       "  None,\n",
       "  None,\n",
       "  '125,000',\n",
       "  None,\n",
       "  None,\n",
       "  None,\n",
       "  '200,000',\n",
       "  None,\n",
       "  None,\n",
       "  None,\n",
       "  '15,000',\n",
       "  None,\n",
       "  None,\n",
       "  None,\n",
       "  '340,000',\n",
       "  None],\n",
       " ['Charles W. Scharf,',\n",
       "  None,\n",
       "  None,\n",
       "  '125,000',\n",
       "  None,\n",
       "  None,\n",
       "  None,\n",
       "  '200,000',\n",
       "  None,\n",
       "  None,\n",
       "  None,\n",
       "  '0',\n",
       "  None,\n",
       "  None,\n",
       "  None,\n",
       "  '325,000',\n",
       "  None],\n",
       " ['John W. Stanton,',\n",
       "  None,\n",
       "  None,\n",
       "  '140,000',\n",
       "  None,\n",
       "  None,\n",
       "  None,\n",
       "  '200,000',\n",
       "  None,\n",
       "  None,\n",
       "  None,\n",
       "  '0',\n",
       "  None,\n",
       "  None,\n",
       "  None,\n",
       "  '340,000',\n",
       "  None],\n",
       " ['John W. Thompson8',\n",
       "  None,\n",
       "  None,\n",
       "  '125,000',\n",
       "  None,\n",
       "  None,\n",
       "  None,\n",
       "  '550,000',\n",
       "  None,\n",
       "  None,\n",
       "  None,\n",
       "  '15,000',\n",
       "  None,\n",
       "  None,\n",
       "  None,\n",
       "  '690,000',\n",
       "  None],\n",
       " ['Padmasree Warrior9',\n",
       "  None,\n",
       "  None,\n",
       "  '125,000',\n",
       "  None,\n",
       "  None,\n",
       "  None,\n",
       "  '200,000',\n",
       "  None,\n",
       "  None,\n",
       "  None,\n",
       "  '0',\n",
       "  None,\n",
       "  None,\n",
       "  None,\n",
       "  '325,000',\n",
       "  None]]"
      ]
     },
     "execution_count": 25,
     "metadata": {},
     "output_type": "execute_result"
    }
   ],
   "source": [
    "parsed[135]"
   ]
  },
  {
   "cell_type": "code",
   "execution_count": 26,
   "metadata": {
    "ExecuteTime": {
     "end_time": "2018-05-24T09:57:00.290835Z",
     "start_time": "2018-05-24T09:56:59.609853Z"
    },
    "collapsed": false,
    "hidden": true
   },
   "outputs": [
    {
     "data": {
      "text/html": [
       "<div>\n",
       "<table border=\"1\" class=\"dataframe\">\n",
       "  <thead>\n",
       "    <tr style=\"text-align: right;\">\n",
       "      <th></th>\n",
       "      <th>Name</th>\n",
       "      <th>None</th>\n",
       "      <th>Fees earned or paid in cash¹ ($)</th>\n",
       "      <th>Fees earned or paid in cash¹ ($)</th>\n",
       "      <th>None</th>\n",
       "      <th>None</th>\n",
       "      <th>Stock awards ($)</th>\n",
       "      <th>Stock awards ($)</th>\n",
       "      <th>None</th>\n",
       "      <th>None</th>\n",
       "      <th>Matching charitable gifts² ($)</th>\n",
       "      <th>Matching charitable gifts² ($)</th>\n",
       "      <th>None</th>\n",
       "      <th>None</th>\n",
       "      <th>Total ($)</th>\n",
       "      <th>Total ($)</th>\n",
       "      <th>None</th>\n",
       "    </tr>\n",
       "  </thead>\n",
       "  <tbody>\n",
       "    <tr>\n",
       "      <th>0</th>\n",
       "      <td>William H. Gates III³,</td>\n",
       "      <td>None</td>\n",
       "      <td>None</td>\n",
       "      <td>0</td>\n",
       "      <td>None</td>\n",
       "      <td>None</td>\n",
       "      <td>None</td>\n",
       "      <td>0</td>\n",
       "      <td>None</td>\n",
       "      <td>None</td>\n",
       "      <td>None</td>\n",
       "      <td>0</td>\n",
       "      <td>None</td>\n",
       "      <td>None</td>\n",
       "      <td>None</td>\n",
       "      <td>0</td>\n",
       "      <td>None</td>\n",
       "    </tr>\n",
       "    <tr>\n",
       "      <th>1</th>\n",
       "      <td>Reid G. Hoffman4</td>\n",
       "      <td>None</td>\n",
       "      <td>None</td>\n",
       "      <td>20,483</td>\n",
       "      <td>None</td>\n",
       "      <td>None</td>\n",
       "      <td>None</td>\n",
       "      <td>32,773</td>\n",
       "      <td>None</td>\n",
       "      <td>None</td>\n",
       "      <td>None</td>\n",
       "      <td>0</td>\n",
       "      <td>None</td>\n",
       "      <td>None</td>\n",
       "      <td>None</td>\n",
       "      <td>53,256</td>\n",
       "      <td>None</td>\n",
       "    </tr>\n",
       "    <tr>\n",
       "      <th>2</th>\n",
       "      <td>Teri L. List-Stoll5</td>\n",
       "      <td>None</td>\n",
       "      <td>None</td>\n",
       "      <td>140,000</td>\n",
       "      <td>None</td>\n",
       "      <td>None</td>\n",
       "      <td>None</td>\n",
       "      <td>200,000</td>\n",
       "      <td>None</td>\n",
       "      <td>None</td>\n",
       "      <td>None</td>\n",
       "      <td>15,000</td>\n",
       "      <td>None</td>\n",
       "      <td>None</td>\n",
       "      <td>None</td>\n",
       "      <td>355,000</td>\n",
       "      <td>None</td>\n",
       "    </tr>\n",
       "    <tr>\n",
       "      <th>3</th>\n",
       "      <td>G. Mason Morfit,</td>\n",
       "      <td>None</td>\n",
       "      <td>None</td>\n",
       "      <td>140,000</td>\n",
       "      <td>None</td>\n",
       "      <td>None</td>\n",
       "      <td>None</td>\n",
       "      <td>200,000</td>\n",
       "      <td>None</td>\n",
       "      <td>None</td>\n",
       "      <td>None</td>\n",
       "      <td>0</td>\n",
       "      <td>None</td>\n",
       "      <td>None</td>\n",
       "      <td>None</td>\n",
       "      <td>340,000</td>\n",
       "      <td>None</td>\n",
       "    </tr>\n",
       "    <tr>\n",
       "      <th>4</th>\n",
       "      <td>Charles H. Noski6</td>\n",
       "      <td>None</td>\n",
       "      <td>None</td>\n",
       "      <td>170,000</td>\n",
       "      <td>None</td>\n",
       "      <td>None</td>\n",
       "      <td>None</td>\n",
       "      <td>200,000</td>\n",
       "      <td>None</td>\n",
       "      <td>None</td>\n",
       "      <td>None</td>\n",
       "      <td>0</td>\n",
       "      <td>None</td>\n",
       "      <td>None</td>\n",
       "      <td>None</td>\n",
       "      <td>370,000</td>\n",
       "      <td>None</td>\n",
       "    </tr>\n",
       "    <tr>\n",
       "      <th>5</th>\n",
       "      <td>Helmut Panke,</td>\n",
       "      <td>None</td>\n",
       "      <td>None</td>\n",
       "      <td>155,000</td>\n",
       "      <td>None</td>\n",
       "      <td>None</td>\n",
       "      <td>None</td>\n",
       "      <td>200,000</td>\n",
       "      <td>None</td>\n",
       "      <td>None</td>\n",
       "      <td>None</td>\n",
       "      <td>5,000</td>\n",
       "      <td>None</td>\n",
       "      <td>None</td>\n",
       "      <td>None</td>\n",
       "      <td>360,000</td>\n",
       "      <td>None</td>\n",
       "    </tr>\n",
       "    <tr>\n",
       "      <th>6</th>\n",
       "      <td>Sandra E. Peterson7</td>\n",
       "      <td>None</td>\n",
       "      <td>None</td>\n",
       "      <td>125,000</td>\n",
       "      <td>None</td>\n",
       "      <td>None</td>\n",
       "      <td>None</td>\n",
       "      <td>200,000</td>\n",
       "      <td>None</td>\n",
       "      <td>None</td>\n",
       "      <td>None</td>\n",
       "      <td>15,000</td>\n",
       "      <td>None</td>\n",
       "      <td>None</td>\n",
       "      <td>None</td>\n",
       "      <td>340,000</td>\n",
       "      <td>None</td>\n",
       "    </tr>\n",
       "    <tr>\n",
       "      <th>7</th>\n",
       "      <td>Charles W. Scharf,</td>\n",
       "      <td>None</td>\n",
       "      <td>None</td>\n",
       "      <td>125,000</td>\n",
       "      <td>None</td>\n",
       "      <td>None</td>\n",
       "      <td>None</td>\n",
       "      <td>200,000</td>\n",
       "      <td>None</td>\n",
       "      <td>None</td>\n",
       "      <td>None</td>\n",
       "      <td>0</td>\n",
       "      <td>None</td>\n",
       "      <td>None</td>\n",
       "      <td>None</td>\n",
       "      <td>325,000</td>\n",
       "      <td>None</td>\n",
       "    </tr>\n",
       "    <tr>\n",
       "      <th>8</th>\n",
       "      <td>John W. Stanton,</td>\n",
       "      <td>None</td>\n",
       "      <td>None</td>\n",
       "      <td>140,000</td>\n",
       "      <td>None</td>\n",
       "      <td>None</td>\n",
       "      <td>None</td>\n",
       "      <td>200,000</td>\n",
       "      <td>None</td>\n",
       "      <td>None</td>\n",
       "      <td>None</td>\n",
       "      <td>0</td>\n",
       "      <td>None</td>\n",
       "      <td>None</td>\n",
       "      <td>None</td>\n",
       "      <td>340,000</td>\n",
       "      <td>None</td>\n",
       "    </tr>\n",
       "    <tr>\n",
       "      <th>9</th>\n",
       "      <td>John W. Thompson8</td>\n",
       "      <td>None</td>\n",
       "      <td>None</td>\n",
       "      <td>125,000</td>\n",
       "      <td>None</td>\n",
       "      <td>None</td>\n",
       "      <td>None</td>\n",
       "      <td>550,000</td>\n",
       "      <td>None</td>\n",
       "      <td>None</td>\n",
       "      <td>None</td>\n",
       "      <td>15,000</td>\n",
       "      <td>None</td>\n",
       "      <td>None</td>\n",
       "      <td>None</td>\n",
       "      <td>690,000</td>\n",
       "      <td>None</td>\n",
       "    </tr>\n",
       "    <tr>\n",
       "      <th>10</th>\n",
       "      <td>Padmasree Warrior9</td>\n",
       "      <td>None</td>\n",
       "      <td>None</td>\n",
       "      <td>125,000</td>\n",
       "      <td>None</td>\n",
       "      <td>None</td>\n",
       "      <td>None</td>\n",
       "      <td>200,000</td>\n",
       "      <td>None</td>\n",
       "      <td>None</td>\n",
       "      <td>None</td>\n",
       "      <td>0</td>\n",
       "      <td>None</td>\n",
       "      <td>None</td>\n",
       "      <td>None</td>\n",
       "      <td>325,000</td>\n",
       "      <td>None</td>\n",
       "    </tr>\n",
       "  </tbody>\n",
       "</table>\n",
       "</div>"
      ],
      "text/plain": [
       "                      Name   NaN Fees earned or paid in cash¹ ($)  \\\n",
       "0   William H. Gates III³,  None                             None   \n",
       "1         Reid G. Hoffman4  None                             None   \n",
       "2      Teri L. List-Stoll5  None                             None   \n",
       "3         G. Mason Morfit,  None                             None   \n",
       "4        Charles H. Noski6  None                             None   \n",
       "5            Helmut Panke,  None                             None   \n",
       "6      Sandra E. Peterson7  None                             None   \n",
       "7       Charles W. Scharf,  None                             None   \n",
       "8         John W. Stanton,  None                             None   \n",
       "9        John W. Thompson8  None                             None   \n",
       "10      Padmasree Warrior9  None                             None   \n",
       "\n",
       "   Fees earned or paid in cash¹ ($)   NaN   NaN Stock awards ($)  \\\n",
       "0                                 0  None  None             None   \n",
       "1                            20,483  None  None             None   \n",
       "2                           140,000  None  None             None   \n",
       "3                           140,000  None  None             None   \n",
       "4                           170,000  None  None             None   \n",
       "5                           155,000  None  None             None   \n",
       "6                           125,000  None  None             None   \n",
       "7                           125,000  None  None             None   \n",
       "8                           140,000  None  None             None   \n",
       "9                           125,000  None  None             None   \n",
       "10                          125,000  None  None             None   \n",
       "\n",
       "   Stock awards ($)   NaN   NaN Matching charitable gifts² ($)  \\\n",
       "0                 0  None  None                           None   \n",
       "1            32,773  None  None                           None   \n",
       "2           200,000  None  None                           None   \n",
       "3           200,000  None  None                           None   \n",
       "4           200,000  None  None                           None   \n",
       "5           200,000  None  None                           None   \n",
       "6           200,000  None  None                           None   \n",
       "7           200,000  None  None                           None   \n",
       "8           200,000  None  None                           None   \n",
       "9           550,000  None  None                           None   \n",
       "10          200,000  None  None                           None   \n",
       "\n",
       "   Matching charitable gifts² ($)   NaN   NaN Total ($) Total ($)   NaN  \n",
       "0                               0  None  None      None         0  None  \n",
       "1                               0  None  None      None    53,256  None  \n",
       "2                          15,000  None  None      None   355,000  None  \n",
       "3                               0  None  None      None   340,000  None  \n",
       "4                               0  None  None      None   370,000  None  \n",
       "5                           5,000  None  None      None   360,000  None  \n",
       "6                          15,000  None  None      None   340,000  None  \n",
       "7                               0  None  None      None   325,000  None  \n",
       "8                               0  None  None      None   340,000  None  \n",
       "9                          15,000  None  None      None   690,000  None  \n",
       "10                              0  None  None      None   325,000  None  "
      ]
     },
     "execution_count": 26,
     "metadata": {},
     "output_type": "execute_result"
    }
   ],
   "source": [
    "import pandas as pd\n",
    "table = parsed[135]\n",
    "pd.DataFrame(table[1:], columns=table[0])"
   ]
  },
  {
   "cell_type": "code",
   "execution_count": 55,
   "metadata": {
    "ExecuteTime": {
     "end_time": "2018-05-24T16:57:32.698985Z",
     "start_time": "2018-05-24T16:57:32.675744Z"
    },
    "collapsed": false,
    "hidden": true
   },
   "outputs": [
    {
     "data": {
      "text/html": [
       "<div>\n",
       "<table border=\"1\" class=\"dataframe\">\n",
       "  <thead>\n",
       "    <tr style=\"text-align: right;\">\n",
       "      <th></th>\n",
       "      <th>Name</th>\n",
       "      <th>Fees earned or paid in cash¹ ($)</th>\n",
       "      <th>Stock awards ($)</th>\n",
       "      <th>Matching charitable gifts² ($)</th>\n",
       "      <th>Total ($)</th>\n",
       "    </tr>\n",
       "  </thead>\n",
       "  <tbody>\n",
       "    <tr>\n",
       "      <th>0</th>\n",
       "      <td>William H. Gates III³,</td>\n",
       "      <td>0</td>\n",
       "      <td>0</td>\n",
       "      <td>0</td>\n",
       "      <td>0</td>\n",
       "    </tr>\n",
       "    <tr>\n",
       "      <th>1</th>\n",
       "      <td>Reid G. Hoffman4</td>\n",
       "      <td>20,483</td>\n",
       "      <td>32,773</td>\n",
       "      <td>0</td>\n",
       "      <td>53,256</td>\n",
       "    </tr>\n",
       "    <tr>\n",
       "      <th>2</th>\n",
       "      <td>Teri L. List-Stoll5</td>\n",
       "      <td>140,000</td>\n",
       "      <td>200,000</td>\n",
       "      <td>15,000</td>\n",
       "      <td>355,000</td>\n",
       "    </tr>\n",
       "    <tr>\n",
       "      <th>3</th>\n",
       "      <td>G. Mason Morfit,</td>\n",
       "      <td>140,000</td>\n",
       "      <td>200,000</td>\n",
       "      <td>0</td>\n",
       "      <td>340,000</td>\n",
       "    </tr>\n",
       "    <tr>\n",
       "      <th>4</th>\n",
       "      <td>Charles H. Noski6</td>\n",
       "      <td>170,000</td>\n",
       "      <td>200,000</td>\n",
       "      <td>0</td>\n",
       "      <td>370,000</td>\n",
       "    </tr>\n",
       "    <tr>\n",
       "      <th>5</th>\n",
       "      <td>Helmut Panke,</td>\n",
       "      <td>155,000</td>\n",
       "      <td>200,000</td>\n",
       "      <td>5,000</td>\n",
       "      <td>360,000</td>\n",
       "    </tr>\n",
       "    <tr>\n",
       "      <th>6</th>\n",
       "      <td>Sandra E. Peterson7</td>\n",
       "      <td>125,000</td>\n",
       "      <td>200,000</td>\n",
       "      <td>15,000</td>\n",
       "      <td>340,000</td>\n",
       "    </tr>\n",
       "    <tr>\n",
       "      <th>7</th>\n",
       "      <td>Charles W. Scharf,</td>\n",
       "      <td>125,000</td>\n",
       "      <td>200,000</td>\n",
       "      <td>0</td>\n",
       "      <td>325,000</td>\n",
       "    </tr>\n",
       "    <tr>\n",
       "      <th>8</th>\n",
       "      <td>John W. Stanton,</td>\n",
       "      <td>140,000</td>\n",
       "      <td>200,000</td>\n",
       "      <td>0</td>\n",
       "      <td>340,000</td>\n",
       "    </tr>\n",
       "    <tr>\n",
       "      <th>9</th>\n",
       "      <td>John W. Thompson8</td>\n",
       "      <td>125,000</td>\n",
       "      <td>550,000</td>\n",
       "      <td>15,000</td>\n",
       "      <td>690,000</td>\n",
       "    </tr>\n",
       "    <tr>\n",
       "      <th>10</th>\n",
       "      <td>Padmasree Warrior9</td>\n",
       "      <td>125,000</td>\n",
       "      <td>200,000</td>\n",
       "      <td>0</td>\n",
       "      <td>325,000</td>\n",
       "    </tr>\n",
       "  </tbody>\n",
       "</table>\n",
       "</div>"
      ],
      "text/plain": [
       "                      Name Fees earned or paid in cash¹ ($) Stock awards ($)  \\\n",
       "0   William H. Gates III³,                                0                0   \n",
       "1         Reid G. Hoffman4                           20,483           32,773   \n",
       "2      Teri L. List-Stoll5                          140,000          200,000   \n",
       "3         G. Mason Morfit,                          140,000          200,000   \n",
       "4        Charles H. Noski6                          170,000          200,000   \n",
       "5            Helmut Panke,                          155,000          200,000   \n",
       "6      Sandra E. Peterson7                          125,000          200,000   \n",
       "7       Charles W. Scharf,                          125,000          200,000   \n",
       "8         John W. Stanton,                          140,000          200,000   \n",
       "9        John W. Thompson8                          125,000          550,000   \n",
       "10      Padmasree Warrior9                          125,000          200,000   \n",
       "\n",
       "   Matching charitable gifts² ($) Total ($)  \n",
       "0                               0         0  \n",
       "1                               0    53,256  \n",
       "2                          15,000   355,000  \n",
       "3                               0   340,000  \n",
       "4                               0   370,000  \n",
       "5                           5,000   360,000  \n",
       "6                          15,000   340,000  \n",
       "7                               0   325,000  \n",
       "8                               0   340,000  \n",
       "9                          15,000   690,000  \n",
       "10                              0   325,000  "
      ]
     },
     "execution_count": 55,
     "metadata": {},
     "output_type": "execute_result"
    }
   ],
   "source": [
    "df = pd.DataFrame(table[1:], columns=table[0])\n",
    "df = df.dropna(axis=1, how='all')\n",
    "df.columns = ['Name'] + df.columns.values.tolist()[1:]\n",
    "df"
   ]
  },
  {
   "cell_type": "markdown",
   "metadata": {
    "heading_collapsed": true
   },
   "source": [
    "### Named Entity Recognition on Executives\n",
    "---"
   ]
  },
  {
   "cell_type": "code",
   "execution_count": 56,
   "metadata": {
    "ExecuteTime": {
     "end_time": "2018-05-24T16:57:37.398121Z",
     "start_time": "2018-05-24T16:57:36.700058Z"
    },
    "collapsed": true,
    "hidden": true
   },
   "outputs": [],
   "source": [
    "import spacy\n",
    "NLP = spacy.load('en_core_web_sm')"
   ]
  },
  {
   "cell_type": "code",
   "execution_count": 57,
   "metadata": {
    "ExecuteTime": {
     "end_time": "2018-05-24T16:57:38.065342Z",
     "start_time": "2018-05-24T16:57:38.047620Z"
    },
    "collapsed": false,
    "hidden": true
   },
   "outputs": [
    {
     "data": {
      "text/plain": [
       "(William H. Gates,)"
      ]
     },
     "execution_count": 57,
     "metadata": {},
     "output_type": "execute_result"
    }
   ],
   "source": [
    "NLP('William H. Gates III³,').ents"
   ]
  },
  {
   "cell_type": "code",
   "execution_count": 58,
   "metadata": {
    "ExecuteTime": {
     "end_time": "2018-05-24T16:57:38.634819Z",
     "start_time": "2018-05-24T16:57:38.618745Z"
    },
    "collapsed": false,
    "hidden": true
   },
   "outputs": [
    {
     "data": {
      "text/plain": [
       "'PERSON'"
      ]
     },
     "execution_count": 58,
     "metadata": {},
     "output_type": "execute_result"
    }
   ],
   "source": [
    "NLP('William H. Gates III³,').ents[0].label_"
   ]
  },
  {
   "cell_type": "code",
   "execution_count": 59,
   "metadata": {
    "ExecuteTime": {
     "end_time": "2018-05-24T16:57:39.529669Z",
     "start_time": "2018-05-24T16:57:39.322526Z"
    },
    "collapsed": false,
    "hidden": true
   },
   "outputs": [
    {
     "name": "stdout",
     "output_type": "stream",
     "text": [
      "\"William H. Gates III³,\"\t= \"William H. Gates\"\n",
      "\"Reid G. Hoffman4\"\t= \"Reid G. Hoffman\"\n",
      "\"Teri L. List-Stoll5\"\t= \"Teri L. List-Stoll\"\n",
      "\"G. Mason Morfit,\"\t= \"G. Mason Morfit\"\n",
      "\"Charles H. Noski6\"\t= \"Charles H. Noski\"\n",
      "\"Helmut Panke,\"\t= \"Helmut Panke\"\n",
      "\"Sandra E. Peterson7\"\t= \"Sandra E. Peterson\"\n",
      "\"Charles W. Scharf,\"\t= \"Charles W. Scharf\"\n",
      "\"John W. Stanton,\"\t= \"John W. Stanton\"\n",
      "\"John W. Thompson8\"\t= \"John W. Thompson\"\n",
      "\"Padmasree Warrior9\"\t= \"Padmasree Warrior\"\n"
     ]
    }
   ],
   "source": [
    "names = []\n",
    "for name in df['Name'].values:\n",
    "    clean = re.sub(r'\\d+', '', name)\n",
    "    ents = [i.text for i in NLP(clean).ents if i.label_ == 'PERSON']\n",
    "    if not ents: ents = [name]\n",
    "    print('\"%s\"\\t= \"%s\"' % (name, ents[0]))\n",
    "    names.append(ents[0])\n",
    "df['Name'] = pd.Series(names)"
   ]
  },
  {
   "cell_type": "code",
   "execution_count": 60,
   "metadata": {
    "ExecuteTime": {
     "end_time": "2018-05-24T16:57:40.293734Z",
     "start_time": "2018-05-24T16:57:40.287388Z"
    },
    "collapsed": false,
    "hidden": true
   },
   "outputs": [],
   "source": [
    "df['Stock awards ($)'] = df['Stock awards ($)'].apply(lambda x: int(x.replace(',', '')))"
   ]
  },
  {
   "cell_type": "code",
   "execution_count": 68,
   "metadata": {
    "ExecuteTime": {
     "end_time": "2018-05-24T17:09:38.080034Z",
     "start_time": "2018-05-24T17:09:37.808575Z"
    },
    "collapsed": false,
    "hidden": true
   },
   "outputs": [
    {
     "data": {
      "image/png": "[encoded data removed]",
      "text/plain": [
       "<matplotlib.figure.Figure at 0x11cc0bfd0>"
      ]
     },
     "metadata": {},
     "output_type": "display_data"
    }
   ],
   "source": [
    "%matplotlib inline\n",
    "ax = df.plot.barh(x='Name', y='Stock awards ($)')"
   ]
  },
  {
   "cell_type": "code",
   "execution_count": null,
   "metadata": {
    "ExecuteTime": {
     "end_time": "2018-05-24T17:09:21.887879Z",
     "start_time": "2018-05-24T17:09:21.881121Z"
    },
    "collapsed": true,
    "hidden": true
   },
   "outputs": [],
   "source": []
  },
  {
   "cell_type": "code",
   "execution_count": null,
   "metadata": {
    "collapsed": true,
    "hidden": true
   },
   "outputs": [],
   "source": []
  }
 ],
 "metadata": {
  "kernelspec": {
   "display_name": "Python 3",
   "language": "python",
   "name": "python3"
  },
  "language_info": {
   "codemirror_mode": {
    "name": "ipython",
    "version": 3
   },
   "file_extension": ".py",
   "mimetype": "text/x-python",
   "name": "python",
   "nbconvert_exporter": "python",
   "pygments_lexer": "ipython3",
   "version": "3.6.0"
  }
 },
 "nbformat": 4,
 "nbformat_minor": 2
}
