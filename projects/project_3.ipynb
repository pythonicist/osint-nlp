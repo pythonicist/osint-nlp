{
 "cells": [
  {
   "cell_type": "markdown",
   "metadata": {},
   "source": [
    "## Research Project 3\n",
    "---\n",
    "```text\n",
    "- Source: Reuters\n",
    "- Goal: Build headline aggregator (e.g. Google News)\n",
    "- Techniques: Word Embeddings, Cosine Similarity\n",
    "- Tools: requests, lxml, Tensorflow Hub\n",
    "- Lines of code: ~70```"
   ]
  },
  {
   "cell_type": "markdown",
   "metadata": {
    "heading_collapsed": true
   },
   "source": [
    "### Request pages\n",
    "---"
   ]
  },
  {
   "cell_type": "code",
   "execution_count": 1,
   "metadata": {
    "ExecuteTime": {
     "end_time": "2018-05-24T08:35:39.955056Z",
     "start_time": "2018-05-24T08:35:39.950840Z"
    },
    "collapsed": true,
    "hidden": true
   },
   "outputs": [],
   "source": [
    "# Let's go on reuters.com and pick a URL\n",
    "url = 'https://www.reuters.com/finance/stocks/company-news/AAPL.O?date=05102018'"
   ]
  },
  {
   "cell_type": "code",
   "execution_count": 2,
   "metadata": {
    "ExecuteTime": {
     "end_time": "2018-05-24T08:35:40.323621Z",
     "start_time": "2018-05-24T08:35:39.971163Z"
    },
    "collapsed": false,
    "hidden": true
   },
   "outputs": [
    {
     "data": {
      "text/plain": [
       "66399"
      ]
     },
     "execution_count": 2,
     "metadata": {},
     "output_type": "execute_result"
    }
   ],
   "source": [
    "# Get that page\n",
    "import requests\n",
    "res = requests.get(url)\n",
    "len(res.content)"
   ]
  },
  {
   "cell_type": "code",
   "execution_count": 3,
   "metadata": {
    "ExecuteTime": {
     "end_time": "2018-05-24T08:35:40.337188Z",
     "start_time": "2018-05-24T08:35:40.326126Z"
    },
    "collapsed": false,
    "hidden": true
   },
   "outputs": [
    {
     "data": {
      "text/plain": [
       "b'<!--[if !IE]> This has been served from cache <![endif]-->\\n<!--[if !IE]> Request served from apache server: produs--i-08256f73e534880fa <![endif]-->\\n<!--[if !IE]> Cached on Thu, 24 May 2018 04:46:14 GMT and will expire on Thu, 24 May 2018 04:56:13 GMT <![endif]-->\\n<!--[if !IE]> token: 8244d144-ac52-4527-9df9-e3b85500a30d <![endif]-->\\n<!--[if !IE]> App Server /produs--i-0f2096c35d88f4197/ <![endif]-->\\n\\n<!doctype html><html lang=\"en\"><head>\\n<title>Apple Inc (AAPL.O)  News| Reuters.com</title>\\n    <meta http-equiv=\"X-UA-Compatible\" content=\"IE=edge\"><meta charset=\"utf-8\"><meta http-equiv=\"x-dns-prefetch-control\" content=\"on\"><link rel=\"dns-prefetch\" href=\"//s1.reutersmedia.net\"/><link rel=\"dns-prefetch\" href=\"//s2.reutersmedia.net\"/><link rel=\"dns-prefetch\" href=\"//s3.reutersmedia.net\"/><link rel=\"dns-prefetch\" href=\"//s4.reutersmedia.net\"/><link rel=\"dns-prefetch\" href=\"//static.reuters.com\"/><link rel=\"dns-prefetch\" href=\"//www.googletagservices.com\"/><link rel=\"dns-prefetch\" href=\"//ww'"
      ]
     },
     "execution_count": 3,
     "metadata": {},
     "output_type": "execute_result"
    }
   ],
   "source": [
    "res.content[:1000] "
   ]
  },
  {
   "cell_type": "markdown",
   "metadata": {
    "hidden": true
   },
   "source": [
    "<div class=\"alert alert-block alert-info\" \n",
    "     style=\"border-color: #2E86C1;\n",
    "            background-color: #FCF3CF;\n",
    "            border-left: 5px solid #2E86C1;\n",
    "            padding-top: 5px\">\n",
    "    <font size=\"4\">\n",
    "    <a href=\"../deep_dives/urls.ipynb\" style=\"text-decoration: none\"> \n",
    "    <h3 style=\"font-family: monospace\">Deep-dive</h3>\n",
    "    <p style=\"margin-left: 100px;\n",
    "              margin-right: 100px;\n",
    "              line-height: 1.7em;\">APIs and URLs parameters</p></a></font>\n",
    "</div>"
   ]
  },
  {
   "cell_type": "markdown",
   "metadata": {
    "heading_collapsed": true
   },
   "source": [
    "### Parse pages\n",
    "---"
   ]
  },
  {
   "cell_type": "code",
   "execution_count": 4,
   "metadata": {
    "ExecuteTime": {
     "end_time": "2018-05-24T08:35:40.395912Z",
     "start_time": "2018-05-24T08:35:40.340357Z"
    },
    "collapsed": false,
    "hidden": true
   },
   "outputs": [
    {
     "data": {
      "text/plain": [
       "[<Element head at 0x112e15098>, <Element body at 0x112e15048>]"
      ]
     },
     "execution_count": 4,
     "metadata": {},
     "output_type": "execute_result"
    }
   ],
   "source": [
    "# Parse HTML\n",
    "from lxml import html\n",
    "tree = html.fromstring(res.content)\n",
    "tree.getchildren()"
   ]
  },
  {
   "cell_type": "code",
   "execution_count": 5,
   "metadata": {
    "ExecuteTime": {
     "end_time": "2018-05-24T08:35:40.405868Z",
     "start_time": "2018-05-24T08:35:40.398171Z"
    },
    "collapsed": true,
    "hidden": true
   },
   "outputs": [],
   "source": [
    "# What children do we need?\n",
    "children = tree.xpath('//div[@class=\"feature\"]')"
   ]
  },
  {
   "cell_type": "code",
   "execution_count": 6,
   "metadata": {
    "ExecuteTime": {
     "end_time": "2018-05-24T08:35:40.420576Z",
     "start_time": "2018-05-24T08:35:40.413200Z"
    },
    "collapsed": false,
    "hidden": true
   },
   "outputs": [
    {
     "data": {
      "text/plain": [
       "['US STOCKS-Wall St rallies and Apple approaches $1 trillion value',\n",
       " '\\n\\t',\n",
       " '* Indexes up: Dow 0.80 pct, S&P 500 0.94 pct, Nasdaq 0.89\\npct\\n(Updates to close)',\n",
       " '\\n\\t']"
      ]
     },
     "execution_count": 6,
     "metadata": {},
     "output_type": "execute_result"
    }
   ],
   "source": [
    "list(children[0].itertext())"
   ]
  },
  {
   "cell_type": "code",
   "execution_count": 7,
   "metadata": {
    "ExecuteTime": {
     "end_time": "2018-05-24T08:35:40.432945Z",
     "start_time": "2018-05-24T08:35:40.423950Z"
    },
    "collapsed": false,
    "hidden": true
   },
   "outputs": [
    {
     "data": {
      "text/plain": [
       "['US STOCKS-Wall St rallies and Apple approaches $1 trillion value',\n",
       " 'UPDATE 1-Goldman Sachs, Apple to launch joint credit card - WSJ',\n",
       " 'Goldman Sachs, Apple to launch joint credit card - WSJ',\n",
       " 'BRIEF-Apple, Goldman Sachs Team Up On New Credit Card - WSJ',\n",
       " 'Apple scraps $1 billion Irish data center over planning delays',\n",
       " 'Apple drops plans for data centre in Ireland due to planning delays - RTE']"
      ]
     },
     "execution_count": 7,
     "metadata": {},
     "output_type": "execute_result"
    }
   ],
   "source": [
    "# Get headlines\n",
    "headlines = [list(child.itertext())[0] for child in children]\n",
    "headlines"
   ]
  },
  {
   "cell_type": "markdown",
   "metadata": {
    "collapsed": true,
    "hidden": true
   },
   "source": [
    "<div class=\"alert alert-block alert-info\" \n",
    "     style=\"border-color: #2E86C1; \n",
    "            border-left: 5px solid #2E86C1;\n",
    "            padding-top: 5px\">\n",
    "    <font size=\"4\"> \n",
    "    <h3 style=\"font-family: monospace\">Exercise 1.1</h3>\n",
    "    <p style=\"margin-left: 100px;\n",
    "              margin-right: 100px;\n",
    "              line-height: 1.7em;\">Write a function <span style=\"font-family:monospace;\">get_ticker_headlines</span> that, given a date and a ticker, returns the headlines on <span style=\"font-family:monospace;\">reuters.com</span>.</p></font>\n",
    "</div>"
   ]
  },
  {
   "cell_type": "markdown",
   "metadata": {
    "hidden": true
   },
   "source": [
    "<div class=\"alert alert-block alert-info\" \n",
    "     style=\"border-color: #2E86C1; \n",
    "            border-left: 5px solid #2E86C1;\n",
    "            padding-top: 5px\">\n",
    "    <font size=\"4\"> \n",
    "    <h3 style=\"font-family: monospace\">Exercise 1.2</h3>\n",
    "    <p style=\"margin-left: 100px;\n",
    "              margin-right: 100px;\n",
    "              line-height: 1.7em;\">Write a function <span style=\"font-family:monospace;\">get_all_headlines</span> that, given a start date, a number of days, and a list of tickers, returns the headlines on reuters.com. Have this function call <span style=\"font-family:monospace;\">get_ticker_headlines</span> for each ticker and date.</p></font>\n",
    "</div>"
   ]
  },
  {
   "cell_type": "markdown",
   "metadata": {
    "heading_collapsed": true
   },
   "source": [
    "### Vectorize pages\n",
    "---"
   ]
  },
  {
   "cell_type": "code",
   "execution_count": 8,
   "metadata": {
    "ExecuteTime": {
     "end_time": "2018-05-24T08:35:40.451116Z",
     "start_time": "2018-05-24T08:35:40.438329Z"
    },
    "collapsed": true,
    "hidden": true
   },
   "outputs": [],
   "source": [
    "# If we want to cluster these headlines, we have 2 options:\n",
    "# 1) heuristics\n",
    "# 2) machine learning\n",
    "\n",
    "# Which one to choose?\n",
    "# simple heuristics > machine learning > complex heuristics\n",
    "\n",
    "# How would the heuristics look like? We would have to:\n",
    "# 1) remove initial and final capital words\n",
    "# 2) lowercase sentence\n",
    "# 3) remove punctuation\n",
    "# 4) generate a set of possible sentences using synonims\n",
    "# 5) count the common words and pick the pairs with highest values\n",
    "\n",
    "# ... vs ...\n",
    "\n",
    "# 1) use word embeddings"
   ]
  },
  {
   "cell_type": "code",
   "execution_count": 8,
   "metadata": {
    "ExecuteTime": {
     "end_time": "2018-05-24T08:56:43.807301Z",
     "start_time": "2018-05-24T08:56:43.803709Z"
    },
    "collapsed": false,
    "hidden": true
   },
   "outputs": [],
   "source": [
    "import tensorflow as tf\n",
    "tf.logging.set_verbosity(tf.logging.ERROR)"
   ]
  },
  {
   "cell_type": "code",
   "execution_count": 9,
   "metadata": {
    "ExecuteTime": {
     "end_time": "2018-05-24T08:57:25.396824Z",
     "start_time": "2018-05-24T08:56:44.927266Z"
    },
    "collapsed": false,
    "hidden": true
   },
   "outputs": [
    {
     "data": {
      "text/plain": [
       "[None, None]"
      ]
     },
     "execution_count": 9,
     "metadata": {},
     "output_type": "execute_result"
    }
   ],
   "source": [
    "import tensorflow_hub as hub\n",
    "EMBED = hub.Module(\"https://tfhub.dev/google/universal-sentence-encoder/1\")\n",
    "session = tf.Session()\n",
    "session.run([tf.global_variables_initializer(), \n",
    "             tf.tables_initializer()])"
   ]
  },
  {
   "cell_type": "code",
   "execution_count": 11,
   "metadata": {
    "ExecuteTime": {
     "end_time": "2018-05-24T08:35:48.484175Z",
     "start_time": "2018-05-24T08:35:46.014506Z"
    },
    "collapsed": true,
    "hidden": true
   },
   "outputs": [],
   "source": [
    "embeddings = EMBED(headlines)"
   ]
  },
  {
   "cell_type": "code",
   "execution_count": 12,
   "metadata": {
    "ExecuteTime": {
     "end_time": "2018-05-24T08:35:48.507782Z",
     "start_time": "2018-05-24T08:35:48.486938Z"
    },
    "collapsed": false,
    "hidden": true
   },
   "outputs": [
    {
     "data": {
      "text/plain": [
       "<tf.Tensor 'module_apply_default/Encoder_en/hidden_layers/l2_normalize:0' shape=(?, 512) dtype=float32>"
      ]
     },
     "execution_count": 12,
     "metadata": {},
     "output_type": "execute_result"
    }
   ],
   "source": [
    "embeddings"
   ]
  },
  {
   "cell_type": "code",
   "execution_count": 13,
   "metadata": {
    "ExecuteTime": {
     "end_time": "2018-05-24T08:36:03.410295Z",
     "start_time": "2018-05-24T08:35:48.513573Z"
    },
    "collapsed": false,
    "hidden": true
   },
   "outputs": [],
   "source": [
    "transformed = session.run(embeddings) "
   ]
  },
  {
   "cell_type": "code",
   "execution_count": 14,
   "metadata": {
    "ExecuteTime": {
     "end_time": "2018-05-24T08:36:03.489281Z",
     "start_time": "2018-05-24T08:36:03.438203Z"
    },
    "collapsed": false,
    "hidden": true
   },
   "outputs": [
    {
     "name": "stdout",
     "output_type": "stream",
     "text": [
      "Sentence = \"US STOCKS-Wall St rallies and Apple approaches $1 trillion value\"\n",
      "Encoding = [ 0.05164596  0.044956   -0.02946323]\n"
     ]
    }
   ],
   "source": [
    "print('Sentence = \"%s\"\\nEncoding = %s' % (headlines[0], transformed[0][:3]))"
   ]
  },
  {
   "cell_type": "markdown",
   "metadata": {
    "heading_collapsed": true
   },
   "source": [
    "### Cluster pages\n",
    "---"
   ]
  },
  {
   "cell_type": "code",
   "execution_count": 15,
   "metadata": {
    "ExecuteTime": {
     "end_time": "2018-05-24T08:36:04.088062Z",
     "start_time": "2018-05-24T08:36:03.525410Z"
    },
    "collapsed": false,
    "hidden": true
   },
   "outputs": [
    {
     "data": {
      "text/plain": [
       "array([[0.9999998 , 0.6304252 , 0.71410525, 0.6446738 , 0.6522328 ,\n",
       "        0.44674984],\n",
       "       [0.6304252 , 1.        , 0.92891455, 0.7896416 , 0.6916854 ,\n",
       "        0.5669955 ],\n",
       "       [0.71410525, 0.92891455, 1.        , 0.85746527, 0.66935897,\n",
       "        0.4865934 ],\n",
       "       [0.6446738 , 0.7896416 , 0.85746527, 0.99999994, 0.55105186,\n",
       "        0.3648151 ],\n",
       "       [0.6522328 , 0.6916854 , 0.66935897, 0.55105186, 0.99999976,\n",
       "        0.8390436 ],\n",
       "       [0.44674984, 0.5669955 , 0.4865934 , 0.3648151 , 0.8390436 ,\n",
       "        1.        ]], dtype=float32)"
      ]
     },
     "execution_count": 15,
     "metadata": {},
     "output_type": "execute_result"
    }
   ],
   "source": [
    "from sklearn.metrics.pairwise import cosine_similarity\n",
    "sims = cosine_similarity(transformed, transformed)\n",
    "sims"
   ]
  },
  {
   "cell_type": "code",
   "execution_count": 16,
   "metadata": {
    "ExecuteTime": {
     "end_time": "2018-05-24T08:36:04.096646Z",
     "start_time": "2018-05-24T08:36:04.090527Z"
    },
    "collapsed": false,
    "hidden": true
   },
   "outputs": [
    {
     "name": "stdout",
     "output_type": "stream",
     "text": [
      "0.9999998\n",
      "1.0\n",
      "1.0\n"
     ]
    }
   ],
   "source": [
    "print(sims[0][0]); print(sims[1][1]); print(sims[2][2])"
   ]
  },
  {
   "cell_type": "markdown",
   "metadata": {
    "ExecuteTime": {
     "end_time": "2018-05-21T21:34:58.404383Z",
     "start_time": "2018-05-21T21:34:58.400588Z"
    },
    "collapsed": true,
    "hidden": true
   },
   "source": [
    "<div class=\"alert alert-block alert-info\" \n",
    "     style=\"border-color: #2E86C1; \n",
    "            border-left: 5px solid #2E86C1;\n",
    "            padding-top: 5px\">\n",
    "    <font size=\"4\"> \n",
    "    <h3 style=\"font-family: monospace\">Exercise 1.4</h3>\n",
    "    <p style=\"margin-left: 100px;\n",
    "              margin-right: 100px;\n",
    "              line-height: 1.7em;\">Write a function <span style=\"font-family:monospace;\">get_similarities</span> that, given a list of headlines, returns their cosine similarity matrix. Assert that all diagonal elements\n",
    "are equal to 1</p></font>\n",
    "</div>"
   ]
  },
  {
   "cell_type": "code",
   "execution_count": null,
   "metadata": {
    "ExecuteTime": {
     "end_time": "2018-05-24T08:36:24.100370Z",
     "start_time": "2018-05-24T12:35:40.194Z"
    },
    "collapsed": true,
    "hidden": true
   },
   "outputs": [],
   "source": [
    "pairs = []\n",
    "for row in range(sims.shape[0]):\n",
    "    for column in range(row + 1, sims.shape[1]):\n",
    "        pair = (row, column, sims[row][column])\n",
    "        pairs.append(pair)"
   ]
  },
  {
   "cell_type": "code",
   "execution_count": null,
   "metadata": {
    "ExecuteTime": {
     "end_time": "2018-05-24T08:36:24.100946Z",
     "start_time": "2018-05-24T12:35:40.197Z"
    },
    "collapsed": true,
    "hidden": true
   },
   "outputs": [],
   "source": [
    "pairs = sorted(pairs, key=lambda x: x[2], reverse=True)"
   ]
  },
  {
   "cell_type": "code",
   "execution_count": null,
   "metadata": {
    "ExecuteTime": {
     "end_time": "2018-05-24T08:36:24.101530Z",
     "start_time": "2018-05-24T12:35:40.200Z"
    },
    "collapsed": false,
    "hidden": true
   },
   "outputs": [],
   "source": [
    "for pair in pairs:\n",
    "    print('\\n%.2f\\n%s\\n%s' % (pair[2],\n",
    "                              headlines[pair[0]], \n",
    "                              headlines[pair[1]]))"
   ]
  },
  {
   "cell_type": "code",
   "execution_count": null,
   "metadata": {
    "collapsed": true,
    "hidden": true
   },
   "outputs": [],
   "source": []
  }
 ],
 "metadata": {
  "kernelspec": {
   "display_name": "Python 3",
   "language": "python",
   "name": "python3"
  },
  "language_info": {
   "codemirror_mode": {
    "name": "ipython",
    "version": 3
   },
   "file_extension": ".py",
   "mimetype": "text/x-python",
   "name": "python",
   "nbconvert_exporter": "python",
   "pygments_lexer": "ipython3",
   "version": "3.6.0"
  },
  "toc": {
   "base_numbering": 1,
   "nav_menu": {},
   "number_sections": true,
   "sideBar": true,
   "skip_h1_title": false,
   "title_cell": "Table of Contents",
   "title_sidebar": "Contents",
   "toc_cell": false,
   "toc_position": {},
   "toc_section_display": true,
   "toc_window_display": false
  }
 },
 "nbformat": 4,
 "nbformat_minor": 2
}
